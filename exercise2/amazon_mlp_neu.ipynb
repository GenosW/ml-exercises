{
 "cells": [
  {
   "cell_type": "code",
   "execution_count": 3,
   "metadata": {},
   "outputs": [],
   "source": [
    "import pandas as pd\n",
    "import seaborn as sns\n",
    "import matplotlib.pyplot as plt\n",
    "import numpy as np\n",
    "%matplotlib inline\n",
    "\n",
    "from sklearn.neural_network import MLPClassifier\n",
    "from sklearn.datasets import make_classification\n",
    "from sklearn.model_selection import train_test_split\n",
    "from sklearn.metrics import accuracy_score\n",
    "from sklearn.metrics import confusion_matrix\n",
    "import matplotlib.pyplot as plt\n",
    "from matplotlib.colors import ListedColormap\n",
    "from sklearn.pipeline import make_pipeline\n",
    "\n",
    "from sklearn.preprocessing import StandardScaler"
   ]
  },
  {
   "cell_type": "code",
   "execution_count": 4,
   "metadata": {},
   "outputs": [
    {
     "output_type": "execute_result",
     "data": {
      "text/plain": "   ID  V1  V2  V3  V4  V5  V6  V7  V8  V9  ...  V9992  V9993  V9994  V9995  \\\n0   0   8   6  10   6   7   2   2   2   3  ...      1      0      0      0   \n1   1  13   1  13   9   8   8   2   3   2  ...      4      1      2      1   \n2   2  16   7   6   7   9   3   4   2   6  ...      0      0      0      0   \n3   3   8  11  10  11   3   7   0   4   2  ...      0      0      1      0   \n4   4  10  11   8   5   3   4   2   5   5  ...      0      0      0      0   \n\n   V9996  V9997  V9998  V9999  V10000     Class  \n0      0      0      0      0       0     Chell  \n1      0      1      0      0       0  Engineer  \n2      1      0      0      0       0     Grove  \n3      0      0      2      1       0  Davisson  \n4      0      0      0      0       0    Wilson  \n\n[5 rows x 10002 columns]",
      "text/html": "<div>\n<style scoped>\n    .dataframe tbody tr th:only-of-type {\n        vertical-align: middle;\n    }\n\n    .dataframe tbody tr th {\n        vertical-align: top;\n    }\n\n    .dataframe thead th {\n        text-align: right;\n    }\n</style>\n<table border=\"1\" class=\"dataframe\">\n  <thead>\n    <tr style=\"text-align: right;\">\n      <th></th>\n      <th>ID</th>\n      <th>V1</th>\n      <th>V2</th>\n      <th>V3</th>\n      <th>V4</th>\n      <th>V5</th>\n      <th>V6</th>\n      <th>V7</th>\n      <th>V8</th>\n      <th>V9</th>\n      <th>...</th>\n      <th>V9992</th>\n      <th>V9993</th>\n      <th>V9994</th>\n      <th>V9995</th>\n      <th>V9996</th>\n      <th>V9997</th>\n      <th>V9998</th>\n      <th>V9999</th>\n      <th>V10000</th>\n      <th>Class</th>\n    </tr>\n  </thead>\n  <tbody>\n    <tr>\n      <th>0</th>\n      <td>0</td>\n      <td>8</td>\n      <td>6</td>\n      <td>10</td>\n      <td>6</td>\n      <td>7</td>\n      <td>2</td>\n      <td>2</td>\n      <td>2</td>\n      <td>3</td>\n      <td>...</td>\n      <td>1</td>\n      <td>0</td>\n      <td>0</td>\n      <td>0</td>\n      <td>0</td>\n      <td>0</td>\n      <td>0</td>\n      <td>0</td>\n      <td>0</td>\n      <td>Chell</td>\n    </tr>\n    <tr>\n      <th>1</th>\n      <td>1</td>\n      <td>13</td>\n      <td>1</td>\n      <td>13</td>\n      <td>9</td>\n      <td>8</td>\n      <td>8</td>\n      <td>2</td>\n      <td>3</td>\n      <td>2</td>\n      <td>...</td>\n      <td>4</td>\n      <td>1</td>\n      <td>2</td>\n      <td>1</td>\n      <td>0</td>\n      <td>1</td>\n      <td>0</td>\n      <td>0</td>\n      <td>0</td>\n      <td>Engineer</td>\n    </tr>\n    <tr>\n      <th>2</th>\n      <td>2</td>\n      <td>16</td>\n      <td>7</td>\n      <td>6</td>\n      <td>7</td>\n      <td>9</td>\n      <td>3</td>\n      <td>4</td>\n      <td>2</td>\n      <td>6</td>\n      <td>...</td>\n      <td>0</td>\n      <td>0</td>\n      <td>0</td>\n      <td>0</td>\n      <td>1</td>\n      <td>0</td>\n      <td>0</td>\n      <td>0</td>\n      <td>0</td>\n      <td>Grove</td>\n    </tr>\n    <tr>\n      <th>3</th>\n      <td>3</td>\n      <td>8</td>\n      <td>11</td>\n      <td>10</td>\n      <td>11</td>\n      <td>3</td>\n      <td>7</td>\n      <td>0</td>\n      <td>4</td>\n      <td>2</td>\n      <td>...</td>\n      <td>0</td>\n      <td>0</td>\n      <td>1</td>\n      <td>0</td>\n      <td>0</td>\n      <td>0</td>\n      <td>2</td>\n      <td>1</td>\n      <td>0</td>\n      <td>Davisson</td>\n    </tr>\n    <tr>\n      <th>4</th>\n      <td>4</td>\n      <td>10</td>\n      <td>11</td>\n      <td>8</td>\n      <td>5</td>\n      <td>3</td>\n      <td>4</td>\n      <td>2</td>\n      <td>5</td>\n      <td>5</td>\n      <td>...</td>\n      <td>0</td>\n      <td>0</td>\n      <td>0</td>\n      <td>0</td>\n      <td>0</td>\n      <td>0</td>\n      <td>0</td>\n      <td>0</td>\n      <td>0</td>\n      <td>Wilson</td>\n    </tr>\n  </tbody>\n</table>\n<p>5 rows × 10002 columns</p>\n</div>"
     },
     "metadata": {},
     "execution_count": 4
    }
   ],
   "source": [
    "df = pd.read_csv('Datasets/amazon/amazon_review_ID.shuf.lrn.csv')\n",
    "df.head()"
   ]
  },
  {
   "cell_type": "code",
   "execution_count": 5,
   "metadata": {},
   "outputs": [],
   "source": [
    "X_lrn = df.loc[:,'V1':'V10000']\n",
    "Y_lrn = df.loc[:,'Class':'Class']"
   ]
  },
  {
   "cell_type": "code",
   "execution_count": 6,
   "metadata": {},
   "outputs": [],
   "source": [
    "Class_description = []\n",
    "Class_description = pd.unique(df.Class)\n",
    "\n",
    "for i in range(len(Class_description)):\n",
    "    df.Class[df.Class == Class_description[i]] = i+1"
   ]
  },
  {
   "cell_type": "code",
   "execution_count": 7,
   "metadata": {},
   "outputs": [
    {
     "output_type": "execute_result",
     "data": {
      "text/plain": "     Class\n0      1.0\n1      2.0\n2      3.0\n3      4.0\n4      5.0\n..     ...\n745   22.0\n746   34.0\n747   45.0\n748   13.0\n749   49.0\n\n[750 rows x 1 columns]",
      "text/html": "<div>\n<style scoped>\n    .dataframe tbody tr th:only-of-type {\n        vertical-align: middle;\n    }\n\n    .dataframe tbody tr th {\n        vertical-align: top;\n    }\n\n    .dataframe thead th {\n        text-align: right;\n    }\n</style>\n<table border=\"1\" class=\"dataframe\">\n  <thead>\n    <tr style=\"text-align: right;\">\n      <th></th>\n      <th>Class</th>\n    </tr>\n  </thead>\n  <tbody>\n    <tr>\n      <th>0</th>\n      <td>1.0</td>\n    </tr>\n    <tr>\n      <th>1</th>\n      <td>2.0</td>\n    </tr>\n    <tr>\n      <th>2</th>\n      <td>3.0</td>\n    </tr>\n    <tr>\n      <th>3</th>\n      <td>4.0</td>\n    </tr>\n    <tr>\n      <th>4</th>\n      <td>5.0</td>\n    </tr>\n    <tr>\n      <th>...</th>\n      <td>...</td>\n    </tr>\n    <tr>\n      <th>745</th>\n      <td>22.0</td>\n    </tr>\n    <tr>\n      <th>746</th>\n      <td>34.0</td>\n    </tr>\n    <tr>\n      <th>747</th>\n      <td>45.0</td>\n    </tr>\n    <tr>\n      <th>748</th>\n      <td>13.0</td>\n    </tr>\n    <tr>\n      <th>749</th>\n      <td>49.0</td>\n    </tr>\n  </tbody>\n</table>\n<p>750 rows × 1 columns</p>\n</div>"
     },
     "metadata": {},
     "execution_count": 7
    }
   ],
   "source": [
    "X_lrn = df.loc[:,'V1':'V10000']\n",
    "Y_lrn = df.loc[:,'Class':'Class'].astype(float)\n",
    "Y_lrn"
   ]
  },
  {
   "cell_type": "code",
   "execution_count": 8,
   "metadata": {},
   "outputs": [
    {
     "output_type": "execute_result",
     "data": {
      "text/plain": "   V1  V2  V3  V4  V5  V6  V7  V8  V9  V10  ...  V9991  V9992  V9993  V9994  \\\n0  15  10   6   7   9   3   3   3   1    1  ...      0      0      1      1   \n1   8  10   7   2   5   7   2   5   3    3  ...      0      4      0      0   \n2  18   9   7   8   8   7  12   6   7    1  ...      0      0      1      0   \n3   6   5   4   2   4   1   1   1   0    3  ...      0      2      0      0   \n4   9   3   2   5   9   3   0   3   2    4  ...      0      0      0      0   \n\n   V9995  V9996  V9997  V9998  V9999  V10000  \n0      0      0      0      0      0       0  \n1      0      0      0      2      1       0  \n2      0      0      1      0      0       1  \n3      0      0      0      1      0       0  \n4      0      0      0      1      0       0  \n\n[5 rows x 10000 columns]",
      "text/html": "<div>\n<style scoped>\n    .dataframe tbody tr th:only-of-type {\n        vertical-align: middle;\n    }\n\n    .dataframe tbody tr th {\n        vertical-align: top;\n    }\n\n    .dataframe thead th {\n        text-align: right;\n    }\n</style>\n<table border=\"1\" class=\"dataframe\">\n  <thead>\n    <tr style=\"text-align: right;\">\n      <th></th>\n      <th>V1</th>\n      <th>V2</th>\n      <th>V3</th>\n      <th>V4</th>\n      <th>V5</th>\n      <th>V6</th>\n      <th>V7</th>\n      <th>V8</th>\n      <th>V9</th>\n      <th>V10</th>\n      <th>...</th>\n      <th>V9991</th>\n      <th>V9992</th>\n      <th>V9993</th>\n      <th>V9994</th>\n      <th>V9995</th>\n      <th>V9996</th>\n      <th>V9997</th>\n      <th>V9998</th>\n      <th>V9999</th>\n      <th>V10000</th>\n    </tr>\n  </thead>\n  <tbody>\n    <tr>\n      <th>0</th>\n      <td>15</td>\n      <td>10</td>\n      <td>6</td>\n      <td>7</td>\n      <td>9</td>\n      <td>3</td>\n      <td>3</td>\n      <td>3</td>\n      <td>1</td>\n      <td>1</td>\n      <td>...</td>\n      <td>0</td>\n      <td>0</td>\n      <td>1</td>\n      <td>1</td>\n      <td>0</td>\n      <td>0</td>\n      <td>0</td>\n      <td>0</td>\n      <td>0</td>\n      <td>0</td>\n    </tr>\n    <tr>\n      <th>1</th>\n      <td>8</td>\n      <td>10</td>\n      <td>7</td>\n      <td>2</td>\n      <td>5</td>\n      <td>7</td>\n      <td>2</td>\n      <td>5</td>\n      <td>3</td>\n      <td>3</td>\n      <td>...</td>\n      <td>0</td>\n      <td>4</td>\n      <td>0</td>\n      <td>0</td>\n      <td>0</td>\n      <td>0</td>\n      <td>0</td>\n      <td>2</td>\n      <td>1</td>\n      <td>0</td>\n    </tr>\n    <tr>\n      <th>2</th>\n      <td>18</td>\n      <td>9</td>\n      <td>7</td>\n      <td>8</td>\n      <td>8</td>\n      <td>7</td>\n      <td>12</td>\n      <td>6</td>\n      <td>7</td>\n      <td>1</td>\n      <td>...</td>\n      <td>0</td>\n      <td>0</td>\n      <td>1</td>\n      <td>0</td>\n      <td>0</td>\n      <td>0</td>\n      <td>1</td>\n      <td>0</td>\n      <td>0</td>\n      <td>1</td>\n    </tr>\n    <tr>\n      <th>3</th>\n      <td>6</td>\n      <td>5</td>\n      <td>4</td>\n      <td>2</td>\n      <td>4</td>\n      <td>1</td>\n      <td>1</td>\n      <td>1</td>\n      <td>0</td>\n      <td>3</td>\n      <td>...</td>\n      <td>0</td>\n      <td>2</td>\n      <td>0</td>\n      <td>0</td>\n      <td>0</td>\n      <td>0</td>\n      <td>0</td>\n      <td>1</td>\n      <td>0</td>\n      <td>0</td>\n    </tr>\n    <tr>\n      <th>4</th>\n      <td>9</td>\n      <td>3</td>\n      <td>2</td>\n      <td>5</td>\n      <td>9</td>\n      <td>3</td>\n      <td>0</td>\n      <td>3</td>\n      <td>2</td>\n      <td>4</td>\n      <td>...</td>\n      <td>0</td>\n      <td>0</td>\n      <td>0</td>\n      <td>0</td>\n      <td>0</td>\n      <td>0</td>\n      <td>0</td>\n      <td>1</td>\n      <td>0</td>\n      <td>0</td>\n    </tr>\n  </tbody>\n</table>\n<p>5 rows × 10000 columns</p>\n</div>"
     },
     "metadata": {},
     "execution_count": 8
    }
   ],
   "source": [
    "X_test = pd.read_csv('Datasets/amazon/amazon_review_ID.shuf.tes.csv').drop('ID', axis=1)\n",
    "X_test.head()"
   ]
  },
  {
   "cell_type": "code",
   "execution_count": 64,
   "metadata": {},
   "outputs": [],
   "source": [
    "X_train, X_valid, Y_train, Y_valid = train_test_split(X_lrn, Y_lrn, test_size=0.8)"
   ]
  },
  {
   "cell_type": "code",
   "execution_count": 65,
   "metadata": {},
   "outputs": [],
   "source": [
    "from sklearn.preprocessing import StandardScaler  # doctest: +SKIP\n",
    "scaler = StandardScaler()  # doctest: +SKIP\n",
    "# Don't cheat - fit only on training data\n",
    "scaler.fit(X_train)  # doctest: +SKIP\n",
    "X_train = scaler.transform(X_train)  # doctest: +SKIP\n",
    "# apply same transformation to test data\n",
    "X_valid = scaler.transform(X_valid)  # doctest: +SKIP"
   ]
  },
  {
   "cell_type": "code",
   "execution_count": 66,
   "metadata": {},
   "outputs": [
    {
     "output_type": "stream",
     "name": "stdout",
     "text": "0.20666666666666667\n"
    }
   ],
   "source": [
    "clf = MLPClassifier(max_iter=500)\n",
    "#clf = MLPClassifier(hidden_layer_sizes=(500,500,500), max_iter=300, alpha=i,solver='sgd', verbose=10,  random_state=21,tol=0.000000001,activation=j)\n",
    "clf.fit(X_train, Y_train)\n",
    "Y_pred = clf.predict(X_valid)\n",
    "print(accuracy_score(Y_valid, Y_pred))"
   ]
  },
  {
   "cell_type": "code",
   "execution_count": 22,
   "metadata": {},
   "outputs": [
    {
     "output_type": "stream",
     "name": "stdout",
     "text": "Hidden layers:  11 alpha:  1e-05 mode:  relu solver:  adam score:  0.15333333333333332\nHidden layers:  11 alpha:  0.0001 mode:  relu solver:  adam score:  0.17666666666666667\nHidden layers:  11 alpha:  0.001 mode:  relu solver:  adam score:  0.13666666666666666\nHidden layers:  11 alpha:  1 mode:  relu solver:  adam score:  0.23\n\nHidden layers:  50 alpha:  1e-05 mode:  relu solver:  adam score:  0.33666666666666667\nHidden layers:  50 alpha:  0.0001 mode:  relu solver:  adam score:  0.31\nHidden layers:  50 alpha:  0.001 mode:  relu solver:  adam score:  0.24333333333333335\nHidden layers:  50 alpha:  1 mode:  relu solver:  adam score:  0.55\n\nHidden layers:  100 alpha:  1e-05 mode:  relu solver:  adam score:  0.33\nHidden layers:  100 alpha:  0.0001 mode:  relu solver:  adam score:  0.33\nHidden layers:  100 alpha:  0.001 mode:  relu solver:  adam score:  0.3566666666666667\nHidden layers:  100 alpha:  1 mode:  relu solver:  adam score:  0.6033333333333334\n\nHidden layers:  200 alpha:  1e-05 mode:  relu solver:  adam score:  0.44333333333333336\nHidden layers:  200 alpha:  0.0001 mode:  relu solver:  adam score:  0.37666666666666665\nHidden layers:  200 alpha:  0.001 mode:  relu solver:  adam score:  0.3933333333333333\nHidden layers:  200 alpha:  1 mode:  relu solver:  adam score:  0.5933333333333334\n\nHidden layers:  300 alpha:  1e-05 mode:  relu solver:  adam score:  0.4166666666666667\nHidden layers:  300 alpha:  0.0001 mode:  relu solver:  adam score:  0.4266666666666667\nHidden layers:  300 alpha:  0.001 mode:  relu solver:  adam score:  0.4666666666666667\nHidden layers:  300 alpha:  1 mode:  relu solver:  adam score:  0.61\n\nHidden layers:  400 alpha:  1e-05 mode:  relu solver:  adam score:  0.4\nHidden layers:  400 alpha:  0.0001 mode:  relu solver:  adam score:  0.4266666666666667\nHidden layers:  400 alpha:  0.001 mode:  relu solver:  adam score:  0.42\nHidden layers:  400 alpha:  1 mode:  relu solver:  adam score:  0.5933333333333334\n\n"
    }
   ],
   "source": [
    "alphas = [1e-5,1e-4,1e-3,1e-2,1e-1,0,1,10,100]\n",
    "modes = [\"identity\",\"logistic\",\"tanh\",\"relu\"]\n",
    "solv = [\"adam\",\"sgd\",\"lbfgs\"]\n",
    "\n",
    "alphas = [1e-5,1e-4,1e-3,1]\n",
    "modes = [\"relu\"]\n",
    "solv = [\"adam\"]\n",
    "h = [11,50,100,200,300,400]\n",
    "\n",
    "erg = []\n",
    "for g in h:\n",
    "    for i in alphas:\n",
    "        for j in modes:\n",
    "            for k in solv:\n",
    "                clf = MLPClassifier(hidden_layer_sizes=(g), max_iter=500, alpha=i,solver=k,activation=j)\n",
    "                clf.fit(X_train, Y_train)\n",
    "                Y_pred = clf.predict(X_valid)\n",
    "                print(\"Hidden layers: \",g,\"alpha: \",i,\"mode: \",j,\"solver: \",k,\"score: \",accuracy_score(Y_valid, Y_pred))\n",
    "                erg.append(\"alpha:\")\n",
    "                erg.append(i)\n",
    "                erg.append(\"mode:\")\n",
    "                erg.append(j)\n",
    "                erg.append(\"solver:\")\n",
    "                erg.append(k)\n",
    "                erg.append(\"score:\")\n",
    "                erg.append(accuracy_score(Y_valid, Y_pred))\n",
    "    print(\"\")\n",
    "\n"
   ]
  },
  {
   "cell_type": "code",
   "execution_count": 29,
   "metadata": {},
   "outputs": [
    {
     "output_type": "execute_result",
     "data": {
      "text/plain": "list"
     },
     "metadata": {},
     "execution_count": 29
    }
   ],
   "source": [
    "#Hidden Layers=300 alpha=1 mode=relu solver=adam score=0.61 "
   ]
  },
  {
   "cell_type": "code",
   "execution_count": 67,
   "metadata": {},
   "outputs": [
    {
     "output_type": "execute_result",
     "data": {
      "text/plain": "(600, 47)"
     },
     "metadata": {},
     "execution_count": 67
    }
   ],
   "source": [
    "CE = clf.predict_proba(X_valid)\n",
    "CE.shape"
   ]
  },
  {
   "cell_type": "code",
   "execution_count": null,
   "metadata": {},
   "outputs": [],
   "source": []
  }
 ],
 "metadata": {
  "language_info": {
   "codemirror_mode": {
    "name": "ipython",
    "version": 3
   },
   "file_extension": ".py",
   "mimetype": "text/x-python",
   "name": "python",
   "nbconvert_exporter": "python",
   "pygments_lexer": "ipython3",
   "version": "3.7.5-final"
  },
  "orig_nbformat": 2,
  "kernelspec": {
   "name": "python3",
   "display_name": "Python 3"
  }
 },
 "nbformat": 4,
 "nbformat_minor": 2
}