{
 "cells": [
  {
   "cell_type": "code",
   "execution_count": 60,
   "metadata": {},
   "outputs": [],
   "source": [
    "import pandas as pd\n",
    "import numpy as np\n",
    "import matplotlib.pyplot as plt\n",
    "import seaborn as sns\n",
    "%matplotlib inline\n",
    "from sklearn.preprocessing import StandardScaler\n",
    "from sklearn.ensemble import RandomForestClassifier as RFC\n",
    "from sklearn.model_selection import train_test_split\n",
    "from sklearn.metrics import accuracy_scorefrom sklearn.metrics import accuracy_score"
   ]
  },
  {
   "cell_type": "code",
   "execution_count": 61,
   "metadata": {},
   "outputs": [
    {
     "output_type": "execute_result",
     "data": {
      "text/plain": "   ID  V1  V2  V3  V4  V5  V6  V7  V8  V9  ...  V9992  V9993  V9994  V9995  \\\n0   0   8   6  10   6   7   2   2   2   3  ...      1      0      0      0   \n1   1  13   1  13   9   8   8   2   3   2  ...      4      1      2      1   \n2   2  16   7   6   7   9   3   4   2   6  ...      0      0      0      0   \n3   3   8  11  10  11   3   7   0   4   2  ...      0      0      1      0   \n4   4  10  11   8   5   3   4   2   5   5  ...      0      0      0      0   \n\n   V9996  V9997  V9998  V9999  V10000     Class  \n0      0      0      0      0       0     Chell  \n1      0      1      0      0       0  Engineer  \n2      1      0      0      0       0     Grove  \n3      0      0      2      1       0  Davisson  \n4      0      0      0      0       0    Wilson  \n\n[5 rows x 10002 columns]",
      "text/html": "<div>\n<style scoped>\n    .dataframe tbody tr th:only-of-type {\n        vertical-align: middle;\n    }\n\n    .dataframe tbody tr th {\n        vertical-align: top;\n    }\n\n    .dataframe thead th {\n        text-align: right;\n    }\n</style>\n<table border=\"1\" class=\"dataframe\">\n  <thead>\n    <tr style=\"text-align: right;\">\n      <th></th>\n      <th>ID</th>\n      <th>V1</th>\n      <th>V2</th>\n      <th>V3</th>\n      <th>V4</th>\n      <th>V5</th>\n      <th>V6</th>\n      <th>V7</th>\n      <th>V8</th>\n      <th>V9</th>\n      <th>...</th>\n      <th>V9992</th>\n      <th>V9993</th>\n      <th>V9994</th>\n      <th>V9995</th>\n      <th>V9996</th>\n      <th>V9997</th>\n      <th>V9998</th>\n      <th>V9999</th>\n      <th>V10000</th>\n      <th>Class</th>\n    </tr>\n  </thead>\n  <tbody>\n    <tr>\n      <th>0</th>\n      <td>0</td>\n      <td>8</td>\n      <td>6</td>\n      <td>10</td>\n      <td>6</td>\n      <td>7</td>\n      <td>2</td>\n      <td>2</td>\n      <td>2</td>\n      <td>3</td>\n      <td>...</td>\n      <td>1</td>\n      <td>0</td>\n      <td>0</td>\n      <td>0</td>\n      <td>0</td>\n      <td>0</td>\n      <td>0</td>\n      <td>0</td>\n      <td>0</td>\n      <td>Chell</td>\n    </tr>\n    <tr>\n      <th>1</th>\n      <td>1</td>\n      <td>13</td>\n      <td>1</td>\n      <td>13</td>\n      <td>9</td>\n      <td>8</td>\n      <td>8</td>\n      <td>2</td>\n      <td>3</td>\n      <td>2</td>\n      <td>...</td>\n      <td>4</td>\n      <td>1</td>\n      <td>2</td>\n      <td>1</td>\n      <td>0</td>\n      <td>1</td>\n      <td>0</td>\n      <td>0</td>\n      <td>0</td>\n      <td>Engineer</td>\n    </tr>\n    <tr>\n      <th>2</th>\n      <td>2</td>\n      <td>16</td>\n      <td>7</td>\n      <td>6</td>\n      <td>7</td>\n      <td>9</td>\n      <td>3</td>\n      <td>4</td>\n      <td>2</td>\n      <td>6</td>\n      <td>...</td>\n      <td>0</td>\n      <td>0</td>\n      <td>0</td>\n      <td>0</td>\n      <td>1</td>\n      <td>0</td>\n      <td>0</td>\n      <td>0</td>\n      <td>0</td>\n      <td>Grove</td>\n    </tr>\n    <tr>\n      <th>3</th>\n      <td>3</td>\n      <td>8</td>\n      <td>11</td>\n      <td>10</td>\n      <td>11</td>\n      <td>3</td>\n      <td>7</td>\n      <td>0</td>\n      <td>4</td>\n      <td>2</td>\n      <td>...</td>\n      <td>0</td>\n      <td>0</td>\n      <td>1</td>\n      <td>0</td>\n      <td>0</td>\n      <td>0</td>\n      <td>2</td>\n      <td>1</td>\n      <td>0</td>\n      <td>Davisson</td>\n    </tr>\n    <tr>\n      <th>4</th>\n      <td>4</td>\n      <td>10</td>\n      <td>11</td>\n      <td>8</td>\n      <td>5</td>\n      <td>3</td>\n      <td>4</td>\n      <td>2</td>\n      <td>5</td>\n      <td>5</td>\n      <td>...</td>\n      <td>0</td>\n      <td>0</td>\n      <td>0</td>\n      <td>0</td>\n      <td>0</td>\n      <td>0</td>\n      <td>0</td>\n      <td>0</td>\n      <td>0</td>\n      <td>Wilson</td>\n    </tr>\n  </tbody>\n</table>\n<p>5 rows × 10002 columns</p>\n</div>"
     },
     "metadata": {},
     "execution_count": 61
    }
   ],
   "source": [
    "df = pd.read_csv('Datasets/amazon/amazon_review_ID.shuf.lrn.csv')\n",
    "df.head()"
   ]
  },
  {
   "cell_type": "code",
   "execution_count": 66,
   "metadata": {},
   "outputs": [
    {
     "output_type": "execute_result",
     "data": {
      "text/plain": "     V1  V2  V3  V4  V5  V6  V7  V8  V9  V10  ...  V9991  V9992  V9993  V9994  \\\n0     8   6  10   6   7   2   2   2   3    2  ...      0      1      0      0   \n1    13   1  13   9   8   8   2   3   2    4  ...      0      4      1      2   \n2    16   7   6   7   9   3   4   2   6    5  ...      0      0      0      0   \n3     8  11  10  11   3   7   0   4   2    1  ...      2      0      0      1   \n4    10  11   8   5   3   4   2   5   5    4  ...      0      0      0      0   \n..   ..  ..  ..  ..  ..  ..  ..  ..  ..  ...  ...    ...    ...    ...    ...   \n745   9   8   5   5   6   2  14   1   4    5  ...      0      0      1      0   \n746   6  13   4   6   8   2   7   3   3    2  ...      0      0      0      0   \n747  16  11   4   9   9   4   0   3   5    0  ...      0      0      0      0   \n748   9   5   4   2   3   7   2   7   1    1  ...      0      0      0      0   \n749  11   2   7   3  10   2   2   3   5    5  ...      0      0      0      0   \n\n     V9995  V9996  V9997  V9998  V9999  V10000  \n0        0      0      0      0      0       0  \n1        1      0      1      0      0       0  \n2        0      1      0      0      0       0  \n3        0      0      0      2      1       0  \n4        0      0      0      0      0       0  \n..     ...    ...    ...    ...    ...     ...  \n745      0      1      0      1      0       0  \n746      0      1      0      0      0       1  \n747      0      0      1      1      0       4  \n748      0      0      2      0      0       0  \n749      2      1      0      0      0       0  \n\n[750 rows x 10000 columns]",
      "text/html": "<div>\n<style scoped>\n    .dataframe tbody tr th:only-of-type {\n        vertical-align: middle;\n    }\n\n    .dataframe tbody tr th {\n        vertical-align: top;\n    }\n\n    .dataframe thead th {\n        text-align: right;\n    }\n</style>\n<table border=\"1\" class=\"dataframe\">\n  <thead>\n    <tr style=\"text-align: right;\">\n      <th></th>\n      <th>V1</th>\n      <th>V2</th>\n      <th>V3</th>\n      <th>V4</th>\n      <th>V5</th>\n      <th>V6</th>\n      <th>V7</th>\n      <th>V8</th>\n      <th>V9</th>\n      <th>V10</th>\n      <th>...</th>\n      <th>V9991</th>\n      <th>V9992</th>\n      <th>V9993</th>\n      <th>V9994</th>\n      <th>V9995</th>\n      <th>V9996</th>\n      <th>V9997</th>\n      <th>V9998</th>\n      <th>V9999</th>\n      <th>V10000</th>\n    </tr>\n  </thead>\n  <tbody>\n    <tr>\n      <th>0</th>\n      <td>8</td>\n      <td>6</td>\n      <td>10</td>\n      <td>6</td>\n      <td>7</td>\n      <td>2</td>\n      <td>2</td>\n      <td>2</td>\n      <td>3</td>\n      <td>2</td>\n      <td>...</td>\n      <td>0</td>\n      <td>1</td>\n      <td>0</td>\n      <td>0</td>\n      <td>0</td>\n      <td>0</td>\n      <td>0</td>\n      <td>0</td>\n      <td>0</td>\n      <td>0</td>\n    </tr>\n    <tr>\n      <th>1</th>\n      <td>13</td>\n      <td>1</td>\n      <td>13</td>\n      <td>9</td>\n      <td>8</td>\n      <td>8</td>\n      <td>2</td>\n      <td>3</td>\n      <td>2</td>\n      <td>4</td>\n      <td>...</td>\n      <td>0</td>\n      <td>4</td>\n      <td>1</td>\n      <td>2</td>\n      <td>1</td>\n      <td>0</td>\n      <td>1</td>\n      <td>0</td>\n      <td>0</td>\n      <td>0</td>\n    </tr>\n    <tr>\n      <th>2</th>\n      <td>16</td>\n      <td>7</td>\n      <td>6</td>\n      <td>7</td>\n      <td>9</td>\n      <td>3</td>\n      <td>4</td>\n      <td>2</td>\n      <td>6</td>\n      <td>5</td>\n      <td>...</td>\n      <td>0</td>\n      <td>0</td>\n      <td>0</td>\n      <td>0</td>\n      <td>0</td>\n      <td>1</td>\n      <td>0</td>\n      <td>0</td>\n      <td>0</td>\n      <td>0</td>\n    </tr>\n    <tr>\n      <th>3</th>\n      <td>8</td>\n      <td>11</td>\n      <td>10</td>\n      <td>11</td>\n      <td>3</td>\n      <td>7</td>\n      <td>0</td>\n      <td>4</td>\n      <td>2</td>\n      <td>1</td>\n      <td>...</td>\n      <td>2</td>\n      <td>0</td>\n      <td>0</td>\n      <td>1</td>\n      <td>0</td>\n      <td>0</td>\n      <td>0</td>\n      <td>2</td>\n      <td>1</td>\n      <td>0</td>\n    </tr>\n    <tr>\n      <th>4</th>\n      <td>10</td>\n      <td>11</td>\n      <td>8</td>\n      <td>5</td>\n      <td>3</td>\n      <td>4</td>\n      <td>2</td>\n      <td>5</td>\n      <td>5</td>\n      <td>4</td>\n      <td>...</td>\n      <td>0</td>\n      <td>0</td>\n      <td>0</td>\n      <td>0</td>\n      <td>0</td>\n      <td>0</td>\n      <td>0</td>\n      <td>0</td>\n      <td>0</td>\n      <td>0</td>\n    </tr>\n    <tr>\n      <th>...</th>\n      <td>...</td>\n      <td>...</td>\n      <td>...</td>\n      <td>...</td>\n      <td>...</td>\n      <td>...</td>\n      <td>...</td>\n      <td>...</td>\n      <td>...</td>\n      <td>...</td>\n      <td>...</td>\n      <td>...</td>\n      <td>...</td>\n      <td>...</td>\n      <td>...</td>\n      <td>...</td>\n      <td>...</td>\n      <td>...</td>\n      <td>...</td>\n      <td>...</td>\n      <td>...</td>\n    </tr>\n    <tr>\n      <th>745</th>\n      <td>9</td>\n      <td>8</td>\n      <td>5</td>\n      <td>5</td>\n      <td>6</td>\n      <td>2</td>\n      <td>14</td>\n      <td>1</td>\n      <td>4</td>\n      <td>5</td>\n      <td>...</td>\n      <td>0</td>\n      <td>0</td>\n      <td>1</td>\n      <td>0</td>\n      <td>0</td>\n      <td>1</td>\n      <td>0</td>\n      <td>1</td>\n      <td>0</td>\n      <td>0</td>\n    </tr>\n    <tr>\n      <th>746</th>\n      <td>6</td>\n      <td>13</td>\n      <td>4</td>\n      <td>6</td>\n      <td>8</td>\n      <td>2</td>\n      <td>7</td>\n      <td>3</td>\n      <td>3</td>\n      <td>2</td>\n      <td>...</td>\n      <td>0</td>\n      <td>0</td>\n      <td>0</td>\n      <td>0</td>\n      <td>0</td>\n      <td>1</td>\n      <td>0</td>\n      <td>0</td>\n      <td>0</td>\n      <td>1</td>\n    </tr>\n    <tr>\n      <th>747</th>\n      <td>16</td>\n      <td>11</td>\n      <td>4</td>\n      <td>9</td>\n      <td>9</td>\n      <td>4</td>\n      <td>0</td>\n      <td>3</td>\n      <td>5</td>\n      <td>0</td>\n      <td>...</td>\n      <td>0</td>\n      <td>0</td>\n      <td>0</td>\n      <td>0</td>\n      <td>0</td>\n      <td>0</td>\n      <td>1</td>\n      <td>1</td>\n      <td>0</td>\n      <td>4</td>\n    </tr>\n    <tr>\n      <th>748</th>\n      <td>9</td>\n      <td>5</td>\n      <td>4</td>\n      <td>2</td>\n      <td>3</td>\n      <td>7</td>\n      <td>2</td>\n      <td>7</td>\n      <td>1</td>\n      <td>1</td>\n      <td>...</td>\n      <td>0</td>\n      <td>0</td>\n      <td>0</td>\n      <td>0</td>\n      <td>0</td>\n      <td>0</td>\n      <td>2</td>\n      <td>0</td>\n      <td>0</td>\n      <td>0</td>\n    </tr>\n    <tr>\n      <th>749</th>\n      <td>11</td>\n      <td>2</td>\n      <td>7</td>\n      <td>3</td>\n      <td>10</td>\n      <td>2</td>\n      <td>2</td>\n      <td>3</td>\n      <td>5</td>\n      <td>5</td>\n      <td>...</td>\n      <td>0</td>\n      <td>0</td>\n      <td>0</td>\n      <td>0</td>\n      <td>2</td>\n      <td>1</td>\n      <td>0</td>\n      <td>0</td>\n      <td>0</td>\n      <td>0</td>\n    </tr>\n  </tbody>\n</table>\n<p>750 rows × 10000 columns</p>\n</div>"
     },
     "metadata": {},
     "execution_count": 66
    }
   ],
   "source": [
    "#scaled_features = StandardScaler().fit_transform(df.loc[:,'V1':'V10000'].values)\n",
    "#X_train = pd.DataFrame(scaled_features, index=df.loc[:,'V1':'V10000'].index, columns=df.loc[:,'V1':'V10000'].columns)\n",
    "X_lrn = df.loc[:,'V1':'V10000']\n",
    "scaled_features = StandardScaler().fit_transform(X_lrn.values)\n",
    "X_lrn = pd.DataFrame(scaled_features, index=X_lrn, columns=X_lrn)"
   ]
  },
  {
   "cell_type": "code",
   "execution_count": 67,
   "metadata": {},
   "outputs": [
    {
     "output_type": "execute_result",
     "data": {
      "text/plain": "        Class\n0       Chell\n1    Engineer\n2       Grove\n3    Davisson\n4      Wilson\n..        ...\n745     Riley\n746      Neal\n747   Messick\n748  Mitchell\n749    Comdet\n\n[750 rows x 1 columns]",
      "text/html": "<div>\n<style scoped>\n    .dataframe tbody tr th:only-of-type {\n        vertical-align: middle;\n    }\n\n    .dataframe tbody tr th {\n        vertical-align: top;\n    }\n\n    .dataframe thead th {\n        text-align: right;\n    }\n</style>\n<table border=\"1\" class=\"dataframe\">\n  <thead>\n    <tr style=\"text-align: right;\">\n      <th></th>\n      <th>Class</th>\n    </tr>\n  </thead>\n  <tbody>\n    <tr>\n      <th>0</th>\n      <td>Chell</td>\n    </tr>\n    <tr>\n      <th>1</th>\n      <td>Engineer</td>\n    </tr>\n    <tr>\n      <th>2</th>\n      <td>Grove</td>\n    </tr>\n    <tr>\n      <th>3</th>\n      <td>Davisson</td>\n    </tr>\n    <tr>\n      <th>4</th>\n      <td>Wilson</td>\n    </tr>\n    <tr>\n      <th>...</th>\n      <td>...</td>\n    </tr>\n    <tr>\n      <th>745</th>\n      <td>Riley</td>\n    </tr>\n    <tr>\n      <th>746</th>\n      <td>Neal</td>\n    </tr>\n    <tr>\n      <th>747</th>\n      <td>Messick</td>\n    </tr>\n    <tr>\n      <th>748</th>\n      <td>Mitchell</td>\n    </tr>\n    <tr>\n      <th>749</th>\n      <td>Comdet</td>\n    </tr>\n  </tbody>\n</table>\n<p>750 rows × 1 columns</p>\n</div>"
     },
     "metadata": {},
     "execution_count": 67
    }
   ],
   "source": [
    "Y_lrn = df.loc[:,'Class':'Class']\n",
    "Y_lrn"
   ]
  },
  {
   "cell_type": "code",
   "execution_count": 64,
   "metadata": {},
   "outputs": [
    {
     "output_type": "execute_result",
     "data": {
      "text/plain": "   V1  V2  V3  V4  V5  V6  V7  V8  V9  V10  ...  V9991  V9992  V9993  V9994  \\\n0  15  10   6   7   9   3   3   3   1    1  ...      0      0      1      1   \n1   8  10   7   2   5   7   2   5   3    3  ...      0      4      0      0   \n2  18   9   7   8   8   7  12   6   7    1  ...      0      0      1      0   \n3   6   5   4   2   4   1   1   1   0    3  ...      0      2      0      0   \n4   9   3   2   5   9   3   0   3   2    4  ...      0      0      0      0   \n\n   V9995  V9996  V9997  V9998  V9999  V10000  \n0      0      0      0      0      0       0  \n1      0      0      0      2      1       0  \n2      0      0      1      0      0       1  \n3      0      0      0      1      0       0  \n4      0      0      0      1      0       0  \n\n[5 rows x 10000 columns]",
      "text/html": "<div>\n<style scoped>\n    .dataframe tbody tr th:only-of-type {\n        vertical-align: middle;\n    }\n\n    .dataframe tbody tr th {\n        vertical-align: top;\n    }\n\n    .dataframe thead th {\n        text-align: right;\n    }\n</style>\n<table border=\"1\" class=\"dataframe\">\n  <thead>\n    <tr style=\"text-align: right;\">\n      <th></th>\n      <th>V1</th>\n      <th>V2</th>\n      <th>V3</th>\n      <th>V4</th>\n      <th>V5</th>\n      <th>V6</th>\n      <th>V7</th>\n      <th>V8</th>\n      <th>V9</th>\n      <th>V10</th>\n      <th>...</th>\n      <th>V9991</th>\n      <th>V9992</th>\n      <th>V9993</th>\n      <th>V9994</th>\n      <th>V9995</th>\n      <th>V9996</th>\n      <th>V9997</th>\n      <th>V9998</th>\n      <th>V9999</th>\n      <th>V10000</th>\n    </tr>\n  </thead>\n  <tbody>\n    <tr>\n      <th>0</th>\n      <td>15</td>\n      <td>10</td>\n      <td>6</td>\n      <td>7</td>\n      <td>9</td>\n      <td>3</td>\n      <td>3</td>\n      <td>3</td>\n      <td>1</td>\n      <td>1</td>\n      <td>...</td>\n      <td>0</td>\n      <td>0</td>\n      <td>1</td>\n      <td>1</td>\n      <td>0</td>\n      <td>0</td>\n      <td>0</td>\n      <td>0</td>\n      <td>0</td>\n      <td>0</td>\n    </tr>\n    <tr>\n      <th>1</th>\n      <td>8</td>\n      <td>10</td>\n      <td>7</td>\n      <td>2</td>\n      <td>5</td>\n      <td>7</td>\n      <td>2</td>\n      <td>5</td>\n      <td>3</td>\n      <td>3</td>\n      <td>...</td>\n      <td>0</td>\n      <td>4</td>\n      <td>0</td>\n      <td>0</td>\n      <td>0</td>\n      <td>0</td>\n      <td>0</td>\n      <td>2</td>\n      <td>1</td>\n      <td>0</td>\n    </tr>\n    <tr>\n      <th>2</th>\n      <td>18</td>\n      <td>9</td>\n      <td>7</td>\n      <td>8</td>\n      <td>8</td>\n      <td>7</td>\n      <td>12</td>\n      <td>6</td>\n      <td>7</td>\n      <td>1</td>\n      <td>...</td>\n      <td>0</td>\n      <td>0</td>\n      <td>1</td>\n      <td>0</td>\n      <td>0</td>\n      <td>0</td>\n      <td>1</td>\n      <td>0</td>\n      <td>0</td>\n      <td>1</td>\n    </tr>\n    <tr>\n      <th>3</th>\n      <td>6</td>\n      <td>5</td>\n      <td>4</td>\n      <td>2</td>\n      <td>4</td>\n      <td>1</td>\n      <td>1</td>\n      <td>1</td>\n      <td>0</td>\n      <td>3</td>\n      <td>...</td>\n      <td>0</td>\n      <td>2</td>\n      <td>0</td>\n      <td>0</td>\n      <td>0</td>\n      <td>0</td>\n      <td>0</td>\n      <td>1</td>\n      <td>0</td>\n      <td>0</td>\n    </tr>\n    <tr>\n      <th>4</th>\n      <td>9</td>\n      <td>3</td>\n      <td>2</td>\n      <td>5</td>\n      <td>9</td>\n      <td>3</td>\n      <td>0</td>\n      <td>3</td>\n      <td>2</td>\n      <td>4</td>\n      <td>...</td>\n      <td>0</td>\n      <td>0</td>\n      <td>0</td>\n      <td>0</td>\n      <td>0</td>\n      <td>0</td>\n      <td>0</td>\n      <td>1</td>\n      <td>0</td>\n      <td>0</td>\n    </tr>\n  </tbody>\n</table>\n<p>5 rows × 10000 columns</p>\n</div>"
     },
     "metadata": {},
     "execution_count": 64
    }
   ],
   "source": [
    "X_test = pd.read_csv('Datasets/amazon/amazon_review_ID.shuf.tes.csv').drop('ID', axis=1)\n",
    "X_test.head()"
   ]
  },
  {
   "cell_type": "markdown",
   "metadata": {},
   "source": [
    "# RandomForestClassifier for Amazon Review Dataset\n"
   ]
  },
  {
   "cell_type": "code",
   "execution_count": 68,
   "metadata": {},
   "outputs": [],
   "source": [
    "X_train, X_valid, Y_train, Y_valid = train_test_split(X_lrn, Y_lrn, test_size=.4)"
   ]
  },
  {
   "cell_type": "code",
   "execution_count": 97,
   "metadata": {},
   "outputs": [
    {
     "output_type": "stream",
     "name": "stdout",
     "text": "########################################\nmax_features: 0.1\noob score: 0.5422222222222223\nnumber of validation samples: 300\naccuracy: 55.00% --> 165\n########################################\nmax_features: 0.2\noob score: 0.5222222222222223\nnumber of validation samples: 300\naccuracy: 53.33% --> 160\n########################################\nmax_features: 0.30000000000000004\noob score: 0.5333333333333333\nnumber of validation samples: 300\naccuracy: 53.00% --> 159\n########################################\nmax_features: 0.4\noob score: 0.5511111111111111\nnumber of validation samples: 300\naccuracy: 52.33% --> 157\n########################################\nmax_features: 0.5\noob score: 0.5511111111111111\nnumber of validation samples: 300\naccuracy: 51.33% --> 154\n########################################\nmax_features: 0.6\noob score: 0.5222222222222223\nnumber of validation samples: 300\naccuracy: 50.00% --> 150\n########################################\nmax_features: 0.7000000000000001\noob score: 0.5511111111111111\nnumber of validation samples: 300\naccuracy: 52.33% --> 157\n########################################\nmax_features: 0.8\noob score: 0.5333333333333333\nnumber of validation samples: 300\naccuracy: 50.33% --> 151\n########################################\nmax_features: 0.9\noob score: 0.5355555555555556\nnumber of validation samples: 300\naccuracy: 50.67% --> 152\n########################################\nmax_features: 1.0\noob score: 0.5377777777777778\nnumber of validation samples: 300\naccuracy: 49.67% --> 149\n----------------------------------------\n"
    }
   ],
   "source": [
    "num_threads = 3\n",
    "scores = []\n",
    "\n",
    "for feats in np.linspace(0.1,1,10):\n",
    "    print(\"#\"*40)\n",
    "    print(\"max_features:\", feats)\n",
    "    rf = RFC(n_jobs=num_threads,n_estimators=400, max_features=feats, bootstrap=True, oob_score=True)\n",
    "    rf.fit(X_train, Y_train)\n",
    "    print(\"oob score:\", rf.oob_score_)\n",
    "    rf.get_params()\n",
    "    Y_pred = rf.predict(X_valid)\n",
    "    score = accuracy_score(Y_valid, Y_pred)\n",
    "    print(f\"number of validation samples: {X_valid.shape[0]}\")\n",
    "    print(f\"accuracy: {score*100:.2f}% --> {accuracy_score(Y_valid, Y_pred, normalize=False)}\")\n",
    "    scores.append(score)\n",
    "else:\n",
    "    print(\"-\"*40)"
   ]
  },
  {
   "cell_type": "code",
   "execution_count": 124,
   "metadata": {},
   "outputs": [
    {
     "output_type": "stream",
     "name": "stdout",
     "text": "oob score: 0.5444444444444444\nnumber of validation samples: 300\naccuracy: 55.67% --> 167\n"
    }
   ],
   "source": [
    "rf = RFC(n_jobs=num_threads, n_estimators=800, max_features=\"auto\", min_samples_split=2, min_samples_leaf=1, max_depth=40, bootstrap=True, oob_score=True)\n",
    "rf.fit(X_train, Y_train)\n",
    "print(\"oob score:\", rf.oob_score_)\n",
    "rf.get_params()\n",
    "Y_pred = rf.predict(X_valid)\n",
    "score = accuracy_score(Y_valid, Y_pred)\n",
    "print(f\"number of validation samples: {X_valid.shape[0]}\")\n",
    "print(f\"accuracy: {score*100:.2f}% --> {accuracy_score(Y_valid, Y_pred, normalize=False)}\")"
   ]
  },
  {
   "cell_type": "markdown",
   "metadata": {},
   "source": [
    "## Summary first try\n",
    "\n",
    "A (pretty much) default RandomForestClassifier reaches an accuracy of ~42%...not that great.\n",
    "Let's see if we can tweak it a bit..."
   ]
  },
  {
   "cell_type": "code",
   "execution_count": null,
   "metadata": {},
   "outputs": [],
   "source": [
    "plt.figure(figsize=(15,8))\n",
    "plt.plot(range(1,51), error_rate, color='blue', linestyle='dashed', marker='o', markerfacecolor='red', markersize=10)\n",
    "plt.title('Error rate vs k-Value')\n",
    "plt.xlabel('k-Value')\n",
    "plt.ylabel('Error rate')"
   ]
  },
  {
   "cell_type": "code",
   "execution_count": null,
   "metadata": {},
   "outputs": [],
   "source": [
    "from sklearn.model_selection import GridSearchCV\n",
    "params = {'n_neighbors': range(1, 51)}\n",
    "\n",
    "knn = KNeighborsClassifier()\n",
    "\n",
    "model = GridSearchCV(knn, params, cv=10)\n",
    "model.fit(X_train, y_train)\n",
    "print(\"Best k-Value is: \", model.best_params_['n_neighbors'])"
   ]
  },
  {
   "cell_type": "code",
   "execution_count": null,
   "metadata": {},
   "outputs": [],
   "source": [
    "pred = model.predict(X_test)"
   ]
  },
  {
   "cell_type": "code",
   "execution_count": null,
   "metadata": {},
   "outputs": [],
   "source": [
    "solution_data = list(zip(list(range(750,1500)), pred))"
   ]
  },
  {
   "cell_type": "code",
   "execution_count": null,
   "metadata": {},
   "outputs": [],
   "source": [
    "solution_table = pd.DataFrame(solution_data, columns=['ID', 'Class'])\n",
    "solution_table.head()"
   ]
  },
  {
   "cell_type": "code",
   "execution_count": null,
   "metadata": {},
   "outputs": [],
   "source": []
  }
 ],
 "metadata": {
  "kernelspec": {
   "display_name": "Python 3.7.6 64-bit ('.mlenv': venv)",
   "language": "python",
   "name": "python37664bitmlenvvenvfbd6963c170645c7aa2859813c621333"
  },
  "language_info": {
   "codemirror_mode": {
    "name": "ipython",
    "version": 3
   },
   "file_extension": ".py",
   "mimetype": "text/x-python",
   "name": "python",
   "nbconvert_exporter": "python",
   "pygments_lexer": "ipython3",
   "version": "3.7.6-final"
  }
 },
 "nbformat": 4,
 "nbformat_minor": 4
}