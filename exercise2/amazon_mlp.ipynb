{
 "cells": [
  {
   "cell_type": "code",
   "execution_count": 1,
   "metadata": {},
   "outputs": [],
   "source": [
    "import pandas as pd\n",
    "import seaborn as sns\n",
    "import matplotlib.pyplot as plt\n",
    "import numpy as np\n",
    "%matplotlib inline\n",
    "\n",
    "from sklearn.neural_network import MLPClassifier\n",
    "from sklearn.datasets import make_classification\n",
    "from sklearn.model_selection import train_test_split\n",
    "from sklearn.metrics import accuracy_score\n",
    "from sklearn.metrics import confusion_matrix\n",
    "import matplotlib.pyplot as plt\n",
    "from matplotlib.colors import ListedColormap\n",
    "from sklearn.pipeline import make_pipeline\n",
    "\n",
    "from sklearn.preprocessing import StandardScaler,PowerTransformer,MinMaxScaler,QuantileTransformer\n",
    "\n",
    "from sklearn.feature_selection import VarianceThreshold, SelectKBest\n",
    "\n",
    "from sklearn.metrics import mean_squared_error\n",
    "from math import sqrt\n",
    "from sklearn.preprocessing import normalize"
   ]
  },
  {
   "cell_type": "markdown",
   "metadata": {},
   "source": [
    "# Load the first database Amazon"
   ]
  },
  {
   "cell_type": "code",
   "execution_count": 19,
   "metadata": {},
   "outputs": [
    {
     "output_type": "execute_result",
     "data": {
      "text/plain": "      ID  V1  V2  V3  V4  V5  V6  V7  V8  V9  ...  V9992  V9993  V9994  V9995  \\\n0      0   8   6  10   6   7   2   2   2   3  ...      1      0      0      0   \n1      1  13   1  13   9   8   8   2   3   2  ...      4      1      2      1   \n2      2  16   7   6   7   9   3   4   2   6  ...      0      0      0      0   \n3      3   8  11  10  11   3   7   0   4   2  ...      0      0      1      0   \n4      4  10  11   8   5   3   4   2   5   5  ...      0      0      0      0   \n..   ...  ..  ..  ..  ..  ..  ..  ..  ..  ..  ...    ...    ...    ...    ...   \n745  745   9   8   5   5   6   2  14   1   4  ...      0      1      0      0   \n746  746   6  13   4   6   8   2   7   3   3  ...      0      0      0      0   \n747  747  16  11   4   9   9   4   0   3   5  ...      0      0      0      0   \n748  748   9   5   4   2   3   7   2   7   1  ...      0      0      0      0   \n749  749  11   2   7   3  10   2   2   3   5  ...      0      0      0      2   \n\n     V9996  V9997  V9998  V9999  V10000     Class  \n0        0      0      0      0       0     Chell  \n1        0      1      0      0       0  Engineer  \n2        1      0      0      0       0     Grove  \n3        0      0      2      1       0  Davisson  \n4        0      0      0      0       0    Wilson  \n..     ...    ...    ...    ...     ...       ...  \n745      1      0      1      0       0     Riley  \n746      1      0      0      0       1      Neal  \n747      0      1      1      0       4   Messick  \n748      0      2      0      0       0  Mitchell  \n749      1      0      0      0       0    Comdet  \n\n[750 rows x 10002 columns]",
      "text/html": "<div>\n<style scoped>\n    .dataframe tbody tr th:only-of-type {\n        vertical-align: middle;\n    }\n\n    .dataframe tbody tr th {\n        vertical-align: top;\n    }\n\n    .dataframe thead th {\n        text-align: right;\n    }\n</style>\n<table border=\"1\" class=\"dataframe\">\n  <thead>\n    <tr style=\"text-align: right;\">\n      <th></th>\n      <th>ID</th>\n      <th>V1</th>\n      <th>V2</th>\n      <th>V3</th>\n      <th>V4</th>\n      <th>V5</th>\n      <th>V6</th>\n      <th>V7</th>\n      <th>V8</th>\n      <th>V9</th>\n      <th>...</th>\n      <th>V9992</th>\n      <th>V9993</th>\n      <th>V9994</th>\n      <th>V9995</th>\n      <th>V9996</th>\n      <th>V9997</th>\n      <th>V9998</th>\n      <th>V9999</th>\n      <th>V10000</th>\n      <th>Class</th>\n    </tr>\n  </thead>\n  <tbody>\n    <tr>\n      <th>0</th>\n      <td>0</td>\n      <td>8</td>\n      <td>6</td>\n      <td>10</td>\n      <td>6</td>\n      <td>7</td>\n      <td>2</td>\n      <td>2</td>\n      <td>2</td>\n      <td>3</td>\n      <td>...</td>\n      <td>1</td>\n      <td>0</td>\n      <td>0</td>\n      <td>0</td>\n      <td>0</td>\n      <td>0</td>\n      <td>0</td>\n      <td>0</td>\n      <td>0</td>\n      <td>Chell</td>\n    </tr>\n    <tr>\n      <th>1</th>\n      <td>1</td>\n      <td>13</td>\n      <td>1</td>\n      <td>13</td>\n      <td>9</td>\n      <td>8</td>\n      <td>8</td>\n      <td>2</td>\n      <td>3</td>\n      <td>2</td>\n      <td>...</td>\n      <td>4</td>\n      <td>1</td>\n      <td>2</td>\n      <td>1</td>\n      <td>0</td>\n      <td>1</td>\n      <td>0</td>\n      <td>0</td>\n      <td>0</td>\n      <td>Engineer</td>\n    </tr>\n    <tr>\n      <th>2</th>\n      <td>2</td>\n      <td>16</td>\n      <td>7</td>\n      <td>6</td>\n      <td>7</td>\n      <td>9</td>\n      <td>3</td>\n      <td>4</td>\n      <td>2</td>\n      <td>6</td>\n      <td>...</td>\n      <td>0</td>\n      <td>0</td>\n      <td>0</td>\n      <td>0</td>\n      <td>1</td>\n      <td>0</td>\n      <td>0</td>\n      <td>0</td>\n      <td>0</td>\n      <td>Grove</td>\n    </tr>\n    <tr>\n      <th>3</th>\n      <td>3</td>\n      <td>8</td>\n      <td>11</td>\n      <td>10</td>\n      <td>11</td>\n      <td>3</td>\n      <td>7</td>\n      <td>0</td>\n      <td>4</td>\n      <td>2</td>\n      <td>...</td>\n      <td>0</td>\n      <td>0</td>\n      <td>1</td>\n      <td>0</td>\n      <td>0</td>\n      <td>0</td>\n      <td>2</td>\n      <td>1</td>\n      <td>0</td>\n      <td>Davisson</td>\n    </tr>\n    <tr>\n      <th>4</th>\n      <td>4</td>\n      <td>10</td>\n      <td>11</td>\n      <td>8</td>\n      <td>5</td>\n      <td>3</td>\n      <td>4</td>\n      <td>2</td>\n      <td>5</td>\n      <td>5</td>\n      <td>...</td>\n      <td>0</td>\n      <td>0</td>\n      <td>0</td>\n      <td>0</td>\n      <td>0</td>\n      <td>0</td>\n      <td>0</td>\n      <td>0</td>\n      <td>0</td>\n      <td>Wilson</td>\n    </tr>\n    <tr>\n      <th>...</th>\n      <td>...</td>\n      <td>...</td>\n      <td>...</td>\n      <td>...</td>\n      <td>...</td>\n      <td>...</td>\n      <td>...</td>\n      <td>...</td>\n      <td>...</td>\n      <td>...</td>\n      <td>...</td>\n      <td>...</td>\n      <td>...</td>\n      <td>...</td>\n      <td>...</td>\n      <td>...</td>\n      <td>...</td>\n      <td>...</td>\n      <td>...</td>\n      <td>...</td>\n      <td>...</td>\n    </tr>\n    <tr>\n      <th>745</th>\n      <td>745</td>\n      <td>9</td>\n      <td>8</td>\n      <td>5</td>\n      <td>5</td>\n      <td>6</td>\n      <td>2</td>\n      <td>14</td>\n      <td>1</td>\n      <td>4</td>\n      <td>...</td>\n      <td>0</td>\n      <td>1</td>\n      <td>0</td>\n      <td>0</td>\n      <td>1</td>\n      <td>0</td>\n      <td>1</td>\n      <td>0</td>\n      <td>0</td>\n      <td>Riley</td>\n    </tr>\n    <tr>\n      <th>746</th>\n      <td>746</td>\n      <td>6</td>\n      <td>13</td>\n      <td>4</td>\n      <td>6</td>\n      <td>8</td>\n      <td>2</td>\n      <td>7</td>\n      <td>3</td>\n      <td>3</td>\n      <td>...</td>\n      <td>0</td>\n      <td>0</td>\n      <td>0</td>\n      <td>0</td>\n      <td>1</td>\n      <td>0</td>\n      <td>0</td>\n      <td>0</td>\n      <td>1</td>\n      <td>Neal</td>\n    </tr>\n    <tr>\n      <th>747</th>\n      <td>747</td>\n      <td>16</td>\n      <td>11</td>\n      <td>4</td>\n      <td>9</td>\n      <td>9</td>\n      <td>4</td>\n      <td>0</td>\n      <td>3</td>\n      <td>5</td>\n      <td>...</td>\n      <td>0</td>\n      <td>0</td>\n      <td>0</td>\n      <td>0</td>\n      <td>0</td>\n      <td>1</td>\n      <td>1</td>\n      <td>0</td>\n      <td>4</td>\n      <td>Messick</td>\n    </tr>\n    <tr>\n      <th>748</th>\n      <td>748</td>\n      <td>9</td>\n      <td>5</td>\n      <td>4</td>\n      <td>2</td>\n      <td>3</td>\n      <td>7</td>\n      <td>2</td>\n      <td>7</td>\n      <td>1</td>\n      <td>...</td>\n      <td>0</td>\n      <td>0</td>\n      <td>0</td>\n      <td>0</td>\n      <td>0</td>\n      <td>2</td>\n      <td>0</td>\n      <td>0</td>\n      <td>0</td>\n      <td>Mitchell</td>\n    </tr>\n    <tr>\n      <th>749</th>\n      <td>749</td>\n      <td>11</td>\n      <td>2</td>\n      <td>7</td>\n      <td>3</td>\n      <td>10</td>\n      <td>2</td>\n      <td>2</td>\n      <td>3</td>\n      <td>5</td>\n      <td>...</td>\n      <td>0</td>\n      <td>0</td>\n      <td>0</td>\n      <td>2</td>\n      <td>1</td>\n      <td>0</td>\n      <td>0</td>\n      <td>0</td>\n      <td>0</td>\n      <td>Comdet</td>\n    </tr>\n  </tbody>\n</table>\n<p>750 rows × 10002 columns</p>\n</div>"
     },
     "metadata": {},
     "execution_count": 19
    }
   ],
   "source": [
    "df = pd.read_csv('Datasets/amazon/amazon_review_ID.shuf.lrn.csv')\n",
    "df.head()\n",
    "\n",
    "X_test = pd.read_csv('Datasets/amazon/amazon_review_ID.shuf.tes.csv').drop('ID', axis=1)\n",
    "X_test\n",
    "df\n"
   ]
  },
  {
   "cell_type": "code",
   "execution_count": 3,
   "metadata": {},
   "outputs": [],
   "source": []
  },
  {
   "cell_type": "markdown",
   "metadata": {},
   "source": [
    "# Change the attributes from the Class coloum into numbers "
   ]
  },
  {
   "cell_type": "code",
   "execution_count": 20,
   "metadata": {},
   "outputs": [],
   "source": [
    "Class_description = []\n",
    "Class_description = pd.unique(df.Class)\n",
    "\n",
    "for i in range(len(Class_description)):\n",
    "    df.Class[df.Class == Class_description[i]] = i+1"
   ]
  },
  {
   "cell_type": "code",
   "execution_count": 37,
   "metadata": {},
   "outputs": [],
   "source": [
    "X_lrn = df.loc[:,'V1':'V10000']\n",
    "Y_lrn = df.loc[:,'Class':'Class'].astype(float)"
   ]
  },
  {
   "cell_type": "code",
   "execution_count": 22,
   "metadata": {},
   "outputs": [],
   "source": [
    "def MLP_Search(alphas,modes,solv, h,maxiter,X_train, X_valid, Y_train, Y_valid):\n",
    "    erg = []\n",
    "    for g in h:\n",
    "        for i in alphas:\n",
    "            for j in modes:\n",
    "                for k in solv:\n",
    "                    clf = MLPClassifier(hidden_layer_sizes=(g), max_iter=maxiter, alpha=i,solver=k,activation=j,tol = 1e-9)\n",
    "                    clf.fit(X_train, Y_train)\n",
    "                    Y_pred = clf.predict(X_valid)\n",
    "                    print(\"Hidden layers: \",g,\"|\\talpha: \",i,\"|\\tmode: \",j,\"|\\tsolver: \",k,\"|\\tscore: \",accuracy_score(Y_valid, Y_pred))\n",
    "                    erg.append({\n",
    "                        \"h\": g,\n",
    "                        \"alpha\": i,\n",
    "                        \"mode\": j,\n",
    "                        \"solver\": k,\n",
    "                        \"score\": accuracy_score(Y_valid, Y_pred)})\n",
    "        print(\"\")\n",
    "    return erg"
   ]
  },
  {
   "cell_type": "code",
   "execution_count": 23,
   "metadata": {},
   "outputs": [],
   "source": [
    "def Statistic(Y_valid,Y_pred,name):\n",
    "    print(\"Heat map: \")\n",
    "    plt.figure()\n",
    "    cm = confusion_matrix(Y_valid.Class, Y_pred)\n",
    "    sns.heatmap(cm, center=True)\n",
    "    plt.savefig(\"Heatmap {}\".format(name))\n",
    "    plt.figure()\n",
    "    sns.distplot(Y_valid.Class)\n",
    "    sns.distplot(Y_pred, color=\"red\")\n",
    "    plt.savefig(\"difference between prediction and validation {}\".format(name))\n",
    "\n",
    "    plt.figure()\n",
    "    sns.distplot(Y_valid.Class-Y_pred)\n",
    "    plt.savefig(\"total difference between prediction and validation {}\".format(name))\n",
    "    print(sqrt(mean_squared_error(Y_valid.Class, Y_pred)))\n",
    "\n",
    "    Y_pred_Norm = Y_pred / np.linalg.norm(Y_pred)\n",
    "    Y_valid_Norm = Y_valid / np.linalg.norm(Y_valid.Class)\n",
    "\n",
    "    print(sqrt(mean_squared_error(Y_pred_Norm, Y_valid_Norm)))"
   ]
  },
  {
   "cell_type": "code",
   "execution_count": 24,
   "metadata": {},
   "outputs": [],
   "source": [
    "def FindBestScore(results):\n",
    "    best_score = 0\n",
    "    best_index = 0\n",
    "    for i, res in enumerate(results):\n",
    "        if res[\"score\"] > best_score:\n",
    "            best_score = res[\"score\"]\n",
    "            best_index = i\n",
    "    print(\"best_score:\", best_score)\n",
    "    print(\"best_params:\", results[best_index])\n",
    "    return results[best_index]"
   ]
  },
  {
   "cell_type": "code",
   "execution_count": 25,
   "metadata": {},
   "outputs": [],
   "source": [
    "def plotLC(LC,best_params):\n",
    "    plt.figure()\n",
    "    plt.plot(LC)#,label=\"activation {} Hidden Layers {} solver {} \".format(best_params[\"alpha\"],i,l))\n",
    "    plt.grid()\n",
    "    plt.legend()\n",
    "    plt.xlabel(\"Iterations\")\n",
    "    plt.xlabel(\"Loss\")\n",
    "    plt.title(\"activation {} Hidden Layers {} solver {} \".format(best_params[\"mode\"],best_params[\"h\"],best_params[\"solver\"]))\n",
    "    plt.savefig(\"activation {} Hidden Layers {} solver {} \".format(best_params[\"mode\"],best_params[\"h\"],best_params[\"solver\"]))"
   ]
  },
  {
   "cell_type": "markdown",
   "metadata": {},
   "source": [
    "# Feature Selection with K-Best"
   ]
  },
  {
   "cell_type": "code",
   "execution_count": 26,
   "metadata": {},
   "outputs": [
    {
     "output_type": "stream",
     "name": "stdout",
     "text": "10000\n"
    },
    {
     "output_type": "execute_result",
     "data": {
      "text/plain": "     V1  V2  V3  V4  V5  V6  V7  V8  V9  V10  ...  V9991  V9992  V9993  V9994  \\\n0     8   6  10   6   7   2   2   2   3    2  ...      0      1      0      0   \n1    13   1  13   9   8   8   2   3   2    4  ...      0      4      1      2   \n2    16   7   6   7   9   3   4   2   6    5  ...      0      0      0      0   \n3     8  11  10  11   3   7   0   4   2    1  ...      2      0      0      1   \n4    10  11   8   5   3   4   2   5   5    4  ...      0      0      0      0   \n..   ..  ..  ..  ..  ..  ..  ..  ..  ..  ...  ...    ...    ...    ...    ...   \n745   9   8   5   5   6   2  14   1   4    5  ...      0      0      1      0   \n746   6  13   4   6   8   2   7   3   3    2  ...      0      0      0      0   \n747  16  11   4   9   9   4   0   3   5    0  ...      0      0      0      0   \n748   9   5   4   2   3   7   2   7   1    1  ...      0      0      0      0   \n749  11   2   7   3  10   2   2   3   5    5  ...      0      0      0      0   \n\n     V9995  V9996  V9997  V9998  V9999  V10000  \n0        0      0      0      0      0       0  \n1        1      0      1      0      0       0  \n2        0      1      0      0      0       0  \n3        0      0      0      2      1       0  \n4        0      0      0      0      0       0  \n..     ...    ...    ...    ...    ...     ...  \n745      0      1      0      1      0       0  \n746      0      1      0      0      0       1  \n747      0      0      1      1      0       4  \n748      0      0      2      0      0       0  \n749      2      1      0      0      0       0  \n\n[750 rows x 10000 columns]",
      "text/html": "<div>\n<style scoped>\n    .dataframe tbody tr th:only-of-type {\n        vertical-align: middle;\n    }\n\n    .dataframe tbody tr th {\n        vertical-align: top;\n    }\n\n    .dataframe thead th {\n        text-align: right;\n    }\n</style>\n<table border=\"1\" class=\"dataframe\">\n  <thead>\n    <tr style=\"text-align: right;\">\n      <th></th>\n      <th>V1</th>\n      <th>V2</th>\n      <th>V3</th>\n      <th>V4</th>\n      <th>V5</th>\n      <th>V6</th>\n      <th>V7</th>\n      <th>V8</th>\n      <th>V9</th>\n      <th>V10</th>\n      <th>...</th>\n      <th>V9991</th>\n      <th>V9992</th>\n      <th>V9993</th>\n      <th>V9994</th>\n      <th>V9995</th>\n      <th>V9996</th>\n      <th>V9997</th>\n      <th>V9998</th>\n      <th>V9999</th>\n      <th>V10000</th>\n    </tr>\n  </thead>\n  <tbody>\n    <tr>\n      <th>0</th>\n      <td>8</td>\n      <td>6</td>\n      <td>10</td>\n      <td>6</td>\n      <td>7</td>\n      <td>2</td>\n      <td>2</td>\n      <td>2</td>\n      <td>3</td>\n      <td>2</td>\n      <td>...</td>\n      <td>0</td>\n      <td>1</td>\n      <td>0</td>\n      <td>0</td>\n      <td>0</td>\n      <td>0</td>\n      <td>0</td>\n      <td>0</td>\n      <td>0</td>\n      <td>0</td>\n    </tr>\n    <tr>\n      <th>1</th>\n      <td>13</td>\n      <td>1</td>\n      <td>13</td>\n      <td>9</td>\n      <td>8</td>\n      <td>8</td>\n      <td>2</td>\n      <td>3</td>\n      <td>2</td>\n      <td>4</td>\n      <td>...</td>\n      <td>0</td>\n      <td>4</td>\n      <td>1</td>\n      <td>2</td>\n      <td>1</td>\n      <td>0</td>\n      <td>1</td>\n      <td>0</td>\n      <td>0</td>\n      <td>0</td>\n    </tr>\n    <tr>\n      <th>2</th>\n      <td>16</td>\n      <td>7</td>\n      <td>6</td>\n      <td>7</td>\n      <td>9</td>\n      <td>3</td>\n      <td>4</td>\n      <td>2</td>\n      <td>6</td>\n      <td>5</td>\n      <td>...</td>\n      <td>0</td>\n      <td>0</td>\n      <td>0</td>\n      <td>0</td>\n      <td>0</td>\n      <td>1</td>\n      <td>0</td>\n      <td>0</td>\n      <td>0</td>\n      <td>0</td>\n    </tr>\n    <tr>\n      <th>3</th>\n      <td>8</td>\n      <td>11</td>\n      <td>10</td>\n      <td>11</td>\n      <td>3</td>\n      <td>7</td>\n      <td>0</td>\n      <td>4</td>\n      <td>2</td>\n      <td>1</td>\n      <td>...</td>\n      <td>2</td>\n      <td>0</td>\n      <td>0</td>\n      <td>1</td>\n      <td>0</td>\n      <td>0</td>\n      <td>0</td>\n      <td>2</td>\n      <td>1</td>\n      <td>0</td>\n    </tr>\n    <tr>\n      <th>4</th>\n      <td>10</td>\n      <td>11</td>\n      <td>8</td>\n      <td>5</td>\n      <td>3</td>\n      <td>4</td>\n      <td>2</td>\n      <td>5</td>\n      <td>5</td>\n      <td>4</td>\n      <td>...</td>\n      <td>0</td>\n      <td>0</td>\n      <td>0</td>\n      <td>0</td>\n      <td>0</td>\n      <td>0</td>\n      <td>0</td>\n      <td>0</td>\n      <td>0</td>\n      <td>0</td>\n    </tr>\n    <tr>\n      <th>...</th>\n      <td>...</td>\n      <td>...</td>\n      <td>...</td>\n      <td>...</td>\n      <td>...</td>\n      <td>...</td>\n      <td>...</td>\n      <td>...</td>\n      <td>...</td>\n      <td>...</td>\n      <td>...</td>\n      <td>...</td>\n      <td>...</td>\n      <td>...</td>\n      <td>...</td>\n      <td>...</td>\n      <td>...</td>\n      <td>...</td>\n      <td>...</td>\n      <td>...</td>\n      <td>...</td>\n    </tr>\n    <tr>\n      <th>745</th>\n      <td>9</td>\n      <td>8</td>\n      <td>5</td>\n      <td>5</td>\n      <td>6</td>\n      <td>2</td>\n      <td>14</td>\n      <td>1</td>\n      <td>4</td>\n      <td>5</td>\n      <td>...</td>\n      <td>0</td>\n      <td>0</td>\n      <td>1</td>\n      <td>0</td>\n      <td>0</td>\n      <td>1</td>\n      <td>0</td>\n      <td>1</td>\n      <td>0</td>\n      <td>0</td>\n    </tr>\n    <tr>\n      <th>746</th>\n      <td>6</td>\n      <td>13</td>\n      <td>4</td>\n      <td>6</td>\n      <td>8</td>\n      <td>2</td>\n      <td>7</td>\n      <td>3</td>\n      <td>3</td>\n      <td>2</td>\n      <td>...</td>\n      <td>0</td>\n      <td>0</td>\n      <td>0</td>\n      <td>0</td>\n      <td>0</td>\n      <td>1</td>\n      <td>0</td>\n      <td>0</td>\n      <td>0</td>\n      <td>1</td>\n    </tr>\n    <tr>\n      <th>747</th>\n      <td>16</td>\n      <td>11</td>\n      <td>4</td>\n      <td>9</td>\n      <td>9</td>\n      <td>4</td>\n      <td>0</td>\n      <td>3</td>\n      <td>5</td>\n      <td>0</td>\n      <td>...</td>\n      <td>0</td>\n      <td>0</td>\n      <td>0</td>\n      <td>0</td>\n      <td>0</td>\n      <td>0</td>\n      <td>1</td>\n      <td>1</td>\n      <td>0</td>\n      <td>4</td>\n    </tr>\n    <tr>\n      <th>748</th>\n      <td>9</td>\n      <td>5</td>\n      <td>4</td>\n      <td>2</td>\n      <td>3</td>\n      <td>7</td>\n      <td>2</td>\n      <td>7</td>\n      <td>1</td>\n      <td>1</td>\n      <td>...</td>\n      <td>0</td>\n      <td>0</td>\n      <td>0</td>\n      <td>0</td>\n      <td>0</td>\n      <td>0</td>\n      <td>2</td>\n      <td>0</td>\n      <td>0</td>\n      <td>0</td>\n    </tr>\n    <tr>\n      <th>749</th>\n      <td>11</td>\n      <td>2</td>\n      <td>7</td>\n      <td>3</td>\n      <td>10</td>\n      <td>2</td>\n      <td>2</td>\n      <td>3</td>\n      <td>5</td>\n      <td>5</td>\n      <td>...</td>\n      <td>0</td>\n      <td>0</td>\n      <td>0</td>\n      <td>0</td>\n      <td>2</td>\n      <td>1</td>\n      <td>0</td>\n      <td>0</td>\n      <td>0</td>\n      <td>0</td>\n    </tr>\n  </tbody>\n</table>\n<p>750 rows × 10000 columns</p>\n</div>"
     },
     "metadata": {},
     "execution_count": 26
    }
   ],
   "source": [
    "from math import sqrt\n",
    "\n",
    "#VT = VarianceThreshold(threshold=0.05)\n",
    "features = df.loc[:,'V1':'V10000']\n",
    "target = df.loc[:,'Class']\n",
    "num_features = features.shape[1]\n",
    "features\n",
    "\n",
    "# Create and fit selector\n",
    "k= int(sqrt(num_features)*100)\n",
    "print(k)\n",
    "selector = SelectKBest(k=k)\n",
    "# Get columns to keep and create new dataframe with those only\n",
    "cols = selector.fit(features.values, target.values).get_support(indices=True)\n",
    "selected_feats = features.iloc[:,cols]\n",
    "selected_feats"
   ]
  },
  {
   "cell_type": "code",
   "execution_count": 27,
   "metadata": {},
   "outputs": [
    {
     "output_type": "execute_result",
     "data": {
      "text/plain": "     V1  V2  V3  V4  V5  V6  V7  V8  V9  V10  ...  V9991  V9992  V9993  V9994  \\\n0     8   6  10   6   7   2   2   2   3    2  ...      0      1      0      0   \n1    13   1  13   9   8   8   2   3   2    4  ...      0      4      1      2   \n2    16   7   6   7   9   3   4   2   6    5  ...      0      0      0      0   \n3     8  11  10  11   3   7   0   4   2    1  ...      2      0      0      1   \n4    10  11   8   5   3   4   2   5   5    4  ...      0      0      0      0   \n..   ..  ..  ..  ..  ..  ..  ..  ..  ..  ...  ...    ...    ...    ...    ...   \n745   9   8   5   5   6   2  14   1   4    5  ...      0      0      1      0   \n746   6  13   4   6   8   2   7   3   3    2  ...      0      0      0      0   \n747  16  11   4   9   9   4   0   3   5    0  ...      0      0      0      0   \n748   9   5   4   2   3   7   2   7   1    1  ...      0      0      0      0   \n749  11   2   7   3  10   2   2   3   5    5  ...      0      0      0      0   \n\n     V9995  V9996  V9997  V9998  V9999  V10000  \n0        0      0      0      0      0       0  \n1        1      0      1      0      0       0  \n2        0      1      0      0      0       0  \n3        0      0      0      2      1       0  \n4        0      0      0      0      0       0  \n..     ...    ...    ...    ...    ...     ...  \n745      0      1      0      1      0       0  \n746      0      1      0      0      0       1  \n747      0      0      1      1      0       4  \n748      0      0      2      0      0       0  \n749      2      1      0      0      0       0  \n\n[750 rows x 10000 columns]",
      "text/html": "<div>\n<style scoped>\n    .dataframe tbody tr th:only-of-type {\n        vertical-align: middle;\n    }\n\n    .dataframe tbody tr th {\n        vertical-align: top;\n    }\n\n    .dataframe thead th {\n        text-align: right;\n    }\n</style>\n<table border=\"1\" class=\"dataframe\">\n  <thead>\n    <tr style=\"text-align: right;\">\n      <th></th>\n      <th>V1</th>\n      <th>V2</th>\n      <th>V3</th>\n      <th>V4</th>\n      <th>V5</th>\n      <th>V6</th>\n      <th>V7</th>\n      <th>V8</th>\n      <th>V9</th>\n      <th>V10</th>\n      <th>...</th>\n      <th>V9991</th>\n      <th>V9992</th>\n      <th>V9993</th>\n      <th>V9994</th>\n      <th>V9995</th>\n      <th>V9996</th>\n      <th>V9997</th>\n      <th>V9998</th>\n      <th>V9999</th>\n      <th>V10000</th>\n    </tr>\n  </thead>\n  <tbody>\n    <tr>\n      <th>0</th>\n      <td>8</td>\n      <td>6</td>\n      <td>10</td>\n      <td>6</td>\n      <td>7</td>\n      <td>2</td>\n      <td>2</td>\n      <td>2</td>\n      <td>3</td>\n      <td>2</td>\n      <td>...</td>\n      <td>0</td>\n      <td>1</td>\n      <td>0</td>\n      <td>0</td>\n      <td>0</td>\n      <td>0</td>\n      <td>0</td>\n      <td>0</td>\n      <td>0</td>\n      <td>0</td>\n    </tr>\n    <tr>\n      <th>1</th>\n      <td>13</td>\n      <td>1</td>\n      <td>13</td>\n      <td>9</td>\n      <td>8</td>\n      <td>8</td>\n      <td>2</td>\n      <td>3</td>\n      <td>2</td>\n      <td>4</td>\n      <td>...</td>\n      <td>0</td>\n      <td>4</td>\n      <td>1</td>\n      <td>2</td>\n      <td>1</td>\n      <td>0</td>\n      <td>1</td>\n      <td>0</td>\n      <td>0</td>\n      <td>0</td>\n    </tr>\n    <tr>\n      <th>2</th>\n      <td>16</td>\n      <td>7</td>\n      <td>6</td>\n      <td>7</td>\n      <td>9</td>\n      <td>3</td>\n      <td>4</td>\n      <td>2</td>\n      <td>6</td>\n      <td>5</td>\n      <td>...</td>\n      <td>0</td>\n      <td>0</td>\n      <td>0</td>\n      <td>0</td>\n      <td>0</td>\n      <td>1</td>\n      <td>0</td>\n      <td>0</td>\n      <td>0</td>\n      <td>0</td>\n    </tr>\n    <tr>\n      <th>3</th>\n      <td>8</td>\n      <td>11</td>\n      <td>10</td>\n      <td>11</td>\n      <td>3</td>\n      <td>7</td>\n      <td>0</td>\n      <td>4</td>\n      <td>2</td>\n      <td>1</td>\n      <td>...</td>\n      <td>2</td>\n      <td>0</td>\n      <td>0</td>\n      <td>1</td>\n      <td>0</td>\n      <td>0</td>\n      <td>0</td>\n      <td>2</td>\n      <td>1</td>\n      <td>0</td>\n    </tr>\n    <tr>\n      <th>4</th>\n      <td>10</td>\n      <td>11</td>\n      <td>8</td>\n      <td>5</td>\n      <td>3</td>\n      <td>4</td>\n      <td>2</td>\n      <td>5</td>\n      <td>5</td>\n      <td>4</td>\n      <td>...</td>\n      <td>0</td>\n      <td>0</td>\n      <td>0</td>\n      <td>0</td>\n      <td>0</td>\n      <td>0</td>\n      <td>0</td>\n      <td>0</td>\n      <td>0</td>\n      <td>0</td>\n    </tr>\n    <tr>\n      <th>...</th>\n      <td>...</td>\n      <td>...</td>\n      <td>...</td>\n      <td>...</td>\n      <td>...</td>\n      <td>...</td>\n      <td>...</td>\n      <td>...</td>\n      <td>...</td>\n      <td>...</td>\n      <td>...</td>\n      <td>...</td>\n      <td>...</td>\n      <td>...</td>\n      <td>...</td>\n      <td>...</td>\n      <td>...</td>\n      <td>...</td>\n      <td>...</td>\n      <td>...</td>\n      <td>...</td>\n    </tr>\n    <tr>\n      <th>745</th>\n      <td>9</td>\n      <td>8</td>\n      <td>5</td>\n      <td>5</td>\n      <td>6</td>\n      <td>2</td>\n      <td>14</td>\n      <td>1</td>\n      <td>4</td>\n      <td>5</td>\n      <td>...</td>\n      <td>0</td>\n      <td>0</td>\n      <td>1</td>\n      <td>0</td>\n      <td>0</td>\n      <td>1</td>\n      <td>0</td>\n      <td>1</td>\n      <td>0</td>\n      <td>0</td>\n    </tr>\n    <tr>\n      <th>746</th>\n      <td>6</td>\n      <td>13</td>\n      <td>4</td>\n      <td>6</td>\n      <td>8</td>\n      <td>2</td>\n      <td>7</td>\n      <td>3</td>\n      <td>3</td>\n      <td>2</td>\n      <td>...</td>\n      <td>0</td>\n      <td>0</td>\n      <td>0</td>\n      <td>0</td>\n      <td>0</td>\n      <td>1</td>\n      <td>0</td>\n      <td>0</td>\n      <td>0</td>\n      <td>1</td>\n    </tr>\n    <tr>\n      <th>747</th>\n      <td>16</td>\n      <td>11</td>\n      <td>4</td>\n      <td>9</td>\n      <td>9</td>\n      <td>4</td>\n      <td>0</td>\n      <td>3</td>\n      <td>5</td>\n      <td>0</td>\n      <td>...</td>\n      <td>0</td>\n      <td>0</td>\n      <td>0</td>\n      <td>0</td>\n      <td>0</td>\n      <td>0</td>\n      <td>1</td>\n      <td>1</td>\n      <td>0</td>\n      <td>4</td>\n    </tr>\n    <tr>\n      <th>748</th>\n      <td>9</td>\n      <td>5</td>\n      <td>4</td>\n      <td>2</td>\n      <td>3</td>\n      <td>7</td>\n      <td>2</td>\n      <td>7</td>\n      <td>1</td>\n      <td>1</td>\n      <td>...</td>\n      <td>0</td>\n      <td>0</td>\n      <td>0</td>\n      <td>0</td>\n      <td>0</td>\n      <td>0</td>\n      <td>2</td>\n      <td>0</td>\n      <td>0</td>\n      <td>0</td>\n    </tr>\n    <tr>\n      <th>749</th>\n      <td>11</td>\n      <td>2</td>\n      <td>7</td>\n      <td>3</td>\n      <td>10</td>\n      <td>2</td>\n      <td>2</td>\n      <td>3</td>\n      <td>5</td>\n      <td>5</td>\n      <td>...</td>\n      <td>0</td>\n      <td>0</td>\n      <td>0</td>\n      <td>0</td>\n      <td>2</td>\n      <td>1</td>\n      <td>0</td>\n      <td>0</td>\n      <td>0</td>\n      <td>0</td>\n    </tr>\n  </tbody>\n</table>\n<p>750 rows × 10000 columns</p>\n</div>"
     },
     "metadata": {},
     "execution_count": 27
    }
   ],
   "source": [
    "features"
   ]
  },
  {
   "cell_type": "markdown",
   "metadata": {},
   "source": [
    "# Set Features:"
   ]
  },
  {
   "cell_type": "code",
   "execution_count": 28,
   "metadata": {},
   "outputs": [],
   "source": [
    "alphas = [1e-3] \n",
    "activation = [\"relu\",\"identity\",\"logistic\",\"tanh\"]\n",
    "solver = [\"sgd\",\"adam\"]\n",
    "learning_rate = [\"constant\"]\n",
    "h = [100,300,600,900]\n",
    "\n",
    "alphas = [1e-4]\n",
    "activation = [\"relu\"]\n",
    "solver = [\"adam\"]\n",
    "h = [300]\n",
    "maxiter = 1000"
   ]
  },
  {
   "cell_type": "markdown",
   "metadata": {},
   "source": [
    "# Standart Scaler"
   ]
  },
  {
   "cell_type": "code",
   "execution_count": 39,
   "metadata": {},
   "outputs": [
    {
     "output_type": "stream",
     "name": "stdout",
     "text": "(300, 10000)\n"
    }
   ],
   "source": [
    "X_train, X_valid, Y_train, Y_valid = train_test_split(selected_feats, Y_lrn, test_size=0.4)\n",
    "\n",
    "from sklearn.preprocessing import StandardScaler\n",
    "\n",
    "scaler = StandardScaler() \n",
    "scaler.fit(X_train) \n",
    "X_trainSC = scaler.transform(X_train)\n",
    "X_validSC = scaler.transform(X_valid) \n",
    "print(X_validSC.shape)"
   ]
  },
  {
   "cell_type": "code",
   "execution_count": 33,
   "metadata": {},
   "outputs": [],
   "source": [
    "from sklearn.preprocessing import StandardScaler\n",
    "\n",
    "scaler = StandardScaler() \n",
    "scaler.fit(X_lrn) \n",
    "X_trainSC = scaler.transform(X_lrn)\n",
    "X_validSC = scaler.transform(X_valid) "
   ]
  },
  {
   "cell_type": "code",
   "execution_count": 40,
   "metadata": {
    "tags": [
     "outputPrepend",
     "outputPrepend",
     "outputPrepend",
     "outputPrepend",
     "outputPrepend",
     "outputPrepend",
     "outputPrepend",
     "outputPrepend",
     "outputPrepend",
     "outputPrepend",
     "outputPrepend",
     "outputPrepend",
     "outputPrepend",
     "outputPrepend",
     "outputPrepend",
     "outputPrepend",
     "outputPrepend",
     "outputPrepend",
     "outputPrepend",
     "outputPrepend",
     "outputPrepend",
     "outputPrepend",
     "outputPrepend",
     "outputPrepend",
     "outputPrepend",
     "outputPrepend",
     "outputPrepend",
     "outputPrepend",
     "outputPrepend",
     "outputPrepend",
     "outputPrepend",
     "outputPrepend",
     "outputPrepend",
     "outputPrepend",
     "outputPrepend",
     "outputPrepend",
     "outputPrepend",
     "outputPrepend",
     "outputPrepend",
     "outputPrepend",
     "outputPrepend",
     "outputPrepend",
     "outputPrepend",
     "outputPrepend",
     "outputPrepend",
     "outputPrepend",
     "outputPrepend",
     "outputPrepend",
     "outputPrepend",
     "outputPrepend",
     "outputPrepend",
     "outputPrepend",
     "outputPrepend",
     "outputPrepend",
     "outputPrepend",
     "outputPrepend",
     "outputPrepend",
     "outputPrepend",
     "outputPrepend",
     "outputPrepend",
     "outputPrepend",
     "outputPrepend",
     "outputPrepend",
     "outputPrepend",
     "outputPrepend",
     "outputPrepend",
     "outputPrepend",
     "outputPrepend",
     "outputPrepend",
     "outputPrepend",
     "outputPrepend",
     "outputPrepend",
     "outputPrepend",
     "outputPrepend",
     "outputPrepend",
     "outputPrepend",
     "outputPrepend",
     "outputPrepend",
     "outputPrepend",
     "outputPrepend",
     "outputPrepend",
     "outputPrepend",
     "outputPrepend",
     "outputPrepend",
     "outputPrepend",
     "outputPrepend",
     "outputPrepend",
     "outputPrepend",
     "outputPrepend",
     "outputPrepend",
     "outputPrepend",
     "outputPrepend",
     "outputPrepend",
     "outputPrepend",
     "outputPrepend",
     "outputPrepend",
     "outputPrepend",
     "outputPrepend",
     "outputPrepend",
     "outputPrepend",
     "outputPrepend",
     "outputPrepend",
     "outputPrepend",
     "outputPrepend",
     "outputPrepend",
     "outputPrepend",
     "outputPrepend",
     "outputPrepend",
     "outputPrepend",
     "outputPrepend",
     "outputPrepend",
     "outputPrepend",
     "outputPrepend",
     "outputPrepend",
     "outputPrepend",
     "outputPrepend"
    ]
   },
   "outputs": [],
   "source": [
    "#Best score relu adam hidden layer = 300 Iter 1000 learning rate = constant score=0.66\n",
    "\n",
    "results = MLP_Search(alphas,activation,solver,h,maxiter,X_trainSC, X_validSC, Y_train, Y_valid)\n",
    "best_params_SC = FindBestScore(results)"
   ]
  },
  {
   "cell_type": "code",
   "execution_count": null,
   "metadata": {},
   "outputs": [],
   "source": [
    "#Best score relu adam hidden layer = 300 Iter 1000 learning rate = constant score=0.66 \n",
    "clf = MLPClassifier(hidden_layer_sizes=(best_params_SC[\"h\"]), max_iter=maxiter, alpha=best_params_SC[\"alpha\"],solver=best_params_SC[\"solver\"],activation=best_params_SC[\"mode\"],tol=1e-9,verbose=False)\n",
    "clf.fit(X_trainSC, Y_train)\n",
    "Y_predSC = clf.predict(selected_feats)\n",
    "LC = clf.loss_curve_\n",
    "\n",
    "print(accuracy_score(Y_valid, Y_predSC))\n",
    "#Statistic(Y_valid,Y_predSC,\"MLP SC\")\n",
    "#plotLC(LC,best_params_SC)"
   ]
  },
  {
   "cell_type": "code",
   "execution_count": null,
   "metadata": {},
   "outputs": [],
   "source": []
  },
  {
   "cell_type": "code",
   "execution_count": null,
   "metadata": {},
   "outputs": [],
   "source": [
    "print(Y_predSC.shape)"
   ]
  },
  {
   "cell_type": "markdown",
   "metadata": {},
   "source": [
    "# Normalize"
   ]
  },
  {
   "cell_type": "code",
   "execution_count": null,
   "metadata": {},
   "outputs": [],
   "source": [
    "from sklearn.preprocessing import normalize\n",
    "X_trainN = normalize(X_train, norm='l2')\n",
    "X_validN = normalize(X_valid, norm='l2')"
   ]
  },
  {
   "cell_type": "code",
   "execution_count": null,
   "metadata": {},
   "outputs": [],
   "source": [
    "results = MLP_Search(alphas,activation,solver,h,maxiter,X_trainN, X_validN, Y_train, Y_valid)\n",
    "best_params_N = FindBestScore(results)\n",
    "\n",
    "# alpha 0.001 tanh adam learning rate = constant hidden layer 900 Inter 1000 score 0.47"
   ]
  },
  {
   "cell_type": "code",
   "execution_count": null,
   "metadata": {},
   "outputs": [],
   "source": [
    "#Best score relu adam hidden layer = 300 Iter 1000 learning rate = constant score=0.66 \n",
    "clf = MLPClassifier(hidden_layer_sizes=(best_params_N[\"h\"]), max_iter=maxiter, alpha=best_params_N[\"alpha\"],solver=best_params_N[\"solver\"],activation=best_params_N[\"mode\"],tol=1e-9,verbose=False)\n",
    "clf.fit(X_trainN, Y_train)\n",
    "Y_predN = clf.predict(X_validN)\n",
    "LC = clf.loss_curve_\n",
    "Statistic(Y_valid,Y_predN,\"MLP N\")\n",
    "plotLC(LC,best_params_N)"
   ]
  },
  {
   "cell_type": "markdown",
   "metadata": {},
   "source": [
    "# MinMaxscaler"
   ]
  },
  {
   "cell_type": "code",
   "execution_count": null,
   "metadata": {},
   "outputs": [],
   "source": [
    "min_max_scaler = MinMaxScaler()\n",
    "X_train_minmax = min_max_scaler.fit_transform(X_train)\n",
    "X_Valid_minmax = min_max_scaler.fit_transform(X_valid)"
   ]
  },
  {
   "cell_type": "code",
   "execution_count": null,
   "metadata": {},
   "outputs": [],
   "source": [
    "results = MLP_Search(alphas,activation,solver,h,maxiter,X_train_minmax, X_Valid_minmax, Y_train, Y_valid)\n",
    "best_params_minmax = FindBestScore(results)\n",
    "# alpha 0.001 tanh adam learning rate = constant hidden layer 900 Inter 1000 score 0.61"
   ]
  },
  {
   "cell_type": "code",
   "execution_count": null,
   "metadata": {},
   "outputs": [],
   "source": [
    "#Best score relu adam hidden layer = 300 Iter 1000 learning rate = constant score=0.66 \n",
    "clf = MLPClassifier(hidden_layer_sizes=(best_params_minmax[\"h\"]), max_iter=maxiter, alpha=best_params_minmax[\"alpha\"],solver=best_params_minmax[\"solver\"],activation=best_params_minmax[\"mode\"],tol=1e-9,verbose=False)\n",
    "clf.fit(X_trainN, Y_train)\n",
    "Y_pred_minmax = clf.predict(X_Valid_minmax)\n",
    "LC = clf.loss_curve_\n",
    "Statistic(Y_valid,Y_pred_minmax,\"MLP minmax\")\n",
    "plotLC(LC,best_params_minmax)"
   ]
  },
  {
   "cell_type": "markdown",
   "metadata": {},
   "source": [
    "# quantile_transformer"
   ]
  },
  {
   "cell_type": "code",
   "execution_count": null,
   "metadata": {},
   "outputs": [],
   "source": [
    "quantile_transformer = QuantileTransformer(random_state=0)\n",
    "X_train_trans = quantile_transformer.fit_transform(X_train)\n",
    "X_Valid_trans = quantile_transformer.transform(X_valid)\n"
   ]
  },
  {
   "cell_type": "code",
   "execution_count": null,
   "metadata": {},
   "outputs": [],
   "source": [
    "results = MLP_Search(alphas,activation,solver,h,maxiter,X_train_trans, X_Valid_trans, Y_train, Y_valid)\n",
    "best_params_trans = FindBestScore(results)\n",
    "# alpha 0.001 tanh adam learning rate = constant hidden layer 900 Inter 1000 score 0.65"
   ]
  },
  {
   "cell_type": "code",
   "execution_count": null,
   "metadata": {},
   "outputs": [],
   "source": [
    "#Best score relu adam hidden layer = 300 Iter 1000 learning rate = constant score=0.66 \n",
    "clf = MLPClassifier(hidden_layer_sizes=(best_params_trans[\"h\"]), max_iter=maxiter, alpha=best_params_trans[\"alpha\"],solver=best_params_trans[\"solver\"],activation=best_params_trans[\"mode\"],tol=1e-9,verbose=False)\n",
    "clf.fit(X_trainN, Y_train)\n",
    "Y_pred_trans = clf.predict(X_Valid_trans)\n",
    "LC = clf.loss_curve_\n",
    "Statistic(Y_valid,Y_pred_trans,\"MLP trans\")\n",
    "plotLC(LC,best_params_trans)"
   ]
  },
  {
   "cell_type": "code",
   "execution_count": null,
   "metadata": {},
   "outputs": [],
   "source": []
  },
  {
   "cell_type": "code",
   "execution_count": 2,
   "metadata": {},
   "outputs": [],
   "source": [
    "df = pd.read_csv('Datasets/amazon/amazon_review_ID.shuf.lrn.csv')\n",
    "\n",
    "from sklearn.preprocessing import StandardScaler\n",
    "scaler = StandardScaler()\n",
    "scaler.fit(df.drop('Class', axis=1))\n",
    "scaled_features = scaler.transform(df.drop('Class', axis=1))\n",
    "df_feat = pd.DataFrame(scaled_features, columns=df.columns[:-1])\n",
    "\n",
    "df_test = pd.read_csv('Datasets/amazon/amazon_review_ID.shuf.tes.csv')\n",
    "df_test_feat = pd.DataFrame(df_test, columns=df.columns[:-1])\n",
    "\n",
    "X_train = df_feat\n",
    "X_test = df_test_feat\n",
    "X_test = scaler.transform(X_test)\n",
    "y_train = df['Class']\n",
    "\n",
    "quantile_transformer = QuantileTransformer(random_state=0)\n",
    "X_train_trans = quantile_transformer.fit_transform(X_train)\n",
    "X_test_trans = quantile_transformer.transform(X_test)\n"
   ]
  },
  {
   "cell_type": "code",
   "execution_count": null,
   "metadata": {},
   "outputs": [],
   "source": [
    "X_test"
   ]
  },
  {
   "cell_type": "code",
   "execution_count": 3,
   "metadata": {},
   "outputs": [
    {
     "output_type": "stream",
     "name": "stdout",
     "text": "Iteration 1, loss = 4.19922463\nIteration 2, loss = 1.94218581\nIteration 3, loss = 0.45591279\nIteration 4, loss = 0.11004849\nIteration 5, loss = 0.02774336\nIteration 6, loss = 0.01482367\nIteration 7, loss = 0.01023202\nIteration 8, loss = 0.00782130\nIteration 9, loss = 0.00699698\nIteration 10, loss = 0.00669165\nIteration 11, loss = 0.00653047\nIteration 12, loss = 0.00643187\nIteration 13, loss = 0.00637039\nIteration 14, loss = 0.00632517\nIteration 15, loss = 0.00629408\nIteration 16, loss = 0.00626947\nIteration 17, loss = 0.00625009\nIteration 18, loss = 0.00623413\nIteration 19, loss = 0.00621931\nIteration 20, loss = 0.00620634\nIteration 21, loss = 0.00619466\nIteration 22, loss = 0.00618326\nIteration 23, loss = 0.00617319\nIteration 24, loss = 0.00616315\nIteration 25, loss = 0.00615347\nIteration 26, loss = 0.00614419\nIteration 27, loss = 0.00613495\nIteration 28, loss = 0.00612585\nIteration 29, loss = 0.00611696\nIteration 30, loss = 0.00610835\nIteration 31, loss = 0.00609973\nIteration 32, loss = 0.00609093\nIteration 33, loss = 0.00608261\nIteration 34, loss = 0.00607396\nIteration 35, loss = 0.00606551\nIteration 36, loss = 0.00605715\nIteration 37, loss = 0.00604884\nIteration 38, loss = 0.00604037\nIteration 39, loss = 0.00603203\nIteration 40, loss = 0.00602369\nIteration 41, loss = 0.00601532\nIteration 42, loss = 0.00600696\nIteration 43, loss = 0.00599871\nIteration 44, loss = 0.00599037\nIteration 45, loss = 0.00598200\nIteration 46, loss = 0.00597376\nIteration 47, loss = 0.00596537\nIteration 48, loss = 0.00595709\nIteration 49, loss = 0.00594877\nIteration 50, loss = 0.00594038\nIteration 51, loss = 0.00593215\nIteration 52, loss = 0.00592372\nIteration 53, loss = 0.00591541\nIteration 54, loss = 0.00590705\nIteration 55, loss = 0.00589876\nIteration 56, loss = 0.00589040\nIteration 57, loss = 0.00588198\nIteration 58, loss = 0.00587367\nIteration 59, loss = 0.00586526\nIteration 60, loss = 0.00585692\nIteration 61, loss = 0.00584858\nIteration 62, loss = 0.00584012\nIteration 63, loss = 0.00583183\nIteration 64, loss = 0.00582342\nIteration 65, loss = 0.00581500\nIteration 66, loss = 0.00580664\nIteration 67, loss = 0.00579824\nIteration 68, loss = 0.00578982\nIteration 69, loss = 0.00578147\nIteration 70, loss = 0.00577304\nIteration 71, loss = 0.00576464\nIteration 72, loss = 0.00575626\nIteration 73, loss = 0.00574783\nIteration 74, loss = 0.00573937\nIteration 75, loss = 0.00573096\nIteration 76, loss = 0.00572250\nIteration 77, loss = 0.00571413\nIteration 78, loss = 0.00570571\nIteration 79, loss = 0.00569727\nIteration 80, loss = 0.00568884\nIteration 81, loss = 0.00568038\nIteration 82, loss = 0.00567196\nIteration 83, loss = 0.00566353\nIteration 84, loss = 0.00565507\nIteration 85, loss = 0.00564666\nIteration 86, loss = 0.00563821\nIteration 87, loss = 0.00562974\nIteration 88, loss = 0.00562126\nIteration 89, loss = 0.00561280\nIteration 90, loss = 0.00560432\nIteration 91, loss = 0.00559590\nIteration 92, loss = 0.00558738\nIteration 93, loss = 0.00557898\nIteration 94, loss = 0.00557046\nIteration 95, loss = 0.00556198\nIteration 96, loss = 0.00555348\nIteration 97, loss = 0.00554502\nIteration 98, loss = 0.00553654\nIteration 99, loss = 0.00552804\nIteration 100, loss = 0.00551954\nIteration 101, loss = 0.00551108\nIteration 102, loss = 0.00550257\nIteration 103, loss = 0.00549408\nIteration 104, loss = 0.00548561\nIteration 105, loss = 0.00547712\nIteration 106, loss = 0.00546861\nIteration 107, loss = 0.00546014\nIteration 108, loss = 0.00545162\nIteration 109, loss = 0.00544313\nIteration 110, loss = 0.00543461\nIteration 111, loss = 0.00542615\nIteration 112, loss = 0.00541762\nIteration 113, loss = 0.00540913\nIteration 114, loss = 0.00540063\nIteration 115, loss = 0.00539211\nIteration 116, loss = 0.00538363\nIteration 117, loss = 0.00537510\nIteration 118, loss = 0.00536662\nIteration 119, loss = 0.00535811\nIteration 120, loss = 0.00534959\nIteration 121, loss = 0.00534112\nIteration 122, loss = 0.00533258\nIteration 123, loss = 0.00532410\nIteration 124, loss = 0.00531560\nIteration 125, loss = 0.00530712\nIteration 126, loss = 0.00529861\nIteration 127, loss = 0.00529012\nIteration 128, loss = 0.00528162\nIteration 129, loss = 0.00527315\nIteration 130, loss = 0.00526465\nIteration 131, loss = 0.00525616\nIteration 132, loss = 0.00524768\nIteration 133, loss = 0.00523919\nIteration 134, loss = 0.00523072\nIteration 135, loss = 0.00522226\nIteration 136, loss = 0.00521376\nIteration 137, loss = 0.00520528\nIteration 138, loss = 0.00519681\nIteration 139, loss = 0.00518834\nIteration 140, loss = 0.00517987\nIteration 141, loss = 0.00517141\nIteration 142, loss = 0.00516294\nIteration 143, loss = 0.00515447\nIteration 144, loss = 0.00514601\nIteration 145, loss = 0.00513755\nIteration 146, loss = 0.00512910\nIteration 147, loss = 0.00512065\nIteration 148, loss = 0.00511221\nIteration 149, loss = 0.00510376\nIteration 150, loss = 0.00509532\nIteration 151, loss = 0.00508689\nIteration 152, loss = 0.00507843\nIteration 153, loss = 0.00507001\nIteration 154, loss = 0.00506157\nIteration 155, loss = 0.00505315\nIteration 156, loss = 0.00504471\nIteration 157, loss = 0.00503629\nIteration 158, loss = 0.00502788\nIteration 159, loss = 0.00501946\nIteration 160, loss = 0.00501104\nIteration 161, loss = 0.00500263\nIteration 162, loss = 0.00499424\nIteration 163, loss = 0.00498584\nIteration 164, loss = 0.00497744\nIteration 165, loss = 0.00496906\nIteration 166, loss = 0.00496067\nIteration 167, loss = 0.00495230\nIteration 168, loss = 0.00494392\nIteration 169, loss = 0.00493556\nIteration 170, loss = 0.00492719\nIteration 171, loss = 0.00491882\nIteration 172, loss = 0.00491044\nIteration 173, loss = 0.00490211\nIteration 174, loss = 0.00489375\nIteration 175, loss = 0.00488541\nIteration 176, loss = 0.00487707\nIteration 177, loss = 0.00486874\nIteration 178, loss = 0.00486041\nIteration 179, loss = 0.00485209\nIteration 180, loss = 0.00484377\nIteration 181, loss = 0.00483546\nIteration 182, loss = 0.00482717\nIteration 183, loss = 0.00481886\nIteration 184, loss = 0.00481056\nIteration 185, loss = 0.00480227\nIteration 186, loss = 0.00479399\nIteration 187, loss = 0.00478573\nIteration 188, loss = 0.00477743\nIteration 189, loss = 0.00476917\nIteration 190, loss = 0.00476092\nIteration 191, loss = 0.00475265\nIteration 192, loss = 0.00474441\nIteration 193, loss = 0.00473617\nIteration 194, loss = 0.00472793\nIteration 195, loss = 0.00471970\nIteration 196, loss = 0.00471147\nIteration 197, loss = 0.00470326\nIteration 198, loss = 0.00469507\nIteration 199, loss = 0.00468685\nIteration 200, loss = 0.00467865\n"
    }
   ],
   "source": [
    "clf = MLPClassifier(hidden_layer_sizes=(1000), max_iter=200, alpha=0.001,solver=\"adam\",activation=\"relu\",tol = 1e-9,verbose=True)\n",
    "clf.fit(X_train_trans, y_train)\n",
    "Y_pred = clf.predict(X_test_trans)\n",
    "#accuracy_score(y_train, Y_pred)"
   ]
  },
  {
   "cell_type": "code",
   "execution_count": 1,
   "metadata": {},
   "outputs": [],
   "source": [
    "from sklearn.ensemble import RandomForestClassifier as RFC"
   ]
  },
  {
   "cell_type": "code",
   "execution_count": 8,
   "metadata": {},
   "outputs": [
    {
     "output_type": "stream",
     "name": "stdout",
     "text": "100\noob score: 0.43866666666666665\nmax depth: 56\n------------------------------\n200\noob score: 0.532\nmax depth: 57\n------------------------------\n300\noob score: 0.5746666666666667\nmax depth: 66\n------------------------------\n400\noob score: 0.5973333333333334\nmax depth: 62\n------------------------------\n500\noob score: 0.6026666666666667\nmax depth: 64\n------------------------------\n600\noob score: 0.6386666666666667\nmax depth: 62\n------------------------------\n700\noob score: 0.6453333333333333\nmax depth: 66\n------------------------------\n800\noob score: 0.644\nmax depth: 65\n------------------------------\n900\noob score: 0.6706666666666666\nmax depth: 64\n------------------------------\n1000\noob score: 0.6733333333333333\nmax depth: 60\n------------------------------\n"
    }
   ],
   "source": [
    "oob_scores = [0]\n",
    "valid_scores = [0]\n",
    "best_params = None\n",
    "for n_ests in range(100,1000+1,100):\n",
    "    print(n_ests)\n",
    "    rf = RFC(n_jobs=-1, bootstrap=True, oob_score=True, n_estimators=n_ests, max_features=\"auto\")#, max_depth=max_depth, min_samples_leaf=min_samples_leaf, min_samples_split=min_samples_split,verbose=0)\n",
    "\n",
    "    rf.fit(X_train, y_train)\n",
    "   \n",
    "    print(\"oob score:\", rf.oob_score_)\n",
    "    print(\"max depth:\", max([estimator.get_depth() for estimator in rf.estimators_]))\n",
    "    Y_pred = rf.predict(X_train)\n",
    "    #score = accuracy_score(Y_valid, Y_pred)\n",
    "    #print(f\"number of validation samples: {X_valid.shape[0]}\")\n",
    "    #print(f\"accuracy: {score*100:.2f}% --> {accuracy_score(Y_valid, Y_pred, normalize=False)}\")\n",
    "    #print(f\"traintime: {traintime}s\")\n",
    "    print(\"-\"*30)\n",
    "    "
   ]
  },
  {
   "cell_type": "code",
   "execution_count": 16,
   "metadata": {},
   "outputs": [],
   "source": [
    "rf = RFC(n_jobs=-1, bootstrap=True, oob_score=True, n_estimators=1000, max_features=\"auto\")\n",
    "rf.fit(X_train, y_train)\n",
    "Y_pred = rf.predict(X_train)"
   ]
  },
  {
   "cell_type": "code",
   "execution_count": null,
   "metadata": {},
   "outputs": [],
   "source": []
  },
  {
   "cell_type": "code",
   "execution_count": null,
   "metadata": {},
   "outputs": [],
   "source": []
  },
  {
   "cell_type": "code",
   "execution_count": 16,
   "metadata": {},
   "outputs": [],
   "source": [
    "solution_data = list(zip(list(range(750,1500)), Y_pred))"
   ]
  },
  {
   "cell_type": "code",
   "execution_count": 17,
   "metadata": {},
   "outputs": [
    {
     "output_type": "execute_result",
     "data": {
      "text/plain": "    ID        Class\n0  750  Blankenship\n1  751        Hayes\n2  752       Goonan\n3  753         Dent\n4  754     Engineer",
      "text/html": "<div>\n<style scoped>\n    .dataframe tbody tr th:only-of-type {\n        vertical-align: middle;\n    }\n\n    .dataframe tbody tr th {\n        vertical-align: top;\n    }\n\n    .dataframe thead th {\n        text-align: right;\n    }\n</style>\n<table border=\"1\" class=\"dataframe\">\n  <thead>\n    <tr style=\"text-align: right;\">\n      <th></th>\n      <th>ID</th>\n      <th>Class</th>\n    </tr>\n  </thead>\n  <tbody>\n    <tr>\n      <th>0</th>\n      <td>750</td>\n      <td>Blankenship</td>\n    </tr>\n    <tr>\n      <th>1</th>\n      <td>751</td>\n      <td>Hayes</td>\n    </tr>\n    <tr>\n      <th>2</th>\n      <td>752</td>\n      <td>Goonan</td>\n    </tr>\n    <tr>\n      <th>3</th>\n      <td>753</td>\n      <td>Dent</td>\n    </tr>\n    <tr>\n      <th>4</th>\n      <td>754</td>\n      <td>Engineer</td>\n    </tr>\n  </tbody>\n</table>\n</div>"
     },
     "metadata": {},
     "execution_count": 17
    }
   ],
   "source": [
    "solution_table = pd.DataFrame(solution_data, columns=['ID', 'Class'])\n",
    "solution_table.head()"
   ]
  },
  {
   "cell_type": "code",
   "execution_count": 18,
   "metadata": {},
   "outputs": [
    {
     "output_type": "execute_result",
     "data": {
      "text/plain": "       ID        Class\n0     750  Blankenship\n1     751        Hayes\n2     752       Goonan\n3     753         Dent\n4     754     Engineer\n..    ...          ...\n745  1495         Corn\n746  1496      Agresti\n747  1497    Lawyeraau\n748  1498        Grove\n749  1499       Janson\n\n[750 rows x 2 columns]",
      "text/html": "<div>\n<style scoped>\n    .dataframe tbody tr th:only-of-type {\n        vertical-align: middle;\n    }\n\n    .dataframe tbody tr th {\n        vertical-align: top;\n    }\n\n    .dataframe thead th {\n        text-align: right;\n    }\n</style>\n<table border=\"1\" class=\"dataframe\">\n  <thead>\n    <tr style=\"text-align: right;\">\n      <th></th>\n      <th>ID</th>\n      <th>Class</th>\n    </tr>\n  </thead>\n  <tbody>\n    <tr>\n      <th>0</th>\n      <td>750</td>\n      <td>Blankenship</td>\n    </tr>\n    <tr>\n      <th>1</th>\n      <td>751</td>\n      <td>Hayes</td>\n    </tr>\n    <tr>\n      <th>2</th>\n      <td>752</td>\n      <td>Goonan</td>\n    </tr>\n    <tr>\n      <th>3</th>\n      <td>753</td>\n      <td>Dent</td>\n    </tr>\n    <tr>\n      <th>4</th>\n      <td>754</td>\n      <td>Engineer</td>\n    </tr>\n    <tr>\n      <th>...</th>\n      <td>...</td>\n      <td>...</td>\n    </tr>\n    <tr>\n      <th>745</th>\n      <td>1495</td>\n      <td>Corn</td>\n    </tr>\n    <tr>\n      <th>746</th>\n      <td>1496</td>\n      <td>Agresti</td>\n    </tr>\n    <tr>\n      <th>747</th>\n      <td>1497</td>\n      <td>Lawyeraau</td>\n    </tr>\n    <tr>\n      <th>748</th>\n      <td>1498</td>\n      <td>Grove</td>\n    </tr>\n    <tr>\n      <th>749</th>\n      <td>1499</td>\n      <td>Janson</td>\n    </tr>\n  </tbody>\n</table>\n<p>750 rows × 2 columns</p>\n</div>"
     },
     "metadata": {},
     "execution_count": 18
    }
   ],
   "source": [
    "solution_table"
   ]
  },
  {
   "cell_type": "code",
   "execution_count": 21,
   "metadata": {},
   "outputs": [],
   "source": [
    "solution_table.to_csv(f\"results/Amazon/SC_am_sol_QT.csv\", index=False)"
   ]
  },
  {
   "cell_type": "code",
   "execution_count": 3,
   "metadata": {},
   "outputs": [],
   "source": [
    "solution_table_ref = pd.read_csv('results/Amazon/SC_am_sol.csv')\n",
    "solution_table = pd.read_csv('results/Amazon/SC_am_sol_1000x3.csv')"
   ]
  },
  {
   "cell_type": "code",
   "execution_count": 4,
   "metadata": {},
   "outputs": [
    {
     "output_type": "execute_result",
     "data": {
      "text/plain": "       ID        Class\n0     750  Blankenship\n1     751        Hayes\n2     752       Goonan\n3     753      Agresti\n4     754     Engineer\n..    ...          ...\n745  1495     Cholette\n746  1496      Agresti\n747  1497       Janson\n748  1498        Grove\n749  1499       Janson\n\n[750 rows x 2 columns]",
      "text/html": "<div>\n<style scoped>\n    .dataframe tbody tr th:only-of-type {\n        vertical-align: middle;\n    }\n\n    .dataframe tbody tr th {\n        vertical-align: top;\n    }\n\n    .dataframe thead th {\n        text-align: right;\n    }\n</style>\n<table border=\"1\" class=\"dataframe\">\n  <thead>\n    <tr style=\"text-align: right;\">\n      <th></th>\n      <th>ID</th>\n      <th>Class</th>\n    </tr>\n  </thead>\n  <tbody>\n    <tr>\n      <th>0</th>\n      <td>750</td>\n      <td>Blankenship</td>\n    </tr>\n    <tr>\n      <th>1</th>\n      <td>751</td>\n      <td>Hayes</td>\n    </tr>\n    <tr>\n      <th>2</th>\n      <td>752</td>\n      <td>Goonan</td>\n    </tr>\n    <tr>\n      <th>3</th>\n      <td>753</td>\n      <td>Agresti</td>\n    </tr>\n    <tr>\n      <th>4</th>\n      <td>754</td>\n      <td>Engineer</td>\n    </tr>\n    <tr>\n      <th>...</th>\n      <td>...</td>\n      <td>...</td>\n    </tr>\n    <tr>\n      <th>745</th>\n      <td>1495</td>\n      <td>Cholette</td>\n    </tr>\n    <tr>\n      <th>746</th>\n      <td>1496</td>\n      <td>Agresti</td>\n    </tr>\n    <tr>\n      <th>747</th>\n      <td>1497</td>\n      <td>Janson</td>\n    </tr>\n    <tr>\n      <th>748</th>\n      <td>1498</td>\n      <td>Grove</td>\n    </tr>\n    <tr>\n      <th>749</th>\n      <td>1499</td>\n      <td>Janson</td>\n    </tr>\n  </tbody>\n</table>\n<p>750 rows × 2 columns</p>\n</div>"
     },
     "metadata": {},
     "execution_count": 4
    }
   ],
   "source": [
    "solution_table_ref"
   ]
  },
  {
   "cell_type": "code",
   "execution_count": 10,
   "metadata": {},
   "outputs": [
    {
     "output_type": "stream",
     "name": "stdout",
     "text": "376 374\n"
    },
    {
     "output_type": "execute_result",
     "data": {
      "text/plain": "0.5013333333333333"
     },
     "metadata": {},
     "execution_count": 10
    }
   ],
   "source": [
    "tr = 0\n",
    "fl = 0\n",
    "for i in range(len(solution_table)):\n",
    "    if (solution_table.Class[i] == solution_table_ref.Class[i]):\n",
    "        #print(i,\"True\")\n",
    "        tr = tr + 1\n",
    "    else:\n",
    "        #print(i,\"False\")\n",
    "        fl = fl + 1\n",
    "print(tr,fl)\n",
    "tr/len(solution_table)"
   ]
  },
  {
   "cell_type": "code",
   "execution_count": null,
   "metadata": {},
   "outputs": [],
   "source": [
    "Class_description[int(solution_table.Class[0])]"
   ]
  },
  {
   "cell_type": "code",
   "execution_count": null,
   "metadata": {},
   "outputs": [],
   "source": []
  },
  {
   "cell_type": "code",
   "execution_count": null,
   "metadata": {},
   "outputs": [],
   "source": [
    "print(df.Class[750:1500])"
   ]
  },
  {
   "cell_type": "code",
   "execution_count": null,
   "metadata": {},
   "outputs": [],
   "source": [
    "for i in range(0,len(solution_table.Class)):\n",
    "    #df.Class[df.Class == Class_description[i]] = i+1\n",
    "    #solution_table[[\"Class\"]] = Class_description[int(solution_table.Class[i])]\n",
    "    print(i,Class_description[int(solution_table.Class[i])])\n",
    "    #print(Class_description[int(solution_table.Class[i])])"
   ]
  },
  {
   "cell_type": "code",
   "execution_count": null,
   "metadata": {},
   "outputs": [],
   "source": []
  }
 ],
 "metadata": {
  "language_info": {
   "codemirror_mode": {
    "name": "ipython",
    "version": 3
   },
   "file_extension": ".py",
   "mimetype": "text/x-python",
   "name": "python",
   "nbconvert_exporter": "python",
   "pygments_lexer": "ipython3",
   "version": "3.7.5-final"
  },
  "orig_nbformat": 2,
  "kernelspec": {
   "name": "python37564bitb5f188b5fd4549769c9ea1e1a366fa0d",
   "display_name": "Python 3.7.5 64-bit"
  }
 },
 "nbformat": 4,
 "nbformat_minor": 2
}