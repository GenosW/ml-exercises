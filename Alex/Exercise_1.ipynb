{
 "cells": [
  {
   "cell_type": "markdown",
   "metadata": {},
   "source": [
    "# 1) Data Prediction:\n",
    "## Choose 4 different methods of regression \n",
    "### a) linear regression\n",
    "### b) polinominal regression"
   ]
  },
  {
   "cell_type": "markdown",
   "metadata": {},
   "source": [
    "# Load the first dataset"
   ]
  },
  {
   "cell_type": "code",
   "execution_count": 1,
   "metadata": {},
   "outputs": [],
   "source": [
    "import numpy as np\n",
    "import pandas as pd\n",
    "import glob\n",
    "import matplotlib.pyplot as plt\n",
    "import seaborn as sns\n",
    "\n",
    "\n",
    "from sklearn.model_selection import train_test_split\n",
    "from sklearn.linear_model import LinearRegression\n",
    "from sklearn import linear_model"
   ]
  },
  {
   "cell_type": "code",
   "execution_count": 11,
   "metadata": {},
   "outputs": [
    {
     "name": "stdout",
     "output_type": "stream",
     "text": [
      "     Team League  Year   RS   RA    W    OBP    SLG     BA  Playoffs  \\\n",
      "0     ARI     NL  2012  734  688   81  0.328  0.418  0.259         0   \n",
      "1     ATL     NL  2012  700  600   94  0.320  0.389  0.247         1   \n",
      "2     BAL     AL  2012  712  705   93  0.311  0.417  0.247         1   \n",
      "3     BOS     AL  2012  734  806   69  0.315  0.415  0.260         0   \n",
      "4     CHC     NL  2012  613  759   61  0.302  0.378  0.240         0   \n",
      "...   ...    ...   ...  ...  ...  ...    ...    ...    ...       ...   \n",
      "1227  PHI     NL  1962  705  759   81  0.330  0.390  0.260         0   \n",
      "1228  PIT     NL  1962  706  626   93  0.321  0.394  0.268         0   \n",
      "1229  SFG     NL  1962  878  690  103  0.341  0.441  0.278         1   \n",
      "1230  STL     NL  1962  774  664   84  0.335  0.394  0.271         0   \n",
      "1231  WSA     AL  1962  599  716   60  0.308  0.373  0.250         0   \n",
      "\n",
      "     RankSeason RankPlayoffs    G   OOBP                 OSLG  \n",
      "0             ?            ?  162  0.317                0.415  \n",
      "1             4            5  162  0.306  0.37799999999999995  \n",
      "2             5            4  162  0.315  0.40299999999999997  \n",
      "3             ?            ?  162  0.331                0.428  \n",
      "4             ?            ?  162  0.335                0.424  \n",
      "...         ...          ...  ...    ...                  ...  \n",
      "1227          ?            ?  161      ?                    ?  \n",
      "1228          ?            ?  161      ?                    ?  \n",
      "1229          1            2  165      ?                    ?  \n",
      "1230          ?            ?  163      ?                    ?  \n",
      "1231          ?            ?  162      ?                    ?  \n",
      "\n",
      "[1232 rows x 15 columns]\n"
     ]
    }
   ],
   "source": [
    "input_file = 'Moneyball.csv'\n",
    "Mb_data = pd.read_csv(input_file,  sep = ',', header = 0)\n",
    "print(Mb_data)"
   ]
  },
  {
   "cell_type": "code",
   "execution_count": 74,
   "metadata": {},
   "outputs": [
    {
     "data": {
      "text/html": [
       "<div>\n",
       "<style scoped>\n",
       "    .dataframe tbody tr th:only-of-type {\n",
       "        vertical-align: middle;\n",
       "    }\n",
       "\n",
       "    .dataframe tbody tr th {\n",
       "        vertical-align: top;\n",
       "    }\n",
       "\n",
       "    .dataframe thead th {\n",
       "        text-align: right;\n",
       "    }\n",
       "</style>\n",
       "<table border=\"1\" class=\"dataframe\">\n",
       "  <thead>\n",
       "    <tr style=\"text-align: right;\">\n",
       "      <th></th>\n",
       "      <th>RS</th>\n",
       "      <th>RA</th>\n",
       "      <th>W</th>\n",
       "      <th>OBP</th>\n",
       "      <th>SLG</th>\n",
       "      <th>BA</th>\n",
       "      <th>OOBP</th>\n",
       "      <th>OSLG</th>\n",
       "    </tr>\n",
       "  </thead>\n",
       "  <tbody>\n",
       "    <tr>\n",
       "      <th>0</th>\n",
       "      <td>734</td>\n",
       "      <td>688</td>\n",
       "      <td>81</td>\n",
       "      <td>0.328</td>\n",
       "      <td>0.418</td>\n",
       "      <td>0.259</td>\n",
       "      <td>0.317</td>\n",
       "      <td>0.415</td>\n",
       "    </tr>\n",
       "    <tr>\n",
       "      <th>1</th>\n",
       "      <td>700</td>\n",
       "      <td>600</td>\n",
       "      <td>94</td>\n",
       "      <td>0.320</td>\n",
       "      <td>0.389</td>\n",
       "      <td>0.247</td>\n",
       "      <td>0.306</td>\n",
       "      <td>0.37799999999999995</td>\n",
       "    </tr>\n",
       "    <tr>\n",
       "      <th>2</th>\n",
       "      <td>712</td>\n",
       "      <td>705</td>\n",
       "      <td>93</td>\n",
       "      <td>0.311</td>\n",
       "      <td>0.417</td>\n",
       "      <td>0.247</td>\n",
       "      <td>0.315</td>\n",
       "      <td>0.40299999999999997</td>\n",
       "    </tr>\n",
       "    <tr>\n",
       "      <th>3</th>\n",
       "      <td>734</td>\n",
       "      <td>806</td>\n",
       "      <td>69</td>\n",
       "      <td>0.315</td>\n",
       "      <td>0.415</td>\n",
       "      <td>0.260</td>\n",
       "      <td>0.331</td>\n",
       "      <td>0.428</td>\n",
       "    </tr>\n",
       "    <tr>\n",
       "      <th>4</th>\n",
       "      <td>613</td>\n",
       "      <td>759</td>\n",
       "      <td>61</td>\n",
       "      <td>0.302</td>\n",
       "      <td>0.378</td>\n",
       "      <td>0.240</td>\n",
       "      <td>0.335</td>\n",
       "      <td>0.424</td>\n",
       "    </tr>\n",
       "    <tr>\n",
       "      <th>...</th>\n",
       "      <td>...</td>\n",
       "      <td>...</td>\n",
       "      <td>...</td>\n",
       "      <td>...</td>\n",
       "      <td>...</td>\n",
       "      <td>...</td>\n",
       "      <td>...</td>\n",
       "      <td>...</td>\n",
       "    </tr>\n",
       "    <tr>\n",
       "      <th>415</th>\n",
       "      <td>872</td>\n",
       "      <td>831</td>\n",
       "      <td>86</td>\n",
       "      <td>0.356</td>\n",
       "      <td>0.434</td>\n",
       "      <td>0.271</td>\n",
       "      <td>0.345</td>\n",
       "      <td>0.423</td>\n",
       "    </tr>\n",
       "    <tr>\n",
       "      <th>416</th>\n",
       "      <td>809</td>\n",
       "      <td>838</td>\n",
       "      <td>75</td>\n",
       "      <td>0.338</td>\n",
       "      <td>0.426</td>\n",
       "      <td>0.262</td>\n",
       "      <td>0.355</td>\n",
       "      <td>0.42700000000000005</td>\n",
       "    </tr>\n",
       "    <tr>\n",
       "      <th>417</th>\n",
       "      <td>772</td>\n",
       "      <td>913</td>\n",
       "      <td>69</td>\n",
       "      <td>0.343</td>\n",
       "      <td>0.411</td>\n",
       "      <td>0.274</td>\n",
       "      <td>0.371</td>\n",
       "      <td>0.44799999999999995</td>\n",
       "    </tr>\n",
       "    <tr>\n",
       "      <th>418</th>\n",
       "      <td>945</td>\n",
       "      <td>859</td>\n",
       "      <td>95</td>\n",
       "      <td>0.361</td>\n",
       "      <td>0.479</td>\n",
       "      <td>0.293</td>\n",
       "      <td>0.34600000000000003</td>\n",
       "      <td>0.45899999999999996</td>\n",
       "    </tr>\n",
       "    <tr>\n",
       "      <th>419</th>\n",
       "      <td>883</td>\n",
       "      <td>862</td>\n",
       "      <td>84</td>\n",
       "      <td>0.352</td>\n",
       "      <td>0.457</td>\n",
       "      <td>0.280</td>\n",
       "      <td>0.353</td>\n",
       "      <td>0.456</td>\n",
       "    </tr>\n",
       "  </tbody>\n",
       "</table>\n",
       "<p>420 rows × 8 columns</p>\n",
       "</div>"
      ],
      "text/plain": [
       "      RS   RA   W    OBP    SLG     BA                 OOBP  \\\n",
       "0    734  688  81  0.328  0.418  0.259                0.317   \n",
       "1    700  600  94  0.320  0.389  0.247                0.306   \n",
       "2    712  705  93  0.311  0.417  0.247                0.315   \n",
       "3    734  806  69  0.315  0.415  0.260                0.331   \n",
       "4    613  759  61  0.302  0.378  0.240                0.335   \n",
       "..   ...  ...  ..    ...    ...    ...                  ...   \n",
       "415  872  831  86  0.356  0.434  0.271                0.345   \n",
       "416  809  838  75  0.338  0.426  0.262                0.355   \n",
       "417  772  913  69  0.343  0.411  0.274                0.371   \n",
       "418  945  859  95  0.361  0.479  0.293  0.34600000000000003   \n",
       "419  883  862  84  0.352  0.457  0.280                0.353   \n",
       "\n",
       "                    OSLG  \n",
       "0                  0.415  \n",
       "1    0.37799999999999995  \n",
       "2    0.40299999999999997  \n",
       "3                  0.428  \n",
       "4                  0.424  \n",
       "..                   ...  \n",
       "415                0.423  \n",
       "416  0.42700000000000005  \n",
       "417  0.44799999999999995  \n",
       "418  0.45899999999999996  \n",
       "419                0.456  \n",
       "\n",
       "[420 rows x 8 columns]"
      ]
     },
     "execution_count": 74,
     "metadata": {},
     "output_type": "execute_result"
    }
   ],
   "source": [
    "cols_to_drop = ['Team', 'League','Year', 'Playoffs', 'G','RankPlayoffs','RankSeason']\n",
    "Mb_prep = Mb_data.drop(cols_to_drop, axis = 1)\n",
    "Mb_prep.replace(\"?\",0, inplace=True)\n",
    "Mb_prep = Mb_prep[Mb_prep.OOBP != 0]\n",
    "Mb_prep"
   ]
  },
  {
   "cell_type": "code",
   "execution_count": null,
   "metadata": {},
   "outputs": [],
   "source": [
    " \tRS \tRA \tW \tOBP \tSLG \tBA \tOOBP \tOSLG"
   ]
  },
  {
   "cell_type": "code",
   "execution_count": 44,
   "metadata": {},
   "outputs": [
    {
     "data": {
      "text/plain": [
       "<matplotlib.collections.PathCollection at 0x7f22bfe9c208>"
      ]
     },
     "execution_count": 44,
     "metadata": {},
     "output_type": "execute_result"
    },
    {
     "data": {
      "image/png": "[encoded data removed]",
      "text/plain": [
       "<Figure size 432x288 with 1 Axes>"
      ]
     },
     "metadata": {
      "needs_background": "light"
     },
     "output_type": "display_data"
    }
   ],
   "source": [
    "plt.scatter(Mb_prep.RA,Mb_prep.OOBP)"
   ]
  },
  {
   "cell_type": "code",
   "execution_count": 76,
   "metadata": {},
   "outputs": [
    {
     "name": "stdout",
     "output_type": "stream",
     "text": [
      "0                    0.317\n",
      "1                    0.306\n",
      "2                    0.315\n",
      "3                    0.331\n",
      "4                    0.335\n",
      "              ...         \n",
      "415                  0.345\n",
      "416                  0.355\n",
      "417                  0.371\n",
      "418    0.34600000000000003\n",
      "419                  0.353\n",
      "Name: OOBP, Length: 420, dtype: object\n",
      "      RS   RA   W    OBP    SLG     BA                 OOBP  \\\n",
      "0    734  688  81  0.328  0.418  0.259                0.317   \n",
      "1    700  600  94  0.320  0.389  0.247                0.306   \n",
      "2    712  705  93  0.311  0.417  0.247                0.315   \n",
      "3    734  806  69  0.315  0.415  0.260                0.331   \n",
      "4    613  759  61  0.302  0.378  0.240                0.335   \n",
      "..   ...  ...  ..    ...    ...    ...                  ...   \n",
      "415  872  831  86  0.356  0.434  0.271                0.345   \n",
      "416  809  838  75  0.338  0.426  0.262                0.355   \n",
      "417  772  913  69  0.343  0.411  0.274                0.371   \n",
      "418  945  859  95  0.361  0.479  0.293  0.34600000000000003   \n",
      "419  883  862  84  0.352  0.457  0.280                0.353   \n",
      "\n",
      "                    OSLG  OOBP_F  \n",
      "0                  0.415   0.317  \n",
      "1    0.37799999999999995   0.306  \n",
      "2    0.40299999999999997   0.315  \n",
      "3                  0.428   0.331  \n",
      "4                  0.424   0.335  \n",
      "..                   ...     ...  \n",
      "415                0.423   0.345  \n",
      "416  0.42700000000000005   0.355  \n",
      "417  0.44799999999999995   0.371  \n",
      "418  0.45899999999999996   0.346  \n",
      "419                0.456   0.353  \n",
      "\n",
      "[420 rows x 9 columns]\n"
     ]
    }
   ],
   "source": [
    "print(Mb_prep.OOBP)\n",
    "test = Mb_prep['OOBP'].astype('float')\n",
    "Mb_prep.insert(8, \"OOBP_F\", test, True)\n",
    "print(Mb_prep)\n",
    "#Mb_prep_df = pd.DataFrame(Mb_prep)\n",
    "#Mb_prep_df\n",
    "#pd.to_numeric(Mb_prep_df.OOBP)\n",
    "#print(pd.to_numeric(Mb_prep_df.OOBP))\n",
    "#Mb_target_df = pd.to_numeric(Mb_prep_df)\n",
    "#Mb_target_df"
   ]
  },
  {
   "cell_type": "code",
   "execution_count": 107,
   "metadata": {},
   "outputs": [
    {
     "data": {
      "text/plain": [
       "<seaborn.axisgrid.FacetGrid at 0x7f22c0297080>"
      ]
     },
     "execution_count": 107,
     "metadata": {},
     "output_type": "execute_result"
    },
    {
     "data": {
      "image/png": "[encoded data removed]",
      "text/plain": [
       "<Figure size 360x360 with 1 Axes>"
      ]
     },
     "metadata": {
      "needs_background": "light"
     },
     "output_type": "display_data"
    }
   ],
   "source": [
    "sns.lmplot(\"RA\",\"OOBP_F\",Mb_prep)"
   ]
  },
  {
   "cell_type": "code",
   "execution_count": 111,
   "metadata": {},
   "outputs": [],
   "source": [
    "Y = Mb_prep[['OOBP_F']]\n",
    "X = Mb_prep[['RA','RS']]"
   ]
  },
  {
   "cell_type": "code",
   "execution_count": 112,
   "metadata": {},
   "outputs": [
    {
     "data": {
      "text/plain": [
       "LinearRegression(copy_X=True, fit_intercept=True, n_jobs=None, normalize=False)"
      ]
     },
     "execution_count": 112,
     "metadata": {},
     "output_type": "execute_result"
    }
   ],
   "source": [
    "linreg = LinearRegression()\n",
    "linreg.fit(X,Y)"
   ]
  },
  {
   "cell_type": "code",
   "execution_count": 113,
   "metadata": {},
   "outputs": [
    {
     "name": "stdout",
     "output_type": "stream",
     "text": [
      "0.8310311384848796\n"
     ]
    }
   ],
   "source": [
    "linreg.coef_\n",
    "linreg.predict(X)\n",
    "score = linreg.score(X,Y)\n",
    "print(score)"
   ]
  },
  {
   "cell_type": "code",
   "execution_count": null,
   "metadata": {},
   "outputs": [],
   "source": []
  }
 ],
 "metadata": {
  "kernelspec": {
   "display_name": "Python 3",
   "language": "python",
   "name": "python3"
  },
  "language_info": {
   "codemirror_mode": {
    "name": "ipython",
    "version": 3
   },
   "file_extension": ".py",
   "mimetype": "text/x-python",
   "name": "python",
   "nbconvert_exporter": "python",
   "pygments_lexer": "ipython3",
   "version": "3.6.8"
  }
 },
 "nbformat": 4,
 "nbformat_minor": 4
}
