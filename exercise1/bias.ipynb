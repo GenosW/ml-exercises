{
 "cells": [
  {
   "cell_type": "markdown",
   "metadata": {},
   "source": [
    "# 1) Regression:\n",
    "## Choose 4 different methods of regression \n",
    "### a) linear regression\n",
    "### b) kNN\n",
    "### c) Lasso\n",
    "### d) random forest --> regression tree?\n"
   ]
  },
  {
   "cell_type": "code",
   "execution_count": null,
   "metadata": {},
   "outputs": [],
   "source": [
    "from random import uniform\n",
    "import sys\n",
    "import numpy as np\n",
    "import pandas as pd\n",
    "import glob\n",
    "import matplotlib.pyplot as plt\n",
    "import seaborn as sns\n",
    "\n",
    "print(sys.executable)\n",
    "\n",
    "from sklearn.model_selection import train_test_split\n",
    "from sklearn.linear_model import LinearRegression\n",
    "from sklearn import linear_model"
   ]
  },
  {
   "cell_type": "code",
   "execution_count": null,
   "metadata": {},
   "outputs": [],
   "source": [
    "# Might be good idea to have a function for dataset analysis --> standardized output\n",
    "# Just a prototype/idea for now\n",
    "def analyse_dataset(frame, name='not-given'):\n",
    "    print(f\"Analysis of <{name}>\")\n",
    "    print('-'*40)\n",
    "    print(\"Info:\")\n",
    "    print(frame.info())\n",
    "    print('-'*40)\n",
    "    print(\"Shape:\")\n",
    "    print(frame.shape)\n",
    "    print('-'*40)\n",
    "    print(\"Index:\")\n",
    "    print(frame.index)\n",
    "    print('-'*40)\n",
    "    print(\"Columns:\")\n",
    "    print(frame.columns)"
   ]
  },
  {
   "cell_type": "code",
   "execution_count": null,
   "metadata": {},
   "outputs": [],
   "source": [
    "dataset_name = 'Bias_correction_ucl.csv'\n",
    "print(\"Opening: \", input_file)\n",
    "data = pd.read_csv(dataset_name,  sep = ',')#, header = 0)\n",
    "print(data)"
   ]
  },
  {
   "cell_type": "code",
   "execution_count": null,
   "metadata": {},
   "outputs": [],
   "source": [
    "# Quick analysis\n",
    "print(f\"Analysis of <{dataset_name}>\")\n",
    "print('-'*40)\n",
    "print(\"Info:\")\n",
    "print(data.info())\n",
    "\n",
    "print(\"Columns:\")\n",
    "print(data.columns)"
   ]
  },
  {
   "cell_type": "code",
   "execution_count": null,
   "metadata": {},
   "outputs": [],
   "source": [
    "### PREPROCESSING ###\n",
    "\n",
    "# Some columns with unnecessary information can be dropped\n",
    "# In the current exercise the output variable chosen is: the next-day minimum temperature, so for now, the next-day maximum air temperature could also be dropped?\n",
    "\n",
    "cols_to_drop = ['station', 'Date', 'Next_Tmax']\n",
    "prep = data.drop(cols_to_drop, axis = 1)"
   ]
  }
 ],
 "metadata": {
  "language_info": {
   "codemirror_mode": {
    "name": "ipython",
    "version": 3
   },
   "file_extension": ".py",
   "mimetype": "text/x-python",
   "name": "python",
   "nbconvert_exporter": "python",
   "pygments_lexer": "ipython3",
   "version": "3.7.6-final"
  },
  "orig_nbformat": 2,
  "kernelspec": {
   "name": "python37664bit24de9dcde5da4d9f837ea055140cd15f",
   "display_name": "Python 3.7.6 64-bit"
  }
 },
 "nbformat": 4,
 "nbformat_minor": 2
}