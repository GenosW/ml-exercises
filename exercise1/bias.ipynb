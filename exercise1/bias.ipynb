{
 "cells": [
  {
   "cell_type": "markdown",
   "metadata": {},
   "source": [
    "# 1) Regression:\n",
    "## Choose 4 different methods of regression \n",
    "### a) random forest\n",
    "### b) linear regression\n",
    "### c) Lasso\n",
    "### d) kNN\n"
   ]
  },
  {
   "cell_type": "code",
   "execution_count": 1,
   "metadata": {},
   "outputs": [
    {
     "name": "stdout",
     "output_type": "stream",
     "text": [
      "/Library/Frameworks/Python.framework/Versions/3.7/bin/python3.7\n"
     ]
    }
   ],
   "source": [
    "# Basic imports\n",
    "import sys\n",
    "import math\n",
    "import numpy as np\n",
    "import pandas as pd\n",
    "import glob\n",
    "import matplotlib.pyplot as plt\n",
    "import seaborn as sns\n",
    "from IPython.display import display\n",
    "\n",
    "print(sys.executable)\n",
    "\n",
    "# models for random forest\n",
    "from sklearn.ensemble import RandomForestRegressor\n",
    "from IPython.display import display\n",
    "\n",
    "# models for linear regression\n",
    "from sklearn.linear_model import LinearRegression\n",
    "from sklearn import linear_model\n",
    "\n",
    "# models for Lasso regression\n",
    "from sklearn.linear_model import Lasso\n",
    "from sklearn.model_selection import GridSearchCV\n",
    "\n",
    "# models for kNN\n",
    "from sklearn.neighbors import KNeighborsRegressor\n",
    "\n",
    "# statistic tools\n",
    "from sklearn import metrics\n",
    "from statistics import stdev\n",
    "from sklearn.model_selection import GridSearchCV\n",
    "\n",
    "# preprocessing\n",
    "from sklearn import preprocessing\n",
    "from sklearn.model_selection import train_test_split"
   ]
  },
  {
   "cell_type": "code",
   "execution_count": 2,
   "metadata": {},
   "outputs": [],
   "source": [
    "# Might be good idea to have a function for dataset analysis --> standardized output\n",
    "# Just a prototype/idea for now\n",
    "def analyse_dataset(frame, name='not-given'):\n",
    "    print(f\"Analysis of <{name}>\")\n",
    "    print('-'*40)\n",
    "    print(\"Info:\")\n",
    "    print(frame.info())\n",
    "    print('-'*40)\n",
    "    print(\"Shape:\")\n",
    "    print(frame.shape)\n",
    "    print('-'*40)\n",
    "    print(\"Index:\")\n",
    "    print(frame.index)\n",
    "    print('-'*40)\n",
    "    print(\"Columns:\")\n",
    "    print(frame.columns)"
   ]
  },
  {
   "cell_type": "code",
   "execution_count": 3,
   "metadata": {
    "scrolled": true
   },
   "outputs": [
    {
     "name": "stdout",
     "output_type": "stream",
     "text": [
      "Opening:  Bias_correction_ucl.csv\n",
      "      station        Date  Present_Tmax  Present_Tmin  LDAPS_RHmin  \\\n",
      "0         1.0  2013-06-30          28.7          21.4    58.255688   \n",
      "1         2.0  2013-06-30          31.9          21.6    52.263397   \n",
      "2         3.0  2013-06-30          31.6          23.3    48.690479   \n",
      "3         4.0  2013-06-30          32.0          23.4    58.239788   \n",
      "4         5.0  2013-06-30          31.4          21.9    56.174095   \n",
      "...       ...         ...           ...           ...          ...   \n",
      "7747     23.0  2017-08-30          23.3          17.1    26.741310   \n",
      "7748     24.0  2017-08-30          23.3          17.7    24.040634   \n",
      "7749     25.0  2017-08-30          23.2          17.4    22.933014   \n",
      "7750      NaN         NaN          20.0          11.3    19.794666   \n",
      "7751      NaN         NaN          37.6          29.9    98.524734   \n",
      "\n",
      "      LDAPS_RHmax  LDAPS_Tmax_lapse  LDAPS_Tmin_lapse   LDAPS_WS    LDAPS_LH  \\\n",
      "0       91.116364         28.074101         23.006936   6.818887   69.451805   \n",
      "1       90.604721         29.850689         24.035009   5.691890   51.937448   \n",
      "2       83.973587         30.091292         24.565633   6.138224   20.573050   \n",
      "3       96.483688         29.704629         23.326177   5.650050   65.727144   \n",
      "4       90.155128         29.113934         23.486480   5.735004  107.965535   \n",
      "...           ...               ...               ...        ...         ...   \n",
      "7747    78.869858         26.352081         18.775678   6.148918   72.058294   \n",
      "7748    77.294975         27.010193         18.733519   6.542819   47.241457   \n",
      "7749    77.243744         27.939516         18.522965   7.289264    9.090034   \n",
      "7750    58.936283         17.624954         14.272646   2.882580  -13.603212   \n",
      "7751   100.000153         38.542255         29.619342  21.857621  213.414006   \n",
      "\n",
      "      ...  LDAPS_PPT2  LDAPS_PPT3  LDAPS_PPT4      lat      lon       DEM  \\\n",
      "0     ...    0.000000    0.000000    0.000000  37.6046  126.991  212.3350   \n",
      "1     ...    0.000000    0.000000    0.000000  37.6046  127.032   44.7624   \n",
      "2     ...    0.000000    0.000000    0.000000  37.5776  127.058   33.3068   \n",
      "3     ...    0.000000    0.000000    0.000000  37.6450  127.022   45.7160   \n",
      "4     ...    0.000000    0.000000    0.000000  37.5507  127.135   35.0380   \n",
      "...   ...         ...         ...         ...      ...      ...       ...   \n",
      "7747  ...    0.000000    0.000000    0.000000  37.5372  126.891   15.5876   \n",
      "7748  ...    0.000000    0.000000    0.000000  37.5237  126.909   17.2956   \n",
      "7749  ...    0.000000    0.000000    0.000000  37.5237  126.970   19.5844   \n",
      "7750  ...    0.000000    0.000000    0.000000  37.4562  126.826   12.3700   \n",
      "7751  ...   21.621661   15.841235   16.655469  37.6450  127.135  212.3350   \n",
      "\n",
      "         Slope  Solar radiation  Next_Tmax  Next_Tmin  \n",
      "0     2.785000      5992.895996       29.1       21.2  \n",
      "1     0.514100      5869.312500       30.5       22.5  \n",
      "2     0.266100      5863.555664       31.1       23.9  \n",
      "3     2.534800      5856.964844       31.7       24.3  \n",
      "4     0.505500      5859.552246       31.2       22.5  \n",
      "...        ...              ...        ...        ...  \n",
      "7747  0.155400      4443.313965       28.3       18.1  \n",
      "7748  0.222300      4438.373535       28.6       18.8  \n",
      "7749  0.271300      4451.345215       27.8       17.4  \n",
      "7750  0.098475      4329.520508       17.4       11.3  \n",
      "7751  5.178230      5992.895996       38.9       29.8  \n",
      "\n",
      "[7752 rows x 25 columns]\n"
     ]
    }
   ],
   "source": [
    "dataset_name = 'Bias_correction_ucl.csv'\n",
    "print(\"Opening: \", dataset_name)\n",
    "df = pd.read_csv(dataset_name,  sep = ',')#, header = 0)\n",
    "print(df)"
   ]
  },
  {
   "cell_type": "code",
   "execution_count": 4,
   "metadata": {},
   "outputs": [
    {
     "name": "stdout",
     "output_type": "stream",
     "text": [
      "Analysis of <Bias_correction_ucl.csv>\n",
      "----------------------------------------\n",
      "Info:\n",
      "<class 'pandas.core.frame.DataFrame'>\n",
      "RangeIndex: 7752 entries, 0 to 7751\n",
      "Data columns (total 25 columns):\n",
      " #   Column            Non-Null Count  Dtype  \n",
      "---  ------            --------------  -----  \n",
      " 0   station           7750 non-null   float64\n",
      " 1   Date              7750 non-null   object \n",
      " 2   Present_Tmax      7682 non-null   float64\n",
      " 3   Present_Tmin      7682 non-null   float64\n",
      " 4   LDAPS_RHmin       7677 non-null   float64\n",
      " 5   LDAPS_RHmax       7677 non-null   float64\n",
      " 6   LDAPS_Tmax_lapse  7677 non-null   float64\n",
      " 7   LDAPS_Tmin_lapse  7677 non-null   float64\n",
      " 8   LDAPS_WS          7677 non-null   float64\n",
      " 9   LDAPS_LH          7677 non-null   float64\n",
      " 10  LDAPS_CC1         7677 non-null   float64\n",
      " 11  LDAPS_CC2         7677 non-null   float64\n",
      " 12  LDAPS_CC3         7677 non-null   float64\n",
      " 13  LDAPS_CC4         7677 non-null   float64\n",
      " 14  LDAPS_PPT1        7677 non-null   float64\n",
      " 15  LDAPS_PPT2        7677 non-null   float64\n",
      " 16  LDAPS_PPT3        7677 non-null   float64\n",
      " 17  LDAPS_PPT4        7677 non-null   float64\n",
      " 18  lat               7752 non-null   float64\n",
      " 19  lon               7752 non-null   float64\n",
      " 20  DEM               7752 non-null   float64\n",
      " 21  Slope             7752 non-null   float64\n",
      " 22  Solar radiation   7752 non-null   float64\n",
      " 23  Next_Tmax         7725 non-null   float64\n",
      " 24  Next_Tmin         7725 non-null   float64\n",
      "dtypes: float64(24), object(1)\n",
      "memory usage: 1.5+ MB\n",
      "None\n",
      "Columns:\n",
      "Index(['station', 'Date', 'Present_Tmax', 'Present_Tmin', 'LDAPS_RHmin',\n",
      "       'LDAPS_RHmax', 'LDAPS_Tmax_lapse', 'LDAPS_Tmin_lapse', 'LDAPS_WS',\n",
      "       'LDAPS_LH', 'LDAPS_CC1', 'LDAPS_CC2', 'LDAPS_CC3', 'LDAPS_CC4',\n",
      "       'LDAPS_PPT1', 'LDAPS_PPT2', 'LDAPS_PPT3', 'LDAPS_PPT4', 'lat', 'lon',\n",
      "       'DEM', 'Slope', 'Solar radiation', 'Next_Tmax', 'Next_Tmin'],\n",
      "      dtype='object')\n"
     ]
    }
   ],
   "source": [
    "# Quick analysis\n",
    "print(f\"Analysis of <{dataset_name}>\")\n",
    "print('-'*40)\n",
    "print(\"Info:\")\n",
    "print(df.info())\n",
    "\n",
    "print(\"Columns:\")\n",
    "print(df.columns)"
   ]
  },
  {
   "cell_type": "code",
   "execution_count": 5,
   "metadata": {},
   "outputs": [],
   "source": [
    "col_dict = {c: i for i, c in enumerate(df.columns)}"
   ]
  },
  {
   "cell_type": "markdown",
   "metadata": {},
   "source": [
    "## Description of data columns\n",
    "\n",
    "1. station - used weather station number: 1 to 25 \n",
    "2. Date - Present day: yyyy-mm-dd ('2013-06-30' to '2017-08-30') \n",
    "3. Present_Tmax - Maximum air temperature between 0 and 21 h on the present day (Â°C): 20 to 37.6 \n",
    "4. Present_Tmin - Minimum air temperature between 0 and 21 h on the present day (Â°C): 11.3 to 29.9 \n",
    "5. LDAPS_RHmin - LDAPS model forecast of next-day minimum relative humidity (%): 19.8 to 98.5 \n",
    "6. LDAPS_RHmax - LDAPS model forecast of next-day maximum relative humidity (%): 58.9 to 100 \n",
    "7. LDAPS_Tmax_lapse - LDAPS model forecast of next-day maximum air temperature applied lapse rate (Â°C): 17.6 to 38.5 \n",
    "8. LDAPS_Tmin_lapse - LDAPS model forecast of next-day minimum air temperature applied lapse rate (Â°C): 14.3 to 29.6 \n",
    "9. LDAPS_WS - LDAPS model forecast of next-day average wind speed (m/s): 2.9 to 21.9 \n",
    "10. LDAPS_LH - LDAPS model forecast of next-day average latent heat flux (W/m2): -13.6 to 213.4 \n",
    "11. LDAPS_CC1 - LDAPS model forecast of next-day 1st 6-hour split average cloud cover (0-5 h) (%): 0 to 0.97 \n",
    "12. LDAPS_CC2 - LDAPS model forecast of next-day 2nd 6-hour split average cloud cover (6-11 h) (%): 0 to 0.97 \n",
    "13. LDAPS_CC3 - LDAPS model forecast of next-day 3rd 6-hour split average cloud cover (12-17 h) (%): 0 to 0.98 \n",
    "14. LDAPS_CC4 - LDAPS model forecast of next-day 4th 6-hour split average cloud cover (18-23 h) (%): 0 to 0.97 \n",
    "15. LDAPS_PPT1 - LDAPS model forecast of next-day 1st 6-hour split average precipitation (0-5 h) (%): 0 to 23.7 \n",
    "16. LDAPS_PPT2 - LDAPS model forecast of next-day 2nd 6-hour split average precipitation (6-11 h) (%): 0 to 21.6 \n",
    "17. LDAPS_PPT3 - LDAPS model forecast of next-day 3rd 6-hour split average precipitation (12-17 h) (%): 0 to 15.8 \n",
    "18. LDAPS_PPT4 - LDAPS model forecast of next-day 4th 6-hour split average precipitation (18-23 h) (%): 0 to 16.7 \n",
    "19. lat - Latitude (Â°): 37.456 to 37.645 \n",
    "20. lon - Longitude (Â°): 126.826 to 127.135 \n",
    "21. DEM - Elevation (m): 12.4 to 212.3 \n",
    "22. Slope - Slope (Â°): 0.1 to 5.2 \n",
    "23. Solar radiation - Daily incoming solar radiation (wh/m2): 4329.5 to 5992.9 \n",
    "24. Next_Tmax - The next-day maximum air temperature (Â°C): 17.4 to 38.9 \n",
    "25. Next_Tmin - The next-day minimum air temperature (Â°C): 11.3 to 29.8"
   ]
  },
  {
   "cell_type": "code",
   "execution_count": 6,
   "metadata": {},
   "outputs": [],
   "source": [
    "def display_all(df):\n",
    "    with pd.option_context(\"display.max_rows\", 1000): \n",
    "        with pd.option_context(\"display.max_columns\", 1000): \n",
    "            display(df)\n",
    "            \n",
    "def add_RD(df):\n",
    "    df['RD'] = df.apply(lambda row: row.RS - row.RA, axis = 1) "
   ]
  },
  {
   "cell_type": "markdown",
   "metadata": {},
   "source": [
    "## First look on data and information"
   ]
  },
  {
   "cell_type": "code",
   "execution_count": 7,
   "metadata": {},
   "outputs": [
    {
     "data": {
      "text/html": [
       "<div>\n",
       "<style scoped>\n",
       "    .dataframe tbody tr th:only-of-type {\n",
       "        vertical-align: middle;\n",
       "    }\n",
       "\n",
       "    .dataframe tbody tr th {\n",
       "        vertical-align: top;\n",
       "    }\n",
       "\n",
       "    .dataframe thead th {\n",
       "        text-align: right;\n",
       "    }\n",
       "</style>\n",
       "<table border=\"1\" class=\"dataframe\">\n",
       "  <thead>\n",
       "    <tr style=\"text-align: right;\">\n",
       "      <th></th>\n",
       "      <th>7747</th>\n",
       "      <th>7748</th>\n",
       "      <th>7749</th>\n",
       "      <th>7750</th>\n",
       "      <th>7751</th>\n",
       "    </tr>\n",
       "  </thead>\n",
       "  <tbody>\n",
       "    <tr>\n",
       "      <th>station</th>\n",
       "      <td>23</td>\n",
       "      <td>24</td>\n",
       "      <td>25</td>\n",
       "      <td>NaN</td>\n",
       "      <td>NaN</td>\n",
       "    </tr>\n",
       "    <tr>\n",
       "      <th>Date</th>\n",
       "      <td>2017-08-30</td>\n",
       "      <td>2017-08-30</td>\n",
       "      <td>2017-08-30</td>\n",
       "      <td>NaN</td>\n",
       "      <td>NaN</td>\n",
       "    </tr>\n",
       "    <tr>\n",
       "      <th>Present_Tmax</th>\n",
       "      <td>23.3</td>\n",
       "      <td>23.3</td>\n",
       "      <td>23.2</td>\n",
       "      <td>20</td>\n",
       "      <td>37.6</td>\n",
       "    </tr>\n",
       "    <tr>\n",
       "      <th>Present_Tmin</th>\n",
       "      <td>17.1</td>\n",
       "      <td>17.7</td>\n",
       "      <td>17.4</td>\n",
       "      <td>11.3</td>\n",
       "      <td>29.9</td>\n",
       "    </tr>\n",
       "    <tr>\n",
       "      <th>LDAPS_RHmin</th>\n",
       "      <td>26.7413</td>\n",
       "      <td>24.0406</td>\n",
       "      <td>22.933</td>\n",
       "      <td>19.7947</td>\n",
       "      <td>98.5247</td>\n",
       "    </tr>\n",
       "    <tr>\n",
       "      <th>LDAPS_RHmax</th>\n",
       "      <td>78.8699</td>\n",
       "      <td>77.295</td>\n",
       "      <td>77.2437</td>\n",
       "      <td>58.9363</td>\n",
       "      <td>100</td>\n",
       "    </tr>\n",
       "    <tr>\n",
       "      <th>LDAPS_Tmax_lapse</th>\n",
       "      <td>26.3521</td>\n",
       "      <td>27.0102</td>\n",
       "      <td>27.9395</td>\n",
       "      <td>17.625</td>\n",
       "      <td>38.5423</td>\n",
       "    </tr>\n",
       "    <tr>\n",
       "      <th>LDAPS_Tmin_lapse</th>\n",
       "      <td>18.7757</td>\n",
       "      <td>18.7335</td>\n",
       "      <td>18.523</td>\n",
       "      <td>14.2726</td>\n",
       "      <td>29.6193</td>\n",
       "    </tr>\n",
       "    <tr>\n",
       "      <th>LDAPS_WS</th>\n",
       "      <td>6.14892</td>\n",
       "      <td>6.54282</td>\n",
       "      <td>7.28926</td>\n",
       "      <td>2.88258</td>\n",
       "      <td>21.8576</td>\n",
       "    </tr>\n",
       "    <tr>\n",
       "      <th>LDAPS_LH</th>\n",
       "      <td>72.0583</td>\n",
       "      <td>47.2415</td>\n",
       "      <td>9.09003</td>\n",
       "      <td>-13.6032</td>\n",
       "      <td>213.414</td>\n",
       "    </tr>\n",
       "    <tr>\n",
       "      <th>LDAPS_CC1</th>\n",
       "      <td>0.0300342</td>\n",
       "      <td>0.0358738</td>\n",
       "      <td>0.0489535</td>\n",
       "      <td>0</td>\n",
       "      <td>0.967277</td>\n",
       "    </tr>\n",
       "    <tr>\n",
       "      <th>LDAPS_CC2</th>\n",
       "      <td>0.081035</td>\n",
       "      <td>0.0749624</td>\n",
       "      <td>0.0598686</td>\n",
       "      <td>0</td>\n",
       "      <td>0.968353</td>\n",
       "    </tr>\n",
       "    <tr>\n",
       "      <th>LDAPS_CC3</th>\n",
       "      <td>0</td>\n",
       "      <td>0</td>\n",
       "      <td>0</td>\n",
       "      <td>0</td>\n",
       "      <td>0.983789</td>\n",
       "    </tr>\n",
       "    <tr>\n",
       "      <th>LDAPS_CC4</th>\n",
       "      <td>0</td>\n",
       "      <td>0</td>\n",
       "      <td>0.000796153</td>\n",
       "      <td>0</td>\n",
       "      <td>0.97471</td>\n",
       "    </tr>\n",
       "    <tr>\n",
       "      <th>LDAPS_PPT1</th>\n",
       "      <td>0</td>\n",
       "      <td>0</td>\n",
       "      <td>0</td>\n",
       "      <td>0</td>\n",
       "      <td>23.7015</td>\n",
       "    </tr>\n",
       "    <tr>\n",
       "      <th>LDAPS_PPT2</th>\n",
       "      <td>0</td>\n",
       "      <td>0</td>\n",
       "      <td>0</td>\n",
       "      <td>0</td>\n",
       "      <td>21.6217</td>\n",
       "    </tr>\n",
       "    <tr>\n",
       "      <th>LDAPS_PPT3</th>\n",
       "      <td>0</td>\n",
       "      <td>0</td>\n",
       "      <td>0</td>\n",
       "      <td>0</td>\n",
       "      <td>15.8412</td>\n",
       "    </tr>\n",
       "    <tr>\n",
       "      <th>LDAPS_PPT4</th>\n",
       "      <td>0</td>\n",
       "      <td>0</td>\n",
       "      <td>0</td>\n",
       "      <td>0</td>\n",
       "      <td>16.6555</td>\n",
       "    </tr>\n",
       "    <tr>\n",
       "      <th>lat</th>\n",
       "      <td>37.5372</td>\n",
       "      <td>37.5237</td>\n",
       "      <td>37.5237</td>\n",
       "      <td>37.4562</td>\n",
       "      <td>37.645</td>\n",
       "    </tr>\n",
       "    <tr>\n",
       "      <th>lon</th>\n",
       "      <td>126.891</td>\n",
       "      <td>126.909</td>\n",
       "      <td>126.97</td>\n",
       "      <td>126.826</td>\n",
       "      <td>127.135</td>\n",
       "    </tr>\n",
       "    <tr>\n",
       "      <th>DEM</th>\n",
       "      <td>15.5876</td>\n",
       "      <td>17.2956</td>\n",
       "      <td>19.5844</td>\n",
       "      <td>12.37</td>\n",
       "      <td>212.335</td>\n",
       "    </tr>\n",
       "    <tr>\n",
       "      <th>Slope</th>\n",
       "      <td>0.1554</td>\n",
       "      <td>0.2223</td>\n",
       "      <td>0.2713</td>\n",
       "      <td>0.0984746</td>\n",
       "      <td>5.17823</td>\n",
       "    </tr>\n",
       "    <tr>\n",
       "      <th>Solar radiation</th>\n",
       "      <td>4443.31</td>\n",
       "      <td>4438.37</td>\n",
       "      <td>4451.35</td>\n",
       "      <td>4329.52</td>\n",
       "      <td>5992.9</td>\n",
       "    </tr>\n",
       "    <tr>\n",
       "      <th>Next_Tmax</th>\n",
       "      <td>28.3</td>\n",
       "      <td>28.6</td>\n",
       "      <td>27.8</td>\n",
       "      <td>17.4</td>\n",
       "      <td>38.9</td>\n",
       "    </tr>\n",
       "    <tr>\n",
       "      <th>Next_Tmin</th>\n",
       "      <td>18.1</td>\n",
       "      <td>18.8</td>\n",
       "      <td>17.4</td>\n",
       "      <td>11.3</td>\n",
       "      <td>29.8</td>\n",
       "    </tr>\n",
       "  </tbody>\n",
       "</table>\n",
       "</div>"
      ],
      "text/plain": [
       "                        7747        7748         7749       7750      7751\n",
       "station                   23          24           25        NaN       NaN\n",
       "Date              2017-08-30  2017-08-30   2017-08-30        NaN       NaN\n",
       "Present_Tmax            23.3        23.3         23.2         20      37.6\n",
       "Present_Tmin            17.1        17.7         17.4       11.3      29.9\n",
       "LDAPS_RHmin          26.7413     24.0406       22.933    19.7947   98.5247\n",
       "LDAPS_RHmax          78.8699      77.295      77.2437    58.9363       100\n",
       "LDAPS_Tmax_lapse     26.3521     27.0102      27.9395     17.625   38.5423\n",
       "LDAPS_Tmin_lapse     18.7757     18.7335       18.523    14.2726   29.6193\n",
       "LDAPS_WS             6.14892     6.54282      7.28926    2.88258   21.8576\n",
       "LDAPS_LH             72.0583     47.2415      9.09003   -13.6032   213.414\n",
       "LDAPS_CC1          0.0300342   0.0358738    0.0489535          0  0.967277\n",
       "LDAPS_CC2           0.081035   0.0749624    0.0598686          0  0.968353\n",
       "LDAPS_CC3                  0           0            0          0  0.983789\n",
       "LDAPS_CC4                  0           0  0.000796153          0   0.97471\n",
       "LDAPS_PPT1                 0           0            0          0   23.7015\n",
       "LDAPS_PPT2                 0           0            0          0   21.6217\n",
       "LDAPS_PPT3                 0           0            0          0   15.8412\n",
       "LDAPS_PPT4                 0           0            0          0   16.6555\n",
       "lat                  37.5372     37.5237      37.5237    37.4562    37.645\n",
       "lon                  126.891     126.909       126.97    126.826   127.135\n",
       "DEM                  15.5876     17.2956      19.5844      12.37   212.335\n",
       "Slope                 0.1554      0.2223       0.2713  0.0984746   5.17823\n",
       "Solar radiation      4443.31     4438.37      4451.35    4329.52    5992.9\n",
       "Next_Tmax               28.3        28.6         27.8       17.4      38.9\n",
       "Next_Tmin               18.1        18.8         17.4       11.3      29.8"
      ]
     },
     "metadata": {},
     "output_type": "display_data"
    },
    {
     "name": "stdout",
     "output_type": "stream",
     "text": [
      "########################################\n"
     ]
    },
    {
     "data": {
      "text/plain": [
       "'Some more info'"
      ]
     },
     "metadata": {},
     "output_type": "display_data"
    },
    {
     "name": "stdout",
     "output_type": "stream",
     "text": [
      "########################################\n",
      "<class 'pandas.core.frame.DataFrame'>\n",
      "RangeIndex: 7752 entries, 0 to 7751\n",
      "Data columns (total 25 columns):\n",
      " #   Column            Non-Null Count  Dtype  \n",
      "---  ------            --------------  -----  \n",
      " 0   station           7750 non-null   float64\n",
      " 1   Date              7750 non-null   object \n",
      " 2   Present_Tmax      7682 non-null   float64\n",
      " 3   Present_Tmin      7682 non-null   float64\n",
      " 4   LDAPS_RHmin       7677 non-null   float64\n",
      " 5   LDAPS_RHmax       7677 non-null   float64\n",
      " 6   LDAPS_Tmax_lapse  7677 non-null   float64\n",
      " 7   LDAPS_Tmin_lapse  7677 non-null   float64\n",
      " 8   LDAPS_WS          7677 non-null   float64\n",
      " 9   LDAPS_LH          7677 non-null   float64\n",
      " 10  LDAPS_CC1         7677 non-null   float64\n",
      " 11  LDAPS_CC2         7677 non-null   float64\n",
      " 12  LDAPS_CC3         7677 non-null   float64\n",
      " 13  LDAPS_CC4         7677 non-null   float64\n",
      " 14  LDAPS_PPT1        7677 non-null   float64\n",
      " 15  LDAPS_PPT2        7677 non-null   float64\n",
      " 16  LDAPS_PPT3        7677 non-null   float64\n",
      " 17  LDAPS_PPT4        7677 non-null   float64\n",
      " 18  lat               7752 non-null   float64\n",
      " 19  lon               7752 non-null   float64\n",
      " 20  DEM               7752 non-null   float64\n",
      " 21  Slope             7752 non-null   float64\n",
      " 22  Solar radiation   7752 non-null   float64\n",
      " 23  Next_Tmax         7725 non-null   float64\n",
      " 24  Next_Tmin         7725 non-null   float64\n",
      "dtypes: float64(24), object(1)\n",
      "memory usage: 1.5+ MB\n"
     ]
    },
    {
     "data": {
      "text/plain": [
       "None"
      ]
     },
     "metadata": {},
     "output_type": "display_data"
    }
   ],
   "source": [
    "display_all(df.tail().transpose())\n",
    "print('#'*40)\n",
    "display('Some more info')\n",
    "print('#'*40)\n",
    "display(df.info())"
   ]
  },
  {
   "cell_type": "markdown",
   "metadata": {},
   "source": [
    "# a) Random forest\n",
    "\n",
    "## Preprocessing for random forest"
   ]
  },
  {
   "cell_type": "code",
   "execution_count": 8,
   "metadata": {},
   "outputs": [],
   "source": [
    "# Split into train and test\n",
    "def split_simple(df, n): \n",
    "    '''n... number to split at'''\n",
    "    return df[:n].copy(), df[n:].copy()"
   ]
  },
  {
   "cell_type": "code",
   "execution_count": 9,
   "metadata": {},
   "outputs": [
    {
     "data": {
      "text/plain": [
       "(array([ 225,  225,  271, ..., 7682, 7707, 7707]),\n",
       " array([ 0,  1,  0, ..., 21,  0,  1]))"
      ]
     },
     "execution_count": 9,
     "metadata": {},
     "output_type": "execute_result"
    }
   ],
   "source": [
    "df_prep_rf = df\n",
    "cols_to_drop = ['station', 'Date', 'Next_Tmax']\n",
    "df_prep_rf = df_prep_rf.drop(cols_to_drop, axis=1)\n",
    "np.where(np.isnan(df_prep_rf))"
   ]
  },
  {
   "cell_type": "code",
   "execution_count": 10,
   "metadata": {},
   "outputs": [
    {
     "data": {
      "text/plain": [
       "(array([], dtype=int64), array([], dtype=int64))"
      ]
     },
     "execution_count": 10,
     "metadata": {},
     "output_type": "execute_result"
    }
   ],
   "source": [
    "# Fix missing values\n",
    "from sklearn.impute import SimpleImputer\n",
    "np.where(np.isnan(df_prep_rf))\n",
    "\n",
    "imp = SimpleImputer(missing_values=np.nan, strategy='mean')\n",
    "\n",
    "df_imputed = imp.fit_transform(df_prep_rf)\n",
    "df_prep_rf = pd.DataFrame(df_imputed, columns=df_prep_rf.columns)\n",
    "np.where(np.isnan(df_prep_rf))"
   ]
  },
  {
   "cell_type": "code",
   "execution_count": 11,
   "metadata": {},
   "outputs": [
    {
     "data": {
      "text/plain": [
       "array(['Present_Tmax', 'Present_Tmin', 'LDAPS_RHmin', 'LDAPS_RHmax',\n",
       "       'LDAPS_Tmax_lapse', 'LDAPS_Tmin_lapse', 'LDAPS_WS', 'LDAPS_LH',\n",
       "       'LDAPS_CC1', 'LDAPS_CC2', 'LDAPS_CC3', 'LDAPS_CC4', 'LDAPS_PPT1',\n",
       "       'LDAPS_PPT2', 'LDAPS_PPT3', 'LDAPS_PPT4', 'lat', 'lon', 'DEM',\n",
       "       'Slope', 'Solar radiation', 'Next_Tmin'], dtype=object)"
      ]
     },
     "metadata": {},
     "output_type": "display_data"
    },
    {
     "data": {
      "text/plain": [
       "RangeIndex(start=0, stop=7752, step=1)"
      ]
     },
     "metadata": {},
     "output_type": "display_data"
    }
   ],
   "source": [
    "display(df_prep_rf.columns.values)\n",
    "display(df_prep_rf.index)"
   ]
  },
  {
   "cell_type": "code",
   "execution_count": 12,
   "metadata": {},
   "outputs": [
    {
     "data": {
      "text/html": [
       "<div>\n",
       "<style scoped>\n",
       "    .dataframe tbody tr th:only-of-type {\n",
       "        vertical-align: middle;\n",
       "    }\n",
       "\n",
       "    .dataframe tbody tr th {\n",
       "        vertical-align: top;\n",
       "    }\n",
       "\n",
       "    .dataframe thead th {\n",
       "        text-align: right;\n",
       "    }\n",
       "</style>\n",
       "<table border=\"1\" class=\"dataframe\">\n",
       "  <thead>\n",
       "    <tr style=\"text-align: right;\">\n",
       "      <th></th>\n",
       "      <th>Present_Tmax</th>\n",
       "      <th>Present_Tmin</th>\n",
       "      <th>LDAPS_RHmin</th>\n",
       "      <th>LDAPS_RHmax</th>\n",
       "      <th>LDAPS_Tmax_lapse</th>\n",
       "      <th>LDAPS_Tmin_lapse</th>\n",
       "      <th>LDAPS_WS</th>\n",
       "      <th>LDAPS_LH</th>\n",
       "      <th>LDAPS_CC1</th>\n",
       "      <th>LDAPS_CC2</th>\n",
       "      <th>...</th>\n",
       "      <th>LDAPS_PPT1</th>\n",
       "      <th>LDAPS_PPT2</th>\n",
       "      <th>LDAPS_PPT3</th>\n",
       "      <th>LDAPS_PPT4</th>\n",
       "      <th>lat</th>\n",
       "      <th>lon</th>\n",
       "      <th>DEM</th>\n",
       "      <th>Slope</th>\n",
       "      <th>Solar radiation</th>\n",
       "      <th>Next_Tmin</th>\n",
       "    </tr>\n",
       "  </thead>\n",
       "  <tbody>\n",
       "    <tr>\n",
       "      <th>0</th>\n",
       "      <td>28.7</td>\n",
       "      <td>21.4</td>\n",
       "      <td>58.255688</td>\n",
       "      <td>91.116364</td>\n",
       "      <td>28.074101</td>\n",
       "      <td>23.006936</td>\n",
       "      <td>6.818887</td>\n",
       "      <td>69.451805</td>\n",
       "      <td>0.233947</td>\n",
       "      <td>0.203896</td>\n",
       "      <td>...</td>\n",
       "      <td>0.000000</td>\n",
       "      <td>0.000000</td>\n",
       "      <td>0.000000</td>\n",
       "      <td>0.000000</td>\n",
       "      <td>37.6046</td>\n",
       "      <td>126.991</td>\n",
       "      <td>212.3350</td>\n",
       "      <td>2.785000</td>\n",
       "      <td>5992.895996</td>\n",
       "      <td>21.2</td>\n",
       "    </tr>\n",
       "    <tr>\n",
       "      <th>1</th>\n",
       "      <td>31.9</td>\n",
       "      <td>21.6</td>\n",
       "      <td>52.263397</td>\n",
       "      <td>90.604721</td>\n",
       "      <td>29.850689</td>\n",
       "      <td>24.035009</td>\n",
       "      <td>5.691890</td>\n",
       "      <td>51.937448</td>\n",
       "      <td>0.225508</td>\n",
       "      <td>0.251771</td>\n",
       "      <td>...</td>\n",
       "      <td>0.000000</td>\n",
       "      <td>0.000000</td>\n",
       "      <td>0.000000</td>\n",
       "      <td>0.000000</td>\n",
       "      <td>37.6046</td>\n",
       "      <td>127.032</td>\n",
       "      <td>44.7624</td>\n",
       "      <td>0.514100</td>\n",
       "      <td>5869.312500</td>\n",
       "      <td>22.5</td>\n",
       "    </tr>\n",
       "    <tr>\n",
       "      <th>2</th>\n",
       "      <td>31.6</td>\n",
       "      <td>23.3</td>\n",
       "      <td>48.690479</td>\n",
       "      <td>83.973587</td>\n",
       "      <td>30.091292</td>\n",
       "      <td>24.565633</td>\n",
       "      <td>6.138224</td>\n",
       "      <td>20.573050</td>\n",
       "      <td>0.209344</td>\n",
       "      <td>0.257469</td>\n",
       "      <td>...</td>\n",
       "      <td>0.000000</td>\n",
       "      <td>0.000000</td>\n",
       "      <td>0.000000</td>\n",
       "      <td>0.000000</td>\n",
       "      <td>37.5776</td>\n",
       "      <td>127.058</td>\n",
       "      <td>33.3068</td>\n",
       "      <td>0.266100</td>\n",
       "      <td>5863.555664</td>\n",
       "      <td>23.9</td>\n",
       "    </tr>\n",
       "    <tr>\n",
       "      <th>3</th>\n",
       "      <td>32.0</td>\n",
       "      <td>23.4</td>\n",
       "      <td>58.239788</td>\n",
       "      <td>96.483688</td>\n",
       "      <td>29.704629</td>\n",
       "      <td>23.326177</td>\n",
       "      <td>5.650050</td>\n",
       "      <td>65.727144</td>\n",
       "      <td>0.216372</td>\n",
       "      <td>0.226002</td>\n",
       "      <td>...</td>\n",
       "      <td>0.000000</td>\n",
       "      <td>0.000000</td>\n",
       "      <td>0.000000</td>\n",
       "      <td>0.000000</td>\n",
       "      <td>37.6450</td>\n",
       "      <td>127.022</td>\n",
       "      <td>45.7160</td>\n",
       "      <td>2.534800</td>\n",
       "      <td>5856.964844</td>\n",
       "      <td>24.3</td>\n",
       "    </tr>\n",
       "    <tr>\n",
       "      <th>4</th>\n",
       "      <td>31.4</td>\n",
       "      <td>21.9</td>\n",
       "      <td>56.174095</td>\n",
       "      <td>90.155128</td>\n",
       "      <td>29.113934</td>\n",
       "      <td>23.486480</td>\n",
       "      <td>5.735004</td>\n",
       "      <td>107.965535</td>\n",
       "      <td>0.151407</td>\n",
       "      <td>0.249995</td>\n",
       "      <td>...</td>\n",
       "      <td>0.000000</td>\n",
       "      <td>0.000000</td>\n",
       "      <td>0.000000</td>\n",
       "      <td>0.000000</td>\n",
       "      <td>37.5507</td>\n",
       "      <td>127.135</td>\n",
       "      <td>35.0380</td>\n",
       "      <td>0.505500</td>\n",
       "      <td>5859.552246</td>\n",
       "      <td>22.5</td>\n",
       "    </tr>\n",
       "    <tr>\n",
       "      <th>...</th>\n",
       "      <td>...</td>\n",
       "      <td>...</td>\n",
       "      <td>...</td>\n",
       "      <td>...</td>\n",
       "      <td>...</td>\n",
       "      <td>...</td>\n",
       "      <td>...</td>\n",
       "      <td>...</td>\n",
       "      <td>...</td>\n",
       "      <td>...</td>\n",
       "      <td>...</td>\n",
       "      <td>...</td>\n",
       "      <td>...</td>\n",
       "      <td>...</td>\n",
       "      <td>...</td>\n",
       "      <td>...</td>\n",
       "      <td>...</td>\n",
       "      <td>...</td>\n",
       "      <td>...</td>\n",
       "      <td>...</td>\n",
       "      <td>...</td>\n",
       "    </tr>\n",
       "    <tr>\n",
       "      <th>7747</th>\n",
       "      <td>23.3</td>\n",
       "      <td>17.1</td>\n",
       "      <td>26.741310</td>\n",
       "      <td>78.869858</td>\n",
       "      <td>26.352081</td>\n",
       "      <td>18.775678</td>\n",
       "      <td>6.148918</td>\n",
       "      <td>72.058294</td>\n",
       "      <td>0.030034</td>\n",
       "      <td>0.081035</td>\n",
       "      <td>...</td>\n",
       "      <td>0.000000</td>\n",
       "      <td>0.000000</td>\n",
       "      <td>0.000000</td>\n",
       "      <td>0.000000</td>\n",
       "      <td>37.5372</td>\n",
       "      <td>126.891</td>\n",
       "      <td>15.5876</td>\n",
       "      <td>0.155400</td>\n",
       "      <td>4443.313965</td>\n",
       "      <td>18.1</td>\n",
       "    </tr>\n",
       "    <tr>\n",
       "      <th>7748</th>\n",
       "      <td>23.3</td>\n",
       "      <td>17.7</td>\n",
       "      <td>24.040634</td>\n",
       "      <td>77.294975</td>\n",
       "      <td>27.010193</td>\n",
       "      <td>18.733519</td>\n",
       "      <td>6.542819</td>\n",
       "      <td>47.241457</td>\n",
       "      <td>0.035874</td>\n",
       "      <td>0.074962</td>\n",
       "      <td>...</td>\n",
       "      <td>0.000000</td>\n",
       "      <td>0.000000</td>\n",
       "      <td>0.000000</td>\n",
       "      <td>0.000000</td>\n",
       "      <td>37.5237</td>\n",
       "      <td>126.909</td>\n",
       "      <td>17.2956</td>\n",
       "      <td>0.222300</td>\n",
       "      <td>4438.373535</td>\n",
       "      <td>18.8</td>\n",
       "    </tr>\n",
       "    <tr>\n",
       "      <th>7749</th>\n",
       "      <td>23.2</td>\n",
       "      <td>17.4</td>\n",
       "      <td>22.933014</td>\n",
       "      <td>77.243744</td>\n",
       "      <td>27.939516</td>\n",
       "      <td>18.522965</td>\n",
       "      <td>7.289264</td>\n",
       "      <td>9.090034</td>\n",
       "      <td>0.048954</td>\n",
       "      <td>0.059869</td>\n",
       "      <td>...</td>\n",
       "      <td>0.000000</td>\n",
       "      <td>0.000000</td>\n",
       "      <td>0.000000</td>\n",
       "      <td>0.000000</td>\n",
       "      <td>37.5237</td>\n",
       "      <td>126.970</td>\n",
       "      <td>19.5844</td>\n",
       "      <td>0.271300</td>\n",
       "      <td>4451.345215</td>\n",
       "      <td>17.4</td>\n",
       "    </tr>\n",
       "    <tr>\n",
       "      <th>7750</th>\n",
       "      <td>20.0</td>\n",
       "      <td>11.3</td>\n",
       "      <td>19.794666</td>\n",
       "      <td>58.936283</td>\n",
       "      <td>17.624954</td>\n",
       "      <td>14.272646</td>\n",
       "      <td>2.882580</td>\n",
       "      <td>-13.603212</td>\n",
       "      <td>0.000000</td>\n",
       "      <td>0.000000</td>\n",
       "      <td>...</td>\n",
       "      <td>0.000000</td>\n",
       "      <td>0.000000</td>\n",
       "      <td>0.000000</td>\n",
       "      <td>0.000000</td>\n",
       "      <td>37.4562</td>\n",
       "      <td>126.826</td>\n",
       "      <td>12.3700</td>\n",
       "      <td>0.098475</td>\n",
       "      <td>4329.520508</td>\n",
       "      <td>11.3</td>\n",
       "    </tr>\n",
       "    <tr>\n",
       "      <th>7751</th>\n",
       "      <td>37.6</td>\n",
       "      <td>29.9</td>\n",
       "      <td>98.524734</td>\n",
       "      <td>100.000153</td>\n",
       "      <td>38.542255</td>\n",
       "      <td>29.619342</td>\n",
       "      <td>21.857621</td>\n",
       "      <td>213.414006</td>\n",
       "      <td>0.967277</td>\n",
       "      <td>0.968353</td>\n",
       "      <td>...</td>\n",
       "      <td>23.701544</td>\n",
       "      <td>21.621661</td>\n",
       "      <td>15.841235</td>\n",
       "      <td>16.655469</td>\n",
       "      <td>37.6450</td>\n",
       "      <td>127.135</td>\n",
       "      <td>212.3350</td>\n",
       "      <td>5.178230</td>\n",
       "      <td>5992.895996</td>\n",
       "      <td>29.8</td>\n",
       "    </tr>\n",
       "  </tbody>\n",
       "</table>\n",
       "<p>7752 rows × 22 columns</p>\n",
       "</div>"
      ],
      "text/plain": [
       "      Present_Tmax  Present_Tmin  LDAPS_RHmin  LDAPS_RHmax  LDAPS_Tmax_lapse  \\\n",
       "0             28.7          21.4    58.255688    91.116364         28.074101   \n",
       "1             31.9          21.6    52.263397    90.604721         29.850689   \n",
       "2             31.6          23.3    48.690479    83.973587         30.091292   \n",
       "3             32.0          23.4    58.239788    96.483688         29.704629   \n",
       "4             31.4          21.9    56.174095    90.155128         29.113934   \n",
       "...            ...           ...          ...          ...               ...   \n",
       "7747          23.3          17.1    26.741310    78.869858         26.352081   \n",
       "7748          23.3          17.7    24.040634    77.294975         27.010193   \n",
       "7749          23.2          17.4    22.933014    77.243744         27.939516   \n",
       "7750          20.0          11.3    19.794666    58.936283         17.624954   \n",
       "7751          37.6          29.9    98.524734   100.000153         38.542255   \n",
       "\n",
       "      LDAPS_Tmin_lapse   LDAPS_WS    LDAPS_LH  LDAPS_CC1  LDAPS_CC2  ...  \\\n",
       "0            23.006936   6.818887   69.451805   0.233947   0.203896  ...   \n",
       "1            24.035009   5.691890   51.937448   0.225508   0.251771  ...   \n",
       "2            24.565633   6.138224   20.573050   0.209344   0.257469  ...   \n",
       "3            23.326177   5.650050   65.727144   0.216372   0.226002  ...   \n",
       "4            23.486480   5.735004  107.965535   0.151407   0.249995  ...   \n",
       "...                ...        ...         ...        ...        ...  ...   \n",
       "7747         18.775678   6.148918   72.058294   0.030034   0.081035  ...   \n",
       "7748         18.733519   6.542819   47.241457   0.035874   0.074962  ...   \n",
       "7749         18.522965   7.289264    9.090034   0.048954   0.059869  ...   \n",
       "7750         14.272646   2.882580  -13.603212   0.000000   0.000000  ...   \n",
       "7751         29.619342  21.857621  213.414006   0.967277   0.968353  ...   \n",
       "\n",
       "      LDAPS_PPT1  LDAPS_PPT2  LDAPS_PPT3  LDAPS_PPT4      lat      lon  \\\n",
       "0       0.000000    0.000000    0.000000    0.000000  37.6046  126.991   \n",
       "1       0.000000    0.000000    0.000000    0.000000  37.6046  127.032   \n",
       "2       0.000000    0.000000    0.000000    0.000000  37.5776  127.058   \n",
       "3       0.000000    0.000000    0.000000    0.000000  37.6450  127.022   \n",
       "4       0.000000    0.000000    0.000000    0.000000  37.5507  127.135   \n",
       "...          ...         ...         ...         ...      ...      ...   \n",
       "7747    0.000000    0.000000    0.000000    0.000000  37.5372  126.891   \n",
       "7748    0.000000    0.000000    0.000000    0.000000  37.5237  126.909   \n",
       "7749    0.000000    0.000000    0.000000    0.000000  37.5237  126.970   \n",
       "7750    0.000000    0.000000    0.000000    0.000000  37.4562  126.826   \n",
       "7751   23.701544   21.621661   15.841235   16.655469  37.6450  127.135   \n",
       "\n",
       "           DEM     Slope  Solar radiation  Next_Tmin  \n",
       "0     212.3350  2.785000      5992.895996       21.2  \n",
       "1      44.7624  0.514100      5869.312500       22.5  \n",
       "2      33.3068  0.266100      5863.555664       23.9  \n",
       "3      45.7160  2.534800      5856.964844       24.3  \n",
       "4      35.0380  0.505500      5859.552246       22.5  \n",
       "...        ...       ...              ...        ...  \n",
       "7747   15.5876  0.155400      4443.313965       18.1  \n",
       "7748   17.2956  0.222300      4438.373535       18.8  \n",
       "7749   19.5844  0.271300      4451.345215       17.4  \n",
       "7750   12.3700  0.098475      4329.520508       11.3  \n",
       "7751  212.3350  5.178230      5992.895996       29.8  \n",
       "\n",
       "[7752 rows x 22 columns]"
      ]
     },
     "metadata": {},
     "output_type": "display_data"
    }
   ],
   "source": [
    "display(df_prep_rf)"
   ]
  },
  {
   "cell_type": "code",
   "execution_count": 13,
   "metadata": {},
   "outputs": [],
   "source": [
    "df_rf = df_prep_rf"
   ]
  },
  {
   "cell_type": "code",
   "execution_count": 14,
   "metadata": {},
   "outputs": [],
   "source": [
    "# Feature importance\n",
    "from prettytable import PrettyTable as PT # pip install PTable\n",
    "def print_RF_featureImportance(rf, X):\n",
    "    table = PT()\n",
    "    table.field_names = ['Feature', 'Score', 'Comment']\n",
    "    for name, score in zip(X.columns.values, rf.feature_importances_):\n",
    "        print(f\"{name}: {score:.5f}\\t\\t... {col_dict[name]}\")\n",
    "        table.add_row([name, round(score, ndigits=4), col_dict[name]])\n",
    "    print(table)\n",
    "\n",
    "def print_GridSearchResult(grid):\n",
    "    print(grid.best_params_)\n",
    "    print(grid.best_estimator_)"
   ]
  },
  {
   "cell_type": "code",
   "execution_count": 15,
   "metadata": {},
   "outputs": [
    {
     "name": "stdout",
     "output_type": "stream",
     "text": [
      "From 7752 using 1550 for testing and 6202 for training. Ratio = 20.00%\n"
     ]
    },
    {
     "data": {
      "text/html": [
       "<div>\n",
       "<style scoped>\n",
       "    .dataframe tbody tr th:only-of-type {\n",
       "        vertical-align: middle;\n",
       "    }\n",
       "\n",
       "    .dataframe tbody tr th {\n",
       "        vertical-align: top;\n",
       "    }\n",
       "\n",
       "    .dataframe thead th {\n",
       "        text-align: right;\n",
       "    }\n",
       "</style>\n",
       "<table border=\"1\" class=\"dataframe\">\n",
       "  <thead>\n",
       "    <tr style=\"text-align: right;\">\n",
       "      <th></th>\n",
       "      <th>Present_Tmax</th>\n",
       "      <th>Present_Tmin</th>\n",
       "      <th>LDAPS_RHmin</th>\n",
       "      <th>LDAPS_RHmax</th>\n",
       "      <th>LDAPS_Tmax_lapse</th>\n",
       "      <th>LDAPS_Tmin_lapse</th>\n",
       "      <th>LDAPS_WS</th>\n",
       "      <th>LDAPS_LH</th>\n",
       "      <th>LDAPS_CC1</th>\n",
       "      <th>LDAPS_CC2</th>\n",
       "      <th>...</th>\n",
       "      <th>LDAPS_CC4</th>\n",
       "      <th>LDAPS_PPT1</th>\n",
       "      <th>LDAPS_PPT2</th>\n",
       "      <th>LDAPS_PPT3</th>\n",
       "      <th>LDAPS_PPT4</th>\n",
       "      <th>lat</th>\n",
       "      <th>lon</th>\n",
       "      <th>DEM</th>\n",
       "      <th>Slope</th>\n",
       "      <th>Solar radiation</th>\n",
       "    </tr>\n",
       "  </thead>\n",
       "  <tbody>\n",
       "    <tr>\n",
       "      <th>5082</th>\n",
       "      <td>22.6</td>\n",
       "      <td>20.4</td>\n",
       "      <td>58.767471</td>\n",
       "      <td>92.432762</td>\n",
       "      <td>27.738858</td>\n",
       "      <td>20.461129</td>\n",
       "      <td>4.795663</td>\n",
       "      <td>46.229816</td>\n",
       "      <td>0.347618</td>\n",
       "      <td>0.183488</td>\n",
       "      <td>...</td>\n",
       "      <td>0.001978</td>\n",
       "      <td>0.004592</td>\n",
       "      <td>0.001633</td>\n",
       "      <td>0.000000</td>\n",
       "      <td>0.000000</td>\n",
       "      <td>37.4697</td>\n",
       "      <td>126.910</td>\n",
       "      <td>52.5180</td>\n",
       "      <td>1.5629</td>\n",
       "      <td>5673.949219</td>\n",
       "    </tr>\n",
       "    <tr>\n",
       "      <th>5597</th>\n",
       "      <td>35.0</td>\n",
       "      <td>28.0</td>\n",
       "      <td>63.308525</td>\n",
       "      <td>84.527557</td>\n",
       "      <td>31.884129</td>\n",
       "      <td>27.795744</td>\n",
       "      <td>5.584913</td>\n",
       "      <td>100.422219</td>\n",
       "      <td>0.363395</td>\n",
       "      <td>0.191068</td>\n",
       "      <td>...</td>\n",
       "      <td>0.067232</td>\n",
       "      <td>0.975154</td>\n",
       "      <td>0.000000</td>\n",
       "      <td>0.000207</td>\n",
       "      <td>0.000000</td>\n",
       "      <td>37.5372</td>\n",
       "      <td>126.891</td>\n",
       "      <td>15.5876</td>\n",
       "      <td>0.1554</td>\n",
       "      <td>5228.443848</td>\n",
       "    </tr>\n",
       "    <tr>\n",
       "      <th>1623</th>\n",
       "      <td>30.4</td>\n",
       "      <td>23.6</td>\n",
       "      <td>76.827095</td>\n",
       "      <td>87.603271</td>\n",
       "      <td>23.548905</td>\n",
       "      <td>21.463488</td>\n",
       "      <td>6.629432</td>\n",
       "      <td>66.126115</td>\n",
       "      <td>0.698366</td>\n",
       "      <td>0.630009</td>\n",
       "      <td>...</td>\n",
       "      <td>0.416622</td>\n",
       "      <td>0.356914</td>\n",
       "      <td>0.069469</td>\n",
       "      <td>0.248547</td>\n",
       "      <td>0.005955</td>\n",
       "      <td>37.5237</td>\n",
       "      <td>126.909</td>\n",
       "      <td>17.2956</td>\n",
       "      <td>0.2223</td>\n",
       "      <td>5838.980469</td>\n",
       "    </tr>\n",
       "    <tr>\n",
       "      <th>6821</th>\n",
       "      <td>28.0</td>\n",
       "      <td>25.7</td>\n",
       "      <td>47.731480</td>\n",
       "      <td>88.783661</td>\n",
       "      <td>33.380138</td>\n",
       "      <td>25.709458</td>\n",
       "      <td>5.568819</td>\n",
       "      <td>89.576574</td>\n",
       "      <td>0.206988</td>\n",
       "      <td>0.342325</td>\n",
       "      <td>...</td>\n",
       "      <td>0.063128</td>\n",
       "      <td>0.000000</td>\n",
       "      <td>0.000000</td>\n",
       "      <td>0.000000</td>\n",
       "      <td>0.000000</td>\n",
       "      <td>37.5102</td>\n",
       "      <td>127.086</td>\n",
       "      <td>21.9668</td>\n",
       "      <td>0.1332</td>\n",
       "      <td>5560.201660</td>\n",
       "    </tr>\n",
       "    <tr>\n",
       "      <th>3892</th>\n",
       "      <td>33.0</td>\n",
       "      <td>26.5</td>\n",
       "      <td>67.170654</td>\n",
       "      <td>90.186317</td>\n",
       "      <td>30.283875</td>\n",
       "      <td>25.515777</td>\n",
       "      <td>7.171682</td>\n",
       "      <td>77.769132</td>\n",
       "      <td>0.677158</td>\n",
       "      <td>0.581042</td>\n",
       "      <td>...</td>\n",
       "      <td>0.213825</td>\n",
       "      <td>0.000000</td>\n",
       "      <td>0.003209</td>\n",
       "      <td>0.000000</td>\n",
       "      <td>0.000000</td>\n",
       "      <td>37.4832</td>\n",
       "      <td>127.024</td>\n",
       "      <td>56.4448</td>\n",
       "      <td>1.2313</td>\n",
       "      <td>5413.949219</td>\n",
       "    </tr>\n",
       "    <tr>\n",
       "      <th>...</th>\n",
       "      <td>...</td>\n",
       "      <td>...</td>\n",
       "      <td>...</td>\n",
       "      <td>...</td>\n",
       "      <td>...</td>\n",
       "      <td>...</td>\n",
       "      <td>...</td>\n",
       "      <td>...</td>\n",
       "      <td>...</td>\n",
       "      <td>...</td>\n",
       "      <td>...</td>\n",
       "      <td>...</td>\n",
       "      <td>...</td>\n",
       "      <td>...</td>\n",
       "      <td>...</td>\n",
       "      <td>...</td>\n",
       "      <td>...</td>\n",
       "      <td>...</td>\n",
       "      <td>...</td>\n",
       "      <td>...</td>\n",
       "      <td>...</td>\n",
       "    </tr>\n",
       "    <tr>\n",
       "      <th>4838</th>\n",
       "      <td>28.3</td>\n",
       "      <td>20.4</td>\n",
       "      <td>43.729088</td>\n",
       "      <td>76.447403</td>\n",
       "      <td>32.676940</td>\n",
       "      <td>24.263681</td>\n",
       "      <td>6.362155</td>\n",
       "      <td>15.082080</td>\n",
       "      <td>0.108359</td>\n",
       "      <td>0.020878</td>\n",
       "      <td>...</td>\n",
       "      <td>0.043744</td>\n",
       "      <td>0.000000</td>\n",
       "      <td>0.000000</td>\n",
       "      <td>0.000000</td>\n",
       "      <td>0.000000</td>\n",
       "      <td>37.4967</td>\n",
       "      <td>126.927</td>\n",
       "      <td>30.9680</td>\n",
       "      <td>0.6180</td>\n",
       "      <td>5798.291504</td>\n",
       "    </tr>\n",
       "    <tr>\n",
       "      <th>6636</th>\n",
       "      <td>28.6</td>\n",
       "      <td>24.4</td>\n",
       "      <td>56.873791</td>\n",
       "      <td>84.853401</td>\n",
       "      <td>30.755015</td>\n",
       "      <td>23.758643</td>\n",
       "      <td>6.146817</td>\n",
       "      <td>16.834534</td>\n",
       "      <td>0.217765</td>\n",
       "      <td>0.172556</td>\n",
       "      <td>...</td>\n",
       "      <td>0.124229</td>\n",
       "      <td>0.000000</td>\n",
       "      <td>0.000000</td>\n",
       "      <td>0.000000</td>\n",
       "      <td>0.000000</td>\n",
       "      <td>37.5507</td>\n",
       "      <td>126.988</td>\n",
       "      <td>132.1180</td>\n",
       "      <td>0.5931</td>\n",
       "      <td>5751.119141</td>\n",
       "    </tr>\n",
       "    <tr>\n",
       "      <th>5369</th>\n",
       "      <td>29.7</td>\n",
       "      <td>26.2</td>\n",
       "      <td>78.213020</td>\n",
       "      <td>98.838699</td>\n",
       "      <td>29.586551</td>\n",
       "      <td>22.994015</td>\n",
       "      <td>10.830304</td>\n",
       "      <td>75.701864</td>\n",
       "      <td>0.782048</td>\n",
       "      <td>0.681032</td>\n",
       "      <td>...</td>\n",
       "      <td>0.471470</td>\n",
       "      <td>1.222988</td>\n",
       "      <td>8.604322</td>\n",
       "      <td>0.014133</td>\n",
       "      <td>0.589755</td>\n",
       "      <td>37.6181</td>\n",
       "      <td>127.004</td>\n",
       "      <td>146.5540</td>\n",
       "      <td>4.7296</td>\n",
       "      <td>5547.700195</td>\n",
       "    </tr>\n",
       "    <tr>\n",
       "      <th>2789</th>\n",
       "      <td>23.6</td>\n",
       "      <td>20.0</td>\n",
       "      <td>68.897232</td>\n",
       "      <td>95.118340</td>\n",
       "      <td>25.744147</td>\n",
       "      <td>20.965718</td>\n",
       "      <td>5.332390</td>\n",
       "      <td>39.705182</td>\n",
       "      <td>0.912933</td>\n",
       "      <td>0.862675</td>\n",
       "      <td>...</td>\n",
       "      <td>0.368405</td>\n",
       "      <td>1.712988</td>\n",
       "      <td>2.662846</td>\n",
       "      <td>0.010695</td>\n",
       "      <td>0.000000</td>\n",
       "      <td>37.5507</td>\n",
       "      <td>126.937</td>\n",
       "      <td>30.0464</td>\n",
       "      <td>0.8552</td>\n",
       "      <td>4912.248535</td>\n",
       "    </tr>\n",
       "    <tr>\n",
       "      <th>4050</th>\n",
       "      <td>31.4</td>\n",
       "      <td>23.1</td>\n",
       "      <td>76.807426</td>\n",
       "      <td>96.652817</td>\n",
       "      <td>27.554953</td>\n",
       "      <td>23.007233</td>\n",
       "      <td>7.612918</td>\n",
       "      <td>50.460918</td>\n",
       "      <td>0.490416</td>\n",
       "      <td>0.652233</td>\n",
       "      <td>...</td>\n",
       "      <td>0.384574</td>\n",
       "      <td>2.749202</td>\n",
       "      <td>2.009587</td>\n",
       "      <td>0.030672</td>\n",
       "      <td>0.000000</td>\n",
       "      <td>37.6046</td>\n",
       "      <td>126.991</td>\n",
       "      <td>212.3350</td>\n",
       "      <td>2.7850</td>\n",
       "      <td>5388.140137</td>\n",
       "    </tr>\n",
       "  </tbody>\n",
       "</table>\n",
       "<p>1551 rows × 21 columns</p>\n",
       "</div>"
      ],
      "text/plain": [
       "      Present_Tmax  Present_Tmin  LDAPS_RHmin  LDAPS_RHmax  LDAPS_Tmax_lapse  \\\n",
       "5082          22.6          20.4    58.767471    92.432762         27.738858   \n",
       "5597          35.0          28.0    63.308525    84.527557         31.884129   \n",
       "1623          30.4          23.6    76.827095    87.603271         23.548905   \n",
       "6821          28.0          25.7    47.731480    88.783661         33.380138   \n",
       "3892          33.0          26.5    67.170654    90.186317         30.283875   \n",
       "...            ...           ...          ...          ...               ...   \n",
       "4838          28.3          20.4    43.729088    76.447403         32.676940   \n",
       "6636          28.6          24.4    56.873791    84.853401         30.755015   \n",
       "5369          29.7          26.2    78.213020    98.838699         29.586551   \n",
       "2789          23.6          20.0    68.897232    95.118340         25.744147   \n",
       "4050          31.4          23.1    76.807426    96.652817         27.554953   \n",
       "\n",
       "      LDAPS_Tmin_lapse   LDAPS_WS    LDAPS_LH  LDAPS_CC1  LDAPS_CC2  ...  \\\n",
       "5082         20.461129   4.795663   46.229816   0.347618   0.183488  ...   \n",
       "5597         27.795744   5.584913  100.422219   0.363395   0.191068  ...   \n",
       "1623         21.463488   6.629432   66.126115   0.698366   0.630009  ...   \n",
       "6821         25.709458   5.568819   89.576574   0.206988   0.342325  ...   \n",
       "3892         25.515777   7.171682   77.769132   0.677158   0.581042  ...   \n",
       "...                ...        ...         ...        ...        ...  ...   \n",
       "4838         24.263681   6.362155   15.082080   0.108359   0.020878  ...   \n",
       "6636         23.758643   6.146817   16.834534   0.217765   0.172556  ...   \n",
       "5369         22.994015  10.830304   75.701864   0.782048   0.681032  ...   \n",
       "2789         20.965718   5.332390   39.705182   0.912933   0.862675  ...   \n",
       "4050         23.007233   7.612918   50.460918   0.490416   0.652233  ...   \n",
       "\n",
       "      LDAPS_CC4  LDAPS_PPT1  LDAPS_PPT2  LDAPS_PPT3  LDAPS_PPT4      lat  \\\n",
       "5082   0.001978    0.004592    0.001633    0.000000    0.000000  37.4697   \n",
       "5597   0.067232    0.975154    0.000000    0.000207    0.000000  37.5372   \n",
       "1623   0.416622    0.356914    0.069469    0.248547    0.005955  37.5237   \n",
       "6821   0.063128    0.000000    0.000000    0.000000    0.000000  37.5102   \n",
       "3892   0.213825    0.000000    0.003209    0.000000    0.000000  37.4832   \n",
       "...         ...         ...         ...         ...         ...      ...   \n",
       "4838   0.043744    0.000000    0.000000    0.000000    0.000000  37.4967   \n",
       "6636   0.124229    0.000000    0.000000    0.000000    0.000000  37.5507   \n",
       "5369   0.471470    1.222988    8.604322    0.014133    0.589755  37.6181   \n",
       "2789   0.368405    1.712988    2.662846    0.010695    0.000000  37.5507   \n",
       "4050   0.384574    2.749202    2.009587    0.030672    0.000000  37.6046   \n",
       "\n",
       "          lon       DEM   Slope  Solar radiation  \n",
       "5082  126.910   52.5180  1.5629      5673.949219  \n",
       "5597  126.891   15.5876  0.1554      5228.443848  \n",
       "1623  126.909   17.2956  0.2223      5838.980469  \n",
       "6821  127.086   21.9668  0.1332      5560.201660  \n",
       "3892  127.024   56.4448  1.2313      5413.949219  \n",
       "...       ...       ...     ...              ...  \n",
       "4838  126.927   30.9680  0.6180      5798.291504  \n",
       "6636  126.988  132.1180  0.5931      5751.119141  \n",
       "5369  127.004  146.5540  4.7296      5547.700195  \n",
       "2789  126.937   30.0464  0.8552      4912.248535  \n",
       "4050  126.991  212.3350  2.7850      5388.140137  \n",
       "\n",
       "[1551 rows x 21 columns]"
      ]
     },
     "metadata": {},
     "output_type": "display_data"
    }
   ],
   "source": [
    "# Split for random forest\n",
    "\n",
    "rnd_state = 42\n",
    "ratio = 0.2 # test/num_samples\n",
    "#####\n",
    "num_instances, _ = df_rf.shape\n",
    "print(f\"From {num_instances} using {num_instances*ratio:.0f} for testing and {num_instances*(1-ratio):.0f} for training. Ratio = {ratio*100:.2f}%\")\n",
    "X, y = (df_rf.drop(['Next_Tmin'], axis=1), df_rf.Next_Tmin)\n",
    "X_train, X_test, y_train, y_test = train_test_split(X, y, test_size = ratio, random_state = rnd_state)\n",
    "display(X_test)\n"
   ]
  },
  {
   "cell_type": "code",
   "execution_count": 16,
   "metadata": {},
   "outputs": [
    {
     "name": "stdout",
     "output_type": "stream",
     "text": [
      "Model performance:\n",
      "RMSE: 0.753850119797058\n",
      "R^2-score: 0.9088057026719321\n"
     ]
    }
   ],
   "source": [
    "# Simple training of RFRegressor\n",
    "before = 0\n",
    "n_cores = 2\n",
    "rf_model = RandomForestRegressor(n_jobs=n_cores)\n",
    "\n",
    "rf_model.fit(X_train, y_train)\n",
    "pred = rf_model.predict(X_test)\n",
    "error = math.sqrt(metrics.mean_squared_error(y_test, pred))\n",
    "\n",
    "print(\"Model performance:\")\n",
    "print(\"RMSE: {}\".format(error))\n",
    "print(\"R^2-score: {}\".format(rf_model.score(X_test, y_test)))"
   ]
  },
  {
   "cell_type": "code",
   "execution_count": 17,
   "metadata": {},
   "outputs": [
    {
     "name": "stdout",
     "output_type": "stream",
     "text": [
      "Present_Tmax: 0.01703\t\t... 2\n",
      "Present_Tmin: 0.06258\t\t... 3\n",
      "LDAPS_RHmin: 0.00930\t\t... 4\n",
      "LDAPS_RHmax: 0.00825\t\t... 5\n",
      "LDAPS_Tmax_lapse: 0.00808\t\t... 6\n",
      "LDAPS_Tmin_lapse: 0.76711\t\t... 7\n",
      "LDAPS_WS: 0.01342\t\t... 8\n",
      "LDAPS_LH: 0.00716\t\t... 9\n",
      "LDAPS_CC1: 0.01185\t\t... 10\n",
      "LDAPS_CC2: 0.00956\t\t... 11\n",
      "LDAPS_CC3: 0.01070\t\t... 12\n",
      "LDAPS_CC4: 0.01287\t\t... 13\n",
      "LDAPS_PPT1: 0.00537\t\t... 14\n",
      "LDAPS_PPT2: 0.00436\t\t... 15\n",
      "LDAPS_PPT3: 0.00284\t\t... 16\n",
      "LDAPS_PPT4: 0.00417\t\t... 17\n",
      "lat: 0.00722\t\t... 18\n",
      "lon: 0.00819\t\t... 19\n",
      "DEM: 0.00908\t\t... 20\n",
      "Slope: 0.00733\t\t... 21\n",
      "Solar radiation: 0.01354\t\t... 22\n",
      "+------------------+--------+---------+\n",
      "|     Feature      | Score  | Comment |\n",
      "+------------------+--------+---------+\n",
      "|   Present_Tmax   | 0.017  |    2    |\n",
      "|   Present_Tmin   | 0.0626 |    3    |\n",
      "|   LDAPS_RHmin    | 0.0093 |    4    |\n",
      "|   LDAPS_RHmax    | 0.0083 |    5    |\n",
      "| LDAPS_Tmax_lapse | 0.0081 |    6    |\n",
      "| LDAPS_Tmin_lapse | 0.7671 |    7    |\n",
      "|     LDAPS_WS     | 0.0134 |    8    |\n",
      "|     LDAPS_LH     | 0.0072 |    9    |\n",
      "|    LDAPS_CC1     | 0.0118 |    10   |\n",
      "|    LDAPS_CC2     | 0.0096 |    11   |\n",
      "|    LDAPS_CC3     | 0.0107 |    12   |\n",
      "|    LDAPS_CC4     | 0.0129 |    13   |\n",
      "|    LDAPS_PPT1    | 0.0054 |    14   |\n",
      "|    LDAPS_PPT2    | 0.0044 |    15   |\n",
      "|    LDAPS_PPT3    | 0.0028 |    16   |\n",
      "|    LDAPS_PPT4    | 0.0042 |    17   |\n",
      "|       lat        | 0.0072 |    18   |\n",
      "|       lon        | 0.0082 |    19   |\n",
      "|       DEM        | 0.0091 |    20   |\n",
      "|      Slope       | 0.0073 |    21   |\n",
      "| Solar radiation  | 0.0135 |    22   |\n",
      "+------------------+--------+---------+\n"
     ]
    }
   ],
   "source": [
    "print_RF_featureImportance(rf_model, X_train)"
   ]
  },
  {
   "cell_type": "code",
   "execution_count": 18,
   "metadata": {},
   "outputs": [],
   "source": [
    "rf_model_prediction = rf_model.predict(X_test)"
   ]
  },
  {
   "cell_type": "code",
   "execution_count": 19,
   "metadata": {},
   "outputs": [
    {
     "data": {
      "text/plain": [
       "<matplotlib.axes._subplots.AxesSubplot at 0x11daf60d0>"
      ]
     },
     "execution_count": 19,
     "metadata": {},
     "output_type": "execute_result"
    },
    {
     "data": {
      "image/png": "[encoded data removed]",
      "text/plain": [
       "<Figure size 432x288 with 1 Axes>"
      ]
     },
     "metadata": {
      "needs_background": "light"
     },
     "output_type": "display_data"
    }
   ],
   "source": [
    "sns.distplot(y_test-rf_model_prediction)"
   ]
  },
  {
   "cell_type": "code",
   "execution_count": 20,
   "metadata": {},
   "outputs": [
    {
     "name": "stdout",
     "output_type": "stream",
     "text": [
      "Model performance:\n",
      "RMSE: 0.753850119797058\n",
      "R^2-score: 0.9088057026719321\n",
      "Feature importance\n",
      "Present_Tmax: 0.01640\t\t... 2\n",
      "Present_Tmin: 0.06182\t\t... 3\n",
      "LDAPS_RHmin: 0.00929\t\t... 4\n",
      "LDAPS_RHmax: 0.00812\t\t... 5\n",
      "LDAPS_Tmax_lapse: 0.00787\t\t... 6\n",
      "LDAPS_Tmin_lapse: 0.76902\t\t... 7\n",
      "LDAPS_WS: 0.01380\t\t... 8\n",
      "LDAPS_LH: 0.00712\t\t... 9\n",
      "LDAPS_CC1: 0.01196\t\t... 10\n",
      "LDAPS_CC2: 0.00949\t\t... 11\n",
      "LDAPS_CC3: 0.01051\t\t... 12\n",
      "LDAPS_CC4: 0.01270\t\t... 13\n",
      "LDAPS_PPT1: 0.00523\t\t... 14\n",
      "LDAPS_PPT2: 0.00443\t\t... 15\n",
      "LDAPS_PPT3: 0.00281\t\t... 16\n",
      "LDAPS_PPT4: 0.00425\t\t... 17\n",
      "lat: 0.00716\t\t... 18\n",
      "lon: 0.00805\t\t... 19\n",
      "DEM: 0.00887\t\t... 20\n",
      "Slope: 0.00764\t\t... 21\n",
      "Solar radiation: 0.01346\t\t... 22\n",
      "+------------------+--------+---------+\n",
      "|     Feature      | Score  | Comment |\n",
      "+------------------+--------+---------+\n",
      "|   Present_Tmax   | 0.0164 |    2    |\n",
      "|   Present_Tmin   | 0.0618 |    3    |\n",
      "|   LDAPS_RHmin    | 0.0093 |    4    |\n",
      "|   LDAPS_RHmax    | 0.0081 |    5    |\n",
      "| LDAPS_Tmax_lapse | 0.0079 |    6    |\n",
      "| LDAPS_Tmin_lapse | 0.769  |    7    |\n",
      "|     LDAPS_WS     | 0.0138 |    8    |\n",
      "|     LDAPS_LH     | 0.0071 |    9    |\n",
      "|    LDAPS_CC1     | 0.012  |    10   |\n",
      "|    LDAPS_CC2     | 0.0095 |    11   |\n",
      "|    LDAPS_CC3     | 0.0105 |    12   |\n",
      "|    LDAPS_CC4     | 0.0127 |    13   |\n",
      "|    LDAPS_PPT1    | 0.0052 |    14   |\n",
      "|    LDAPS_PPT2    | 0.0044 |    15   |\n",
      "|    LDAPS_PPT3    | 0.0028 |    16   |\n",
      "|    LDAPS_PPT4    | 0.0042 |    17   |\n",
      "|       lat        | 0.0072 |    18   |\n",
      "|       lon        | 0.008  |    19   |\n",
      "|       DEM        | 0.0089 |    20   |\n",
      "|      Slope       | 0.0076 |    21   |\n",
      "| Solar radiation  | 0.0135 |    22   |\n",
      "+------------------+--------+---------+\n"
     ]
    }
   ],
   "source": [
    "n_cores = 2\n",
    "number_of_trees = 500 # default = 100\n",
    "rf = RandomForestRegressor(n_jobs=n_cores, n_estimators=number_of_trees, bootstrap=True) #, verbose=1)\n",
    "\n",
    "rf.fit(X_train, y_train)\n",
    "print(\"Model performance:\")\n",
    "print(\"RMSE: {}\".format(error))\n",
    "print(\"R^2-score: {}\".format(rf_model.score(X_test, y_test)))\n",
    "\n",
    "print(\"Feature importance\")\n",
    "print_RF_featureImportance(rf, X_train)\n",
    "rf_RD = rf"
   ]
  },
  {
   "cell_type": "code",
   "execution_count": 21,
   "metadata": {},
   "outputs": [],
   "source": [
    "rfRD_prediction = rf_RD.predict(X_test)"
   ]
  },
  {
   "cell_type": "code",
   "execution_count": 22,
   "metadata": {},
   "outputs": [
    {
     "data": {
      "text/plain": [
       "<matplotlib.axes._subplots.AxesSubplot at 0x121d1edd0>"
      ]
     },
     "execution_count": 22,
     "metadata": {},
     "output_type": "execute_result"
    },
    {
     "data": {
      "image/png": "[encoded data removed]",
      "text/plain": [
       "<Figure size 432x288 with 1 Axes>"
      ]
     },
     "metadata": {
      "needs_background": "light"
     },
     "output_type": "display_data"
    }
   ],
   "source": [
    "sns.distplot(y_test-rfRD_prediction)"
   ]
  },
  {
   "cell_type": "markdown",
   "metadata": {},
   "source": [
    "## Optimize Hyperparameters via GridSearch\n",
    "\n",
    "\n",
    "## Notes on the RandomForestRegressor from scikit-learn\n",
    "-----\n",
    "The default values for the parameters controlling the size of the trees\n",
    "(e.g. ``max_depth``, ``min_samples_leaf``, etc.) lead to fully grown and\n",
    "unpruned trees which can potentially be very large on some data sets. To\n",
    "reduce memory consumption, the complexity and size of the trees should be\n",
    "controlled by setting those parameter values.\n",
    "\n",
    "## Number of variables/features per tree --> 'max_features'\n",
    "\n",
    "A good starting point is/might be: *the square root of the number of features presented to the tree*. Then, test some values below and above that starting point.\n",
    "\n",
    "## Number of trees in the forest --> 'n_estimators'\n",
    "\n",
    "The more the merrier"
   ]
  },
  {
   "cell_type": "code",
   "execution_count": 23,
   "metadata": {},
   "outputs": [
    {
     "name": "stdout",
     "output_type": "stream",
     "text": [
      "21\n"
     ]
    },
    {
     "data": {
      "text/plain": [
       "5.0"
      ]
     },
     "execution_count": 23,
     "metadata": {},
     "output_type": "execute_result"
    }
   ],
   "source": [
    "from numpy import sqrt\n",
    "num_features = X.shape[1]\n",
    "print(num_features)\n",
    "sqrt_num_features = round(sqrt(num_features), 0)\n",
    "sqrt_num_features"
   ]
  },
  {
   "cell_type": "code",
   "execution_count": 30,
   "metadata": {},
   "outputs": [
    {
     "data": {
      "text/plain": [
       "GridSearchCV(cv=10, error_score=nan,\n",
       "             estimator=RandomForestRegressor(bootstrap=True, ccp_alpha=0.0,\n",
       "                                             criterion='mse', max_depth=None,\n",
       "                                             max_features='auto',\n",
       "                                             max_leaf_nodes=None,\n",
       "                                             max_samples=None,\n",
       "                                             min_impurity_decrease=0.0,\n",
       "                                             min_impurity_split=None,\n",
       "                                             min_samples_leaf=1,\n",
       "                                             min_samples_split=2,\n",
       "                                             min_weight_fraction_leaf=0.0,\n",
       "                                             n_estimators=100, n_jobs=2,\n",
       "                                             oob_score=False, random_state=None,\n",
       "                                             verbose=0, warm_start=False),\n",
       "             iid='deprecated', n_jobs=2,\n",
       "             param_grid=[{'max_features': [1, 2, 3, 4, 5, 6, 7, 8, 9, 10, 11,\n",
       "                                           12, 13, 14, 15, 16, 17, 18, 19, 20,\n",
       "                                           21],\n",
       "                          'n_estimators': [3, 10, 30]}],\n",
       "             pre_dispatch='2*n_jobs', refit=True, return_train_score=True,\n",
       "             scoring='neg_mean_squared_error', verbose=0)"
      ]
     },
     "execution_count": 30,
     "metadata": {},
     "output_type": "execute_result"
    }
   ],
   "source": [
    "n_cores = 2\n",
    "# but since we dont have that many features...we are just gonna brute force it :D\n",
    "param_grid = [\n",
    "    {\n",
    "        'n_estimators': [3, 10, 30], 'max_features': [i for i in range(1,num_features+1)]\n",
    "    }\n",
    "#,{'bootstrap': [False], 'n_estimators': [3, 30, 100, 1000], 'max_features': [2, 3, 4]},\n",
    "]\n",
    "k = 10\n",
    "forest_reg = RandomForestRegressor(n_jobs=n_cores)\n",
    "grid_search = GridSearchCV(forest_reg, param_grid, n_jobs=n_cores , cv=k, scoring='neg_mean_squared_error', return_train_score=True)\n",
    "grid_search.fit(X_train, y_train)"
   ]
  },
  {
   "cell_type": "code",
   "execution_count": 47,
   "metadata": {},
   "outputs": [
    {
     "name": "stdout",
     "output_type": "stream",
     "text": [
      "{'max_features': 7, 'n_estimators': 30}\n",
      "RandomForestRegressor(bootstrap=True, ccp_alpha=0.0, criterion='mse',\n",
      "                      max_depth=None, max_features=7, max_leaf_nodes=None,\n",
      "                      max_samples=None, min_impurity_decrease=0.0,\n",
      "                      min_impurity_split=None, min_samples_leaf=1,\n",
      "                      min_samples_split=2, min_weight_fraction_leaf=0.0,\n",
      "                      n_estimators=30, n_jobs=2, oob_score=False,\n",
      "                      random_state=None, verbose=0, warm_start=False)\n",
      "Model performance:\n",
      "RMSE: 0.7438909271810592\n",
      "R^2-score: -0.553373711542296\n"
     ]
    }
   ],
   "source": [
    "print_GridSearchResult(grid_search)\n",
    "grid_search.scorer_\n",
    "scores = grid_search.score(X_test, y_test)\n",
    "pred = grid_search.predict(X_test)\n",
    "error = math.sqrt(metrics.mean_squared_error(y_test, pred))\n",
    "\n",
    "print(\"Model performance:\")\n",
    "print(\"RMSE: {}\".format(error))\n",
    "print(\"R^2-score: {}\".format(grid_search.score(X_test, y_test)))"
   ]
  },
  {
   "cell_type": "markdown",
   "metadata": {},
   "source": [
    "## k-fold cross validation"
   ]
  },
  {
   "cell_type": "code",
   "execution_count": 49,
   "metadata": {},
   "outputs": [],
   "source": [
    "from sklearn.model_selection import cross_val_score\n",
    "from prettytable import PrettyTable\n",
    "\n",
    "def display_scores(scores):\n",
    "    print(\"Scores:\", scores)\n",
    "    table = PrettyTable()\n",
    "    table.field_names = ['Run', 'Score']\n",
    "    for i, score in enumerate(scores):\n",
    "        table.add_row([i, round(score, 3)])\n",
    "    print(table)\n",
    "    print(\"Mean:\", scores.mean())\n",
    "    print(\"Standard deviation:\", scores.std())"
   ]
  },
  {
   "cell_type": "code",
   "execution_count": 50,
   "metadata": {},
   "outputs": [],
   "source": [
    "k = 5\n",
    "model = rf_RD\n",
    "scores = cross_val_score(model, X, y, scoring=\"neg_mean_squared_error\", cv=k)"
   ]
  },
  {
   "cell_type": "code",
   "execution_count": 53,
   "metadata": {},
   "outputs": [
    {
     "name": "stdout",
     "output_type": "stream",
     "text": [
      "Scores: [-1.09805826 -1.30455837 -1.04014477 -1.37506812 -0.85017827]\n",
      "+-----+--------+\n",
      "| Run | Score  |\n",
      "+-----+--------+\n",
      "|  0  | -1.098 |\n",
      "|  1  | -1.305 |\n",
      "|  2  | -1.04  |\n",
      "|  3  | -1.375 |\n",
      "|  4  | -0.85  |\n",
      "+-----+--------+\n",
      "Mean: -1.133601559336315\n",
      "Standard deviation: 0.1886046593130292\n"
     ]
    }
   ],
   "source": [
    "display_scores(scores)"
   ]
  },
  {
   "cell_type": "markdown",
   "metadata": {},
   "source": [
    "# b) Linear regression"
   ]
  },
  {
   "cell_type": "code",
   "execution_count": 36,
   "metadata": {},
   "outputs": [],
   "source": [
    "df_lin = df_prep_rf"
   ]
  },
  {
   "cell_type": "code",
   "execution_count": 37,
   "metadata": {},
   "outputs": [
    {
     "data": {
      "text/plain": [
       "LinearRegression(copy_X=True, fit_intercept=True, n_jobs=None, normalize=True)"
      ]
     },
     "execution_count": 37,
     "metadata": {},
     "output_type": "execute_result"
    }
   ],
   "source": [
    "linreg = LinearRegression(normalize=True)\n",
    "linreg.fit(X_train, y_train)"
   ]
  },
  {
   "cell_type": "code",
   "execution_count": 38,
   "metadata": {},
   "outputs": [
    {
     "name": "stdout",
     "output_type": "stream",
     "text": [
      "Model performance:\n",
      "RMSE: 0.9818378084004215\n",
      "R^2-score: 0.8453046823462249\n"
     ]
    },
    {
     "data": {
      "text/plain": [
       "<matplotlib.axes._subplots.AxesSubplot at 0x134305c50>"
      ]
     },
     "execution_count": 38,
     "metadata": {},
     "output_type": "execute_result"
    },
    {
     "data": {
      "image/png": "[encoded data removed]",
      "text/plain": [
       "<Figure size 432x288 with 1 Axes>"
      ]
     },
     "metadata": {
      "needs_background": "light"
     },
     "output_type": "display_data"
    }
   ],
   "source": [
    "linreg.coef_\n",
    "\n",
    "pred_linreg = linreg.predict(X_test)\n",
    "error = math.sqrt(metrics.mean_squared_error(y_test, pred_linreg))\n",
    "\n",
    "print(\"Model performance:\")\n",
    "print(\"RMSE: {}\".format(error))\n",
    "print(\"R^2-score: {}\".format(linreg.score(X_test, y_test)))\n",
    "\n",
    "sns.distplot(y_test)\n",
    "sns.distplot(pred, color='red')"
   ]
  },
  {
   "cell_type": "markdown",
   "metadata": {},
   "source": [
    "# c) Lasso Regression"
   ]
  },
  {
   "cell_type": "code",
   "execution_count": 51,
   "metadata": {},
   "outputs": [],
   "source": [
    "lasso = Lasso(normalize = True)\n",
    "parameters = {'alpha':[1e-15,1e-10,1e-8,1e-3,1e-2,1,2,5,10,20,30,35,40,45,50,55,100]}\n",
    "lasso_regressor = GridSearchCV(lasso, parameters, scoring = 'neg_mean_squared_error',cv = 5)"
   ]
  },
  {
   "cell_type": "code",
   "execution_count": 54,
   "metadata": {},
   "outputs": [
    {
     "name": "stdout",
     "output_type": "stream",
     "text": [
      "{'alpha': 1e-08}\n",
      "-1.0771102592532196\n"
     ]
    }
   ],
   "source": [
    "lasso_regressor.fit(X_train,y_train)\n",
    "print(lasso_regressor.best_params_)\n",
    "print(lasso_regressor.best_score_)"
   ]
  },
  {
   "cell_type": "code",
   "execution_count": 55,
   "metadata": {},
   "outputs": [],
   "source": [
    "y_lasso_pred = lasso_regressor.predict(X_test)"
   ]
  },
  {
   "cell_type": "code",
   "execution_count": 57,
   "metadata": {},
   "outputs": [
    {
     "data": {
      "text/plain": [
       "<matplotlib.axes._subplots.AxesSubplot at 0x1488be690>"
      ]
     },
     "execution_count": 57,
     "metadata": {},
     "output_type": "execute_result"
    },
    {
     "data": {
      "image/png": "[encoded data removed]",
      "text/plain": [
       "<Figure size 432x288 with 1 Axes>"
      ]
     },
     "metadata": {
      "needs_background": "light"
     },
     "output_type": "display_data"
    }
   ],
   "source": [
    "sns.distplot(y_train)\n",
    "sns.distplot(y_lasso_pred, color='red')"
   ]
  },
  {
   "cell_type": "markdown",
   "metadata": {},
   "source": [
    "# d) kNN"
   ]
  },
  {
   "cell_type": "code",
   "execution_count": 39,
   "metadata": {},
   "outputs": [],
   "source": [
    "df_knn = df_prep_rf\n",
    "\n",
    "from sklearn.preprocessing import MinMaxScaler\n",
    "\n",
    "scaler = MinMaxScaler(feature_range=(0,1))\n",
    "\n",
    "X_train_knn_scaled = scaler.fit_transform(X_train)\n",
    "X_train_knn = pd.DataFrame(X_train_knn_scaled)\n",
    "\n",
    "X_test_knn_scaled = scaler.fit_transform(X_test)\n",
    "X_test_knn = pd.DataFrame(X_test_knn_scaled)"
   ]
  },
  {
   "cell_type": "code",
   "execution_count": 42,
   "metadata": {},
   "outputs": [
    {
     "name": "stdout",
     "output_type": "stream",
     "text": [
      "RMSE for k=1: 1.2146435193573817\n",
      "R^2 for k=1: 0.7632470823882425\n",
      "\n",
      "RMSE for k=2: 1.0564007464991036\n",
      "R^2 for k=2: 0.8209167102143056\n",
      "\n",
      "RMSE for k=3: 0.9821909144270027\n",
      "R^2 for k=3: 0.8451933937588809\n",
      "\n",
      "RMSE for k=4: 0.9547631571701589\n",
      "R^2 for k=4: 0.8537186469346247\n",
      "\n",
      "RMSE for k=5: 0.9345947103920778\n",
      "R^2 for k=5: 0.859833476332077\n",
      "\n",
      "RMSE for k=6: 0.9360556966799545\n",
      "R^2 for k=6: 0.8593949088396932\n",
      "\n",
      "RMSE for k=7: 0.9472156584042599\n",
      "R^2 for k=7: 0.8560222433342335\n",
      "\n",
      "RMSE for k=8: 0.9611254153855512\n",
      "R^2 for k=8: 0.8517626003066748\n",
      "\n",
      "RMSE for k=9: 0.9740188603551524\n",
      "R^2 for k=9: 0.8477587301454143\n",
      "\n",
      "RMSE for k=10: 0.9786667939361897\n",
      "R^2 for k=10: 0.846302299146334\n",
      "\n",
      "RMSE for k=11: 0.9876002443689836\n",
      "R^2 for k=11: 0.8434835307344557\n",
      "\n",
      "RMSE for k=12: 0.9967256704374464\n",
      "R^2 for k=12: 0.8405777434425437\n",
      "\n",
      "RMSE for k=13: 1.0091215204360602\n",
      "R^2 for k=13: 0.836587753308617\n",
      "\n",
      "RMSE for k=14: 1.0123010834916573\n",
      "R^2 for k=14: 0.8355563649507283\n",
      "\n",
      "RMSE for k=15: 1.0197173819124838\n",
      "R^2 for k=15: 0.833138051942357\n",
      "\n",
      "RMSE for k=16: 1.0254361870552438\n",
      "R^2 for k=16: 0.8312612048648929\n",
      "\n",
      "RMSE for k=17: 1.0334387890916858\n",
      "R^2 for k=17: 0.8286172206351694\n",
      "\n",
      "RMSE for k=18: 1.045143685794677\n",
      "R^2 for k=18: 0.8247130165490962\n",
      "\n",
      "RMSE for k=19: 1.0500437018623296\n",
      "R^2 for k=19: 0.8230655445564922\n",
      "\n",
      "RMSE for k=20: 1.0577935194950225\n",
      "R^2 for k=20: 0.8204441872787251\n",
      "\n",
      "RMSE for k=21: 1.064442532177534\n",
      "R^2 for k=21: 0.8181798114297982\n",
      "\n",
      "RMSE for k=22: 1.0742328598911128\n",
      "R^2 for k=22: 0.8148198076444916\n",
      "\n",
      "RMSE for k=23: 1.0808740969854183\n",
      "R^2 for k=23: 0.8125230483698129\n",
      "\n",
      "RMSE for k=24: 1.0892318314372471\n",
      "R^2 for k=24: 0.8096125512980942\n",
      "\n",
      "RMSE for k=25: 1.0943878383156138\n",
      "R^2 for k=25: 0.8078058425361312\n",
      "\n",
      "RMSE for k=26: 1.1007236155767264\n",
      "R^2 for k=26: 0.805574048350721\n",
      "\n",
      "RMSE for k=27: 1.110266638667888\n",
      "R^2 for k=27: 0.8021881768809556\n",
      "\n",
      "RMSE for k=28: 1.114751553769643\n",
      "R^2 for k=28: 0.8005868298547203\n",
      "\n",
      "RMSE for k=29: 1.1208459547031413\n",
      "R^2 for k=29: 0.7984004666804898\n",
      "\n",
      "RMSE for k=30: 1.12655058709752\n",
      "R^2 for k=30: 0.7963431315737732\n",
      "\n",
      "RMSE for k=31: 1.1308996017325272\n",
      "R^2 for k=31: 0.7947676740071083\n",
      "\n",
      "RMSE for k=32: 1.1376421817026257\n",
      "R^2 for k=32: 0.7923131315205689\n",
      "\n",
      "RMSE for k=33: 1.1451758545504724\n",
      "R^2 for k=33: 0.7895533435514109\n",
      "\n",
      "RMSE for k=34: 1.1505048443545223\n",
      "R^2 for k=34: 0.7875901910525391\n",
      "\n",
      "RMSE for k=35: 1.1585765341928422\n",
      "R^2 for k=35: 0.7845992946571172\n",
      "\n"
     ]
    }
   ],
   "source": [
    "rmse_val_knn = [] # to store rmse values for different k\n",
    "for k in range(35):\n",
    "    k = k + 1\n",
    "    model = KNeighborsRegressor(n_neighbors=k)\n",
    "    model.fit(X_train_knn, y_train)\n",
    "    pred = model.predict(X_test_knn)\n",
    "    error = sqrt(metrics.mean_squared_error(y_test, pred))\n",
    "    rmse_val_knn.append(error)\n",
    "    print(\"RMSE for k={}: {}\".format(k, error))\n",
    "    print(\"R^2 for k={}: {}\\n\".format(k, model.score(X_test_knn, y_test)))"
   ]
  },
  {
   "cell_type": "code",
   "execution_count": 43,
   "metadata": {},
   "outputs": [
    {
     "data": {
      "text/plain": [
       "Text(0, 0.5, 'RMSE')"
      ]
     },
     "execution_count": 43,
     "metadata": {},
     "output_type": "execute_result"
    },
    {
     "data": {
      "image/png": "[encoded data removed]",
      "text/plain": [
       "<Figure size 1440x720 with 1 Axes>"
      ]
     },
     "metadata": {
      "needs_background": "light"
     },
     "output_type": "display_data"
    }
   ],
   "source": [
    "plt.figure(figsize=(20,10))\n",
    "plt.plot(range(1,36), rmse_val_knn, color='blue', linestyle='dashed', marker='o',\n",
    "        markerfacecolor='red', markersize=5)\n",
    "plt.title('RMSE vs. k-Value')\n",
    "plt.xlabel('k')\n",
    "plt.ylabel('RMSE')"
   ]
  },
  {
   "cell_type": "markdown",
   "metadata": {},
   "source": [
    "## Optimizing kNN-search for optimal k-Value via Gridsearch"
   ]
  },
  {
   "cell_type": "code",
   "execution_count": 45,
   "metadata": {},
   "outputs": [
    {
     "name": "stdout",
     "output_type": "stream",
     "text": [
      "Best k-Value is:  6\n"
     ]
    }
   ],
   "source": [
    "params = {'n_neighbors': range(1, 35)}\n",
    "\n",
    "knn = KNeighborsRegressor()\n",
    "\n",
    "model = GridSearchCV(knn, params, cv=100)\n",
    "model.fit(X_train_knn, y_train)\n",
    "print(\"Best k-Value is: \", model.best_params_['n_neighbors'])"
   ]
  },
  {
   "cell_type": "code",
   "execution_count": 46,
   "metadata": {},
   "outputs": [
    {
     "data": {
      "text/plain": [
       "<matplotlib.axes._subplots.AxesSubplot at 0x134335d50>"
      ]
     },
     "execution_count": 46,
     "metadata": {},
     "output_type": "execute_result"
    },
    {
     "data": {
      "image/png": "[encoded data removed]",
      "text/plain": [
       "<Figure size 432x288 with 1 Axes>"
      ]
     },
     "metadata": {
      "needs_background": "light"
     },
     "output_type": "display_data"
    }
   ],
   "source": [
    "model_cv = KNeighborsRegressor(n_neighbors=model.best_params_['n_neighbors'])\n",
    "model_cv.fit(X_train_knn, y_train)\n",
    "pred_cv = model.predict(X_test_knn)\n",
    "sns.distplot(y_test)\n",
    "sns.distplot(pred_cv, color='red')"
   ]
  },
  {
   "cell_type": "code",
   "execution_count": null,
   "metadata": {},
   "outputs": [],
   "source": []
  }
 ],
 "metadata": {
  "kernelspec": {
   "display_name": "Python 3",
   "language": "python",
   "name": "python3"
  },
  "language_info": {
   "codemirror_mode": {
    "name": "ipython",
    "version": 3
   },
   "file_extension": ".py",
   "mimetype": "text/x-python",
   "name": "python",
   "nbconvert_exporter": "python",
   "pygments_lexer": "ipython3",
   "version": "3.7.5"
  }
 },
 "nbformat": 4,
 "nbformat_minor": 2
}
