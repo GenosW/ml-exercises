{
 "cells": [
  {
   "cell_type": "markdown",
   "metadata": {},
   "source": [
    "# Appliance Energy Dataset\n",
    "\n",
    "URL: https://archive.ics.uci.edu/ml/datasets/Appliances+energy+prediction\n",
    "\n",
    "## Content\n",
    "\n",
    "1) [Data exploration & preprocessing](#dataproc)\n",
    "\n",
    "2) [Model training](#train)\n",
    "    \n",
    "2.a) [Linear regression](#linear)\n",
    "\n",
    "2.b) [Lasso Regression](#lasso)\n",
    "\n",
    "2.c) [Random Forest](#rf)\n",
    "\n",
    "2.d) [kNN](#knn)\n",
    "\n",
    "3) Evaluation\n",
    "\n",
    "---"
   ]
  },
  {
   "cell_type": "markdown",
   "metadata": {},
   "source": [
    "<a id='dataproc'></a>"
   ]
  },
  {
   "cell_type": "markdown",
   "metadata": {},
   "source": [
    "# 1) Data exploration & preprocessing\n",
    "\n",
    "data.describe()\n",
    "\n"
   ]
  },
  {
   "cell_type": "code",
   "execution_count": 4,
   "metadata": {},
   "outputs": [],
   "source": [
    "# Basic imports\n",
    "import numpy as np\n",
    "import pandas as pd\n",
    "import glob\n",
    "import matplotlib.pyplot as plt\n",
    "import seaborn as sns\n",
    "from IPython.display import display\n",
    "\n",
    "# models for linear regression\n",
    "from sklearn.linear_model import LinearRegression\n",
    "from sklearn import linear_model\n",
    "\n",
    "# models for Lasso regression\n",
    "from sklearn.linear_model import Lasso\n",
    "from sklearn.model_selection import GridSearchCV\n",
    "\n",
    "# Imports for RandomForestRegressor\n",
    "from sklearn.ensemble import RandomForestRegressor\n",
    "\n",
    "# statistic tools\n",
    "from sklearn import metrics\n",
    "from statistics import stdev\n",
    "\n",
    "# data processing\n",
    "from sklearn.model_selection import train_test_split\n",
    "from sklearn import preprocessing\n",
    "from sklearn.preprocessing import StandardScaler"
   ]
  },
  {
   "cell_type": "markdown",
   "metadata": {},
   "source": [
    "---"
   ]
  },
  {
   "cell_type": "code",
   "execution_count": 5,
   "metadata": {},
   "outputs": [
    {
     "data": {
      "text/html": [
       "<div>\n",
       "<style scoped>\n",
       "    .dataframe tbody tr th:only-of-type {\n",
       "        vertical-align: middle;\n",
       "    }\n",
       "\n",
       "    .dataframe tbody tr th {\n",
       "        vertical-align: top;\n",
       "    }\n",
       "\n",
       "    .dataframe thead th {\n",
       "        text-align: right;\n",
       "    }\n",
       "</style>\n",
       "<table border=\"1\" class=\"dataframe\">\n",
       "  <thead>\n",
       "    <tr style=\"text-align: right;\">\n",
       "      <th></th>\n",
       "      <th>date</th>\n",
       "      <th>Appliances</th>\n",
       "      <th>lights</th>\n",
       "      <th>T1</th>\n",
       "      <th>RH_1</th>\n",
       "      <th>T2</th>\n",
       "      <th>RH_2</th>\n",
       "      <th>T3</th>\n",
       "      <th>RH_3</th>\n",
       "      <th>T4</th>\n",
       "      <th>...</th>\n",
       "      <th>T9</th>\n",
       "      <th>RH_9</th>\n",
       "      <th>T_out</th>\n",
       "      <th>Press_mm_hg</th>\n",
       "      <th>RH_out</th>\n",
       "      <th>Windspeed</th>\n",
       "      <th>Visibility</th>\n",
       "      <th>Tdewpoint</th>\n",
       "      <th>rv1</th>\n",
       "      <th>rv2</th>\n",
       "    </tr>\n",
       "  </thead>\n",
       "  <tbody>\n",
       "    <tr>\n",
       "      <th>0</th>\n",
       "      <td>2016-01-11 17:00:00</td>\n",
       "      <td>60</td>\n",
       "      <td>30</td>\n",
       "      <td>19.890000</td>\n",
       "      <td>47.596667</td>\n",
       "      <td>19.200000</td>\n",
       "      <td>44.790000</td>\n",
       "      <td>19.790000</td>\n",
       "      <td>44.730000</td>\n",
       "      <td>19.000000</td>\n",
       "      <td>...</td>\n",
       "      <td>17.033333</td>\n",
       "      <td>45.5300</td>\n",
       "      <td>6.600000</td>\n",
       "      <td>733.5</td>\n",
       "      <td>92.000000</td>\n",
       "      <td>7.000000</td>\n",
       "      <td>63.000000</td>\n",
       "      <td>5.300000</td>\n",
       "      <td>13.275433</td>\n",
       "      <td>13.275433</td>\n",
       "    </tr>\n",
       "    <tr>\n",
       "      <th>1</th>\n",
       "      <td>2016-01-11 17:10:00</td>\n",
       "      <td>60</td>\n",
       "      <td>30</td>\n",
       "      <td>19.890000</td>\n",
       "      <td>46.693333</td>\n",
       "      <td>19.200000</td>\n",
       "      <td>44.722500</td>\n",
       "      <td>19.790000</td>\n",
       "      <td>44.790000</td>\n",
       "      <td>19.000000</td>\n",
       "      <td>...</td>\n",
       "      <td>17.066667</td>\n",
       "      <td>45.5600</td>\n",
       "      <td>6.483333</td>\n",
       "      <td>733.6</td>\n",
       "      <td>92.000000</td>\n",
       "      <td>6.666667</td>\n",
       "      <td>59.166667</td>\n",
       "      <td>5.200000</td>\n",
       "      <td>18.606195</td>\n",
       "      <td>18.606195</td>\n",
       "    </tr>\n",
       "    <tr>\n",
       "      <th>2</th>\n",
       "      <td>2016-01-11 17:20:00</td>\n",
       "      <td>50</td>\n",
       "      <td>30</td>\n",
       "      <td>19.890000</td>\n",
       "      <td>46.300000</td>\n",
       "      <td>19.200000</td>\n",
       "      <td>44.626667</td>\n",
       "      <td>19.790000</td>\n",
       "      <td>44.933333</td>\n",
       "      <td>18.926667</td>\n",
       "      <td>...</td>\n",
       "      <td>17.000000</td>\n",
       "      <td>45.5000</td>\n",
       "      <td>6.366667</td>\n",
       "      <td>733.7</td>\n",
       "      <td>92.000000</td>\n",
       "      <td>6.333333</td>\n",
       "      <td>55.333333</td>\n",
       "      <td>5.100000</td>\n",
       "      <td>28.642668</td>\n",
       "      <td>28.642668</td>\n",
       "    </tr>\n",
       "    <tr>\n",
       "      <th>3</th>\n",
       "      <td>2016-01-11 17:30:00</td>\n",
       "      <td>50</td>\n",
       "      <td>40</td>\n",
       "      <td>19.890000</td>\n",
       "      <td>46.066667</td>\n",
       "      <td>19.200000</td>\n",
       "      <td>44.590000</td>\n",
       "      <td>19.790000</td>\n",
       "      <td>45.000000</td>\n",
       "      <td>18.890000</td>\n",
       "      <td>...</td>\n",
       "      <td>17.000000</td>\n",
       "      <td>45.4000</td>\n",
       "      <td>6.250000</td>\n",
       "      <td>733.8</td>\n",
       "      <td>92.000000</td>\n",
       "      <td>6.000000</td>\n",
       "      <td>51.500000</td>\n",
       "      <td>5.000000</td>\n",
       "      <td>45.410389</td>\n",
       "      <td>45.410389</td>\n",
       "    </tr>\n",
       "    <tr>\n",
       "      <th>4</th>\n",
       "      <td>2016-01-11 17:40:00</td>\n",
       "      <td>60</td>\n",
       "      <td>40</td>\n",
       "      <td>19.890000</td>\n",
       "      <td>46.333333</td>\n",
       "      <td>19.200000</td>\n",
       "      <td>44.530000</td>\n",
       "      <td>19.790000</td>\n",
       "      <td>45.000000</td>\n",
       "      <td>18.890000</td>\n",
       "      <td>...</td>\n",
       "      <td>17.000000</td>\n",
       "      <td>45.4000</td>\n",
       "      <td>6.133333</td>\n",
       "      <td>733.9</td>\n",
       "      <td>92.000000</td>\n",
       "      <td>5.666667</td>\n",
       "      <td>47.666667</td>\n",
       "      <td>4.900000</td>\n",
       "      <td>10.084097</td>\n",
       "      <td>10.084097</td>\n",
       "    </tr>\n",
       "    <tr>\n",
       "      <th>...</th>\n",
       "      <td>...</td>\n",
       "      <td>...</td>\n",
       "      <td>...</td>\n",
       "      <td>...</td>\n",
       "      <td>...</td>\n",
       "      <td>...</td>\n",
       "      <td>...</td>\n",
       "      <td>...</td>\n",
       "      <td>...</td>\n",
       "      <td>...</td>\n",
       "      <td>...</td>\n",
       "      <td>...</td>\n",
       "      <td>...</td>\n",
       "      <td>...</td>\n",
       "      <td>...</td>\n",
       "      <td>...</td>\n",
       "      <td>...</td>\n",
       "      <td>...</td>\n",
       "      <td>...</td>\n",
       "      <td>...</td>\n",
       "      <td>...</td>\n",
       "    </tr>\n",
       "    <tr>\n",
       "      <th>19730</th>\n",
       "      <td>2016-05-27 17:20:00</td>\n",
       "      <td>100</td>\n",
       "      <td>0</td>\n",
       "      <td>25.566667</td>\n",
       "      <td>46.560000</td>\n",
       "      <td>25.890000</td>\n",
       "      <td>42.025714</td>\n",
       "      <td>27.200000</td>\n",
       "      <td>41.163333</td>\n",
       "      <td>24.700000</td>\n",
       "      <td>...</td>\n",
       "      <td>23.200000</td>\n",
       "      <td>46.7900</td>\n",
       "      <td>22.733333</td>\n",
       "      <td>755.2</td>\n",
       "      <td>55.666667</td>\n",
       "      <td>3.333333</td>\n",
       "      <td>23.666667</td>\n",
       "      <td>13.333333</td>\n",
       "      <td>43.096812</td>\n",
       "      <td>43.096812</td>\n",
       "    </tr>\n",
       "    <tr>\n",
       "      <th>19731</th>\n",
       "      <td>2016-05-27 17:30:00</td>\n",
       "      <td>90</td>\n",
       "      <td>0</td>\n",
       "      <td>25.500000</td>\n",
       "      <td>46.500000</td>\n",
       "      <td>25.754000</td>\n",
       "      <td>42.080000</td>\n",
       "      <td>27.133333</td>\n",
       "      <td>41.223333</td>\n",
       "      <td>24.700000</td>\n",
       "      <td>...</td>\n",
       "      <td>23.200000</td>\n",
       "      <td>46.7900</td>\n",
       "      <td>22.600000</td>\n",
       "      <td>755.2</td>\n",
       "      <td>56.000000</td>\n",
       "      <td>3.500000</td>\n",
       "      <td>24.500000</td>\n",
       "      <td>13.300000</td>\n",
       "      <td>49.282940</td>\n",
       "      <td>49.282940</td>\n",
       "    </tr>\n",
       "    <tr>\n",
       "      <th>19732</th>\n",
       "      <td>2016-05-27 17:40:00</td>\n",
       "      <td>270</td>\n",
       "      <td>10</td>\n",
       "      <td>25.500000</td>\n",
       "      <td>46.596667</td>\n",
       "      <td>25.628571</td>\n",
       "      <td>42.768571</td>\n",
       "      <td>27.050000</td>\n",
       "      <td>41.690000</td>\n",
       "      <td>24.700000</td>\n",
       "      <td>...</td>\n",
       "      <td>23.200000</td>\n",
       "      <td>46.7900</td>\n",
       "      <td>22.466667</td>\n",
       "      <td>755.2</td>\n",
       "      <td>56.333333</td>\n",
       "      <td>3.666667</td>\n",
       "      <td>25.333333</td>\n",
       "      <td>13.266667</td>\n",
       "      <td>29.199117</td>\n",
       "      <td>29.199117</td>\n",
       "    </tr>\n",
       "    <tr>\n",
       "      <th>19733</th>\n",
       "      <td>2016-05-27 17:50:00</td>\n",
       "      <td>420</td>\n",
       "      <td>10</td>\n",
       "      <td>25.500000</td>\n",
       "      <td>46.990000</td>\n",
       "      <td>25.414000</td>\n",
       "      <td>43.036000</td>\n",
       "      <td>26.890000</td>\n",
       "      <td>41.290000</td>\n",
       "      <td>24.700000</td>\n",
       "      <td>...</td>\n",
       "      <td>23.200000</td>\n",
       "      <td>46.8175</td>\n",
       "      <td>22.333333</td>\n",
       "      <td>755.2</td>\n",
       "      <td>56.666667</td>\n",
       "      <td>3.833333</td>\n",
       "      <td>26.166667</td>\n",
       "      <td>13.233333</td>\n",
       "      <td>6.322784</td>\n",
       "      <td>6.322784</td>\n",
       "    </tr>\n",
       "    <tr>\n",
       "      <th>19734</th>\n",
       "      <td>2016-05-27 18:00:00</td>\n",
       "      <td>430</td>\n",
       "      <td>10</td>\n",
       "      <td>25.500000</td>\n",
       "      <td>46.600000</td>\n",
       "      <td>25.264286</td>\n",
       "      <td>42.971429</td>\n",
       "      <td>26.823333</td>\n",
       "      <td>41.156667</td>\n",
       "      <td>24.700000</td>\n",
       "      <td>...</td>\n",
       "      <td>23.200000</td>\n",
       "      <td>46.8450</td>\n",
       "      <td>22.200000</td>\n",
       "      <td>755.2</td>\n",
       "      <td>57.000000</td>\n",
       "      <td>4.000000</td>\n",
       "      <td>27.000000</td>\n",
       "      <td>13.200000</td>\n",
       "      <td>34.118851</td>\n",
       "      <td>34.118851</td>\n",
       "    </tr>\n",
       "  </tbody>\n",
       "</table>\n",
       "<p>19735 rows × 29 columns</p>\n",
       "</div>"
      ],
      "text/plain": [
       "                      date  Appliances  lights         T1       RH_1  \\\n",
       "0      2016-01-11 17:00:00          60      30  19.890000  47.596667   \n",
       "1      2016-01-11 17:10:00          60      30  19.890000  46.693333   \n",
       "2      2016-01-11 17:20:00          50      30  19.890000  46.300000   \n",
       "3      2016-01-11 17:30:00          50      40  19.890000  46.066667   \n",
       "4      2016-01-11 17:40:00          60      40  19.890000  46.333333   \n",
       "...                    ...         ...     ...        ...        ...   \n",
       "19730  2016-05-27 17:20:00         100       0  25.566667  46.560000   \n",
       "19731  2016-05-27 17:30:00          90       0  25.500000  46.500000   \n",
       "19732  2016-05-27 17:40:00         270      10  25.500000  46.596667   \n",
       "19733  2016-05-27 17:50:00         420      10  25.500000  46.990000   \n",
       "19734  2016-05-27 18:00:00         430      10  25.500000  46.600000   \n",
       "\n",
       "              T2       RH_2         T3       RH_3         T4  ...         T9  \\\n",
       "0      19.200000  44.790000  19.790000  44.730000  19.000000  ...  17.033333   \n",
       "1      19.200000  44.722500  19.790000  44.790000  19.000000  ...  17.066667   \n",
       "2      19.200000  44.626667  19.790000  44.933333  18.926667  ...  17.000000   \n",
       "3      19.200000  44.590000  19.790000  45.000000  18.890000  ...  17.000000   \n",
       "4      19.200000  44.530000  19.790000  45.000000  18.890000  ...  17.000000   \n",
       "...          ...        ...        ...        ...        ...  ...        ...   \n",
       "19730  25.890000  42.025714  27.200000  41.163333  24.700000  ...  23.200000   \n",
       "19731  25.754000  42.080000  27.133333  41.223333  24.700000  ...  23.200000   \n",
       "19732  25.628571  42.768571  27.050000  41.690000  24.700000  ...  23.200000   \n",
       "19733  25.414000  43.036000  26.890000  41.290000  24.700000  ...  23.200000   \n",
       "19734  25.264286  42.971429  26.823333  41.156667  24.700000  ...  23.200000   \n",
       "\n",
       "          RH_9      T_out  Press_mm_hg     RH_out  Windspeed  Visibility  \\\n",
       "0      45.5300   6.600000        733.5  92.000000   7.000000   63.000000   \n",
       "1      45.5600   6.483333        733.6  92.000000   6.666667   59.166667   \n",
       "2      45.5000   6.366667        733.7  92.000000   6.333333   55.333333   \n",
       "3      45.4000   6.250000        733.8  92.000000   6.000000   51.500000   \n",
       "4      45.4000   6.133333        733.9  92.000000   5.666667   47.666667   \n",
       "...        ...        ...          ...        ...        ...         ...   \n",
       "19730  46.7900  22.733333        755.2  55.666667   3.333333   23.666667   \n",
       "19731  46.7900  22.600000        755.2  56.000000   3.500000   24.500000   \n",
       "19732  46.7900  22.466667        755.2  56.333333   3.666667   25.333333   \n",
       "19733  46.8175  22.333333        755.2  56.666667   3.833333   26.166667   \n",
       "19734  46.8450  22.200000        755.2  57.000000   4.000000   27.000000   \n",
       "\n",
       "       Tdewpoint        rv1        rv2  \n",
       "0       5.300000  13.275433  13.275433  \n",
       "1       5.200000  18.606195  18.606195  \n",
       "2       5.100000  28.642668  28.642668  \n",
       "3       5.000000  45.410389  45.410389  \n",
       "4       4.900000  10.084097  10.084097  \n",
       "...          ...        ...        ...  \n",
       "19730  13.333333  43.096812  43.096812  \n",
       "19731  13.300000  49.282940  49.282940  \n",
       "19732  13.266667  29.199117  29.199117  \n",
       "19733  13.233333   6.322784   6.322784  \n",
       "19734  13.200000  34.118851  34.118851  \n",
       "\n",
       "[19735 rows x 29 columns]"
      ]
     },
     "execution_count": 5,
     "metadata": {},
     "output_type": "execute_result"
    }
   ],
   "source": [
    "input_file = 'energydata_complete.csv'\n",
    "df_raw = pd.read_csv(input_file,  sep = ',', header = 0)\n",
    "df_raw"
   ]
  },
  {
   "cell_type": "code",
   "execution_count": 6,
   "metadata": {},
   "outputs": [
    {
     "name": "stdout",
     "output_type": "stream",
     "text": [
      "<class 'pandas.core.frame.DataFrame'>\n",
      "RangeIndex: 19735 entries, 0 to 19734\n",
      "Data columns (total 29 columns):\n",
      " #   Column       Non-Null Count  Dtype  \n",
      "---  ------       --------------  -----  \n",
      " 0   date         19735 non-null  object \n",
      " 1   Appliances   19735 non-null  int64  \n",
      " 2   lights       19735 non-null  int64  \n",
      " 3   T1           19735 non-null  float64\n",
      " 4   RH_1         19735 non-null  float64\n",
      " 5   T2           19735 non-null  float64\n",
      " 6   RH_2         19735 non-null  float64\n",
      " 7   T3           19735 non-null  float64\n",
      " 8   RH_3         19735 non-null  float64\n",
      " 9   T4           19735 non-null  float64\n",
      " 10  RH_4         19735 non-null  float64\n",
      " 11  T5           19735 non-null  float64\n",
      " 12  RH_5         19735 non-null  float64\n",
      " 13  T6           19735 non-null  float64\n",
      " 14  RH_6         19735 non-null  float64\n",
      " 15  T7           19735 non-null  float64\n",
      " 16  RH_7         19735 non-null  float64\n",
      " 17  T8           19735 non-null  float64\n",
      " 18  RH_8         19735 non-null  float64\n",
      " 19  T9           19735 non-null  float64\n",
      " 20  RH_9         19735 non-null  float64\n",
      " 21  T_out        19735 non-null  float64\n",
      " 22  Press_mm_hg  19735 non-null  float64\n",
      " 23  RH_out       19735 non-null  float64\n",
      " 24  Windspeed    19735 non-null  float64\n",
      " 25  Visibility   19735 non-null  float64\n",
      " 26  Tdewpoint    19735 non-null  float64\n",
      " 27  rv1          19735 non-null  float64\n",
      " 28  rv2          19735 non-null  float64\n",
      "dtypes: float64(26), int64(2), object(1)\n",
      "memory usage: 4.4+ MB\n"
     ]
    },
    {
     "data": {
      "text/plain": [
       "None"
      ]
     },
     "metadata": {},
     "output_type": "display_data"
    },
    {
     "name": "stdout",
     "output_type": "stream",
     "text": [
      "Number of rows: 19735\n",
      "Number of columns in dataset is: 29\n"
     ]
    }
   ],
   "source": [
    "display(df_raw.info())\n",
    "\n",
    "print('Number of rows:' , df_raw.shape[0])\n",
    "print('Number of columns in dataset is:' , df_raw.shape[1])"
   ]
  },
  {
   "cell_type": "markdown",
   "metadata": {},
   "source": [
    "Some notes to take from this:\n",
    "- quite high dimensional\n",
    "- absolutely no missing values as far as pandas can tell...there might still be faulty, abnormally or otherwise problematic values\n",
    "- essentially all values are numerical\n",
    "- only the date column needs to be converted to datetime"
   ]
  },
  {
   "cell_type": "code",
   "execution_count": 7,
   "metadata": {},
   "outputs": [
    {
     "name": "stdout",
     "output_type": "stream",
     "text": [
      "<class 'pandas.core.frame.DataFrame'>\n",
      "RangeIndex: 19735 entries, 0 to 19734\n",
      "Data columns (total 29 columns):\n",
      " #   Column       Non-Null Count  Dtype         \n",
      "---  ------       --------------  -----         \n",
      " 0   date         19735 non-null  datetime64[ns]\n",
      " 1   Appliances   19735 non-null  int64         \n",
      " 2   lights       19735 non-null  int64         \n",
      " 3   T1           19735 non-null  float64       \n",
      " 4   RH_1         19735 non-null  float64       \n",
      " 5   T2           19735 non-null  float64       \n",
      " 6   RH_2         19735 non-null  float64       \n",
      " 7   T3           19735 non-null  float64       \n",
      " 8   RH_3         19735 non-null  float64       \n",
      " 9   T4           19735 non-null  float64       \n",
      " 10  RH_4         19735 non-null  float64       \n",
      " 11  T5           19735 non-null  float64       \n",
      " 12  RH_5         19735 non-null  float64       \n",
      " 13  T6           19735 non-null  float64       \n",
      " 14  RH_6         19735 non-null  float64       \n",
      " 15  T7           19735 non-null  float64       \n",
      " 16  RH_7         19735 non-null  float64       \n",
      " 17  T8           19735 non-null  float64       \n",
      " 18  RH_8         19735 non-null  float64       \n",
      " 19  T9           19735 non-null  float64       \n",
      " 20  RH_9         19735 non-null  float64       \n",
      " 21  T_out        19735 non-null  float64       \n",
      " 22  Press_mm_hg  19735 non-null  float64       \n",
      " 23  RH_out       19735 non-null  float64       \n",
      " 24  Windspeed    19735 non-null  float64       \n",
      " 25  Visibility   19735 non-null  float64       \n",
      " 26  Tdewpoint    19735 non-null  float64       \n",
      " 27  rv1          19735 non-null  float64       \n",
      " 28  rv2          19735 non-null  float64       \n",
      "dtypes: datetime64[ns](1), float64(26), int64(2)\n",
      "memory usage: 4.4 MB\n"
     ]
    },
    {
     "data": {
      "text/plain": [
       "None"
      ]
     },
     "metadata": {},
     "output_type": "display_data"
    }
   ],
   "source": [
    "df_raw['date'] = pd.to_datetime(df_raw['date'])\n",
    "display(df_raw.info())"
   ]
  },
  {
   "cell_type": "code",
   "execution_count": 8,
   "metadata": {},
   "outputs": [
    {
     "data": {
      "text/html": [
       "<div>\n",
       "<style scoped>\n",
       "    .dataframe tbody tr th:only-of-type {\n",
       "        vertical-align: middle;\n",
       "    }\n",
       "\n",
       "    .dataframe tbody tr th {\n",
       "        vertical-align: top;\n",
       "    }\n",
       "\n",
       "    .dataframe thead th {\n",
       "        text-align: right;\n",
       "    }\n",
       "</style>\n",
       "<table border=\"1\" class=\"dataframe\">\n",
       "  <thead>\n",
       "    <tr style=\"text-align: right;\">\n",
       "      <th></th>\n",
       "      <th>Appliances</th>\n",
       "      <th>lights</th>\n",
       "      <th>T1</th>\n",
       "      <th>RH_1</th>\n",
       "      <th>T2</th>\n",
       "      <th>RH_2</th>\n",
       "      <th>T3</th>\n",
       "      <th>RH_3</th>\n",
       "      <th>T4</th>\n",
       "      <th>RH_4</th>\n",
       "      <th>...</th>\n",
       "      <th>T9</th>\n",
       "      <th>RH_9</th>\n",
       "      <th>T_out</th>\n",
       "      <th>Press_mm_hg</th>\n",
       "      <th>RH_out</th>\n",
       "      <th>Windspeed</th>\n",
       "      <th>Visibility</th>\n",
       "      <th>Tdewpoint</th>\n",
       "      <th>rv1</th>\n",
       "      <th>rv2</th>\n",
       "    </tr>\n",
       "  </thead>\n",
       "  <tbody>\n",
       "    <tr>\n",
       "      <th>count</th>\n",
       "      <td>19735.000000</td>\n",
       "      <td>19735.000000</td>\n",
       "      <td>19735.000000</td>\n",
       "      <td>19735.000000</td>\n",
       "      <td>19735.000000</td>\n",
       "      <td>19735.000000</td>\n",
       "      <td>19735.000000</td>\n",
       "      <td>19735.000000</td>\n",
       "      <td>19735.000000</td>\n",
       "      <td>19735.000000</td>\n",
       "      <td>...</td>\n",
       "      <td>19735.000000</td>\n",
       "      <td>19735.000000</td>\n",
       "      <td>19735.000000</td>\n",
       "      <td>19735.000000</td>\n",
       "      <td>19735.000000</td>\n",
       "      <td>19735.000000</td>\n",
       "      <td>19735.000000</td>\n",
       "      <td>19735.000000</td>\n",
       "      <td>19735.000000</td>\n",
       "      <td>19735.000000</td>\n",
       "    </tr>\n",
       "    <tr>\n",
       "      <th>mean</th>\n",
       "      <td>97.694958</td>\n",
       "      <td>3.801875</td>\n",
       "      <td>21.686571</td>\n",
       "      <td>40.259739</td>\n",
       "      <td>20.341219</td>\n",
       "      <td>40.420420</td>\n",
       "      <td>22.267611</td>\n",
       "      <td>39.242500</td>\n",
       "      <td>20.855335</td>\n",
       "      <td>39.026904</td>\n",
       "      <td>...</td>\n",
       "      <td>19.485828</td>\n",
       "      <td>41.552401</td>\n",
       "      <td>7.411665</td>\n",
       "      <td>755.522602</td>\n",
       "      <td>79.750418</td>\n",
       "      <td>4.039752</td>\n",
       "      <td>38.330834</td>\n",
       "      <td>3.760707</td>\n",
       "      <td>24.988033</td>\n",
       "      <td>24.988033</td>\n",
       "    </tr>\n",
       "    <tr>\n",
       "      <th>std</th>\n",
       "      <td>102.524891</td>\n",
       "      <td>7.935988</td>\n",
       "      <td>1.606066</td>\n",
       "      <td>3.979299</td>\n",
       "      <td>2.192974</td>\n",
       "      <td>4.069813</td>\n",
       "      <td>2.006111</td>\n",
       "      <td>3.254576</td>\n",
       "      <td>2.042884</td>\n",
       "      <td>4.341321</td>\n",
       "      <td>...</td>\n",
       "      <td>2.014712</td>\n",
       "      <td>4.151497</td>\n",
       "      <td>5.317409</td>\n",
       "      <td>7.399441</td>\n",
       "      <td>14.901088</td>\n",
       "      <td>2.451221</td>\n",
       "      <td>11.794719</td>\n",
       "      <td>4.194648</td>\n",
       "      <td>14.496634</td>\n",
       "      <td>14.496634</td>\n",
       "    </tr>\n",
       "    <tr>\n",
       "      <th>min</th>\n",
       "      <td>10.000000</td>\n",
       "      <td>0.000000</td>\n",
       "      <td>16.790000</td>\n",
       "      <td>27.023333</td>\n",
       "      <td>16.100000</td>\n",
       "      <td>20.463333</td>\n",
       "      <td>17.200000</td>\n",
       "      <td>28.766667</td>\n",
       "      <td>15.100000</td>\n",
       "      <td>27.660000</td>\n",
       "      <td>...</td>\n",
       "      <td>14.890000</td>\n",
       "      <td>29.166667</td>\n",
       "      <td>-5.000000</td>\n",
       "      <td>729.300000</td>\n",
       "      <td>24.000000</td>\n",
       "      <td>0.000000</td>\n",
       "      <td>1.000000</td>\n",
       "      <td>-6.600000</td>\n",
       "      <td>0.005322</td>\n",
       "      <td>0.005322</td>\n",
       "    </tr>\n",
       "    <tr>\n",
       "      <th>25%</th>\n",
       "      <td>50.000000</td>\n",
       "      <td>0.000000</td>\n",
       "      <td>20.760000</td>\n",
       "      <td>37.333333</td>\n",
       "      <td>18.790000</td>\n",
       "      <td>37.900000</td>\n",
       "      <td>20.790000</td>\n",
       "      <td>36.900000</td>\n",
       "      <td>19.530000</td>\n",
       "      <td>35.530000</td>\n",
       "      <td>...</td>\n",
       "      <td>18.000000</td>\n",
       "      <td>38.500000</td>\n",
       "      <td>3.666667</td>\n",
       "      <td>750.933333</td>\n",
       "      <td>70.333333</td>\n",
       "      <td>2.000000</td>\n",
       "      <td>29.000000</td>\n",
       "      <td>0.900000</td>\n",
       "      <td>12.497889</td>\n",
       "      <td>12.497889</td>\n",
       "    </tr>\n",
       "    <tr>\n",
       "      <th>50%</th>\n",
       "      <td>60.000000</td>\n",
       "      <td>0.000000</td>\n",
       "      <td>21.600000</td>\n",
       "      <td>39.656667</td>\n",
       "      <td>20.000000</td>\n",
       "      <td>40.500000</td>\n",
       "      <td>22.100000</td>\n",
       "      <td>38.530000</td>\n",
       "      <td>20.666667</td>\n",
       "      <td>38.400000</td>\n",
       "      <td>...</td>\n",
       "      <td>19.390000</td>\n",
       "      <td>40.900000</td>\n",
       "      <td>6.916667</td>\n",
       "      <td>756.100000</td>\n",
       "      <td>83.666667</td>\n",
       "      <td>3.666667</td>\n",
       "      <td>40.000000</td>\n",
       "      <td>3.433333</td>\n",
       "      <td>24.897653</td>\n",
       "      <td>24.897653</td>\n",
       "    </tr>\n",
       "    <tr>\n",
       "      <th>75%</th>\n",
       "      <td>100.000000</td>\n",
       "      <td>0.000000</td>\n",
       "      <td>22.600000</td>\n",
       "      <td>43.066667</td>\n",
       "      <td>21.500000</td>\n",
       "      <td>43.260000</td>\n",
       "      <td>23.290000</td>\n",
       "      <td>41.760000</td>\n",
       "      <td>22.100000</td>\n",
       "      <td>42.156667</td>\n",
       "      <td>...</td>\n",
       "      <td>20.600000</td>\n",
       "      <td>44.338095</td>\n",
       "      <td>10.408333</td>\n",
       "      <td>760.933333</td>\n",
       "      <td>91.666667</td>\n",
       "      <td>5.500000</td>\n",
       "      <td>40.000000</td>\n",
       "      <td>6.566667</td>\n",
       "      <td>37.583769</td>\n",
       "      <td>37.583769</td>\n",
       "    </tr>\n",
       "    <tr>\n",
       "      <th>max</th>\n",
       "      <td>1080.000000</td>\n",
       "      <td>70.000000</td>\n",
       "      <td>26.260000</td>\n",
       "      <td>63.360000</td>\n",
       "      <td>29.856667</td>\n",
       "      <td>56.026667</td>\n",
       "      <td>29.236000</td>\n",
       "      <td>50.163333</td>\n",
       "      <td>26.200000</td>\n",
       "      <td>51.090000</td>\n",
       "      <td>...</td>\n",
       "      <td>24.500000</td>\n",
       "      <td>53.326667</td>\n",
       "      <td>26.100000</td>\n",
       "      <td>772.300000</td>\n",
       "      <td>100.000000</td>\n",
       "      <td>14.000000</td>\n",
       "      <td>66.000000</td>\n",
       "      <td>15.500000</td>\n",
       "      <td>49.996530</td>\n",
       "      <td>49.996530</td>\n",
       "    </tr>\n",
       "  </tbody>\n",
       "</table>\n",
       "<p>8 rows × 28 columns</p>\n",
       "</div>"
      ],
      "text/plain": [
       "         Appliances        lights            T1          RH_1            T2  \\\n",
       "count  19735.000000  19735.000000  19735.000000  19735.000000  19735.000000   \n",
       "mean      97.694958      3.801875     21.686571     40.259739     20.341219   \n",
       "std      102.524891      7.935988      1.606066      3.979299      2.192974   \n",
       "min       10.000000      0.000000     16.790000     27.023333     16.100000   \n",
       "25%       50.000000      0.000000     20.760000     37.333333     18.790000   \n",
       "50%       60.000000      0.000000     21.600000     39.656667     20.000000   \n",
       "75%      100.000000      0.000000     22.600000     43.066667     21.500000   \n",
       "max     1080.000000     70.000000     26.260000     63.360000     29.856667   \n",
       "\n",
       "               RH_2            T3          RH_3            T4          RH_4  \\\n",
       "count  19735.000000  19735.000000  19735.000000  19735.000000  19735.000000   \n",
       "mean      40.420420     22.267611     39.242500     20.855335     39.026904   \n",
       "std        4.069813      2.006111      3.254576      2.042884      4.341321   \n",
       "min       20.463333     17.200000     28.766667     15.100000     27.660000   \n",
       "25%       37.900000     20.790000     36.900000     19.530000     35.530000   \n",
       "50%       40.500000     22.100000     38.530000     20.666667     38.400000   \n",
       "75%       43.260000     23.290000     41.760000     22.100000     42.156667   \n",
       "max       56.026667     29.236000     50.163333     26.200000     51.090000   \n",
       "\n",
       "       ...            T9          RH_9         T_out   Press_mm_hg  \\\n",
       "count  ...  19735.000000  19735.000000  19735.000000  19735.000000   \n",
       "mean   ...     19.485828     41.552401      7.411665    755.522602   \n",
       "std    ...      2.014712      4.151497      5.317409      7.399441   \n",
       "min    ...     14.890000     29.166667     -5.000000    729.300000   \n",
       "25%    ...     18.000000     38.500000      3.666667    750.933333   \n",
       "50%    ...     19.390000     40.900000      6.916667    756.100000   \n",
       "75%    ...     20.600000     44.338095     10.408333    760.933333   \n",
       "max    ...     24.500000     53.326667     26.100000    772.300000   \n",
       "\n",
       "             RH_out     Windspeed    Visibility     Tdewpoint           rv1  \\\n",
       "count  19735.000000  19735.000000  19735.000000  19735.000000  19735.000000   \n",
       "mean      79.750418      4.039752     38.330834      3.760707     24.988033   \n",
       "std       14.901088      2.451221     11.794719      4.194648     14.496634   \n",
       "min       24.000000      0.000000      1.000000     -6.600000      0.005322   \n",
       "25%       70.333333      2.000000     29.000000      0.900000     12.497889   \n",
       "50%       83.666667      3.666667     40.000000      3.433333     24.897653   \n",
       "75%       91.666667      5.500000     40.000000      6.566667     37.583769   \n",
       "max      100.000000     14.000000     66.000000     15.500000     49.996530   \n",
       "\n",
       "                rv2  \n",
       "count  19735.000000  \n",
       "mean      24.988033  \n",
       "std       14.496634  \n",
       "min        0.005322  \n",
       "25%       12.497889  \n",
       "50%       24.897653  \n",
       "75%       37.583769  \n",
       "max       49.996530  \n",
       "\n",
       "[8 rows x 28 columns]"
      ]
     },
     "execution_count": 8,
     "metadata": {},
     "output_type": "execute_result"
    }
   ],
   "source": [
    "df_raw.describe()"
   ]
  },
  {
   "cell_type": "markdown",
   "metadata": {},
   "source": [
    "# Description of data columns\n",
    "\n",
    "date time year-month-day hour:minute:second\n",
    "\n",
    "Appliances, energy use in Wh\n",
    "\n",
    "lights, energy use of light fixtures in the house in Wh\n",
    "\n",
    "T1, Temperature in kitchen area, in Celsius\n",
    "\n",
    "RH_1, Humidity in kitchen area, in %\n",
    "\n",
    "T2, Temperature in living room area, in Celsius\n",
    "\n",
    "RH_2, Humidity in living room area, in %\n",
    "\n",
    "T3, Temperature in laundry room area\n",
    "\n",
    "RH_3, Humidity in laundry room area, in %\n",
    "\n",
    "T4, Temperature in office room, in Celsius\n",
    "\n",
    "RH_4, Humidity in office room, in %\n",
    "\n",
    "T5, Temperature in bathroom, in Celsius\n",
    "\n",
    "RH_5, Humidity in bathroom, in %\n",
    "\n",
    "T6, Temperature outside the building (north side), in Celsius\n",
    "\n",
    "RH_6, Humidity outside the building (north side), in %\n",
    "\n",
    "T7, Temperature in ironing room , in Celsius\n",
    "\n",
    "RH_7, Humidity in ironing room, in %\n",
    "\n",
    "T8, Temperature in teenager room 2, in Celsius\n",
    "\n",
    "RH_8, Humidity in teenager room 2, in %\n",
    "\n",
    "T9, Temperature in parents room, in Celsius\n",
    "\n",
    "RH_9, Humidity in parents room, in %\n",
    "\n",
    "To, Temperature outside (from Chievres weather station), in Celsius\n",
    "\n",
    "Pressure (from Chievres weather station), in mm Hg\n",
    "\n",
    "RH_out, Humidity outside (from Chievres weather station), in %\n",
    "\n",
    "Wind speed (from Chievres weather station), in m/s\n",
    "\n",
    "Visibility (from Chievres weather station), in km\n",
    "\n",
    "Tdewpoint (from Chievres weather station), Â°C\n",
    "\n",
    "rv1, Random variable 1, nondimensional\n",
    "\n",
    "rv2, Random variable 2, nondimensional "
   ]
  },
  {
   "cell_type": "code",
   "execution_count": 265,
   "metadata": {},
   "outputs": [],
   "source": [
    "col_dict = {\n",
    "    'date': 'time year-month-day hour:minute:second',\n",
    "    'Appliances': 'energy use in Wh',\n",
    "    'lights':' energy use of light fixtures in the house in Wh',\n",
    "    'T1': 'Temperature in kitchen area: in Celsius',\n",
    "    'RH_1':' Humidity in kitchen area: in %',\n",
    "    'T2': 'Temperature in living room area: in Celsius',\n",
    "    'RH_2':' Humidity in living room area: in %',\n",
    "    'T3': 'Temperature in laundry room area',\n",
    "    'RH_3': 'Humidity in laundry room area: in %',\n",
    "    'T4': 'Temperature in office room: in Celsius',\n",
    "    'RH_4': 'Humidity in office room: in %',\n",
    "    'T5': 'Temperature in bathroom in Celsius',\n",
    "    'RH_5': 'Humidity in bathroom in %',\n",
    "    'T6': 'Temperature outside the building (north side: in Celsius',\n",
    "    'RH_6': 'Humidity outside the building (north side): in %',\n",
    "    'T7': 'Temperature in ironing room: in Celsius',\n",
    "    'RH_7': 'Humidity in ironing room in %',\n",
    "    'T8': 'Temperature in teenager room 2 in Celsius',\n",
    "    'RH_8':' Humidity in teenager room 2 in %',\n",
    "    'T9': 'Temperature in parents room in Celsius',\n",
    "    'RH_9': 'Humidity in parents room: in %',\n",
    "    'T_out': 'Temperature outside (from Chievres weather station): in Celsius',\n",
    "    'Press_mm_hg': 'from Chievres weather station) in mm Hg',\n",
    "    'RH_out': 'Humidity outside (from Chievres weather station): in %',\n",
    "    'Windspeed': '(from Chievres weather station) in m/s',\n",
    "    'Visibility': '(from Chievres weather station) in km',\n",
    "    'Tdewpoint': '(from Chievres weather station) °C',\n",
    "    'rv1': 'Random variable 1: nondimensional',\n",
    "    'rv2': 'Random variable 2: nondimensional',\n",
    "    \"threshh\": 'gives quartill of Appliance energy usage (0...<25%, 1...<50%, 2...<75%, 3...>75%)',\n",
    "    \"daytime\": 'time of the day (extracted from date), as integer: (0...morning, 1...midday, 2...afternoon, 3...night)', \n",
    "    \"daytime_str\": 'same as daytime but with strings instead of integers',\n",
    "}\n",
    "\n",
    "# Divide amongst type of columns --> usefull for visualizations later\n",
    "col_target = \"Appliances\"\n",
    "col_light = \"lights\"\n",
    "col_temp = ['T'+str(i) for i in range(1,10)]\n",
    "col_hum = ['RH_'+str(i) for i in range(1,10)]\n",
    "col_weather = [\"T_out\", \"Tdewpoint\",\"RH_out\",\"Press_mm_hg\",\"Windspeed\",\"Visibility\"] \n",
    "col_randoms = [\"rv1\", \"rv2\"]\n",
    "col_threshh = \"threshh\"\n",
    "col_datetime = [\"date\", \"daytime\", \"daytime_str\"]\n",
    "col_visual = [col_threshh] + col_datetime\n",
    "col_vars = col_temp + col_hum + col_weather + [col_light] "
   ]
  },
  {
   "cell_type": "code",
   "execution_count": 10,
   "metadata": {},
   "outputs": [],
   "source": [
    "def display_all(df):\n",
    "    with pd.option_context(\"display.max_rows\", 1000): \n",
    "        with pd.option_context(\"display.max_columns\", 1000): \n",
    "            display(df)"
   ]
  },
  {
   "cell_type": "code",
   "execution_count": 11,
   "metadata": {},
   "outputs": [
    {
     "data": {
      "text/html": [
       "<div>\n",
       "<style scoped>\n",
       "    .dataframe tbody tr th:only-of-type {\n",
       "        vertical-align: middle;\n",
       "    }\n",
       "\n",
       "    .dataframe tbody tr th {\n",
       "        vertical-align: top;\n",
       "    }\n",
       "\n",
       "    .dataframe thead th {\n",
       "        text-align: right;\n",
       "    }\n",
       "</style>\n",
       "<table border=\"1\" class=\"dataframe\">\n",
       "  <thead>\n",
       "    <tr style=\"text-align: right;\">\n",
       "      <th></th>\n",
       "      <th>19730</th>\n",
       "      <th>19731</th>\n",
       "      <th>19732</th>\n",
       "      <th>19733</th>\n",
       "      <th>19734</th>\n",
       "    </tr>\n",
       "  </thead>\n",
       "  <tbody>\n",
       "    <tr>\n",
       "      <th>date</th>\n",
       "      <td>2016-05-27 17:20:00</td>\n",
       "      <td>2016-05-27 17:30:00</td>\n",
       "      <td>2016-05-27 17:40:00</td>\n",
       "      <td>2016-05-27 17:50:00</td>\n",
       "      <td>2016-05-27 18:00:00</td>\n",
       "    </tr>\n",
       "    <tr>\n",
       "      <th>Appliances</th>\n",
       "      <td>100</td>\n",
       "      <td>90</td>\n",
       "      <td>270</td>\n",
       "      <td>420</td>\n",
       "      <td>430</td>\n",
       "    </tr>\n",
       "    <tr>\n",
       "      <th>lights</th>\n",
       "      <td>0</td>\n",
       "      <td>0</td>\n",
       "      <td>10</td>\n",
       "      <td>10</td>\n",
       "      <td>10</td>\n",
       "    </tr>\n",
       "    <tr>\n",
       "      <th>T1</th>\n",
       "      <td>25.5667</td>\n",
       "      <td>25.5</td>\n",
       "      <td>25.5</td>\n",
       "      <td>25.5</td>\n",
       "      <td>25.5</td>\n",
       "    </tr>\n",
       "    <tr>\n",
       "      <th>RH_1</th>\n",
       "      <td>46.56</td>\n",
       "      <td>46.5</td>\n",
       "      <td>46.5967</td>\n",
       "      <td>46.99</td>\n",
       "      <td>46.6</td>\n",
       "    </tr>\n",
       "    <tr>\n",
       "      <th>T2</th>\n",
       "      <td>25.89</td>\n",
       "      <td>25.754</td>\n",
       "      <td>25.6286</td>\n",
       "      <td>25.414</td>\n",
       "      <td>25.2643</td>\n",
       "    </tr>\n",
       "    <tr>\n",
       "      <th>RH_2</th>\n",
       "      <td>42.0257</td>\n",
       "      <td>42.08</td>\n",
       "      <td>42.7686</td>\n",
       "      <td>43.036</td>\n",
       "      <td>42.9714</td>\n",
       "    </tr>\n",
       "    <tr>\n",
       "      <th>T3</th>\n",
       "      <td>27.2</td>\n",
       "      <td>27.1333</td>\n",
       "      <td>27.05</td>\n",
       "      <td>26.89</td>\n",
       "      <td>26.8233</td>\n",
       "    </tr>\n",
       "    <tr>\n",
       "      <th>RH_3</th>\n",
       "      <td>41.1633</td>\n",
       "      <td>41.2233</td>\n",
       "      <td>41.69</td>\n",
       "      <td>41.29</td>\n",
       "      <td>41.1567</td>\n",
       "    </tr>\n",
       "    <tr>\n",
       "      <th>T4</th>\n",
       "      <td>24.7</td>\n",
       "      <td>24.7</td>\n",
       "      <td>24.7</td>\n",
       "      <td>24.7</td>\n",
       "      <td>24.7</td>\n",
       "    </tr>\n",
       "    <tr>\n",
       "      <th>RH_4</th>\n",
       "      <td>45.59</td>\n",
       "      <td>45.59</td>\n",
       "      <td>45.73</td>\n",
       "      <td>45.79</td>\n",
       "      <td>45.9633</td>\n",
       "    </tr>\n",
       "    <tr>\n",
       "      <th>T5</th>\n",
       "      <td>23.2</td>\n",
       "      <td>23.23</td>\n",
       "      <td>23.23</td>\n",
       "      <td>23.2</td>\n",
       "      <td>23.2</td>\n",
       "    </tr>\n",
       "    <tr>\n",
       "      <th>RH_5</th>\n",
       "      <td>52.4</td>\n",
       "      <td>52.3267</td>\n",
       "      <td>52.2667</td>\n",
       "      <td>52.2</td>\n",
       "      <td>52.2</td>\n",
       "    </tr>\n",
       "    <tr>\n",
       "      <th>T6</th>\n",
       "      <td>24.7967</td>\n",
       "      <td>24.1967</td>\n",
       "      <td>23.6267</td>\n",
       "      <td>22.4333</td>\n",
       "      <td>21.0267</td>\n",
       "    </tr>\n",
       "    <tr>\n",
       "      <th>RH_6</th>\n",
       "      <td>1</td>\n",
       "      <td>1</td>\n",
       "      <td>1</td>\n",
       "      <td>1</td>\n",
       "      <td>1</td>\n",
       "    </tr>\n",
       "    <tr>\n",
       "      <th>T7</th>\n",
       "      <td>24.5</td>\n",
       "      <td>24.5571</td>\n",
       "      <td>24.54</td>\n",
       "      <td>24.5</td>\n",
       "      <td>24.5</td>\n",
       "    </tr>\n",
       "    <tr>\n",
       "      <th>RH_7</th>\n",
       "      <td>44.5</td>\n",
       "      <td>44.4143</td>\n",
       "      <td>44.4</td>\n",
       "      <td>44.2957</td>\n",
       "      <td>44.054</td>\n",
       "    </tr>\n",
       "    <tr>\n",
       "      <th>T8</th>\n",
       "      <td>24.7</td>\n",
       "      <td>24.7</td>\n",
       "      <td>24.7</td>\n",
       "      <td>24.6625</td>\n",
       "      <td>24.736</td>\n",
       "    </tr>\n",
       "    <tr>\n",
       "      <th>RH_8</th>\n",
       "      <td>50.074</td>\n",
       "      <td>49.79</td>\n",
       "      <td>49.66</td>\n",
       "      <td>49.5187</td>\n",
       "      <td>49.736</td>\n",
       "    </tr>\n",
       "    <tr>\n",
       "      <th>T9</th>\n",
       "      <td>23.2</td>\n",
       "      <td>23.2</td>\n",
       "      <td>23.2</td>\n",
       "      <td>23.2</td>\n",
       "      <td>23.2</td>\n",
       "    </tr>\n",
       "    <tr>\n",
       "      <th>RH_9</th>\n",
       "      <td>46.79</td>\n",
       "      <td>46.79</td>\n",
       "      <td>46.79</td>\n",
       "      <td>46.8175</td>\n",
       "      <td>46.845</td>\n",
       "    </tr>\n",
       "    <tr>\n",
       "      <th>T_out</th>\n",
       "      <td>22.7333</td>\n",
       "      <td>22.6</td>\n",
       "      <td>22.4667</td>\n",
       "      <td>22.3333</td>\n",
       "      <td>22.2</td>\n",
       "    </tr>\n",
       "    <tr>\n",
       "      <th>Press_mm_hg</th>\n",
       "      <td>755.2</td>\n",
       "      <td>755.2</td>\n",
       "      <td>755.2</td>\n",
       "      <td>755.2</td>\n",
       "      <td>755.2</td>\n",
       "    </tr>\n",
       "    <tr>\n",
       "      <th>RH_out</th>\n",
       "      <td>55.6667</td>\n",
       "      <td>56</td>\n",
       "      <td>56.3333</td>\n",
       "      <td>56.6667</td>\n",
       "      <td>57</td>\n",
       "    </tr>\n",
       "    <tr>\n",
       "      <th>Windspeed</th>\n",
       "      <td>3.33333</td>\n",
       "      <td>3.5</td>\n",
       "      <td>3.66667</td>\n",
       "      <td>3.83333</td>\n",
       "      <td>4</td>\n",
       "    </tr>\n",
       "    <tr>\n",
       "      <th>Visibility</th>\n",
       "      <td>23.6667</td>\n",
       "      <td>24.5</td>\n",
       "      <td>25.3333</td>\n",
       "      <td>26.1667</td>\n",
       "      <td>27</td>\n",
       "    </tr>\n",
       "    <tr>\n",
       "      <th>Tdewpoint</th>\n",
       "      <td>13.3333</td>\n",
       "      <td>13.3</td>\n",
       "      <td>13.2667</td>\n",
       "      <td>13.2333</td>\n",
       "      <td>13.2</td>\n",
       "    </tr>\n",
       "    <tr>\n",
       "      <th>rv1</th>\n",
       "      <td>43.0968</td>\n",
       "      <td>49.2829</td>\n",
       "      <td>29.1991</td>\n",
       "      <td>6.32278</td>\n",
       "      <td>34.1189</td>\n",
       "    </tr>\n",
       "    <tr>\n",
       "      <th>rv2</th>\n",
       "      <td>43.0968</td>\n",
       "      <td>49.2829</td>\n",
       "      <td>29.1991</td>\n",
       "      <td>6.32278</td>\n",
       "      <td>34.1189</td>\n",
       "    </tr>\n",
       "  </tbody>\n",
       "</table>\n",
       "</div>"
      ],
      "text/plain": [
       "                           19730                19731                19732  \\\n",
       "date         2016-05-27 17:20:00  2016-05-27 17:30:00  2016-05-27 17:40:00   \n",
       "Appliances                   100                   90                  270   \n",
       "lights                         0                    0                   10   \n",
       "T1                       25.5667                 25.5                 25.5   \n",
       "RH_1                       46.56                 46.5              46.5967   \n",
       "T2                         25.89               25.754              25.6286   \n",
       "RH_2                     42.0257                42.08              42.7686   \n",
       "T3                          27.2              27.1333                27.05   \n",
       "RH_3                     41.1633              41.2233                41.69   \n",
       "T4                          24.7                 24.7                 24.7   \n",
       "RH_4                       45.59                45.59                45.73   \n",
       "T5                          23.2                23.23                23.23   \n",
       "RH_5                        52.4              52.3267              52.2667   \n",
       "T6                       24.7967              24.1967              23.6267   \n",
       "RH_6                           1                    1                    1   \n",
       "T7                          24.5              24.5571                24.54   \n",
       "RH_7                        44.5              44.4143                 44.4   \n",
       "T8                          24.7                 24.7                 24.7   \n",
       "RH_8                      50.074                49.79                49.66   \n",
       "T9                          23.2                 23.2                 23.2   \n",
       "RH_9                       46.79                46.79                46.79   \n",
       "T_out                    22.7333                 22.6              22.4667   \n",
       "Press_mm_hg                755.2                755.2                755.2   \n",
       "RH_out                   55.6667                   56              56.3333   \n",
       "Windspeed                3.33333                  3.5              3.66667   \n",
       "Visibility               23.6667                 24.5              25.3333   \n",
       "Tdewpoint                13.3333                 13.3              13.2667   \n",
       "rv1                      43.0968              49.2829              29.1991   \n",
       "rv2                      43.0968              49.2829              29.1991   \n",
       "\n",
       "                           19733                19734  \n",
       "date         2016-05-27 17:50:00  2016-05-27 18:00:00  \n",
       "Appliances                   420                  430  \n",
       "lights                        10                   10  \n",
       "T1                          25.5                 25.5  \n",
       "RH_1                       46.99                 46.6  \n",
       "T2                        25.414              25.2643  \n",
       "RH_2                      43.036              42.9714  \n",
       "T3                         26.89              26.8233  \n",
       "RH_3                       41.29              41.1567  \n",
       "T4                          24.7                 24.7  \n",
       "RH_4                       45.79              45.9633  \n",
       "T5                          23.2                 23.2  \n",
       "RH_5                        52.2                 52.2  \n",
       "T6                       22.4333              21.0267  \n",
       "RH_6                           1                    1  \n",
       "T7                          24.5                 24.5  \n",
       "RH_7                     44.2957               44.054  \n",
       "T8                       24.6625               24.736  \n",
       "RH_8                     49.5187               49.736  \n",
       "T9                          23.2                 23.2  \n",
       "RH_9                     46.8175               46.845  \n",
       "T_out                    22.3333                 22.2  \n",
       "Press_mm_hg                755.2                755.2  \n",
       "RH_out                   56.6667                   57  \n",
       "Windspeed                3.83333                    4  \n",
       "Visibility               26.1667                   27  \n",
       "Tdewpoint                13.2333                 13.2  \n",
       "rv1                      6.32278              34.1189  \n",
       "rv2                      6.32278              34.1189  "
      ]
     },
     "metadata": {},
     "output_type": "display_data"
    },
    {
     "name": "stdout",
     "output_type": "stream",
     "text": [
      "########################################\n"
     ]
    },
    {
     "data": {
      "text/plain": [
       "'Some more info'"
      ]
     },
     "metadata": {},
     "output_type": "display_data"
    },
    {
     "name": "stdout",
     "output_type": "stream",
     "text": [
      "########################################\n",
      "<class 'pandas.core.frame.DataFrame'>\n",
      "RangeIndex: 19735 entries, 0 to 19734\n",
      "Data columns (total 29 columns):\n",
      " #   Column       Non-Null Count  Dtype         \n",
      "---  ------       --------------  -----         \n",
      " 0   date         19735 non-null  datetime64[ns]\n",
      " 1   Appliances   19735 non-null  int64         \n",
      " 2   lights       19735 non-null  int64         \n",
      " 3   T1           19735 non-null  float64       \n",
      " 4   RH_1         19735 non-null  float64       \n",
      " 5   T2           19735 non-null  float64       \n",
      " 6   RH_2         19735 non-null  float64       \n",
      " 7   T3           19735 non-null  float64       \n",
      " 8   RH_3         19735 non-null  float64       \n",
      " 9   T4           19735 non-null  float64       \n",
      " 10  RH_4         19735 non-null  float64       \n",
      " 11  T5           19735 non-null  float64       \n",
      " 12  RH_5         19735 non-null  float64       \n",
      " 13  T6           19735 non-null  float64       \n",
      " 14  RH_6         19735 non-null  float64       \n",
      " 15  T7           19735 non-null  float64       \n",
      " 16  RH_7         19735 non-null  float64       \n",
      " 17  T8           19735 non-null  float64       \n",
      " 18  RH_8         19735 non-null  float64       \n",
      " 19  T9           19735 non-null  float64       \n",
      " 20  RH_9         19735 non-null  float64       \n",
      " 21  T_out        19735 non-null  float64       \n",
      " 22  Press_mm_hg  19735 non-null  float64       \n",
      " 23  RH_out       19735 non-null  float64       \n",
      " 24  Windspeed    19735 non-null  float64       \n",
      " 25  Visibility   19735 non-null  float64       \n",
      " 26  Tdewpoint    19735 non-null  float64       \n",
      " 27  rv1          19735 non-null  float64       \n",
      " 28  rv2          19735 non-null  float64       \n",
      "dtypes: datetime64[ns](1), float64(26), int64(2)\n",
      "memory usage: 4.4 MB\n"
     ]
    },
    {
     "data": {
      "text/plain": [
       "None"
      ]
     },
     "metadata": {},
     "output_type": "display_data"
    }
   ],
   "source": [
    "display_all(df_raw.tail().transpose())\n",
    "print('#'*40)\n",
    "display('Some more info')\n",
    "print('#'*40)\n",
    "display(df_raw.info())"
   ]
  },
  {
   "cell_type": "markdown",
   "metadata": {},
   "source": [
    "# Preprocessing for random forest"
   ]
  },
  {
   "cell_type": "code",
   "execution_count": 12,
   "metadata": {},
   "outputs": [],
   "source": [
    "# 80%...training, 20%...testing\n",
    "train, test = train_test_split(df_raw,test_size=0.2,random_state=42)"
   ]
  },
  {
   "cell_type": "code",
   "execution_count": 94,
   "metadata": {},
   "outputs": [
    {
     "name": "stdout",
     "output_type": "stream",
     "text": [
      "Dataset contains roughly: 137 days of data\n"
     ]
    }
   ],
   "source": [
    "# Data is aggregated into 10min intervalls\n",
    "# One day = 24*6 instances\n",
    "day = 24*6 #instances\n",
    "print(f\"Dataset contains roughly: {round(df_raw.shape[0]/day)} days of data\")"
   ]
  },
  {
   "cell_type": "code",
   "execution_count": 91,
   "metadata": {},
   "outputs": [
    {
     "data": {
      "text/html": [
       "<div>\n",
       "<style scoped>\n",
       "    .dataframe tbody tr th:only-of-type {\n",
       "        vertical-align: middle;\n",
       "    }\n",
       "\n",
       "    .dataframe tbody tr th {\n",
       "        vertical-align: top;\n",
       "    }\n",
       "\n",
       "    .dataframe thead th {\n",
       "        text-align: right;\n",
       "    }\n",
       "</style>\n",
       "<table border=\"1\" class=\"dataframe\">\n",
       "  <thead>\n",
       "    <tr style=\"text-align: right;\">\n",
       "      <th></th>\n",
       "      <th>date</th>\n",
       "      <th>Appliances</th>\n",
       "      <th>lights</th>\n",
       "      <th>T1</th>\n",
       "      <th>RH_1</th>\n",
       "      <th>T2</th>\n",
       "      <th>RH_2</th>\n",
       "      <th>T3</th>\n",
       "      <th>RH_3</th>\n",
       "      <th>T4</th>\n",
       "      <th>...</th>\n",
       "      <th>T9</th>\n",
       "      <th>RH_9</th>\n",
       "      <th>T_out</th>\n",
       "      <th>Press_mm_hg</th>\n",
       "      <th>RH_out</th>\n",
       "      <th>Windspeed</th>\n",
       "      <th>Visibility</th>\n",
       "      <th>Tdewpoint</th>\n",
       "      <th>rv1</th>\n",
       "      <th>rv2</th>\n",
       "    </tr>\n",
       "  </thead>\n",
       "  <tbody>\n",
       "    <tr>\n",
       "      <th>0</th>\n",
       "      <td>2016-01-11 17:00:00</td>\n",
       "      <td>60</td>\n",
       "      <td>30</td>\n",
       "      <td>19.890000</td>\n",
       "      <td>47.596667</td>\n",
       "      <td>19.2</td>\n",
       "      <td>44.790000</td>\n",
       "      <td>19.790000</td>\n",
       "      <td>44.730000</td>\n",
       "      <td>19.000000</td>\n",
       "      <td>...</td>\n",
       "      <td>17.033333</td>\n",
       "      <td>45.530000</td>\n",
       "      <td>6.600000</td>\n",
       "      <td>733.50</td>\n",
       "      <td>92.0</td>\n",
       "      <td>7.000000</td>\n",
       "      <td>63.000000</td>\n",
       "      <td>5.300000</td>\n",
       "      <td>13.275433</td>\n",
       "      <td>13.275433</td>\n",
       "    </tr>\n",
       "    <tr>\n",
       "      <th>1</th>\n",
       "      <td>2016-01-11 17:10:00</td>\n",
       "      <td>60</td>\n",
       "      <td>30</td>\n",
       "      <td>19.890000</td>\n",
       "      <td>46.693333</td>\n",
       "      <td>19.2</td>\n",
       "      <td>44.722500</td>\n",
       "      <td>19.790000</td>\n",
       "      <td>44.790000</td>\n",
       "      <td>19.000000</td>\n",
       "      <td>...</td>\n",
       "      <td>17.066667</td>\n",
       "      <td>45.560000</td>\n",
       "      <td>6.483333</td>\n",
       "      <td>733.60</td>\n",
       "      <td>92.0</td>\n",
       "      <td>6.666667</td>\n",
       "      <td>59.166667</td>\n",
       "      <td>5.200000</td>\n",
       "      <td>18.606195</td>\n",
       "      <td>18.606195</td>\n",
       "    </tr>\n",
       "    <tr>\n",
       "      <th>2</th>\n",
       "      <td>2016-01-11 17:20:00</td>\n",
       "      <td>50</td>\n",
       "      <td>30</td>\n",
       "      <td>19.890000</td>\n",
       "      <td>46.300000</td>\n",
       "      <td>19.2</td>\n",
       "      <td>44.626667</td>\n",
       "      <td>19.790000</td>\n",
       "      <td>44.933333</td>\n",
       "      <td>18.926667</td>\n",
       "      <td>...</td>\n",
       "      <td>17.000000</td>\n",
       "      <td>45.500000</td>\n",
       "      <td>6.366667</td>\n",
       "      <td>733.70</td>\n",
       "      <td>92.0</td>\n",
       "      <td>6.333333</td>\n",
       "      <td>55.333333</td>\n",
       "      <td>5.100000</td>\n",
       "      <td>28.642668</td>\n",
       "      <td>28.642668</td>\n",
       "    </tr>\n",
       "    <tr>\n",
       "      <th>3</th>\n",
       "      <td>2016-01-11 17:30:00</td>\n",
       "      <td>50</td>\n",
       "      <td>40</td>\n",
       "      <td>19.890000</td>\n",
       "      <td>46.066667</td>\n",
       "      <td>19.2</td>\n",
       "      <td>44.590000</td>\n",
       "      <td>19.790000</td>\n",
       "      <td>45.000000</td>\n",
       "      <td>18.890000</td>\n",
       "      <td>...</td>\n",
       "      <td>17.000000</td>\n",
       "      <td>45.400000</td>\n",
       "      <td>6.250000</td>\n",
       "      <td>733.80</td>\n",
       "      <td>92.0</td>\n",
       "      <td>6.000000</td>\n",
       "      <td>51.500000</td>\n",
       "      <td>5.000000</td>\n",
       "      <td>45.410389</td>\n",
       "      <td>45.410389</td>\n",
       "    </tr>\n",
       "    <tr>\n",
       "      <th>4</th>\n",
       "      <td>2016-01-11 17:40:00</td>\n",
       "      <td>60</td>\n",
       "      <td>40</td>\n",
       "      <td>19.890000</td>\n",
       "      <td>46.333333</td>\n",
       "      <td>19.2</td>\n",
       "      <td>44.530000</td>\n",
       "      <td>19.790000</td>\n",
       "      <td>45.000000</td>\n",
       "      <td>18.890000</td>\n",
       "      <td>...</td>\n",
       "      <td>17.000000</td>\n",
       "      <td>45.400000</td>\n",
       "      <td>6.133333</td>\n",
       "      <td>733.90</td>\n",
       "      <td>92.0</td>\n",
       "      <td>5.666667</td>\n",
       "      <td>47.666667</td>\n",
       "      <td>4.900000</td>\n",
       "      <td>10.084097</td>\n",
       "      <td>10.084097</td>\n",
       "    </tr>\n",
       "    <tr>\n",
       "      <th>...</th>\n",
       "      <td>...</td>\n",
       "      <td>...</td>\n",
       "      <td>...</td>\n",
       "      <td>...</td>\n",
       "      <td>...</td>\n",
       "      <td>...</td>\n",
       "      <td>...</td>\n",
       "      <td>...</td>\n",
       "      <td>...</td>\n",
       "      <td>...</td>\n",
       "      <td>...</td>\n",
       "      <td>...</td>\n",
       "      <td>...</td>\n",
       "      <td>...</td>\n",
       "      <td>...</td>\n",
       "      <td>...</td>\n",
       "      <td>...</td>\n",
       "      <td>...</td>\n",
       "      <td>...</td>\n",
       "      <td>...</td>\n",
       "      <td>...</td>\n",
       "    </tr>\n",
       "    <tr>\n",
       "      <th>19723</th>\n",
       "      <td>2016-05-27 16:10:00</td>\n",
       "      <td>90</td>\n",
       "      <td>0</td>\n",
       "      <td>25.500000</td>\n",
       "      <td>45.790000</td>\n",
       "      <td>26.0</td>\n",
       "      <td>41.590000</td>\n",
       "      <td>28.100000</td>\n",
       "      <td>40.560000</td>\n",
       "      <td>24.700000</td>\n",
       "      <td>...</td>\n",
       "      <td>23.160000</td>\n",
       "      <td>46.590000</td>\n",
       "      <td>22.833333</td>\n",
       "      <td>755.45</td>\n",
       "      <td>55.0</td>\n",
       "      <td>2.166667</td>\n",
       "      <td>22.833333</td>\n",
       "      <td>13.233333</td>\n",
       "      <td>38.751594</td>\n",
       "      <td>38.751594</td>\n",
       "    </tr>\n",
       "    <tr>\n",
       "      <th>19724</th>\n",
       "      <td>2016-05-27 16:20:00</td>\n",
       "      <td>100</td>\n",
       "      <td>0</td>\n",
       "      <td>25.500000</td>\n",
       "      <td>45.933333</td>\n",
       "      <td>26.0</td>\n",
       "      <td>41.652857</td>\n",
       "      <td>28.000000</td>\n",
       "      <td>40.700000</td>\n",
       "      <td>24.700000</td>\n",
       "      <td>...</td>\n",
       "      <td>23.200000</td>\n",
       "      <td>46.621429</td>\n",
       "      <td>22.866667</td>\n",
       "      <td>755.40</td>\n",
       "      <td>55.0</td>\n",
       "      <td>2.333333</td>\n",
       "      <td>22.666667</td>\n",
       "      <td>13.266667</td>\n",
       "      <td>32.306224</td>\n",
       "      <td>32.306224</td>\n",
       "    </tr>\n",
       "    <tr>\n",
       "      <th>19725</th>\n",
       "      <td>2016-05-27 16:30:00</td>\n",
       "      <td>220</td>\n",
       "      <td>0</td>\n",
       "      <td>25.426667</td>\n",
       "      <td>46.060000</td>\n",
       "      <td>26.0</td>\n",
       "      <td>41.700000</td>\n",
       "      <td>28.000000</td>\n",
       "      <td>40.760000</td>\n",
       "      <td>24.700000</td>\n",
       "      <td>...</td>\n",
       "      <td>23.200000</td>\n",
       "      <td>46.700000</td>\n",
       "      <td>22.900000</td>\n",
       "      <td>755.35</td>\n",
       "      <td>55.0</td>\n",
       "      <td>2.500000</td>\n",
       "      <td>22.500000</td>\n",
       "      <td>13.300000</td>\n",
       "      <td>23.009520</td>\n",
       "      <td>23.009520</td>\n",
       "    </tr>\n",
       "    <tr>\n",
       "      <th>19726</th>\n",
       "      <td>2016-05-27 16:40:00</td>\n",
       "      <td>180</td>\n",
       "      <td>0</td>\n",
       "      <td>25.500000</td>\n",
       "      <td>46.530000</td>\n",
       "      <td>26.0</td>\n",
       "      <td>41.725714</td>\n",
       "      <td>27.856667</td>\n",
       "      <td>40.500000</td>\n",
       "      <td>24.700000</td>\n",
       "      <td>...</td>\n",
       "      <td>23.200000</td>\n",
       "      <td>46.652857</td>\n",
       "      <td>22.933333</td>\n",
       "      <td>755.30</td>\n",
       "      <td>55.0</td>\n",
       "      <td>2.666667</td>\n",
       "      <td>22.333333</td>\n",
       "      <td>13.333333</td>\n",
       "      <td>25.296732</td>\n",
       "      <td>25.296732</td>\n",
       "    </tr>\n",
       "    <tr>\n",
       "      <th>19727</th>\n",
       "      <td>2016-05-27 16:50:00</td>\n",
       "      <td>120</td>\n",
       "      <td>0</td>\n",
       "      <td>25.500000</td>\n",
       "      <td>47.456667</td>\n",
       "      <td>26.0</td>\n",
       "      <td>42.320000</td>\n",
       "      <td>27.663333</td>\n",
       "      <td>40.693333</td>\n",
       "      <td>24.700000</td>\n",
       "      <td>...</td>\n",
       "      <td>23.200000</td>\n",
       "      <td>46.718000</td>\n",
       "      <td>22.966667</td>\n",
       "      <td>755.25</td>\n",
       "      <td>55.0</td>\n",
       "      <td>2.833333</td>\n",
       "      <td>22.166667</td>\n",
       "      <td>13.366667</td>\n",
       "      <td>1.796395</td>\n",
       "      <td>1.796395</td>\n",
       "    </tr>\n",
       "  </tbody>\n",
       "</table>\n",
       "<p>19728 rows × 29 columns</p>\n",
       "</div>"
      ],
      "text/plain": [
       "                     date  Appliances  lights         T1       RH_1    T2  \\\n",
       "0     2016-01-11 17:00:00          60      30  19.890000  47.596667  19.2   \n",
       "1     2016-01-11 17:10:00          60      30  19.890000  46.693333  19.2   \n",
       "2     2016-01-11 17:20:00          50      30  19.890000  46.300000  19.2   \n",
       "3     2016-01-11 17:30:00          50      40  19.890000  46.066667  19.2   \n",
       "4     2016-01-11 17:40:00          60      40  19.890000  46.333333  19.2   \n",
       "...                   ...         ...     ...        ...        ...   ...   \n",
       "19723 2016-05-27 16:10:00          90       0  25.500000  45.790000  26.0   \n",
       "19724 2016-05-27 16:20:00         100       0  25.500000  45.933333  26.0   \n",
       "19725 2016-05-27 16:30:00         220       0  25.426667  46.060000  26.0   \n",
       "19726 2016-05-27 16:40:00         180       0  25.500000  46.530000  26.0   \n",
       "19727 2016-05-27 16:50:00         120       0  25.500000  47.456667  26.0   \n",
       "\n",
       "            RH_2         T3       RH_3         T4  ...         T9       RH_9  \\\n",
       "0      44.790000  19.790000  44.730000  19.000000  ...  17.033333  45.530000   \n",
       "1      44.722500  19.790000  44.790000  19.000000  ...  17.066667  45.560000   \n",
       "2      44.626667  19.790000  44.933333  18.926667  ...  17.000000  45.500000   \n",
       "3      44.590000  19.790000  45.000000  18.890000  ...  17.000000  45.400000   \n",
       "4      44.530000  19.790000  45.000000  18.890000  ...  17.000000  45.400000   \n",
       "...          ...        ...        ...        ...  ...        ...        ...   \n",
       "19723  41.590000  28.100000  40.560000  24.700000  ...  23.160000  46.590000   \n",
       "19724  41.652857  28.000000  40.700000  24.700000  ...  23.200000  46.621429   \n",
       "19725  41.700000  28.000000  40.760000  24.700000  ...  23.200000  46.700000   \n",
       "19726  41.725714  27.856667  40.500000  24.700000  ...  23.200000  46.652857   \n",
       "19727  42.320000  27.663333  40.693333  24.700000  ...  23.200000  46.718000   \n",
       "\n",
       "           T_out  Press_mm_hg  RH_out  Windspeed  Visibility  Tdewpoint  \\\n",
       "0       6.600000       733.50    92.0   7.000000   63.000000   5.300000   \n",
       "1       6.483333       733.60    92.0   6.666667   59.166667   5.200000   \n",
       "2       6.366667       733.70    92.0   6.333333   55.333333   5.100000   \n",
       "3       6.250000       733.80    92.0   6.000000   51.500000   5.000000   \n",
       "4       6.133333       733.90    92.0   5.666667   47.666667   4.900000   \n",
       "...          ...          ...     ...        ...         ...        ...   \n",
       "19723  22.833333       755.45    55.0   2.166667   22.833333  13.233333   \n",
       "19724  22.866667       755.40    55.0   2.333333   22.666667  13.266667   \n",
       "19725  22.900000       755.35    55.0   2.500000   22.500000  13.300000   \n",
       "19726  22.933333       755.30    55.0   2.666667   22.333333  13.333333   \n",
       "19727  22.966667       755.25    55.0   2.833333   22.166667  13.366667   \n",
       "\n",
       "             rv1        rv2  \n",
       "0      13.275433  13.275433  \n",
       "1      18.606195  18.606195  \n",
       "2      28.642668  28.642668  \n",
       "3      45.410389  45.410389  \n",
       "4      10.084097  10.084097  \n",
       "...          ...        ...  \n",
       "19723  38.751594  38.751594  \n",
       "19724  32.306224  32.306224  \n",
       "19725  23.009520  23.009520  \n",
       "19726  25.296732  25.296732  \n",
       "19727   1.796395   1.796395  \n",
       "\n",
       "[19728 rows x 29 columns]"
      ]
     },
     "execution_count": 91,
     "metadata": {},
     "output_type": "execute_result"
    }
   ],
   "source": [
    "df_raw[0:int(137*day)]"
   ]
  },
  {
   "cell_type": "markdown",
   "metadata": {},
   "source": [
    "# Preprocessing LinReg"
   ]
  },
  {
   "cell_type": "code",
   "execution_count": 102,
   "metadata": {},
   "outputs": [],
   "source": [
    "def app_threshs(df_row):\n",
    "    app = df_row['Appliances']\n",
    "    if app < 50: # 25%\n",
    "        threshh = 0\n",
    "    elif app < 60: # 50%\n",
    "        threshh = 1\n",
    "    elif app < 100: # 75%-qart\n",
    "        threshh = 2\n",
    "    else:\n",
    "        threshh = 3\n",
    "    return threshh\n",
    "\n",
    "def daytime(row):\n",
    "    hour = row[\"date\"].hour\n",
    "    if 6 <= hour < 12:\n",
    "        daytime = 0 # morning\n",
    "    elif 12 <= hour < 15:\n",
    "        daytime = 1 # midday\n",
    "    elif 15 <= hour < 20:\n",
    "        daytime = 2 # afternoon\n",
    "    else:\n",
    "        daytime = 3 # night\n",
    "    return daytime\n",
    "\n",
    "def daytime_str(row):\n",
    "    hour = row[\"date\"].hour\n",
    "    if 6 <= hour < 12:\n",
    "        daytime = \"morning\"\n",
    "    elif 12 <= hour < 15:\n",
    "        daytime = \"'midday'\"\n",
    "    elif 15 <= hour < 20:\n",
    "        daytime = \"afternoon\"\n",
    "    else:\n",
    "        daytime = \"night\"\n",
    "    return daytime"
   ]
  },
  {
   "cell_type": "code",
   "execution_count": 26,
   "metadata": {},
   "outputs": [
    {
     "name": "stderr",
     "output_type": "stream",
     "text": [
      "C:\\Dev\\Python3.7\\lib\\site-packages\\ipykernel_launcher.py:1: SettingWithCopyWarning: \n",
      "A value is trying to be set on a copy of a slice from a DataFrame.\n",
      "Try using .loc[row_indexer,col_indexer] = value instead\n",
      "\n",
      "See the caveats in the documentation: https://pandas.pydata.org/pandas-docs/stable/user_guide/indexing.html#returning-a-view-versus-a-copy\n",
      "  \"\"\"Entry point for launching an IPython kernel.\n",
      "C:\\Dev\\Python3.7\\lib\\site-packages\\ipykernel_launcher.py:3: SettingWithCopyWarning: \n",
      "A value is trying to be set on a copy of a slice from a DataFrame.\n",
      "Try using .loc[row_indexer,col_indexer] = value instead\n",
      "\n",
      "See the caveats in the documentation: https://pandas.pydata.org/pandas-docs/stable/user_guide/indexing.html#returning-a-view-versus-a-copy\n",
      "  This is separate from the ipykernel package so we can avoid doing imports until\n"
     ]
    },
    {
     "data": {
      "text/html": [
       "<div>\n",
       "<style scoped>\n",
       "    .dataframe tbody tr th:only-of-type {\n",
       "        vertical-align: middle;\n",
       "    }\n",
       "\n",
       "    .dataframe tbody tr th {\n",
       "        vertical-align: top;\n",
       "    }\n",
       "\n",
       "    .dataframe thead th {\n",
       "        text-align: right;\n",
       "    }\n",
       "</style>\n",
       "<table border=\"1\" class=\"dataframe\">\n",
       "  <thead>\n",
       "    <tr style=\"text-align: right;\">\n",
       "      <th></th>\n",
       "      <th>date</th>\n",
       "      <th>Appliances</th>\n",
       "      <th>lights</th>\n",
       "      <th>T1</th>\n",
       "      <th>RH_1</th>\n",
       "      <th>T2</th>\n",
       "      <th>RH_2</th>\n",
       "      <th>T3</th>\n",
       "      <th>RH_3</th>\n",
       "      <th>T4</th>\n",
       "      <th>...</th>\n",
       "      <th>RH_9</th>\n",
       "      <th>T_out</th>\n",
       "      <th>Press_mm_hg</th>\n",
       "      <th>RH_out</th>\n",
       "      <th>Windspeed</th>\n",
       "      <th>Visibility</th>\n",
       "      <th>Tdewpoint</th>\n",
       "      <th>rv1</th>\n",
       "      <th>rv2</th>\n",
       "      <th>threshh</th>\n",
       "    </tr>\n",
       "  </thead>\n",
       "  <tbody>\n",
       "    <tr>\n",
       "      <th>9815</th>\n",
       "      <td>2016-03-19 20:50:00</td>\n",
       "      <td>80</td>\n",
       "      <td>10</td>\n",
       "      <td>22.29</td>\n",
       "      <td>36.200000</td>\n",
       "      <td>20.100000</td>\n",
       "      <td>38.066667</td>\n",
       "      <td>22.20</td>\n",
       "      <td>35.000000</td>\n",
       "      <td>21.200000</td>\n",
       "      <td>...</td>\n",
       "      <td>34.500000</td>\n",
       "      <td>5.933333</td>\n",
       "      <td>762.533333</td>\n",
       "      <td>78.166667</td>\n",
       "      <td>2.833333</td>\n",
       "      <td>21.666667</td>\n",
       "      <td>2.366667</td>\n",
       "      <td>6.644992</td>\n",
       "      <td>6.644992</td>\n",
       "      <td>2</td>\n",
       "    </tr>\n",
       "    <tr>\n",
       "      <th>9925</th>\n",
       "      <td>2016-03-20 15:10:00</td>\n",
       "      <td>100</td>\n",
       "      <td>0</td>\n",
       "      <td>22.29</td>\n",
       "      <td>36.060000</td>\n",
       "      <td>20.890000</td>\n",
       "      <td>36.663333</td>\n",
       "      <td>22.60</td>\n",
       "      <td>35.760000</td>\n",
       "      <td>19.926667</td>\n",
       "      <td>...</td>\n",
       "      <td>39.133333</td>\n",
       "      <td>7.116667</td>\n",
       "      <td>761.050000</td>\n",
       "      <td>71.500000</td>\n",
       "      <td>4.000000</td>\n",
       "      <td>40.000000</td>\n",
       "      <td>2.300000</td>\n",
       "      <td>45.348222</td>\n",
       "      <td>45.348222</td>\n",
       "      <td>3</td>\n",
       "    </tr>\n",
       "    <tr>\n",
       "      <th>14088</th>\n",
       "      <td>2016-04-18 13:00:00</td>\n",
       "      <td>60</td>\n",
       "      <td>0</td>\n",
       "      <td>21.89</td>\n",
       "      <td>36.463333</td>\n",
       "      <td>23.133333</td>\n",
       "      <td>31.963333</td>\n",
       "      <td>22.39</td>\n",
       "      <td>35.966667</td>\n",
       "      <td>22.827500</td>\n",
       "      <td>...</td>\n",
       "      <td>37.163333</td>\n",
       "      <td>11.300000</td>\n",
       "      <td>761.900000</td>\n",
       "      <td>45.000000</td>\n",
       "      <td>4.000000</td>\n",
       "      <td>40.000000</td>\n",
       "      <td>-0.200000</td>\n",
       "      <td>10.596711</td>\n",
       "      <td>10.596711</td>\n",
       "      <td>2</td>\n",
       "    </tr>\n",
       "    <tr>\n",
       "      <th>17356</th>\n",
       "      <td>2016-05-11 05:40:00</td>\n",
       "      <td>70</td>\n",
       "      <td>0</td>\n",
       "      <td>24.60</td>\n",
       "      <td>47.530000</td>\n",
       "      <td>22.764286</td>\n",
       "      <td>49.764286</td>\n",
       "      <td>26.70</td>\n",
       "      <td>43.300000</td>\n",
       "      <td>24.890000</td>\n",
       "      <td>...</td>\n",
       "      <td>47.238571</td>\n",
       "      <td>14.666667</td>\n",
       "      <td>748.433333</td>\n",
       "      <td>94.666667</td>\n",
       "      <td>2.333333</td>\n",
       "      <td>22.666667</td>\n",
       "      <td>13.833333</td>\n",
       "      <td>2.711097</td>\n",
       "      <td>2.711097</td>\n",
       "      <td>2</td>\n",
       "    </tr>\n",
       "    <tr>\n",
       "      <th>17547</th>\n",
       "      <td>2016-05-12 13:30:00</td>\n",
       "      <td>50</td>\n",
       "      <td>0</td>\n",
       "      <td>25.39</td>\n",
       "      <td>47.230000</td>\n",
       "      <td>26.200000</td>\n",
       "      <td>43.134000</td>\n",
       "      <td>26.20</td>\n",
       "      <td>43.590000</td>\n",
       "      <td>25.600000</td>\n",
       "      <td>...</td>\n",
       "      <td>46.590000</td>\n",
       "      <td>20.400000</td>\n",
       "      <td>744.150000</td>\n",
       "      <td>58.000000</td>\n",
       "      <td>2.500000</td>\n",
       "      <td>24.000000</td>\n",
       "      <td>11.750000</td>\n",
       "      <td>45.678804</td>\n",
       "      <td>45.678804</td>\n",
       "      <td>1</td>\n",
       "    </tr>\n",
       "  </tbody>\n",
       "</table>\n",
       "<p>5 rows × 30 columns</p>\n",
       "</div>"
      ],
      "text/plain": [
       "                     date  Appliances  lights     T1       RH_1         T2  \\\n",
       "9815  2016-03-19 20:50:00          80      10  22.29  36.200000  20.100000   \n",
       "9925  2016-03-20 15:10:00         100       0  22.29  36.060000  20.890000   \n",
       "14088 2016-04-18 13:00:00          60       0  21.89  36.463333  23.133333   \n",
       "17356 2016-05-11 05:40:00          70       0  24.60  47.530000  22.764286   \n",
       "17547 2016-05-12 13:30:00          50       0  25.39  47.230000  26.200000   \n",
       "\n",
       "            RH_2     T3       RH_3         T4  ...       RH_9      T_out  \\\n",
       "9815   38.066667  22.20  35.000000  21.200000  ...  34.500000   5.933333   \n",
       "9925   36.663333  22.60  35.760000  19.926667  ...  39.133333   7.116667   \n",
       "14088  31.963333  22.39  35.966667  22.827500  ...  37.163333  11.300000   \n",
       "17356  49.764286  26.70  43.300000  24.890000  ...  47.238571  14.666667   \n",
       "17547  43.134000  26.20  43.590000  25.600000  ...  46.590000  20.400000   \n",
       "\n",
       "       Press_mm_hg     RH_out  Windspeed  Visibility  Tdewpoint        rv1  \\\n",
       "9815    762.533333  78.166667   2.833333   21.666667   2.366667   6.644992   \n",
       "9925    761.050000  71.500000   4.000000   40.000000   2.300000  45.348222   \n",
       "14088   761.900000  45.000000   4.000000   40.000000  -0.200000  10.596711   \n",
       "17356   748.433333  94.666667   2.333333   22.666667  13.833333   2.711097   \n",
       "17547   744.150000  58.000000   2.500000   24.000000  11.750000  45.678804   \n",
       "\n",
       "             rv2  threshh  \n",
       "9815    6.644992        2  \n",
       "9925   45.348222        3  \n",
       "14088  10.596711        2  \n",
       "17356   2.711097        2  \n",
       "17547  45.678804        1  \n",
       "\n",
       "[5 rows x 30 columns]"
      ]
     },
     "execution_count": 26,
     "metadata": {},
     "output_type": "execute_result"
    }
   ],
   "source": [
    "train['threshh'] = train.apply(lambda row: app_threshs(row), axis=1)\n",
    "train.tail()\n",
    "test['threshh'] = test.apply(lambda row: app_threshs(row), axis=1)\n",
    "test.tail()"
   ]
  },
  {
   "cell_type": "code",
   "execution_count": 47,
   "metadata": {},
   "outputs": [
    {
     "name": "stderr",
     "output_type": "stream",
     "text": [
      "C:\\Dev\\Python3.7\\lib\\site-packages\\ipykernel_launcher.py:1: SettingWithCopyWarning: \n",
      "A value is trying to be set on a copy of a slice from a DataFrame.\n",
      "Try using .loc[row_indexer,col_indexer] = value instead\n",
      "\n",
      "See the caveats in the documentation: https://pandas.pydata.org/pandas-docs/stable/user_guide/indexing.html#returning-a-view-versus-a-copy\n",
      "  \"\"\"Entry point for launching an IPython kernel.\n"
     ]
    },
    {
     "data": {
      "text/html": [
       "<div>\n",
       "<style scoped>\n",
       "    .dataframe tbody tr th:only-of-type {\n",
       "        vertical-align: middle;\n",
       "    }\n",
       "\n",
       "    .dataframe tbody tr th {\n",
       "        vertical-align: top;\n",
       "    }\n",
       "\n",
       "    .dataframe thead th {\n",
       "        text-align: right;\n",
       "    }\n",
       "</style>\n",
       "<table border=\"1\" class=\"dataframe\">\n",
       "  <thead>\n",
       "    <tr style=\"text-align: right;\">\n",
       "      <th></th>\n",
       "      <th>date</th>\n",
       "      <th>Appliances</th>\n",
       "      <th>lights</th>\n",
       "      <th>T1</th>\n",
       "      <th>RH_1</th>\n",
       "      <th>T2</th>\n",
       "      <th>RH_2</th>\n",
       "      <th>T3</th>\n",
       "      <th>RH_3</th>\n",
       "      <th>T4</th>\n",
       "      <th>...</th>\n",
       "      <th>T_out</th>\n",
       "      <th>Press_mm_hg</th>\n",
       "      <th>RH_out</th>\n",
       "      <th>Windspeed</th>\n",
       "      <th>Visibility</th>\n",
       "      <th>Tdewpoint</th>\n",
       "      <th>rv1</th>\n",
       "      <th>rv2</th>\n",
       "      <th>threshh</th>\n",
       "      <th>daytime</th>\n",
       "    </tr>\n",
       "  </thead>\n",
       "  <tbody>\n",
       "    <tr>\n",
       "      <th>11284</th>\n",
       "      <td>2016-03-30 01:40:00</td>\n",
       "      <td>60</td>\n",
       "      <td>0</td>\n",
       "      <td>21.760000</td>\n",
       "      <td>40.90</td>\n",
       "      <td>19.390</td>\n",
       "      <td>43.090000</td>\n",
       "      <td>23.0</td>\n",
       "      <td>39.00</td>\n",
       "      <td>21.50</td>\n",
       "      <td>...</td>\n",
       "      <td>9.566667</td>\n",
       "      <td>750.466667</td>\n",
       "      <td>77.666667</td>\n",
       "      <td>6.666667</td>\n",
       "      <td>40.000000</td>\n",
       "      <td>5.833333</td>\n",
       "      <td>45.513197</td>\n",
       "      <td>45.513197</td>\n",
       "      <td>2</td>\n",
       "      <td>3</td>\n",
       "    </tr>\n",
       "    <tr>\n",
       "      <th>11964</th>\n",
       "      <td>2016-04-03 19:00:00</td>\n",
       "      <td>120</td>\n",
       "      <td>0</td>\n",
       "      <td>22.390000</td>\n",
       "      <td>43.70</td>\n",
       "      <td>22.000</td>\n",
       "      <td>42.066667</td>\n",
       "      <td>22.7</td>\n",
       "      <td>41.23</td>\n",
       "      <td>21.29</td>\n",
       "      <td>...</td>\n",
       "      <td>17.300000</td>\n",
       "      <td>749.500000</td>\n",
       "      <td>66.000000</td>\n",
       "      <td>2.000000</td>\n",
       "      <td>40.000000</td>\n",
       "      <td>10.900000</td>\n",
       "      <td>34.934752</td>\n",
       "      <td>34.934752</td>\n",
       "      <td>3</td>\n",
       "      <td>2</td>\n",
       "    </tr>\n",
       "    <tr>\n",
       "      <th>5390</th>\n",
       "      <td>2016-02-18 03:20:00</td>\n",
       "      <td>30</td>\n",
       "      <td>0</td>\n",
       "      <td>20.290000</td>\n",
       "      <td>35.70</td>\n",
       "      <td>18.200</td>\n",
       "      <td>37.590000</td>\n",
       "      <td>20.1</td>\n",
       "      <td>37.59</td>\n",
       "      <td>18.20</td>\n",
       "      <td>...</td>\n",
       "      <td>-1.066667</td>\n",
       "      <td>754.900000</td>\n",
       "      <td>87.000000</td>\n",
       "      <td>3.666667</td>\n",
       "      <td>62.666667</td>\n",
       "      <td>-2.933333</td>\n",
       "      <td>19.071358</td>\n",
       "      <td>19.071358</td>\n",
       "      <td>0</td>\n",
       "      <td>3</td>\n",
       "    </tr>\n",
       "    <tr>\n",
       "      <th>860</th>\n",
       "      <td>2016-01-17 16:20:00</td>\n",
       "      <td>80</td>\n",
       "      <td>0</td>\n",
       "      <td>21.790000</td>\n",
       "      <td>35.56</td>\n",
       "      <td>20.434</td>\n",
       "      <td>35.116000</td>\n",
       "      <td>21.2</td>\n",
       "      <td>36.90</td>\n",
       "      <td>21.10</td>\n",
       "      <td>...</td>\n",
       "      <td>2.066667</td>\n",
       "      <td>765.033333</td>\n",
       "      <td>64.333333</td>\n",
       "      <td>1.333333</td>\n",
       "      <td>40.000000</td>\n",
       "      <td>-4.066667</td>\n",
       "      <td>1.050592</td>\n",
       "      <td>1.050592</td>\n",
       "      <td>2</td>\n",
       "      <td>2</td>\n",
       "    </tr>\n",
       "    <tr>\n",
       "      <th>15795</th>\n",
       "      <td>2016-04-30 09:30:00</td>\n",
       "      <td>130</td>\n",
       "      <td>0</td>\n",
       "      <td>21.323333</td>\n",
       "      <td>37.73</td>\n",
       "      <td>19.890</td>\n",
       "      <td>38.566667</td>\n",
       "      <td>22.7</td>\n",
       "      <td>36.59</td>\n",
       "      <td>19.70</td>\n",
       "      <td>...</td>\n",
       "      <td>6.650000</td>\n",
       "      <td>758.650000</td>\n",
       "      <td>85.500000</td>\n",
       "      <td>1.000000</td>\n",
       "      <td>40.000000</td>\n",
       "      <td>4.350000</td>\n",
       "      <td>17.456040</td>\n",
       "      <td>17.456040</td>\n",
       "      <td>3</td>\n",
       "      <td>0</td>\n",
       "    </tr>\n",
       "  </tbody>\n",
       "</table>\n",
       "<p>5 rows × 31 columns</p>\n",
       "</div>"
      ],
      "text/plain": [
       "                     date  Appliances  lights         T1   RH_1      T2  \\\n",
       "11284 2016-03-30 01:40:00          60       0  21.760000  40.90  19.390   \n",
       "11964 2016-04-03 19:00:00         120       0  22.390000  43.70  22.000   \n",
       "5390  2016-02-18 03:20:00          30       0  20.290000  35.70  18.200   \n",
       "860   2016-01-17 16:20:00          80       0  21.790000  35.56  20.434   \n",
       "15795 2016-04-30 09:30:00         130       0  21.323333  37.73  19.890   \n",
       "\n",
       "            RH_2    T3   RH_3     T4  ...      T_out  Press_mm_hg     RH_out  \\\n",
       "11284  43.090000  23.0  39.00  21.50  ...   9.566667   750.466667  77.666667   \n",
       "11964  42.066667  22.7  41.23  21.29  ...  17.300000   749.500000  66.000000   \n",
       "5390   37.590000  20.1  37.59  18.20  ...  -1.066667   754.900000  87.000000   \n",
       "860    35.116000  21.2  36.90  21.10  ...   2.066667   765.033333  64.333333   \n",
       "15795  38.566667  22.7  36.59  19.70  ...   6.650000   758.650000  85.500000   \n",
       "\n",
       "       Windspeed  Visibility  Tdewpoint        rv1        rv2  threshh  \\\n",
       "11284   6.666667   40.000000   5.833333  45.513197  45.513197        2   \n",
       "11964   2.000000   40.000000  10.900000  34.934752  34.934752        3   \n",
       "5390    3.666667   62.666667  -2.933333  19.071358  19.071358        0   \n",
       "860     1.333333   40.000000  -4.066667   1.050592   1.050592        2   \n",
       "15795   1.000000   40.000000   4.350000  17.456040  17.456040        3   \n",
       "\n",
       "       daytime  \n",
       "11284        3  \n",
       "11964        2  \n",
       "5390         3  \n",
       "860          2  \n",
       "15795        0  \n",
       "\n",
       "[5 rows x 31 columns]"
      ]
     },
     "metadata": {},
     "output_type": "display_data"
    },
    {
     "name": "stderr",
     "output_type": "stream",
     "text": [
      "C:\\Dev\\Python3.7\\lib\\site-packages\\ipykernel_launcher.py:3: SettingWithCopyWarning: \n",
      "A value is trying to be set on a copy of a slice from a DataFrame.\n",
      "Try using .loc[row_indexer,col_indexer] = value instead\n",
      "\n",
      "See the caveats in the documentation: https://pandas.pydata.org/pandas-docs/stable/user_guide/indexing.html#returning-a-view-versus-a-copy\n",
      "  This is separate from the ipykernel package so we can avoid doing imports until\n"
     ]
    },
    {
     "data": {
      "text/html": [
       "<div>\n",
       "<style scoped>\n",
       "    .dataframe tbody tr th:only-of-type {\n",
       "        vertical-align: middle;\n",
       "    }\n",
       "\n",
       "    .dataframe tbody tr th {\n",
       "        vertical-align: top;\n",
       "    }\n",
       "\n",
       "    .dataframe thead th {\n",
       "        text-align: right;\n",
       "    }\n",
       "</style>\n",
       "<table border=\"1\" class=\"dataframe\">\n",
       "  <thead>\n",
       "    <tr style=\"text-align: right;\">\n",
       "      <th></th>\n",
       "      <th>date</th>\n",
       "      <th>Appliances</th>\n",
       "      <th>lights</th>\n",
       "      <th>T1</th>\n",
       "      <th>RH_1</th>\n",
       "      <th>T2</th>\n",
       "      <th>RH_2</th>\n",
       "      <th>T3</th>\n",
       "      <th>RH_3</th>\n",
       "      <th>T4</th>\n",
       "      <th>...</th>\n",
       "      <th>T_out</th>\n",
       "      <th>Press_mm_hg</th>\n",
       "      <th>RH_out</th>\n",
       "      <th>Windspeed</th>\n",
       "      <th>Visibility</th>\n",
       "      <th>Tdewpoint</th>\n",
       "      <th>rv1</th>\n",
       "      <th>rv2</th>\n",
       "      <th>threshh</th>\n",
       "      <th>daytime</th>\n",
       "    </tr>\n",
       "  </thead>\n",
       "  <tbody>\n",
       "    <tr>\n",
       "      <th>9815</th>\n",
       "      <td>2016-03-19 20:50:00</td>\n",
       "      <td>80</td>\n",
       "      <td>10</td>\n",
       "      <td>22.29</td>\n",
       "      <td>36.200000</td>\n",
       "      <td>20.100000</td>\n",
       "      <td>38.066667</td>\n",
       "      <td>22.20</td>\n",
       "      <td>35.000000</td>\n",
       "      <td>21.200000</td>\n",
       "      <td>...</td>\n",
       "      <td>5.933333</td>\n",
       "      <td>762.533333</td>\n",
       "      <td>78.166667</td>\n",
       "      <td>2.833333</td>\n",
       "      <td>21.666667</td>\n",
       "      <td>2.366667</td>\n",
       "      <td>6.644992</td>\n",
       "      <td>6.644992</td>\n",
       "      <td>2</td>\n",
       "      <td>3</td>\n",
       "    </tr>\n",
       "    <tr>\n",
       "      <th>9925</th>\n",
       "      <td>2016-03-20 15:10:00</td>\n",
       "      <td>100</td>\n",
       "      <td>0</td>\n",
       "      <td>22.29</td>\n",
       "      <td>36.060000</td>\n",
       "      <td>20.890000</td>\n",
       "      <td>36.663333</td>\n",
       "      <td>22.60</td>\n",
       "      <td>35.760000</td>\n",
       "      <td>19.926667</td>\n",
       "      <td>...</td>\n",
       "      <td>7.116667</td>\n",
       "      <td>761.050000</td>\n",
       "      <td>71.500000</td>\n",
       "      <td>4.000000</td>\n",
       "      <td>40.000000</td>\n",
       "      <td>2.300000</td>\n",
       "      <td>45.348222</td>\n",
       "      <td>45.348222</td>\n",
       "      <td>3</td>\n",
       "      <td>2</td>\n",
       "    </tr>\n",
       "    <tr>\n",
       "      <th>14088</th>\n",
       "      <td>2016-04-18 13:00:00</td>\n",
       "      <td>60</td>\n",
       "      <td>0</td>\n",
       "      <td>21.89</td>\n",
       "      <td>36.463333</td>\n",
       "      <td>23.133333</td>\n",
       "      <td>31.963333</td>\n",
       "      <td>22.39</td>\n",
       "      <td>35.966667</td>\n",
       "      <td>22.827500</td>\n",
       "      <td>...</td>\n",
       "      <td>11.300000</td>\n",
       "      <td>761.900000</td>\n",
       "      <td>45.000000</td>\n",
       "      <td>4.000000</td>\n",
       "      <td>40.000000</td>\n",
       "      <td>-0.200000</td>\n",
       "      <td>10.596711</td>\n",
       "      <td>10.596711</td>\n",
       "      <td>2</td>\n",
       "      <td>1</td>\n",
       "    </tr>\n",
       "    <tr>\n",
       "      <th>17356</th>\n",
       "      <td>2016-05-11 05:40:00</td>\n",
       "      <td>70</td>\n",
       "      <td>0</td>\n",
       "      <td>24.60</td>\n",
       "      <td>47.530000</td>\n",
       "      <td>22.764286</td>\n",
       "      <td>49.764286</td>\n",
       "      <td>26.70</td>\n",
       "      <td>43.300000</td>\n",
       "      <td>24.890000</td>\n",
       "      <td>...</td>\n",
       "      <td>14.666667</td>\n",
       "      <td>748.433333</td>\n",
       "      <td>94.666667</td>\n",
       "      <td>2.333333</td>\n",
       "      <td>22.666667</td>\n",
       "      <td>13.833333</td>\n",
       "      <td>2.711097</td>\n",
       "      <td>2.711097</td>\n",
       "      <td>2</td>\n",
       "      <td>3</td>\n",
       "    </tr>\n",
       "    <tr>\n",
       "      <th>17547</th>\n",
       "      <td>2016-05-12 13:30:00</td>\n",
       "      <td>50</td>\n",
       "      <td>0</td>\n",
       "      <td>25.39</td>\n",
       "      <td>47.230000</td>\n",
       "      <td>26.200000</td>\n",
       "      <td>43.134000</td>\n",
       "      <td>26.20</td>\n",
       "      <td>43.590000</td>\n",
       "      <td>25.600000</td>\n",
       "      <td>...</td>\n",
       "      <td>20.400000</td>\n",
       "      <td>744.150000</td>\n",
       "      <td>58.000000</td>\n",
       "      <td>2.500000</td>\n",
       "      <td>24.000000</td>\n",
       "      <td>11.750000</td>\n",
       "      <td>45.678804</td>\n",
       "      <td>45.678804</td>\n",
       "      <td>1</td>\n",
       "      <td>1</td>\n",
       "    </tr>\n",
       "  </tbody>\n",
       "</table>\n",
       "<p>5 rows × 31 columns</p>\n",
       "</div>"
      ],
      "text/plain": [
       "                     date  Appliances  lights     T1       RH_1         T2  \\\n",
       "9815  2016-03-19 20:50:00          80      10  22.29  36.200000  20.100000   \n",
       "9925  2016-03-20 15:10:00         100       0  22.29  36.060000  20.890000   \n",
       "14088 2016-04-18 13:00:00          60       0  21.89  36.463333  23.133333   \n",
       "17356 2016-05-11 05:40:00          70       0  24.60  47.530000  22.764286   \n",
       "17547 2016-05-12 13:30:00          50       0  25.39  47.230000  26.200000   \n",
       "\n",
       "            RH_2     T3       RH_3         T4  ...      T_out  Press_mm_hg  \\\n",
       "9815   38.066667  22.20  35.000000  21.200000  ...   5.933333   762.533333   \n",
       "9925   36.663333  22.60  35.760000  19.926667  ...   7.116667   761.050000   \n",
       "14088  31.963333  22.39  35.966667  22.827500  ...  11.300000   761.900000   \n",
       "17356  49.764286  26.70  43.300000  24.890000  ...  14.666667   748.433333   \n",
       "17547  43.134000  26.20  43.590000  25.600000  ...  20.400000   744.150000   \n",
       "\n",
       "          RH_out  Windspeed  Visibility  Tdewpoint        rv1        rv2  \\\n",
       "9815   78.166667   2.833333   21.666667   2.366667   6.644992   6.644992   \n",
       "9925   71.500000   4.000000   40.000000   2.300000  45.348222  45.348222   \n",
       "14088  45.000000   4.000000   40.000000  -0.200000  10.596711  10.596711   \n",
       "17356  94.666667   2.333333   22.666667  13.833333   2.711097   2.711097   \n",
       "17547  58.000000   2.500000   24.000000  11.750000  45.678804  45.678804   \n",
       "\n",
       "       threshh  daytime  \n",
       "9815         2        3  \n",
       "9925         3        2  \n",
       "14088        2        1  \n",
       "17356        2        3  \n",
       "17547        1        1  \n",
       "\n",
       "[5 rows x 31 columns]"
      ]
     },
     "execution_count": 47,
     "metadata": {},
     "output_type": "execute_result"
    }
   ],
   "source": [
    "train['daytime'] = train.apply(lambda row: daytime(row), axis=1)\n",
    "display(train.tail())\n",
    "test['daytime'] = test.apply(lambda row: daytime(row), axis=1)\n",
    "test.tail()"
   ]
  },
  {
   "cell_type": "code",
   "execution_count": 63,
   "metadata": {},
   "outputs": [
    {
     "name": "stderr",
     "output_type": "stream",
     "text": [
      "C:\\Dev\\Python3.7\\lib\\site-packages\\ipykernel_launcher.py:1: SettingWithCopyWarning: \n",
      "A value is trying to be set on a copy of a slice from a DataFrame.\n",
      "Try using .loc[row_indexer,col_indexer] = value instead\n",
      "\n",
      "See the caveats in the documentation: https://pandas.pydata.org/pandas-docs/stable/user_guide/indexing.html#returning-a-view-versus-a-copy\n",
      "  \"\"\"Entry point for launching an IPython kernel.\n"
     ]
    },
    {
     "data": {
      "text/html": [
       "<div>\n",
       "<style scoped>\n",
       "    .dataframe tbody tr th:only-of-type {\n",
       "        vertical-align: middle;\n",
       "    }\n",
       "\n",
       "    .dataframe tbody tr th {\n",
       "        vertical-align: top;\n",
       "    }\n",
       "\n",
       "    .dataframe thead th {\n",
       "        text-align: right;\n",
       "    }\n",
       "</style>\n",
       "<table border=\"1\" class=\"dataframe\">\n",
       "  <thead>\n",
       "    <tr style=\"text-align: right;\">\n",
       "      <th></th>\n",
       "      <th>date</th>\n",
       "      <th>Appliances</th>\n",
       "      <th>lights</th>\n",
       "      <th>T1</th>\n",
       "      <th>RH_1</th>\n",
       "      <th>T2</th>\n",
       "      <th>RH_2</th>\n",
       "      <th>T3</th>\n",
       "      <th>RH_3</th>\n",
       "      <th>T4</th>\n",
       "      <th>...</th>\n",
       "      <th>Press_mm_hg</th>\n",
       "      <th>RH_out</th>\n",
       "      <th>Windspeed</th>\n",
       "      <th>Visibility</th>\n",
       "      <th>Tdewpoint</th>\n",
       "      <th>rv1</th>\n",
       "      <th>rv2</th>\n",
       "      <th>threshh</th>\n",
       "      <th>daytime</th>\n",
       "      <th>daytime_str</th>\n",
       "    </tr>\n",
       "  </thead>\n",
       "  <tbody>\n",
       "    <tr>\n",
       "      <th>11284</th>\n",
       "      <td>2016-03-30 01:40:00</td>\n",
       "      <td>60</td>\n",
       "      <td>0</td>\n",
       "      <td>21.760000</td>\n",
       "      <td>40.90</td>\n",
       "      <td>19.390</td>\n",
       "      <td>43.090000</td>\n",
       "      <td>23.0</td>\n",
       "      <td>39.00</td>\n",
       "      <td>21.50</td>\n",
       "      <td>...</td>\n",
       "      <td>750.466667</td>\n",
       "      <td>77.666667</td>\n",
       "      <td>6.666667</td>\n",
       "      <td>40.000000</td>\n",
       "      <td>5.833333</td>\n",
       "      <td>45.513197</td>\n",
       "      <td>45.513197</td>\n",
       "      <td>2</td>\n",
       "      <td>3</td>\n",
       "      <td>night</td>\n",
       "    </tr>\n",
       "    <tr>\n",
       "      <th>11964</th>\n",
       "      <td>2016-04-03 19:00:00</td>\n",
       "      <td>120</td>\n",
       "      <td>0</td>\n",
       "      <td>22.390000</td>\n",
       "      <td>43.70</td>\n",
       "      <td>22.000</td>\n",
       "      <td>42.066667</td>\n",
       "      <td>22.7</td>\n",
       "      <td>41.23</td>\n",
       "      <td>21.29</td>\n",
       "      <td>...</td>\n",
       "      <td>749.500000</td>\n",
       "      <td>66.000000</td>\n",
       "      <td>2.000000</td>\n",
       "      <td>40.000000</td>\n",
       "      <td>10.900000</td>\n",
       "      <td>34.934752</td>\n",
       "      <td>34.934752</td>\n",
       "      <td>3</td>\n",
       "      <td>2</td>\n",
       "      <td>afternoon</td>\n",
       "    </tr>\n",
       "    <tr>\n",
       "      <th>5390</th>\n",
       "      <td>2016-02-18 03:20:00</td>\n",
       "      <td>30</td>\n",
       "      <td>0</td>\n",
       "      <td>20.290000</td>\n",
       "      <td>35.70</td>\n",
       "      <td>18.200</td>\n",
       "      <td>37.590000</td>\n",
       "      <td>20.1</td>\n",
       "      <td>37.59</td>\n",
       "      <td>18.20</td>\n",
       "      <td>...</td>\n",
       "      <td>754.900000</td>\n",
       "      <td>87.000000</td>\n",
       "      <td>3.666667</td>\n",
       "      <td>62.666667</td>\n",
       "      <td>-2.933333</td>\n",
       "      <td>19.071358</td>\n",
       "      <td>19.071358</td>\n",
       "      <td>0</td>\n",
       "      <td>3</td>\n",
       "      <td>night</td>\n",
       "    </tr>\n",
       "    <tr>\n",
       "      <th>860</th>\n",
       "      <td>2016-01-17 16:20:00</td>\n",
       "      <td>80</td>\n",
       "      <td>0</td>\n",
       "      <td>21.790000</td>\n",
       "      <td>35.56</td>\n",
       "      <td>20.434</td>\n",
       "      <td>35.116000</td>\n",
       "      <td>21.2</td>\n",
       "      <td>36.90</td>\n",
       "      <td>21.10</td>\n",
       "      <td>...</td>\n",
       "      <td>765.033333</td>\n",
       "      <td>64.333333</td>\n",
       "      <td>1.333333</td>\n",
       "      <td>40.000000</td>\n",
       "      <td>-4.066667</td>\n",
       "      <td>1.050592</td>\n",
       "      <td>1.050592</td>\n",
       "      <td>2</td>\n",
       "      <td>2</td>\n",
       "      <td>afternoon</td>\n",
       "    </tr>\n",
       "    <tr>\n",
       "      <th>15795</th>\n",
       "      <td>2016-04-30 09:30:00</td>\n",
       "      <td>130</td>\n",
       "      <td>0</td>\n",
       "      <td>21.323333</td>\n",
       "      <td>37.73</td>\n",
       "      <td>19.890</td>\n",
       "      <td>38.566667</td>\n",
       "      <td>22.7</td>\n",
       "      <td>36.59</td>\n",
       "      <td>19.70</td>\n",
       "      <td>...</td>\n",
       "      <td>758.650000</td>\n",
       "      <td>85.500000</td>\n",
       "      <td>1.000000</td>\n",
       "      <td>40.000000</td>\n",
       "      <td>4.350000</td>\n",
       "      <td>17.456040</td>\n",
       "      <td>17.456040</td>\n",
       "      <td>3</td>\n",
       "      <td>0</td>\n",
       "      <td>morning</td>\n",
       "    </tr>\n",
       "  </tbody>\n",
       "</table>\n",
       "<p>5 rows × 32 columns</p>\n",
       "</div>"
      ],
      "text/plain": [
       "                     date  Appliances  lights         T1   RH_1      T2  \\\n",
       "11284 2016-03-30 01:40:00          60       0  21.760000  40.90  19.390   \n",
       "11964 2016-04-03 19:00:00         120       0  22.390000  43.70  22.000   \n",
       "5390  2016-02-18 03:20:00          30       0  20.290000  35.70  18.200   \n",
       "860   2016-01-17 16:20:00          80       0  21.790000  35.56  20.434   \n",
       "15795 2016-04-30 09:30:00         130       0  21.323333  37.73  19.890   \n",
       "\n",
       "            RH_2    T3   RH_3     T4  ...  Press_mm_hg     RH_out  Windspeed  \\\n",
       "11284  43.090000  23.0  39.00  21.50  ...   750.466667  77.666667   6.666667   \n",
       "11964  42.066667  22.7  41.23  21.29  ...   749.500000  66.000000   2.000000   \n",
       "5390   37.590000  20.1  37.59  18.20  ...   754.900000  87.000000   3.666667   \n",
       "860    35.116000  21.2  36.90  21.10  ...   765.033333  64.333333   1.333333   \n",
       "15795  38.566667  22.7  36.59  19.70  ...   758.650000  85.500000   1.000000   \n",
       "\n",
       "       Visibility  Tdewpoint        rv1        rv2  threshh  daytime  \\\n",
       "11284   40.000000   5.833333  45.513197  45.513197        2        3   \n",
       "11964   40.000000  10.900000  34.934752  34.934752        3        2   \n",
       "5390    62.666667  -2.933333  19.071358  19.071358        0        3   \n",
       "860     40.000000  -4.066667   1.050592   1.050592        2        2   \n",
       "15795   40.000000   4.350000  17.456040  17.456040        3        0   \n",
       "\n",
       "       daytime_str  \n",
       "11284        night  \n",
       "11964    afternoon  \n",
       "5390         night  \n",
       "860      afternoon  \n",
       "15795      morning  \n",
       "\n",
       "[5 rows x 32 columns]"
      ]
     },
     "metadata": {},
     "output_type": "display_data"
    },
    {
     "name": "stderr",
     "output_type": "stream",
     "text": [
      "C:\\Dev\\Python3.7\\lib\\site-packages\\ipykernel_launcher.py:3: SettingWithCopyWarning: \n",
      "A value is trying to be set on a copy of a slice from a DataFrame.\n",
      "Try using .loc[row_indexer,col_indexer] = value instead\n",
      "\n",
      "See the caveats in the documentation: https://pandas.pydata.org/pandas-docs/stable/user_guide/indexing.html#returning-a-view-versus-a-copy\n",
      "  This is separate from the ipykernel package so we can avoid doing imports until\n"
     ]
    },
    {
     "data": {
      "text/html": [
       "<div>\n",
       "<style scoped>\n",
       "    .dataframe tbody tr th:only-of-type {\n",
       "        vertical-align: middle;\n",
       "    }\n",
       "\n",
       "    .dataframe tbody tr th {\n",
       "        vertical-align: top;\n",
       "    }\n",
       "\n",
       "    .dataframe thead th {\n",
       "        text-align: right;\n",
       "    }\n",
       "</style>\n",
       "<table border=\"1\" class=\"dataframe\">\n",
       "  <thead>\n",
       "    <tr style=\"text-align: right;\">\n",
       "      <th></th>\n",
       "      <th>date</th>\n",
       "      <th>Appliances</th>\n",
       "      <th>lights</th>\n",
       "      <th>T1</th>\n",
       "      <th>RH_1</th>\n",
       "      <th>T2</th>\n",
       "      <th>RH_2</th>\n",
       "      <th>T3</th>\n",
       "      <th>RH_3</th>\n",
       "      <th>T4</th>\n",
       "      <th>...</th>\n",
       "      <th>Press_mm_hg</th>\n",
       "      <th>RH_out</th>\n",
       "      <th>Windspeed</th>\n",
       "      <th>Visibility</th>\n",
       "      <th>Tdewpoint</th>\n",
       "      <th>rv1</th>\n",
       "      <th>rv2</th>\n",
       "      <th>threshh</th>\n",
       "      <th>daytime</th>\n",
       "      <th>daytime_str</th>\n",
       "    </tr>\n",
       "  </thead>\n",
       "  <tbody>\n",
       "    <tr>\n",
       "      <th>9815</th>\n",
       "      <td>2016-03-19 20:50:00</td>\n",
       "      <td>80</td>\n",
       "      <td>10</td>\n",
       "      <td>22.29</td>\n",
       "      <td>36.200000</td>\n",
       "      <td>20.100000</td>\n",
       "      <td>38.066667</td>\n",
       "      <td>22.20</td>\n",
       "      <td>35.000000</td>\n",
       "      <td>21.200000</td>\n",
       "      <td>...</td>\n",
       "      <td>762.533333</td>\n",
       "      <td>78.166667</td>\n",
       "      <td>2.833333</td>\n",
       "      <td>21.666667</td>\n",
       "      <td>2.366667</td>\n",
       "      <td>6.644992</td>\n",
       "      <td>6.644992</td>\n",
       "      <td>2</td>\n",
       "      <td>3</td>\n",
       "      <td>night</td>\n",
       "    </tr>\n",
       "    <tr>\n",
       "      <th>9925</th>\n",
       "      <td>2016-03-20 15:10:00</td>\n",
       "      <td>100</td>\n",
       "      <td>0</td>\n",
       "      <td>22.29</td>\n",
       "      <td>36.060000</td>\n",
       "      <td>20.890000</td>\n",
       "      <td>36.663333</td>\n",
       "      <td>22.60</td>\n",
       "      <td>35.760000</td>\n",
       "      <td>19.926667</td>\n",
       "      <td>...</td>\n",
       "      <td>761.050000</td>\n",
       "      <td>71.500000</td>\n",
       "      <td>4.000000</td>\n",
       "      <td>40.000000</td>\n",
       "      <td>2.300000</td>\n",
       "      <td>45.348222</td>\n",
       "      <td>45.348222</td>\n",
       "      <td>3</td>\n",
       "      <td>2</td>\n",
       "      <td>afternoon</td>\n",
       "    </tr>\n",
       "    <tr>\n",
       "      <th>14088</th>\n",
       "      <td>2016-04-18 13:00:00</td>\n",
       "      <td>60</td>\n",
       "      <td>0</td>\n",
       "      <td>21.89</td>\n",
       "      <td>36.463333</td>\n",
       "      <td>23.133333</td>\n",
       "      <td>31.963333</td>\n",
       "      <td>22.39</td>\n",
       "      <td>35.966667</td>\n",
       "      <td>22.827500</td>\n",
       "      <td>...</td>\n",
       "      <td>761.900000</td>\n",
       "      <td>45.000000</td>\n",
       "      <td>4.000000</td>\n",
       "      <td>40.000000</td>\n",
       "      <td>-0.200000</td>\n",
       "      <td>10.596711</td>\n",
       "      <td>10.596711</td>\n",
       "      <td>2</td>\n",
       "      <td>1</td>\n",
       "      <td>'midday'</td>\n",
       "    </tr>\n",
       "    <tr>\n",
       "      <th>17356</th>\n",
       "      <td>2016-05-11 05:40:00</td>\n",
       "      <td>70</td>\n",
       "      <td>0</td>\n",
       "      <td>24.60</td>\n",
       "      <td>47.530000</td>\n",
       "      <td>22.764286</td>\n",
       "      <td>49.764286</td>\n",
       "      <td>26.70</td>\n",
       "      <td>43.300000</td>\n",
       "      <td>24.890000</td>\n",
       "      <td>...</td>\n",
       "      <td>748.433333</td>\n",
       "      <td>94.666667</td>\n",
       "      <td>2.333333</td>\n",
       "      <td>22.666667</td>\n",
       "      <td>13.833333</td>\n",
       "      <td>2.711097</td>\n",
       "      <td>2.711097</td>\n",
       "      <td>2</td>\n",
       "      <td>3</td>\n",
       "      <td>night</td>\n",
       "    </tr>\n",
       "    <tr>\n",
       "      <th>17547</th>\n",
       "      <td>2016-05-12 13:30:00</td>\n",
       "      <td>50</td>\n",
       "      <td>0</td>\n",
       "      <td>25.39</td>\n",
       "      <td>47.230000</td>\n",
       "      <td>26.200000</td>\n",
       "      <td>43.134000</td>\n",
       "      <td>26.20</td>\n",
       "      <td>43.590000</td>\n",
       "      <td>25.600000</td>\n",
       "      <td>...</td>\n",
       "      <td>744.150000</td>\n",
       "      <td>58.000000</td>\n",
       "      <td>2.500000</td>\n",
       "      <td>24.000000</td>\n",
       "      <td>11.750000</td>\n",
       "      <td>45.678804</td>\n",
       "      <td>45.678804</td>\n",
       "      <td>1</td>\n",
       "      <td>1</td>\n",
       "      <td>'midday'</td>\n",
       "    </tr>\n",
       "  </tbody>\n",
       "</table>\n",
       "<p>5 rows × 32 columns</p>\n",
       "</div>"
      ],
      "text/plain": [
       "                     date  Appliances  lights     T1       RH_1         T2  \\\n",
       "9815  2016-03-19 20:50:00          80      10  22.29  36.200000  20.100000   \n",
       "9925  2016-03-20 15:10:00         100       0  22.29  36.060000  20.890000   \n",
       "14088 2016-04-18 13:00:00          60       0  21.89  36.463333  23.133333   \n",
       "17356 2016-05-11 05:40:00          70       0  24.60  47.530000  22.764286   \n",
       "17547 2016-05-12 13:30:00          50       0  25.39  47.230000  26.200000   \n",
       "\n",
       "            RH_2     T3       RH_3         T4  ...  Press_mm_hg     RH_out  \\\n",
       "9815   38.066667  22.20  35.000000  21.200000  ...   762.533333  78.166667   \n",
       "9925   36.663333  22.60  35.760000  19.926667  ...   761.050000  71.500000   \n",
       "14088  31.963333  22.39  35.966667  22.827500  ...   761.900000  45.000000   \n",
       "17356  49.764286  26.70  43.300000  24.890000  ...   748.433333  94.666667   \n",
       "17547  43.134000  26.20  43.590000  25.600000  ...   744.150000  58.000000   \n",
       "\n",
       "       Windspeed  Visibility  Tdewpoint        rv1        rv2  threshh  \\\n",
       "9815    2.833333   21.666667   2.366667   6.644992   6.644992        2   \n",
       "9925    4.000000   40.000000   2.300000  45.348222  45.348222        3   \n",
       "14088   4.000000   40.000000  -0.200000  10.596711  10.596711        2   \n",
       "17356   2.333333   22.666667  13.833333   2.711097   2.711097        2   \n",
       "17547   2.500000   24.000000  11.750000  45.678804  45.678804        1   \n",
       "\n",
       "       daytime  daytime_str  \n",
       "9815         3        night  \n",
       "9925         2    afternoon  \n",
       "14088        1     'midday'  \n",
       "17356        3        night  \n",
       "17547        1     'midday'  \n",
       "\n",
       "[5 rows x 32 columns]"
      ]
     },
     "execution_count": 63,
     "metadata": {},
     "output_type": "execute_result"
    }
   ],
   "source": [
    "train['daytime_str'] = train.apply(lambda row: daytime_str(row), axis=1)\n",
    "display(train.tail())\n",
    "test['daytime_str'] = test.apply(lambda row: daytime_str(row), axis=1)\n",
    "test.tail()"
   ]
  },
  {
   "cell_type": "code",
   "execution_count": 54,
   "metadata": {},
   "outputs": [
    {
     "name": "stdout",
     "output_type": "stream",
     "text": [
      "<class 'pandas.core.frame.DataFrame'>\n",
      "Int64Index: 15788 entries, 2133 to 15795\n",
      "Data columns (total 31 columns):\n",
      " #   Column       Non-Null Count  Dtype         \n",
      "---  ------       --------------  -----         \n",
      " 0   date         15788 non-null  datetime64[ns]\n",
      " 1   Appliances   15788 non-null  int64         \n",
      " 2   lights       15788 non-null  int64         \n",
      " 3   T1           15788 non-null  float64       \n",
      " 4   RH_1         15788 non-null  float64       \n",
      " 5   T2           15788 non-null  float64       \n",
      " 6   RH_2         15788 non-null  float64       \n",
      " 7   T3           15788 non-null  float64       \n",
      " 8   RH_3         15788 non-null  float64       \n",
      " 9   T4           15788 non-null  float64       \n",
      " 10  RH_4         15788 non-null  float64       \n",
      " 11  T5           15788 non-null  float64       \n",
      " 12  RH_5         15788 non-null  float64       \n",
      " 13  T6           15788 non-null  float64       \n",
      " 14  RH_6         15788 non-null  float64       \n",
      " 15  T7           15788 non-null  float64       \n",
      " 16  RH_7         15788 non-null  float64       \n",
      " 17  T8           15788 non-null  float64       \n",
      " 18  RH_8         15788 non-null  float64       \n",
      " 19  T9           15788 non-null  float64       \n",
      " 20  RH_9         15788 non-null  float64       \n",
      " 21  T_out        15788 non-null  float64       \n",
      " 22  Press_mm_hg  15788 non-null  float64       \n",
      " 23  RH_out       15788 non-null  float64       \n",
      " 24  Windspeed    15788 non-null  float64       \n",
      " 25  Visibility   15788 non-null  float64       \n",
      " 26  Tdewpoint    15788 non-null  float64       \n",
      " 27  rv1          15788 non-null  float64       \n",
      " 28  rv2          15788 non-null  float64       \n",
      " 29  threshh      15788 non-null  int64         \n",
      " 30  daytime      15788 non-null  int64         \n",
      "dtypes: datetime64[ns](1), float64(26), int64(4)\n",
      "memory usage: 4.5 MB\n"
     ]
    }
   ],
   "source": [
    "train.info()"
   ]
  },
  {
   "cell_type": "code",
   "execution_count": 48,
   "metadata": {},
   "outputs": [
    {
     "data": {
      "text/plain": [
       "144"
      ]
     },
     "execution_count": 48,
     "metadata": {},
     "output_type": "execute_result"
    }
   ],
   "source": [
    "# Data is aggregated into 10min intervalls\n",
    "# One day = 24*6 instances\n",
    "day = 24*6 #instances\n",
    "day"
   ]
  },
  {
   "cell_type": "code",
   "execution_count": 49,
   "metadata": {},
   "outputs": [
    {
     "data": {
      "text/plain": [
       "25"
      ]
     },
     "execution_count": 49,
     "metadata": {},
     "output_type": "execute_result"
    }
   ],
   "source": [
    "len(col_vars)"
   ]
  },
  {
   "cell_type": "code",
   "execution_count": 17,
   "metadata": {},
   "outputs": [
    {
     "data": {
      "image/png": "[encoded data removed]",
      "text/plain": [
       "<Figure size 900x180 with 5 Axes>"
      ]
     },
     "metadata": {
      "needs_background": "light"
     },
     "output_type": "display_data"
    },
    {
     "data": {
      "image/png": "[encoded data removed]",
      "text/plain": [
       "<Figure size 900x180 with 5 Axes>"
      ]
     },
     "metadata": {
      "needs_background": "light"
     },
     "output_type": "display_data"
    },
    {
     "data": {
      "image/png": "[encoded data removed]",
      "text/plain": [
       "<Figure size 900x180 with 5 Axes>"
      ]
     },
     "metadata": {
      "needs_background": "light"
     },
     "output_type": "display_data"
    },
    {
     "data": {
      "image/png": "[encoded data removed]",
      "text/plain": [
       "<Figure size 900x180 with 5 Axes>"
      ]
     },
     "metadata": {
      "needs_background": "light"
     },
     "output_type": "display_data"
    },
    {
     "data": {
      "image/png": "[encoded data removed]",
      "text/plain": [
       "<Figure size 900x180 with 5 Axes>"
      ]
     },
     "metadata": {
      "needs_background": "light"
     },
     "output_type": "display_data"
    }
   ],
   "source": [
    "for i in range(5):\n",
    "    g = sns.PairGrid(train[:2*day],\n",
    "                 x_vars=col_vars[i*5:(i+1)*5],\n",
    "                 y_vars=[col_target])\n",
    "    g = g.map(sns.regplot, color='red')"
   ]
  },
  {
   "cell_type": "code",
   "execution_count": 68,
   "metadata": {},
   "outputs": [
    {
     "data": {
      "text/plain": [
       "['T1... Temperature in kitchen area: in Celsius',\n",
       " 'T2... Temperature in living room area: in Celsius',\n",
       " 'T3... Temperature in laundry room area',\n",
       " 'T4... Temperature in office room: in Celsius',\n",
       " 'T5... Temperature in bathroom in Celsius',\n",
       " 'T6... Temperature outside the building (north side: in Celsius',\n",
       " 'T7... Temperature in ironing room: in Celsius',\n",
       " 'T8... Temperature in teenager room 2 in Celsius',\n",
       " 'T9... Temperature in parents room in Celsius']"
      ]
     },
     "metadata": {},
     "output_type": "display_data"
    },
    {
     "data": {
      "image/png": "[encoded data removed]",
      "text/plain": [
       "<Figure size 946.25x180 with 5 Axes>"
      ]
     },
     "metadata": {
      "needs_background": "light"
     },
     "output_type": "display_data"
    },
    {
     "data": {
      "image/png": "[encoded data removed]",
      "text/plain": [
       "<Figure size 766.25x180 with 4 Axes>"
      ]
     },
     "metadata": {
      "needs_background": "light"
     },
     "output_type": "display_data"
    }
   ],
   "source": [
    "# Indoor temperatures\n",
    "for i in range(2):\n",
    "    g = sns.PairGrid(train[:10*day],\n",
    "                 x_vars=col_temp[i*5:(i+1)*5],\n",
    "                 y_vars=[col_target], hue=\"threshh\")\n",
    "    g = g.map(sns.regplot, x_bins=10)\n",
    "    g.add_legend()\n",
    "display([f\"{T}... {col_dict[T]}\" for T in col_temp])"
   ]
  },
  {
   "cell_type": "code",
   "execution_count": 70,
   "metadata": {},
   "outputs": [
    {
     "data": {
      "text/plain": [
       "['T1... Temperature in kitchen area: in Celsius',\n",
       " 'T2... Temperature in living room area: in Celsius',\n",
       " 'T3... Temperature in laundry room area',\n",
       " 'T4... Temperature in office room: in Celsius',\n",
       " 'T5... Temperature in bathroom in Celsius',\n",
       " 'T6... Temperature outside the building (north side: in Celsius',\n",
       " 'T7... Temperature in ironing room: in Celsius',\n",
       " 'T8... Temperature in teenager room 2 in Celsius',\n",
       " 'T9... Temperature in parents room in Celsius']"
      ]
     },
     "metadata": {},
     "output_type": "display_data"
    },
    {
     "data": {
      "image/png": "[encoded data removed]",
      "text/plain": [
       "<Figure size 984.375x180 with 5 Axes>"
      ]
     },
     "metadata": {
      "needs_background": "light"
     },
     "output_type": "display_data"
    },
    {
     "data": {
      "image/png": "[encoded data removed]",
      "text/plain": [
       "<Figure size 804.375x180 with 4 Axes>"
      ]
     },
     "metadata": {
      "needs_background": "light"
     },
     "output_type": "display_data"
    }
   ],
   "source": [
    "# Indoor temperatures\n",
    "for i in range(2):\n",
    "    g = sns.PairGrid(train[:2*day],\n",
    "                 x_vars=col_temp[i*5:(i+1)*5],\n",
    "                 y_vars=[col_target], hue=\"daytime_str\", palette=\"Set1\")\n",
    "    g = g.map(sns.regplot, x_bins=10)\n",
    "    g.add_legend()\n",
    "display([f\"{T}... {col_dict[T]}\" for T in col_temp])"
   ]
  },
  {
   "cell_type": "code",
   "execution_count": 19,
   "metadata": {},
   "outputs": [
    {
     "data": {
      "image/png": "[encoded data removed]",
      "text/plain": [
       "<Figure size 900x180 with 5 Axes>"
      ]
     },
     "metadata": {
      "needs_background": "light"
     },
     "output_type": "display_data"
    },
    {
     "data": {
      "image/png": "[encoded data removed]",
      "text/plain": [
       "<Figure size 180x180 with 1 Axes>"
      ]
     },
     "metadata": {
      "needs_background": "light"
     },
     "output_type": "display_data"
    }
   ],
   "source": [
    "for i in range(2):\n",
    "    g = sns.PairGrid(train[:2*day],\n",
    "                 x_vars=col_weather[i*5:(i+1)*5],\n",
    "                 y_vars=[col_target])\n",
    "    g = g.map(sns.regplot, color='red', x_bins=6)"
   ]
  },
  {
   "cell_type": "markdown",
   "metadata": {},
   "source": [
    "# Preprocessing LassoReg"
   ]
  },
  {
   "cell_type": "code",
   "execution_count": null,
   "metadata": {},
   "outputs": [],
   "source": []
  },
  {
   "cell_type": "markdown",
   "metadata": {},
   "source": [
    "# Preprocessing kNN"
   ]
  },
  {
   "cell_type": "code",
   "execution_count": null,
   "metadata": {},
   "outputs": [],
   "source": [
    "from sklearn.impute import SimpleImputer\n",
    "\n",
    "df_knn = df_raw\n",
    "\n",
    "from sklearn.impute import SimpleImputer\n",
    "\n",
    "imputerQ1 = SimpleImputer(missing_values='?', strategy='constant', fill_value=0.3)\n",
    "imputerQ1 = imputerQ1.fit(df_knn[['OOBP', 'OSLG']])\n",
    "df_knn[['OOBP', 'OSLG']] = imputerQ1.transform(df_knn[['OOBP', 'OSLG']])\n",
    "\n",
    "imputerQ2 = SimpleImputer(missing_values='?', strategy='constant', fill_value=6)\n",
    "imputerQ2 = imputerQ2.fit(df_knn[['RankSeason']])\n",
    "df_knn[['RankSeason']] = imputerQ2.transform(df_knn[['RankSeason']])\n",
    "df_knn.League.replace(['NL', 'AL'], [1, 0], inplace=True)\n",
    "\n",
    "#Drop useless columns - of no interest\n",
    "df_knn.drop(['RankPlayoffs', 'Team', 'Year'], axis=1, inplace=True)\n"
   ]
  },
  {
   "cell_type": "code",
   "execution_count": null,
   "metadata": {},
   "outputs": [],
   "source": [
    "display(df_knn)"
   ]
  },
  {
   "cell_type": "markdown",
   "metadata": {},
   "source": [
    "# Split into (x,y)"
   ]
  },
  {
   "cell_type": "code",
   "execution_count": 22,
   "metadata": {},
   "outputs": [],
   "source": [
    "cols_to_drop_for_x = [col_target, 'date', 'lights', 'threshh']+col_randoms"
   ]
  },
  {
   "cell_type": "code",
   "execution_count": 23,
   "metadata": {},
   "outputs": [
    {
     "data": {
      "text/html": [
       "<div>\n",
       "<style scoped>\n",
       "    .dataframe tbody tr th:only-of-type {\n",
       "        vertical-align: middle;\n",
       "    }\n",
       "\n",
       "    .dataframe tbody tr th {\n",
       "        vertical-align: top;\n",
       "    }\n",
       "\n",
       "    .dataframe thead th {\n",
       "        text-align: right;\n",
       "    }\n",
       "</style>\n",
       "<table border=\"1\" class=\"dataframe\">\n",
       "  <thead>\n",
       "    <tr style=\"text-align: right;\">\n",
       "      <th></th>\n",
       "      <th>T1</th>\n",
       "      <th>RH_1</th>\n",
       "      <th>T2</th>\n",
       "      <th>RH_2</th>\n",
       "      <th>T3</th>\n",
       "      <th>RH_3</th>\n",
       "      <th>T4</th>\n",
       "      <th>RH_4</th>\n",
       "      <th>T5</th>\n",
       "      <th>RH_5</th>\n",
       "      <th>...</th>\n",
       "      <th>T8</th>\n",
       "      <th>RH_8</th>\n",
       "      <th>T9</th>\n",
       "      <th>RH_9</th>\n",
       "      <th>T_out</th>\n",
       "      <th>Press_mm_hg</th>\n",
       "      <th>RH_out</th>\n",
       "      <th>Windspeed</th>\n",
       "      <th>Visibility</th>\n",
       "      <th>Tdewpoint</th>\n",
       "    </tr>\n",
       "  </thead>\n",
       "  <tbody>\n",
       "    <tr>\n",
       "      <th>2133</th>\n",
       "      <td>19.890000</td>\n",
       "      <td>45.50</td>\n",
       "      <td>19.200000</td>\n",
       "      <td>45.090000</td>\n",
       "      <td>20.390000</td>\n",
       "      <td>44.290000</td>\n",
       "      <td>19.10</td>\n",
       "      <td>46.700000</td>\n",
       "      <td>17.511111</td>\n",
       "      <td>53.000000</td>\n",
       "      <td>...</td>\n",
       "      <td>18.111111</td>\n",
       "      <td>50.000000</td>\n",
       "      <td>17.166667</td>\n",
       "      <td>48.700000</td>\n",
       "      <td>10.300000</td>\n",
       "      <td>761.900000</td>\n",
       "      <td>85.500000</td>\n",
       "      <td>7.500000</td>\n",
       "      <td>23.500000</td>\n",
       "      <td>7.950000</td>\n",
       "    </tr>\n",
       "    <tr>\n",
       "      <th>19730</th>\n",
       "      <td>25.566667</td>\n",
       "      <td>46.56</td>\n",
       "      <td>25.890000</td>\n",
       "      <td>42.025714</td>\n",
       "      <td>27.200000</td>\n",
       "      <td>41.163333</td>\n",
       "      <td>24.70</td>\n",
       "      <td>45.590000</td>\n",
       "      <td>23.200000</td>\n",
       "      <td>52.400000</td>\n",
       "      <td>...</td>\n",
       "      <td>24.700000</td>\n",
       "      <td>50.074000</td>\n",
       "      <td>23.200000</td>\n",
       "      <td>46.790000</td>\n",
       "      <td>22.733333</td>\n",
       "      <td>755.200000</td>\n",
       "      <td>55.666667</td>\n",
       "      <td>3.333333</td>\n",
       "      <td>23.666667</td>\n",
       "      <td>13.333333</td>\n",
       "    </tr>\n",
       "    <tr>\n",
       "      <th>3288</th>\n",
       "      <td>22.500000</td>\n",
       "      <td>44.43</td>\n",
       "      <td>21.533333</td>\n",
       "      <td>42.590000</td>\n",
       "      <td>21.963333</td>\n",
       "      <td>44.555000</td>\n",
       "      <td>22.00</td>\n",
       "      <td>40.466667</td>\n",
       "      <td>19.100000</td>\n",
       "      <td>55.326667</td>\n",
       "      <td>...</td>\n",
       "      <td>20.566667</td>\n",
       "      <td>41.331111</td>\n",
       "      <td>18.600000</td>\n",
       "      <td>45.530000</td>\n",
       "      <td>6.600000</td>\n",
       "      <td>760.200000</td>\n",
       "      <td>64.000000</td>\n",
       "      <td>8.000000</td>\n",
       "      <td>40.000000</td>\n",
       "      <td>0.200000</td>\n",
       "    </tr>\n",
       "    <tr>\n",
       "      <th>7730</th>\n",
       "      <td>19.790000</td>\n",
       "      <td>38.06</td>\n",
       "      <td>17.200000</td>\n",
       "      <td>40.933333</td>\n",
       "      <td>20.600000</td>\n",
       "      <td>37.163333</td>\n",
       "      <td>18.39</td>\n",
       "      <td>37.000000</td>\n",
       "      <td>18.290000</td>\n",
       "      <td>42.260000</td>\n",
       "      <td>...</td>\n",
       "      <td>20.500000</td>\n",
       "      <td>42.590000</td>\n",
       "      <td>18.390000</td>\n",
       "      <td>40.723333</td>\n",
       "      <td>2.100000</td>\n",
       "      <td>741.533333</td>\n",
       "      <td>94.333333</td>\n",
       "      <td>1.000000</td>\n",
       "      <td>48.666667</td>\n",
       "      <td>1.233333</td>\n",
       "    </tr>\n",
       "    <tr>\n",
       "      <th>8852</th>\n",
       "      <td>20.600000</td>\n",
       "      <td>35.29</td>\n",
       "      <td>17.100000</td>\n",
       "      <td>39.790000</td>\n",
       "      <td>20.290000</td>\n",
       "      <td>37.000000</td>\n",
       "      <td>19.50</td>\n",
       "      <td>34.500000</td>\n",
       "      <td>18.200000</td>\n",
       "      <td>49.000000</td>\n",
       "      <td>...</td>\n",
       "      <td>22.700000</td>\n",
       "      <td>39.260000</td>\n",
       "      <td>18.926667</td>\n",
       "      <td>40.090000</td>\n",
       "      <td>-0.866667</td>\n",
       "      <td>768.266667</td>\n",
       "      <td>92.333333</td>\n",
       "      <td>1.666667</td>\n",
       "      <td>34.000000</td>\n",
       "      <td>-1.933333</td>\n",
       "    </tr>\n",
       "    <tr>\n",
       "      <th>...</th>\n",
       "      <td>...</td>\n",
       "      <td>...</td>\n",
       "      <td>...</td>\n",
       "      <td>...</td>\n",
       "      <td>...</td>\n",
       "      <td>...</td>\n",
       "      <td>...</td>\n",
       "      <td>...</td>\n",
       "      <td>...</td>\n",
       "      <td>...</td>\n",
       "      <td>...</td>\n",
       "      <td>...</td>\n",
       "      <td>...</td>\n",
       "      <td>...</td>\n",
       "      <td>...</td>\n",
       "      <td>...</td>\n",
       "      <td>...</td>\n",
       "      <td>...</td>\n",
       "      <td>...</td>\n",
       "      <td>...</td>\n",
       "      <td>...</td>\n",
       "    </tr>\n",
       "    <tr>\n",
       "      <th>11284</th>\n",
       "      <td>21.760000</td>\n",
       "      <td>40.90</td>\n",
       "      <td>19.390000</td>\n",
       "      <td>43.090000</td>\n",
       "      <td>23.000000</td>\n",
       "      <td>39.000000</td>\n",
       "      <td>21.50</td>\n",
       "      <td>39.790000</td>\n",
       "      <td>20.100000</td>\n",
       "      <td>46.500000</td>\n",
       "      <td>...</td>\n",
       "      <td>24.166667</td>\n",
       "      <td>45.466667</td>\n",
       "      <td>20.356667</td>\n",
       "      <td>40.560000</td>\n",
       "      <td>9.566667</td>\n",
       "      <td>750.466667</td>\n",
       "      <td>77.666667</td>\n",
       "      <td>6.666667</td>\n",
       "      <td>40.000000</td>\n",
       "      <td>5.833333</td>\n",
       "    </tr>\n",
       "    <tr>\n",
       "      <th>11964</th>\n",
       "      <td>22.390000</td>\n",
       "      <td>43.70</td>\n",
       "      <td>22.000000</td>\n",
       "      <td>42.066667</td>\n",
       "      <td>22.700000</td>\n",
       "      <td>41.230000</td>\n",
       "      <td>21.29</td>\n",
       "      <td>44.120000</td>\n",
       "      <td>19.700000</td>\n",
       "      <td>48.790000</td>\n",
       "      <td>...</td>\n",
       "      <td>24.200000</td>\n",
       "      <td>47.000000</td>\n",
       "      <td>20.290000</td>\n",
       "      <td>44.290000</td>\n",
       "      <td>17.300000</td>\n",
       "      <td>749.500000</td>\n",
       "      <td>66.000000</td>\n",
       "      <td>2.000000</td>\n",
       "      <td>40.000000</td>\n",
       "      <td>10.900000</td>\n",
       "    </tr>\n",
       "    <tr>\n",
       "      <th>5390</th>\n",
       "      <td>20.290000</td>\n",
       "      <td>35.70</td>\n",
       "      <td>18.200000</td>\n",
       "      <td>37.590000</td>\n",
       "      <td>20.100000</td>\n",
       "      <td>37.590000</td>\n",
       "      <td>18.20</td>\n",
       "      <td>35.290000</td>\n",
       "      <td>18.500000</td>\n",
       "      <td>40.572000</td>\n",
       "      <td>...</td>\n",
       "      <td>21.260000</td>\n",
       "      <td>41.700000</td>\n",
       "      <td>17.890000</td>\n",
       "      <td>39.466667</td>\n",
       "      <td>-1.066667</td>\n",
       "      <td>754.900000</td>\n",
       "      <td>87.000000</td>\n",
       "      <td>3.666667</td>\n",
       "      <td>62.666667</td>\n",
       "      <td>-2.933333</td>\n",
       "    </tr>\n",
       "    <tr>\n",
       "      <th>860</th>\n",
       "      <td>21.790000</td>\n",
       "      <td>35.56</td>\n",
       "      <td>20.434000</td>\n",
       "      <td>35.116000</td>\n",
       "      <td>21.200000</td>\n",
       "      <td>36.900000</td>\n",
       "      <td>21.10</td>\n",
       "      <td>35.663333</td>\n",
       "      <td>18.050000</td>\n",
       "      <td>46.145000</td>\n",
       "      <td>...</td>\n",
       "      <td>22.700000</td>\n",
       "      <td>39.475000</td>\n",
       "      <td>18.500000</td>\n",
       "      <td>41.466667</td>\n",
       "      <td>2.066667</td>\n",
       "      <td>765.033333</td>\n",
       "      <td>64.333333</td>\n",
       "      <td>1.333333</td>\n",
       "      <td>40.000000</td>\n",
       "      <td>-4.066667</td>\n",
       "    </tr>\n",
       "    <tr>\n",
       "      <th>15795</th>\n",
       "      <td>21.323333</td>\n",
       "      <td>37.73</td>\n",
       "      <td>19.890000</td>\n",
       "      <td>38.566667</td>\n",
       "      <td>22.700000</td>\n",
       "      <td>36.590000</td>\n",
       "      <td>19.70</td>\n",
       "      <td>39.433333</td>\n",
       "      <td>19.200000</td>\n",
       "      <td>42.590000</td>\n",
       "      <td>...</td>\n",
       "      <td>21.290000</td>\n",
       "      <td>43.645000</td>\n",
       "      <td>19.390000</td>\n",
       "      <td>41.266667</td>\n",
       "      <td>6.650000</td>\n",
       "      <td>758.650000</td>\n",
       "      <td>85.500000</td>\n",
       "      <td>1.000000</td>\n",
       "      <td>40.000000</td>\n",
       "      <td>4.350000</td>\n",
       "    </tr>\n",
       "  </tbody>\n",
       "</table>\n",
       "<p>15788 rows × 24 columns</p>\n",
       "</div>"
      ],
      "text/plain": [
       "              T1   RH_1         T2       RH_2         T3       RH_3     T4  \\\n",
       "2133   19.890000  45.50  19.200000  45.090000  20.390000  44.290000  19.10   \n",
       "19730  25.566667  46.56  25.890000  42.025714  27.200000  41.163333  24.70   \n",
       "3288   22.500000  44.43  21.533333  42.590000  21.963333  44.555000  22.00   \n",
       "7730   19.790000  38.06  17.200000  40.933333  20.600000  37.163333  18.39   \n",
       "8852   20.600000  35.29  17.100000  39.790000  20.290000  37.000000  19.50   \n",
       "...          ...    ...        ...        ...        ...        ...    ...   \n",
       "11284  21.760000  40.90  19.390000  43.090000  23.000000  39.000000  21.50   \n",
       "11964  22.390000  43.70  22.000000  42.066667  22.700000  41.230000  21.29   \n",
       "5390   20.290000  35.70  18.200000  37.590000  20.100000  37.590000  18.20   \n",
       "860    21.790000  35.56  20.434000  35.116000  21.200000  36.900000  21.10   \n",
       "15795  21.323333  37.73  19.890000  38.566667  22.700000  36.590000  19.70   \n",
       "\n",
       "            RH_4         T5       RH_5  ...         T8       RH_8         T9  \\\n",
       "2133   46.700000  17.511111  53.000000  ...  18.111111  50.000000  17.166667   \n",
       "19730  45.590000  23.200000  52.400000  ...  24.700000  50.074000  23.200000   \n",
       "3288   40.466667  19.100000  55.326667  ...  20.566667  41.331111  18.600000   \n",
       "7730   37.000000  18.290000  42.260000  ...  20.500000  42.590000  18.390000   \n",
       "8852   34.500000  18.200000  49.000000  ...  22.700000  39.260000  18.926667   \n",
       "...          ...        ...        ...  ...        ...        ...        ...   \n",
       "11284  39.790000  20.100000  46.500000  ...  24.166667  45.466667  20.356667   \n",
       "11964  44.120000  19.700000  48.790000  ...  24.200000  47.000000  20.290000   \n",
       "5390   35.290000  18.500000  40.572000  ...  21.260000  41.700000  17.890000   \n",
       "860    35.663333  18.050000  46.145000  ...  22.700000  39.475000  18.500000   \n",
       "15795  39.433333  19.200000  42.590000  ...  21.290000  43.645000  19.390000   \n",
       "\n",
       "            RH_9      T_out  Press_mm_hg     RH_out  Windspeed  Visibility  \\\n",
       "2133   48.700000  10.300000   761.900000  85.500000   7.500000   23.500000   \n",
       "19730  46.790000  22.733333   755.200000  55.666667   3.333333   23.666667   \n",
       "3288   45.530000   6.600000   760.200000  64.000000   8.000000   40.000000   \n",
       "7730   40.723333   2.100000   741.533333  94.333333   1.000000   48.666667   \n",
       "8852   40.090000  -0.866667   768.266667  92.333333   1.666667   34.000000   \n",
       "...          ...        ...          ...        ...        ...         ...   \n",
       "11284  40.560000   9.566667   750.466667  77.666667   6.666667   40.000000   \n",
       "11964  44.290000  17.300000   749.500000  66.000000   2.000000   40.000000   \n",
       "5390   39.466667  -1.066667   754.900000  87.000000   3.666667   62.666667   \n",
       "860    41.466667   2.066667   765.033333  64.333333   1.333333   40.000000   \n",
       "15795  41.266667   6.650000   758.650000  85.500000   1.000000   40.000000   \n",
       "\n",
       "       Tdewpoint  \n",
       "2133    7.950000  \n",
       "19730  13.333333  \n",
       "3288    0.200000  \n",
       "7730    1.233333  \n",
       "8852   -1.933333  \n",
       "...          ...  \n",
       "11284   5.833333  \n",
       "11964  10.900000  \n",
       "5390   -2.933333  \n",
       "860    -4.066667  \n",
       "15795   4.350000  \n",
       "\n",
       "[15788 rows x 24 columns]"
      ]
     },
     "metadata": {},
     "output_type": "display_data"
    },
    {
     "data": {
      "text/plain": [
       "2133      50\n",
       "19730    100\n",
       "3288      70\n",
       "7730      40\n",
       "8852      40\n",
       "        ... \n",
       "11284     60\n",
       "11964    120\n",
       "5390      30\n",
       "860       80\n",
       "15795    130\n",
       "Name: Appliances, Length: 15788, dtype: int64"
      ]
     },
     "metadata": {},
     "output_type": "display_data"
    }
   ],
   "source": [
    "X_train = train.drop(cols_to_drop_for_x, axis=1)\n",
    "y_train = train[col_target]\n",
    "display(X_train)\n",
    "display(y_train)"
   ]
  },
  {
   "cell_type": "code",
   "execution_count": 24,
   "metadata": {},
   "outputs": [
    {
     "data": {
      "text/html": [
       "<div>\n",
       "<style scoped>\n",
       "    .dataframe tbody tr th:only-of-type {\n",
       "        vertical-align: middle;\n",
       "    }\n",
       "\n",
       "    .dataframe tbody tr th {\n",
       "        vertical-align: top;\n",
       "    }\n",
       "\n",
       "    .dataframe thead th {\n",
       "        text-align: right;\n",
       "    }\n",
       "</style>\n",
       "<table border=\"1\" class=\"dataframe\">\n",
       "  <thead>\n",
       "    <tr style=\"text-align: right;\">\n",
       "      <th></th>\n",
       "      <th>T1</th>\n",
       "      <th>RH_1</th>\n",
       "      <th>T2</th>\n",
       "      <th>RH_2</th>\n",
       "      <th>T3</th>\n",
       "      <th>RH_3</th>\n",
       "      <th>T4</th>\n",
       "      <th>RH_4</th>\n",
       "      <th>T5</th>\n",
       "      <th>RH_5</th>\n",
       "      <th>...</th>\n",
       "      <th>T8</th>\n",
       "      <th>RH_8</th>\n",
       "      <th>T9</th>\n",
       "      <th>RH_9</th>\n",
       "      <th>T_out</th>\n",
       "      <th>Press_mm_hg</th>\n",
       "      <th>RH_out</th>\n",
       "      <th>Windspeed</th>\n",
       "      <th>Visibility</th>\n",
       "      <th>Tdewpoint</th>\n",
       "    </tr>\n",
       "  </thead>\n",
       "  <tbody>\n",
       "    <tr>\n",
       "      <th>8980</th>\n",
       "      <td>20.890000</td>\n",
       "      <td>35.400000</td>\n",
       "      <td>17.760000</td>\n",
       "      <td>39.163333</td>\n",
       "      <td>20.290000</td>\n",
       "      <td>36.900000</td>\n",
       "      <td>19.760000</td>\n",
       "      <td>34.200000</td>\n",
       "      <td>18.600000</td>\n",
       "      <td>51.290000</td>\n",
       "      <td>...</td>\n",
       "      <td>23.068750</td>\n",
       "      <td>39.747500</td>\n",
       "      <td>19.29</td>\n",
       "      <td>39.030000</td>\n",
       "      <td>1.766667</td>\n",
       "      <td>768.900000</td>\n",
       "      <td>88.333333</td>\n",
       "      <td>2.333333</td>\n",
       "      <td>63.000000</td>\n",
       "      <td>0.000000</td>\n",
       "    </tr>\n",
       "    <tr>\n",
       "      <th>2754</th>\n",
       "      <td>21.890000</td>\n",
       "      <td>53.100000</td>\n",
       "      <td>21.290000</td>\n",
       "      <td>45.360000</td>\n",
       "      <td>21.633333</td>\n",
       "      <td>49.226667</td>\n",
       "      <td>20.533333</td>\n",
       "      <td>40.966667</td>\n",
       "      <td>17.677778</td>\n",
       "      <td>58.204444</td>\n",
       "      <td>...</td>\n",
       "      <td>20.616667</td>\n",
       "      <td>47.563333</td>\n",
       "      <td>16.29</td>\n",
       "      <td>44.200000</td>\n",
       "      <td>2.700000</td>\n",
       "      <td>754.600000</td>\n",
       "      <td>90.000000</td>\n",
       "      <td>3.000000</td>\n",
       "      <td>27.000000</td>\n",
       "      <td>1.200000</td>\n",
       "    </tr>\n",
       "    <tr>\n",
       "      <th>9132</th>\n",
       "      <td>21.390000</td>\n",
       "      <td>35.500000</td>\n",
       "      <td>17.633333</td>\n",
       "      <td>40.530000</td>\n",
       "      <td>21.666667</td>\n",
       "      <td>35.200000</td>\n",
       "      <td>20.290000</td>\n",
       "      <td>33.760000</td>\n",
       "      <td>19.600000</td>\n",
       "      <td>40.290000</td>\n",
       "      <td>...</td>\n",
       "      <td>22.100000</td>\n",
       "      <td>39.626667</td>\n",
       "      <td>19.39</td>\n",
       "      <td>38.290000</td>\n",
       "      <td>0.200000</td>\n",
       "      <td>766.200000</td>\n",
       "      <td>83.000000</td>\n",
       "      <td>2.000000</td>\n",
       "      <td>65.000000</td>\n",
       "      <td>-2.400000</td>\n",
       "    </tr>\n",
       "    <tr>\n",
       "      <th>14359</th>\n",
       "      <td>21.390000</td>\n",
       "      <td>41.033333</td>\n",
       "      <td>23.890000</td>\n",
       "      <td>34.840000</td>\n",
       "      <td>22.033333</td>\n",
       "      <td>36.933333</td>\n",
       "      <td>22.390000</td>\n",
       "      <td>35.236000</td>\n",
       "      <td>19.633333</td>\n",
       "      <td>43.266667</td>\n",
       "      <td>...</td>\n",
       "      <td>21.200000</td>\n",
       "      <td>38.090000</td>\n",
       "      <td>20.29</td>\n",
       "      <td>38.560000</td>\n",
       "      <td>8.850000</td>\n",
       "      <td>767.800000</td>\n",
       "      <td>70.833333</td>\n",
       "      <td>5.166667</td>\n",
       "      <td>40.000000</td>\n",
       "      <td>3.716667</td>\n",
       "    </tr>\n",
       "    <tr>\n",
       "      <th>8875</th>\n",
       "      <td>19.963333</td>\n",
       "      <td>35.126667</td>\n",
       "      <td>16.463333</td>\n",
       "      <td>40.126667</td>\n",
       "      <td>20.000000</td>\n",
       "      <td>36.400000</td>\n",
       "      <td>19.260000</td>\n",
       "      <td>34.966667</td>\n",
       "      <td>17.890000</td>\n",
       "      <td>49.000000</td>\n",
       "      <td>...</td>\n",
       "      <td>22.100000</td>\n",
       "      <td>39.590000</td>\n",
       "      <td>19.00</td>\n",
       "      <td>40.700000</td>\n",
       "      <td>-0.466667</td>\n",
       "      <td>769.650000</td>\n",
       "      <td>93.333333</td>\n",
       "      <td>4.000000</td>\n",
       "      <td>48.833333</td>\n",
       "      <td>-1.450000</td>\n",
       "    </tr>\n",
       "    <tr>\n",
       "      <th>...</th>\n",
       "      <td>...</td>\n",
       "      <td>...</td>\n",
       "      <td>...</td>\n",
       "      <td>...</td>\n",
       "      <td>...</td>\n",
       "      <td>...</td>\n",
       "      <td>...</td>\n",
       "      <td>...</td>\n",
       "      <td>...</td>\n",
       "      <td>...</td>\n",
       "      <td>...</td>\n",
       "      <td>...</td>\n",
       "      <td>...</td>\n",
       "      <td>...</td>\n",
       "      <td>...</td>\n",
       "      <td>...</td>\n",
       "      <td>...</td>\n",
       "      <td>...</td>\n",
       "      <td>...</td>\n",
       "      <td>...</td>\n",
       "      <td>...</td>\n",
       "    </tr>\n",
       "    <tr>\n",
       "      <th>9815</th>\n",
       "      <td>22.290000</td>\n",
       "      <td>36.200000</td>\n",
       "      <td>20.100000</td>\n",
       "      <td>38.066667</td>\n",
       "      <td>22.200000</td>\n",
       "      <td>35.000000</td>\n",
       "      <td>21.200000</td>\n",
       "      <td>33.433333</td>\n",
       "      <td>18.600000</td>\n",
       "      <td>43.790000</td>\n",
       "      <td>...</td>\n",
       "      <td>22.890000</td>\n",
       "      <td>35.590000</td>\n",
       "      <td>19.20</td>\n",
       "      <td>34.500000</td>\n",
       "      <td>5.933333</td>\n",
       "      <td>762.533333</td>\n",
       "      <td>78.166667</td>\n",
       "      <td>2.833333</td>\n",
       "      <td>21.666667</td>\n",
       "      <td>2.366667</td>\n",
       "    </tr>\n",
       "    <tr>\n",
       "      <th>9925</th>\n",
       "      <td>22.290000</td>\n",
       "      <td>36.060000</td>\n",
       "      <td>20.890000</td>\n",
       "      <td>36.663333</td>\n",
       "      <td>22.600000</td>\n",
       "      <td>35.760000</td>\n",
       "      <td>19.926667</td>\n",
       "      <td>36.330000</td>\n",
       "      <td>18.856667</td>\n",
       "      <td>46.790000</td>\n",
       "      <td>...</td>\n",
       "      <td>23.390000</td>\n",
       "      <td>37.260000</td>\n",
       "      <td>19.50</td>\n",
       "      <td>39.133333</td>\n",
       "      <td>7.116667</td>\n",
       "      <td>761.050000</td>\n",
       "      <td>71.500000</td>\n",
       "      <td>4.000000</td>\n",
       "      <td>40.000000</td>\n",
       "      <td>2.300000</td>\n",
       "    </tr>\n",
       "    <tr>\n",
       "      <th>14088</th>\n",
       "      <td>21.890000</td>\n",
       "      <td>36.463333</td>\n",
       "      <td>23.133333</td>\n",
       "      <td>31.963333</td>\n",
       "      <td>22.390000</td>\n",
       "      <td>35.966667</td>\n",
       "      <td>22.827500</td>\n",
       "      <td>34.131250</td>\n",
       "      <td>20.133333</td>\n",
       "      <td>41.433333</td>\n",
       "      <td>...</td>\n",
       "      <td>21.600000</td>\n",
       "      <td>35.500000</td>\n",
       "      <td>20.70</td>\n",
       "      <td>37.163333</td>\n",
       "      <td>11.300000</td>\n",
       "      <td>761.900000</td>\n",
       "      <td>45.000000</td>\n",
       "      <td>4.000000</td>\n",
       "      <td>40.000000</td>\n",
       "      <td>-0.200000</td>\n",
       "    </tr>\n",
       "    <tr>\n",
       "      <th>17356</th>\n",
       "      <td>24.600000</td>\n",
       "      <td>47.530000</td>\n",
       "      <td>22.764286</td>\n",
       "      <td>49.764286</td>\n",
       "      <td>26.700000</td>\n",
       "      <td>43.300000</td>\n",
       "      <td>24.890000</td>\n",
       "      <td>45.400000</td>\n",
       "      <td>23.890000</td>\n",
       "      <td>56.060000</td>\n",
       "      <td>...</td>\n",
       "      <td>25.890000</td>\n",
       "      <td>50.966667</td>\n",
       "      <td>24.10</td>\n",
       "      <td>47.238571</td>\n",
       "      <td>14.666667</td>\n",
       "      <td>748.433333</td>\n",
       "      <td>94.666667</td>\n",
       "      <td>2.333333</td>\n",
       "      <td>22.666667</td>\n",
       "      <td>13.833333</td>\n",
       "    </tr>\n",
       "    <tr>\n",
       "      <th>17547</th>\n",
       "      <td>25.390000</td>\n",
       "      <td>47.230000</td>\n",
       "      <td>26.200000</td>\n",
       "      <td>43.134000</td>\n",
       "      <td>26.200000</td>\n",
       "      <td>43.590000</td>\n",
       "      <td>25.600000</td>\n",
       "      <td>44.137143</td>\n",
       "      <td>24.000000</td>\n",
       "      <td>51.030000</td>\n",
       "      <td>...</td>\n",
       "      <td>25.260000</td>\n",
       "      <td>48.000000</td>\n",
       "      <td>24.10</td>\n",
       "      <td>46.590000</td>\n",
       "      <td>20.400000</td>\n",
       "      <td>744.150000</td>\n",
       "      <td>58.000000</td>\n",
       "      <td>2.500000</td>\n",
       "      <td>24.000000</td>\n",
       "      <td>11.750000</td>\n",
       "    </tr>\n",
       "  </tbody>\n",
       "</table>\n",
       "<p>3947 rows × 24 columns</p>\n",
       "</div>"
      ],
      "text/plain": [
       "              T1       RH_1         T2       RH_2         T3       RH_3  \\\n",
       "8980   20.890000  35.400000  17.760000  39.163333  20.290000  36.900000   \n",
       "2754   21.890000  53.100000  21.290000  45.360000  21.633333  49.226667   \n",
       "9132   21.390000  35.500000  17.633333  40.530000  21.666667  35.200000   \n",
       "14359  21.390000  41.033333  23.890000  34.840000  22.033333  36.933333   \n",
       "8875   19.963333  35.126667  16.463333  40.126667  20.000000  36.400000   \n",
       "...          ...        ...        ...        ...        ...        ...   \n",
       "9815   22.290000  36.200000  20.100000  38.066667  22.200000  35.000000   \n",
       "9925   22.290000  36.060000  20.890000  36.663333  22.600000  35.760000   \n",
       "14088  21.890000  36.463333  23.133333  31.963333  22.390000  35.966667   \n",
       "17356  24.600000  47.530000  22.764286  49.764286  26.700000  43.300000   \n",
       "17547  25.390000  47.230000  26.200000  43.134000  26.200000  43.590000   \n",
       "\n",
       "              T4       RH_4         T5       RH_5  ...         T8       RH_8  \\\n",
       "8980   19.760000  34.200000  18.600000  51.290000  ...  23.068750  39.747500   \n",
       "2754   20.533333  40.966667  17.677778  58.204444  ...  20.616667  47.563333   \n",
       "9132   20.290000  33.760000  19.600000  40.290000  ...  22.100000  39.626667   \n",
       "14359  22.390000  35.236000  19.633333  43.266667  ...  21.200000  38.090000   \n",
       "8875   19.260000  34.966667  17.890000  49.000000  ...  22.100000  39.590000   \n",
       "...          ...        ...        ...        ...  ...        ...        ...   \n",
       "9815   21.200000  33.433333  18.600000  43.790000  ...  22.890000  35.590000   \n",
       "9925   19.926667  36.330000  18.856667  46.790000  ...  23.390000  37.260000   \n",
       "14088  22.827500  34.131250  20.133333  41.433333  ...  21.600000  35.500000   \n",
       "17356  24.890000  45.400000  23.890000  56.060000  ...  25.890000  50.966667   \n",
       "17547  25.600000  44.137143  24.000000  51.030000  ...  25.260000  48.000000   \n",
       "\n",
       "          T9       RH_9      T_out  Press_mm_hg     RH_out  Windspeed  \\\n",
       "8980   19.29  39.030000   1.766667   768.900000  88.333333   2.333333   \n",
       "2754   16.29  44.200000   2.700000   754.600000  90.000000   3.000000   \n",
       "9132   19.39  38.290000   0.200000   766.200000  83.000000   2.000000   \n",
       "14359  20.29  38.560000   8.850000   767.800000  70.833333   5.166667   \n",
       "8875   19.00  40.700000  -0.466667   769.650000  93.333333   4.000000   \n",
       "...      ...        ...        ...          ...        ...        ...   \n",
       "9815   19.20  34.500000   5.933333   762.533333  78.166667   2.833333   \n",
       "9925   19.50  39.133333   7.116667   761.050000  71.500000   4.000000   \n",
       "14088  20.70  37.163333  11.300000   761.900000  45.000000   4.000000   \n",
       "17356  24.10  47.238571  14.666667   748.433333  94.666667   2.333333   \n",
       "17547  24.10  46.590000  20.400000   744.150000  58.000000   2.500000   \n",
       "\n",
       "       Visibility  Tdewpoint  \n",
       "8980    63.000000   0.000000  \n",
       "2754    27.000000   1.200000  \n",
       "9132    65.000000  -2.400000  \n",
       "14359   40.000000   3.716667  \n",
       "8875    48.833333  -1.450000  \n",
       "...           ...        ...  \n",
       "9815    21.666667   2.366667  \n",
       "9925    40.000000   2.300000  \n",
       "14088   40.000000  -0.200000  \n",
       "17356   22.666667  13.833333  \n",
       "17547   24.000000  11.750000  \n",
       "\n",
       "[3947 rows x 24 columns]"
      ]
     },
     "metadata": {},
     "output_type": "display_data"
    },
    {
     "data": {
      "text/plain": [
       "8980      40\n",
       "2754      90\n",
       "9132      50\n",
       "14359     50\n",
       "8875      70\n",
       "        ... \n",
       "9815      80\n",
       "9925     100\n",
       "14088     60\n",
       "17356     70\n",
       "17547     50\n",
       "Name: Appliances, Length: 3947, dtype: int64"
      ]
     },
     "metadata": {},
     "output_type": "display_data"
    }
   ],
   "source": [
    "X_test = test.drop(cols_to_drop_for_x, axis=1)\n",
    "y_test = test[col_target]\n",
    "display(X_test, y_test)"
   ]
  },
  {
   "cell_type": "markdown",
   "metadata": {},
   "source": [
    "<a id='train'></a>"
   ]
  },
  {
   "cell_type": "markdown",
   "metadata": {},
   "source": [
    "# 2) Model training\n",
    "---"
   ]
  },
  {
   "cell_type": "code",
   "execution_count": 167,
   "metadata": {},
   "outputs": [],
   "source": [
    "def preprocess_EnergySet(df_raw, split='random', seed=42, train_size=0.8, scale=True):\n",
    "    display(df_raw.info())\n",
    "    # Data is aggregated into 10min intervalls\n",
    "    # One day = 24*6 instances\n",
    "    day = 24*6 #instances\n",
    "    days_in_set = int(round(df_raw.shape[0]/day,0))\n",
    "    print(f\"Dataset contains roughly: {days_in_set} days of data\")\n",
    "    df = df_raw.copy()\n",
    "    #df['threshh'] = df.apply(lambda row: app_threshs(row), axis=1)\n",
    "    df['daytime'] = df.apply(lambda row: daytime(row), axis=1)\n",
    "    #df['daytime_str'] = df.apply(lambda row: daytime_str(row), axis=1)\n",
    "    print(\"Displaying DF before (optional) scaling and train/test splitting:\")\n",
    "    df = df.drop(col_randoms+[\"date\"], axis=1)\n",
    "    display(df.info())\n",
    "    print('Number of rows:' , df.shape[0])\n",
    "    print('Number of columns in dataset is:' , df.shape[1])\n",
    "    display(df.head())\n",
    "    # 80%...training, 20%...testing\n",
    "    if scale:\n",
    "        sc=StandardScaler()\n",
    "        df[df.columns] = sc.fit_transform(df)\n",
    "    if split=='random':\n",
    "        train, test = train_test_split(df,test_size=1-train_size,random_state=seed)\n",
    "        return train, test\n",
    "    elif split=='days':\n",
    "        train, test = train_test_split(df_raw,test_size=0.2, shuffle=False)\n",
    "        return train, test\n",
    "    else:\n",
    "        return df\n",
    "\n",
    "def xy_split(df, target=\"Appliances\"):\n",
    "    Y_train = df[target]\n",
    "    X_train = df.drop(target, axis=1)\n",
    "    return X_train, Y_train"
   ]
  },
  {
   "cell_type": "code",
   "execution_count": 168,
   "metadata": {},
   "outputs": [],
   "source": [
    "import math\n",
    "def rmse(x,y): \n",
    "    return math.sqrt(((x-y)**2).mean())\n",
    "\n",
    "def print_score(m, X_train, X_valid, y_train, y_valid, score=''):\n",
    "    res = {\n",
    "        'RMS(train)': rmse(m.predict(X_train), y_train),\n",
    "        'RMS(valid)': rmse(m.predict(X_valid), y_valid)}\n",
    "    if score=='neg_mean_squared_error':\n",
    "        res['Model_Score=r²'] = [np.sqrt(-m.score(X_train, y_train)), np.sqrt(-m.score(X_valid, y_valid))]\n",
    "    elif score=='pos_mean_squared_error':\n",
    "        res['Model_Score=r²'] = [np.sqrt(m.score(X_train, y_train)), np.sqrt(m.score(X_valid, y_valid))]\n",
    "    else:\n",
    "        res['Model_Score=r²'] = [m.score(X_train, y_train), m.score(X_valid, y_valid)]\n",
    "    if hasattr(m, 'oob_score_'): res['oob_score_'] = m.oob_score_\n",
    "    display(res)\n",
    "    return res\n",
    "\n",
    "# Feature importance\n",
    "from prettytable import PrettyTable as PT # pip install PTable\n",
    "def print_RF_featureImportance(rf, X):\n",
    "    table = PT()\n",
    "    table.field_names = ['Feature', 'Score', 'Comment']\n",
    "    sum = 0\n",
    "    for name, score in zip(X.columns.values, rf.feature_importances_):\n",
    "        print(f\"{name}: {score:.5f}\\t\\t... {col_dict[name]}\")\n",
    "        table.add_row([name, round(score, ndigits=4), col_dict[name]])\n",
    "        sum += score\n",
    "    print(table)\n",
    "    print(f\"sum = {sum}\")\n",
    "\n",
    "def print_GridSearchResult(grid):\n",
    "    print(grid.best_params_)\n",
    "    print(grid.best_estimator_)"
   ]
  },
  {
   "cell_type": "code",
   "execution_count": 258,
   "metadata": {},
   "outputs": [
    {
     "data": {
      "text/plain": [
       "{'linReg': 0, 'lassoReg': 0, 'kNN': 0, 'randomForest': 0}"
      ]
     },
     "execution_count": 258,
     "metadata": {},
     "output_type": "execute_result"
    }
   ],
   "source": [
    "# Dictionary containing scores:\n",
    "keys = ['linReg', 'lassoReg','kNN','randomForest']\n",
    "vals = [0 for key in keys]\n",
    "zipped = list(zip(keys, vals))\n",
    "model_scores = dict(zipped)\n",
    "model_scores"
   ]
  },
  {
   "cell_type": "code",
   "execution_count": 292,
   "metadata": {},
   "outputs": [
    {
     "data": {
      "text/plain": [
       "{'linReg': 0, 'lassoReg': 0, 'kNN': 0, 'randomForest': 0}"
      ]
     },
     "execution_count": 292,
     "metadata": {},
     "output_type": "execute_result"
    }
   ],
   "source": [
    "# Dictionary containing the trained models:\n",
    "keys = ['linReg', 'lassoReg','kNN','randomForest']\n",
    "vals = [0 for key in keys]\n",
    "zipped = list(zip(keys, vals))\n",
    "models = dict(zipped)\n",
    "models"
   ]
  },
  {
   "cell_type": "markdown",
   "metadata": {},
   "source": [
    "<a id='linear'></a>"
   ]
  },
  {
   "cell_type": "markdown",
   "metadata": {},
   "source": [
    "# a) Linear Regression"
   ]
  },
  {
   "cell_type": "code",
   "execution_count": 159,
   "metadata": {},
   "outputs": [
    {
     "name": "stdout",
     "output_type": "stream",
     "text": [
      "<class 'pandas.core.frame.DataFrame'>\n",
      "RangeIndex: 19735 entries, 0 to 19734\n",
      "Data columns (total 29 columns):\n",
      " #   Column       Non-Null Count  Dtype         \n",
      "---  ------       --------------  -----         \n",
      " 0   date         19735 non-null  datetime64[ns]\n",
      " 1   Appliances   19735 non-null  int64         \n",
      " 2   lights       19735 non-null  int64         \n",
      " 3   T1           19735 non-null  float64       \n",
      " 4   RH_1         19735 non-null  float64       \n",
      " 5   T2           19735 non-null  float64       \n",
      " 6   RH_2         19735 non-null  float64       \n",
      " 7   T3           19735 non-null  float64       \n",
      " 8   RH_3         19735 non-null  float64       \n",
      " 9   T4           19735 non-null  float64       \n",
      " 10  RH_4         19735 non-null  float64       \n",
      " 11  T5           19735 non-null  float64       \n",
      " 12  RH_5         19735 non-null  float64       \n",
      " 13  T6           19735 non-null  float64       \n",
      " 14  RH_6         19735 non-null  float64       \n",
      " 15  T7           19735 non-null  float64       \n",
      " 16  RH_7         19735 non-null  float64       \n",
      " 17  T8           19735 non-null  float64       \n",
      " 18  RH_8         19735 non-null  float64       \n",
      " 19  T9           19735 non-null  float64       \n",
      " 20  RH_9         19735 non-null  float64       \n",
      " 21  T_out        19735 non-null  float64       \n",
      " 22  Press_mm_hg  19735 non-null  float64       \n",
      " 23  RH_out       19735 non-null  float64       \n",
      " 24  Windspeed    19735 non-null  float64       \n",
      " 25  Visibility   19735 non-null  float64       \n",
      " 26  Tdewpoint    19735 non-null  float64       \n",
      " 27  rv1          19735 non-null  float64       \n",
      " 28  rv2          19735 non-null  float64       \n",
      "dtypes: datetime64[ns](1), float64(26), int64(2)\n",
      "memory usage: 4.4 MB\n"
     ]
    },
    {
     "data": {
      "text/plain": [
       "None"
      ]
     },
     "metadata": {},
     "output_type": "display_data"
    },
    {
     "name": "stdout",
     "output_type": "stream",
     "text": [
      "Dataset contains roughly: 137 days of data\n",
      "Displaying DF before (optional) scaling and train/test splitting:\n",
      "<class 'pandas.core.frame.DataFrame'>\n",
      "RangeIndex: 19735 entries, 0 to 19734\n",
      "Data columns (total 27 columns):\n",
      " #   Column       Non-Null Count  Dtype  \n",
      "---  ------       --------------  -----  \n",
      " 0   Appliances   19735 non-null  int64  \n",
      " 1   lights       19735 non-null  int64  \n",
      " 2   T1           19735 non-null  float64\n",
      " 3   RH_1         19735 non-null  float64\n",
      " 4   T2           19735 non-null  float64\n",
      " 5   RH_2         19735 non-null  float64\n",
      " 6   T3           19735 non-null  float64\n",
      " 7   RH_3         19735 non-null  float64\n",
      " 8   T4           19735 non-null  float64\n",
      " 9   RH_4         19735 non-null  float64\n",
      " 10  T5           19735 non-null  float64\n",
      " 11  RH_5         19735 non-null  float64\n",
      " 12  T6           19735 non-null  float64\n",
      " 13  RH_6         19735 non-null  float64\n",
      " 14  T7           19735 non-null  float64\n",
      " 15  RH_7         19735 non-null  float64\n",
      " 16  T8           19735 non-null  float64\n",
      " 17  RH_8         19735 non-null  float64\n",
      " 18  T9           19735 non-null  float64\n",
      " 19  RH_9         19735 non-null  float64\n",
      " 20  T_out        19735 non-null  float64\n",
      " 21  Press_mm_hg  19735 non-null  float64\n",
      " 22  RH_out       19735 non-null  float64\n",
      " 23  Windspeed    19735 non-null  float64\n",
      " 24  Visibility   19735 non-null  float64\n",
      " 25  Tdewpoint    19735 non-null  float64\n",
      " 26  daytime      19735 non-null  int64  \n",
      "dtypes: float64(24), int64(3)\n",
      "memory usage: 4.1 MB\n"
     ]
    },
    {
     "data": {
      "text/plain": [
       "None"
      ]
     },
     "metadata": {},
     "output_type": "display_data"
    },
    {
     "name": "stdout",
     "output_type": "stream",
     "text": [
      "Number of rows: 19735\n",
      "Number of columns in dataset is: 27\n"
     ]
    },
    {
     "data": {
      "text/html": [
       "<div>\n",
       "<style scoped>\n",
       "    .dataframe tbody tr th:only-of-type {\n",
       "        vertical-align: middle;\n",
       "    }\n",
       "\n",
       "    .dataframe tbody tr th {\n",
       "        vertical-align: top;\n",
       "    }\n",
       "\n",
       "    .dataframe thead th {\n",
       "        text-align: right;\n",
       "    }\n",
       "</style>\n",
       "<table border=\"1\" class=\"dataframe\">\n",
       "  <thead>\n",
       "    <tr style=\"text-align: right;\">\n",
       "      <th></th>\n",
       "      <th>Appliances</th>\n",
       "      <th>lights</th>\n",
       "      <th>T1</th>\n",
       "      <th>RH_1</th>\n",
       "      <th>T2</th>\n",
       "      <th>RH_2</th>\n",
       "      <th>T3</th>\n",
       "      <th>RH_3</th>\n",
       "      <th>T4</th>\n",
       "      <th>RH_4</th>\n",
       "      <th>...</th>\n",
       "      <th>RH_8</th>\n",
       "      <th>T9</th>\n",
       "      <th>RH_9</th>\n",
       "      <th>T_out</th>\n",
       "      <th>Press_mm_hg</th>\n",
       "      <th>RH_out</th>\n",
       "      <th>Windspeed</th>\n",
       "      <th>Visibility</th>\n",
       "      <th>Tdewpoint</th>\n",
       "      <th>daytime</th>\n",
       "    </tr>\n",
       "  </thead>\n",
       "  <tbody>\n",
       "    <tr>\n",
       "      <th>0</th>\n",
       "      <td>60</td>\n",
       "      <td>30</td>\n",
       "      <td>19.89</td>\n",
       "      <td>47.596667</td>\n",
       "      <td>19.2</td>\n",
       "      <td>44.790000</td>\n",
       "      <td>19.79</td>\n",
       "      <td>44.730000</td>\n",
       "      <td>19.000000</td>\n",
       "      <td>45.566667</td>\n",
       "      <td>...</td>\n",
       "      <td>48.900000</td>\n",
       "      <td>17.033333</td>\n",
       "      <td>45.53</td>\n",
       "      <td>6.600000</td>\n",
       "      <td>733.5</td>\n",
       "      <td>92.0</td>\n",
       "      <td>7.000000</td>\n",
       "      <td>63.000000</td>\n",
       "      <td>5.3</td>\n",
       "      <td>2</td>\n",
       "    </tr>\n",
       "    <tr>\n",
       "      <th>1</th>\n",
       "      <td>60</td>\n",
       "      <td>30</td>\n",
       "      <td>19.89</td>\n",
       "      <td>46.693333</td>\n",
       "      <td>19.2</td>\n",
       "      <td>44.722500</td>\n",
       "      <td>19.79</td>\n",
       "      <td>44.790000</td>\n",
       "      <td>19.000000</td>\n",
       "      <td>45.992500</td>\n",
       "      <td>...</td>\n",
       "      <td>48.863333</td>\n",
       "      <td>17.066667</td>\n",
       "      <td>45.56</td>\n",
       "      <td>6.483333</td>\n",
       "      <td>733.6</td>\n",
       "      <td>92.0</td>\n",
       "      <td>6.666667</td>\n",
       "      <td>59.166667</td>\n",
       "      <td>5.2</td>\n",
       "      <td>2</td>\n",
       "    </tr>\n",
       "    <tr>\n",
       "      <th>2</th>\n",
       "      <td>50</td>\n",
       "      <td>30</td>\n",
       "      <td>19.89</td>\n",
       "      <td>46.300000</td>\n",
       "      <td>19.2</td>\n",
       "      <td>44.626667</td>\n",
       "      <td>19.79</td>\n",
       "      <td>44.933333</td>\n",
       "      <td>18.926667</td>\n",
       "      <td>45.890000</td>\n",
       "      <td>...</td>\n",
       "      <td>48.730000</td>\n",
       "      <td>17.000000</td>\n",
       "      <td>45.50</td>\n",
       "      <td>6.366667</td>\n",
       "      <td>733.7</td>\n",
       "      <td>92.0</td>\n",
       "      <td>6.333333</td>\n",
       "      <td>55.333333</td>\n",
       "      <td>5.1</td>\n",
       "      <td>2</td>\n",
       "    </tr>\n",
       "    <tr>\n",
       "      <th>3</th>\n",
       "      <td>50</td>\n",
       "      <td>40</td>\n",
       "      <td>19.89</td>\n",
       "      <td>46.066667</td>\n",
       "      <td>19.2</td>\n",
       "      <td>44.590000</td>\n",
       "      <td>19.79</td>\n",
       "      <td>45.000000</td>\n",
       "      <td>18.890000</td>\n",
       "      <td>45.723333</td>\n",
       "      <td>...</td>\n",
       "      <td>48.590000</td>\n",
       "      <td>17.000000</td>\n",
       "      <td>45.40</td>\n",
       "      <td>6.250000</td>\n",
       "      <td>733.8</td>\n",
       "      <td>92.0</td>\n",
       "      <td>6.000000</td>\n",
       "      <td>51.500000</td>\n",
       "      <td>5.0</td>\n",
       "      <td>2</td>\n",
       "    </tr>\n",
       "    <tr>\n",
       "      <th>4</th>\n",
       "      <td>60</td>\n",
       "      <td>40</td>\n",
       "      <td>19.89</td>\n",
       "      <td>46.333333</td>\n",
       "      <td>19.2</td>\n",
       "      <td>44.530000</td>\n",
       "      <td>19.79</td>\n",
       "      <td>45.000000</td>\n",
       "      <td>18.890000</td>\n",
       "      <td>45.530000</td>\n",
       "      <td>...</td>\n",
       "      <td>48.590000</td>\n",
       "      <td>17.000000</td>\n",
       "      <td>45.40</td>\n",
       "      <td>6.133333</td>\n",
       "      <td>733.9</td>\n",
       "      <td>92.0</td>\n",
       "      <td>5.666667</td>\n",
       "      <td>47.666667</td>\n",
       "      <td>4.9</td>\n",
       "      <td>2</td>\n",
       "    </tr>\n",
       "  </tbody>\n",
       "</table>\n",
       "<p>5 rows × 27 columns</p>\n",
       "</div>"
      ],
      "text/plain": [
       "   Appliances  lights     T1       RH_1    T2       RH_2     T3       RH_3  \\\n",
       "0          60      30  19.89  47.596667  19.2  44.790000  19.79  44.730000   \n",
       "1          60      30  19.89  46.693333  19.2  44.722500  19.79  44.790000   \n",
       "2          50      30  19.89  46.300000  19.2  44.626667  19.79  44.933333   \n",
       "3          50      40  19.89  46.066667  19.2  44.590000  19.79  45.000000   \n",
       "4          60      40  19.89  46.333333  19.2  44.530000  19.79  45.000000   \n",
       "\n",
       "          T4       RH_4  ...       RH_8         T9   RH_9     T_out  \\\n",
       "0  19.000000  45.566667  ...  48.900000  17.033333  45.53  6.600000   \n",
       "1  19.000000  45.992500  ...  48.863333  17.066667  45.56  6.483333   \n",
       "2  18.926667  45.890000  ...  48.730000  17.000000  45.50  6.366667   \n",
       "3  18.890000  45.723333  ...  48.590000  17.000000  45.40  6.250000   \n",
       "4  18.890000  45.530000  ...  48.590000  17.000000  45.40  6.133333   \n",
       "\n",
       "   Press_mm_hg  RH_out  Windspeed  Visibility  Tdewpoint  daytime  \n",
       "0        733.5    92.0   7.000000   63.000000        5.3        2  \n",
       "1        733.6    92.0   6.666667   59.166667        5.2        2  \n",
       "2        733.7    92.0   6.333333   55.333333        5.1        2  \n",
       "3        733.8    92.0   6.000000   51.500000        5.0        2  \n",
       "4        733.9    92.0   5.666667   47.666667        4.9        2  \n",
       "\n",
       "[5 rows x 27 columns]"
      ]
     },
     "metadata": {},
     "output_type": "display_data"
    }
   ],
   "source": [
    "train_lin, test_lin = preprocess_EnergySet(df_raw, split='random', train_size=0.8, scale=True)"
   ]
  },
  {
   "cell_type": "code",
   "execution_count": 160,
   "metadata": {},
   "outputs": [
    {
     "data": {
      "text/html": [
       "<div>\n",
       "<style scoped>\n",
       "    .dataframe tbody tr th:only-of-type {\n",
       "        vertical-align: middle;\n",
       "    }\n",
       "\n",
       "    .dataframe tbody tr th {\n",
       "        vertical-align: top;\n",
       "    }\n",
       "\n",
       "    .dataframe thead th {\n",
       "        text-align: right;\n",
       "    }\n",
       "</style>\n",
       "<table border=\"1\" class=\"dataframe\">\n",
       "  <thead>\n",
       "    <tr style=\"text-align: right;\">\n",
       "      <th></th>\n",
       "      <th>Appliances</th>\n",
       "      <th>lights</th>\n",
       "      <th>T1</th>\n",
       "      <th>RH_1</th>\n",
       "      <th>T2</th>\n",
       "      <th>RH_2</th>\n",
       "      <th>T3</th>\n",
       "      <th>RH_3</th>\n",
       "      <th>T4</th>\n",
       "      <th>RH_4</th>\n",
       "      <th>...</th>\n",
       "      <th>RH_8</th>\n",
       "      <th>T9</th>\n",
       "      <th>RH_9</th>\n",
       "      <th>T_out</th>\n",
       "      <th>Press_mm_hg</th>\n",
       "      <th>RH_out</th>\n",
       "      <th>Windspeed</th>\n",
       "      <th>Visibility</th>\n",
       "      <th>Tdewpoint</th>\n",
       "      <th>daytime</th>\n",
       "    </tr>\n",
       "  </thead>\n",
       "  <tbody>\n",
       "    <tr>\n",
       "      <th>2133</th>\n",
       "      <td>-0.465215</td>\n",
       "      <td>-0.47908</td>\n",
       "      <td>-1.118645</td>\n",
       "      <td>1.316914</td>\n",
       "      <td>-0.520411</td>\n",
       "      <td>1.147399</td>\n",
       "      <td>-0.935970</td>\n",
       "      <td>1.550932</td>\n",
       "      <td>-0.859265</td>\n",
       "      <td>1.767501</td>\n",
       "      <td>...</td>\n",
       "      <td>1.352130</td>\n",
       "      <td>-1.151142</td>\n",
       "      <td>1.721736</td>\n",
       "      <td>0.543199</td>\n",
       "      <td>0.861898</td>\n",
       "      <td>0.385860</td>\n",
       "      <td>1.411679</td>\n",
       "      <td>-1.257445</td>\n",
       "      <td>0.998749</td>\n",
       "      <td>-0.646939</td>\n",
       "    </tr>\n",
       "    <tr>\n",
       "      <th>19730</th>\n",
       "      <td>0.022483</td>\n",
       "      <td>-0.47908</td>\n",
       "      <td>2.415962</td>\n",
       "      <td>1.583299</td>\n",
       "      <td>2.530318</td>\n",
       "      <td>0.394449</td>\n",
       "      <td>2.458745</td>\n",
       "      <td>0.590209</td>\n",
       "      <td>1.882026</td>\n",
       "      <td>1.511812</td>\n",
       "      <td>...</td>\n",
       "      <td>1.366295</td>\n",
       "      <td>1.843571</td>\n",
       "      <td>1.261649</td>\n",
       "      <td>2.881489</td>\n",
       "      <td>-0.043599</td>\n",
       "      <td>-1.616282</td>\n",
       "      <td>-0.288198</td>\n",
       "      <td>-1.243314</td>\n",
       "      <td>2.282163</td>\n",
       "      <td>0.170171</td>\n",
       "    </tr>\n",
       "    <tr>\n",
       "      <th>3288</th>\n",
       "      <td>-0.270136</td>\n",
       "      <td>-0.47908</td>\n",
       "      <td>0.506486</td>\n",
       "      <td>1.048015</td>\n",
       "      <td>0.543620</td>\n",
       "      <td>0.533104</td>\n",
       "      <td>-0.151679</td>\n",
       "      <td>1.632358</td>\n",
       "      <td>0.560332</td>\n",
       "      <td>0.331650</td>\n",
       "      <td>...</td>\n",
       "      <td>-0.307233</td>\n",
       "      <td>-0.439691</td>\n",
       "      <td>0.958136</td>\n",
       "      <td>-0.152647</td>\n",
       "      <td>0.632145</td>\n",
       "      <td>-1.057025</td>\n",
       "      <td>1.615664</td>\n",
       "      <td>0.141522</td>\n",
       "      <td>-0.848891</td>\n",
       "      <td>-0.646939</td>\n",
       "    </tr>\n",
       "    <tr>\n",
       "      <th>7730</th>\n",
       "      <td>-0.562755</td>\n",
       "      <td>-0.47908</td>\n",
       "      <td>-1.180910</td>\n",
       "      <td>-0.552810</td>\n",
       "      <td>-1.432438</td>\n",
       "      <td>0.126032</td>\n",
       "      <td>-0.831287</td>\n",
       "      <td>-0.638860</td>\n",
       "      <td>-1.206822</td>\n",
       "      <td>-0.466898</td>\n",
       "      <td>...</td>\n",
       "      <td>-0.066262</td>\n",
       "      <td>-0.543927</td>\n",
       "      <td>-0.199708</td>\n",
       "      <td>-0.998945</td>\n",
       "      <td>-1.890633</td>\n",
       "      <td>0.978673</td>\n",
       "      <td>-1.240129</td>\n",
       "      <td>0.876332</td>\n",
       "      <td>-0.602539</td>\n",
       "      <td>-1.464050</td>\n",
       "    </tr>\n",
       "    <tr>\n",
       "      <th>8852</th>\n",
       "      <td>-0.562755</td>\n",
       "      <td>-0.47908</td>\n",
       "      <td>-0.676559</td>\n",
       "      <td>-1.248930</td>\n",
       "      <td>-1.478040</td>\n",
       "      <td>-0.154906</td>\n",
       "      <td>-0.985819</td>\n",
       "      <td>-0.689047</td>\n",
       "      <td>-0.663458</td>\n",
       "      <td>-1.042775</td>\n",
       "      <td>...</td>\n",
       "      <td>-0.703676</td>\n",
       "      <td>-0.277546</td>\n",
       "      <td>-0.352268</td>\n",
       "      <td>-1.556875</td>\n",
       "      <td>1.722345</td>\n",
       "      <td>0.844451</td>\n",
       "      <td>-0.968148</td>\n",
       "      <td>-0.367193</td>\n",
       "      <td>-1.357488</td>\n",
       "      <td>0.987281</td>\n",
       "    </tr>\n",
       "    <tr>\n",
       "      <th>...</th>\n",
       "      <td>...</td>\n",
       "      <td>...</td>\n",
       "      <td>...</td>\n",
       "      <td>...</td>\n",
       "      <td>...</td>\n",
       "      <td>...</td>\n",
       "      <td>...</td>\n",
       "      <td>...</td>\n",
       "      <td>...</td>\n",
       "      <td>...</td>\n",
       "      <td>...</td>\n",
       "      <td>...</td>\n",
       "      <td>...</td>\n",
       "      <td>...</td>\n",
       "      <td>...</td>\n",
       "      <td>...</td>\n",
       "      <td>...</td>\n",
       "      <td>...</td>\n",
       "      <td>...</td>\n",
       "      <td>...</td>\n",
       "      <td>...</td>\n",
       "    </tr>\n",
       "    <tr>\n",
       "      <th>11284</th>\n",
       "      <td>-0.367676</td>\n",
       "      <td>-0.47908</td>\n",
       "      <td>0.045721</td>\n",
       "      <td>0.160902</td>\n",
       "      <td>-0.433769</td>\n",
       "      <td>0.655963</td>\n",
       "      <td>0.365088</td>\n",
       "      <td>-0.074512</td>\n",
       "      <td>0.315574</td>\n",
       "      <td>0.175780</td>\n",
       "      <td>...</td>\n",
       "      <td>0.484378</td>\n",
       "      <td>0.432251</td>\n",
       "      <td>-0.239053</td>\n",
       "      <td>0.405283</td>\n",
       "      <td>-0.683303</td>\n",
       "      <td>-0.139842</td>\n",
       "      <td>1.071703</td>\n",
       "      <td>0.141522</td>\n",
       "      <td>0.494125</td>\n",
       "      <td>0.987281</td>\n",
       "    </tr>\n",
       "    <tr>\n",
       "      <th>11964</th>\n",
       "      <td>0.217563</td>\n",
       "      <td>-0.47908</td>\n",
       "      <td>0.437994</td>\n",
       "      <td>0.864561</td>\n",
       "      <td>0.756426</td>\n",
       "      <td>0.404512</td>\n",
       "      <td>0.215541</td>\n",
       "      <td>0.610694</td>\n",
       "      <td>0.212776</td>\n",
       "      <td>1.173197</td>\n",
       "      <td>...</td>\n",
       "      <td>0.777882</td>\n",
       "      <td>0.399160</td>\n",
       "      <td>0.659441</td>\n",
       "      <td>1.859663</td>\n",
       "      <td>-0.813947</td>\n",
       "      <td>-0.922803</td>\n",
       "      <td>-0.832158</td>\n",
       "      <td>0.141522</td>\n",
       "      <td>1.702044</td>\n",
       "      <td>0.170171</td>\n",
       "    </tr>\n",
       "    <tr>\n",
       "      <th>5390</th>\n",
       "      <td>-0.660295</td>\n",
       "      <td>-0.47908</td>\n",
       "      <td>-0.869583</td>\n",
       "      <td>-1.145894</td>\n",
       "      <td>-0.976425</td>\n",
       "      <td>-0.695485</td>\n",
       "      <td>-1.080532</td>\n",
       "      <td>-0.507759</td>\n",
       "      <td>-1.299830</td>\n",
       "      <td>-0.860798</td>\n",
       "      <td>...</td>\n",
       "      <td>-0.236622</td>\n",
       "      <td>-0.792107</td>\n",
       "      <td>-0.502418</td>\n",
       "      <td>-1.594488</td>\n",
       "      <td>-0.084144</td>\n",
       "      <td>0.486526</td>\n",
       "      <td>-0.152208</td>\n",
       "      <td>2.063334</td>\n",
       "      <td>-1.595893</td>\n",
       "      <td>0.987281</td>\n",
       "    </tr>\n",
       "    <tr>\n",
       "      <th>860</th>\n",
       "      <td>-0.172596</td>\n",
       "      <td>-0.47908</td>\n",
       "      <td>0.064400</td>\n",
       "      <td>-1.181077</td>\n",
       "      <td>0.042309</td>\n",
       "      <td>-1.303390</td>\n",
       "      <td>-0.532193</td>\n",
       "      <td>-0.719774</td>\n",
       "      <td>0.119768</td>\n",
       "      <td>-0.774800</td>\n",
       "      <td>...</td>\n",
       "      <td>-0.662522</td>\n",
       "      <td>-0.489327</td>\n",
       "      <td>-0.020652</td>\n",
       "      <td>-1.005214</td>\n",
       "      <td>1.285364</td>\n",
       "      <td>-1.034654</td>\n",
       "      <td>-1.104138</td>\n",
       "      <td>0.141522</td>\n",
       "      <td>-1.866086</td>\n",
       "      <td>0.170171</td>\n",
       "    </tr>\n",
       "    <tr>\n",
       "      <th>15795</th>\n",
       "      <td>0.315103</td>\n",
       "      <td>-0.47908</td>\n",
       "      <td>-0.226172</td>\n",
       "      <td>-0.635741</td>\n",
       "      <td>-0.205762</td>\n",
       "      <td>-0.455500</td>\n",
       "      <td>0.215541</td>\n",
       "      <td>-0.815027</td>\n",
       "      <td>-0.565555</td>\n",
       "      <td>0.093621</td>\n",
       "      <td>...</td>\n",
       "      <td>0.135682</td>\n",
       "      <td>-0.047565</td>\n",
       "      <td>-0.068828</td>\n",
       "      <td>-0.143243</td>\n",
       "      <td>0.422664</td>\n",
       "      <td>0.385860</td>\n",
       "      <td>-1.240129</td>\n",
       "      <td>0.141522</td>\n",
       "      <td>0.140490</td>\n",
       "      <td>-1.464050</td>\n",
       "    </tr>\n",
       "  </tbody>\n",
       "</table>\n",
       "<p>15788 rows × 27 columns</p>\n",
       "</div>"
      ],
      "text/plain": [
       "       Appliances   lights        T1      RH_1        T2      RH_2        T3  \\\n",
       "2133    -0.465215 -0.47908 -1.118645  1.316914 -0.520411  1.147399 -0.935970   \n",
       "19730    0.022483 -0.47908  2.415962  1.583299  2.530318  0.394449  2.458745   \n",
       "3288    -0.270136 -0.47908  0.506486  1.048015  0.543620  0.533104 -0.151679   \n",
       "7730    -0.562755 -0.47908 -1.180910 -0.552810 -1.432438  0.126032 -0.831287   \n",
       "8852    -0.562755 -0.47908 -0.676559 -1.248930 -1.478040 -0.154906 -0.985819   \n",
       "...           ...      ...       ...       ...       ...       ...       ...   \n",
       "11284   -0.367676 -0.47908  0.045721  0.160902 -0.433769  0.655963  0.365088   \n",
       "11964    0.217563 -0.47908  0.437994  0.864561  0.756426  0.404512  0.215541   \n",
       "5390    -0.660295 -0.47908 -0.869583 -1.145894 -0.976425 -0.695485 -1.080532   \n",
       "860     -0.172596 -0.47908  0.064400 -1.181077  0.042309 -1.303390 -0.532193   \n",
       "15795    0.315103 -0.47908 -0.226172 -0.635741 -0.205762 -0.455500  0.215541   \n",
       "\n",
       "           RH_3        T4      RH_4  ...      RH_8        T9      RH_9  \\\n",
       "2133   1.550932 -0.859265  1.767501  ...  1.352130 -1.151142  1.721736   \n",
       "19730  0.590209  1.882026  1.511812  ...  1.366295  1.843571  1.261649   \n",
       "3288   1.632358  0.560332  0.331650  ... -0.307233 -0.439691  0.958136   \n",
       "7730  -0.638860 -1.206822 -0.466898  ... -0.066262 -0.543927 -0.199708   \n",
       "8852  -0.689047 -0.663458 -1.042775  ... -0.703676 -0.277546 -0.352268   \n",
       "...         ...       ...       ...  ...       ...       ...       ...   \n",
       "11284 -0.074512  0.315574  0.175780  ...  0.484378  0.432251 -0.239053   \n",
       "11964  0.610694  0.212776  1.173197  ...  0.777882  0.399160  0.659441   \n",
       "5390  -0.507759 -1.299830 -0.860798  ... -0.236622 -0.792107 -0.502418   \n",
       "860   -0.719774  0.119768 -0.774800  ... -0.662522 -0.489327 -0.020652   \n",
       "15795 -0.815027 -0.565555  0.093621  ...  0.135682 -0.047565 -0.068828   \n",
       "\n",
       "          T_out  Press_mm_hg    RH_out  Windspeed  Visibility  Tdewpoint  \\\n",
       "2133   0.543199     0.861898  0.385860   1.411679   -1.257445   0.998749   \n",
       "19730  2.881489    -0.043599 -1.616282  -0.288198   -1.243314   2.282163   \n",
       "3288  -0.152647     0.632145 -1.057025   1.615664    0.141522  -0.848891   \n",
       "7730  -0.998945    -1.890633  0.978673  -1.240129    0.876332  -0.602539   \n",
       "8852  -1.556875     1.722345  0.844451  -0.968148   -0.367193  -1.357488   \n",
       "...         ...          ...       ...        ...         ...        ...   \n",
       "11284  0.405283    -0.683303 -0.139842   1.071703    0.141522   0.494125   \n",
       "11964  1.859663    -0.813947 -0.922803  -0.832158    0.141522   1.702044   \n",
       "5390  -1.594488    -0.084144  0.486526  -0.152208    2.063334  -1.595893   \n",
       "860   -1.005214     1.285364 -1.034654  -1.104138    0.141522  -1.866086   \n",
       "15795 -0.143243     0.422664  0.385860  -1.240129    0.141522   0.140490   \n",
       "\n",
       "        daytime  \n",
       "2133  -0.646939  \n",
       "19730  0.170171  \n",
       "3288  -0.646939  \n",
       "7730  -1.464050  \n",
       "8852   0.987281  \n",
       "...         ...  \n",
       "11284  0.987281  \n",
       "11964  0.170171  \n",
       "5390   0.987281  \n",
       "860    0.170171  \n",
       "15795 -1.464050  \n",
       "\n",
       "[15788 rows x 27 columns]"
      ]
     },
     "metadata": {},
     "output_type": "display_data"
    }
   ],
   "source": [
    "display(train_lin)"
   ]
  },
  {
   "cell_type": "code",
   "execution_count": 164,
   "metadata": {},
   "outputs": [
    {
     "name": "stdout",
     "output_type": "stream",
     "text": [
      "Target=Appliances\n"
     ]
    },
    {
     "data": {
      "text/html": [
       "<div>\n",
       "<style scoped>\n",
       "    .dataframe tbody tr th:only-of-type {\n",
       "        vertical-align: middle;\n",
       "    }\n",
       "\n",
       "    .dataframe tbody tr th {\n",
       "        vertical-align: top;\n",
       "    }\n",
       "\n",
       "    .dataframe thead th {\n",
       "        text-align: right;\n",
       "    }\n",
       "</style>\n",
       "<table border=\"1\" class=\"dataframe\">\n",
       "  <thead>\n",
       "    <tr style=\"text-align: right;\">\n",
       "      <th></th>\n",
       "      <th>lights</th>\n",
       "      <th>T1</th>\n",
       "      <th>RH_1</th>\n",
       "      <th>T2</th>\n",
       "      <th>RH_2</th>\n",
       "      <th>T3</th>\n",
       "      <th>RH_3</th>\n",
       "      <th>T4</th>\n",
       "      <th>RH_4</th>\n",
       "      <th>T5</th>\n",
       "      <th>...</th>\n",
       "      <th>RH_8</th>\n",
       "      <th>T9</th>\n",
       "      <th>RH_9</th>\n",
       "      <th>T_out</th>\n",
       "      <th>Press_mm_hg</th>\n",
       "      <th>RH_out</th>\n",
       "      <th>Windspeed</th>\n",
       "      <th>Visibility</th>\n",
       "      <th>Tdewpoint</th>\n",
       "      <th>daytime</th>\n",
       "    </tr>\n",
       "  </thead>\n",
       "  <tbody>\n",
       "    <tr>\n",
       "      <th>2133</th>\n",
       "      <td>-0.47908</td>\n",
       "      <td>-1.118645</td>\n",
       "      <td>1.316914</td>\n",
       "      <td>-0.520411</td>\n",
       "      <td>1.147399</td>\n",
       "      <td>-0.935970</td>\n",
       "      <td>1.550932</td>\n",
       "      <td>-0.859265</td>\n",
       "      <td>1.767501</td>\n",
       "      <td>-1.128170</td>\n",
       "      <td>...</td>\n",
       "      <td>1.352130</td>\n",
       "      <td>-1.151142</td>\n",
       "      <td>1.721736</td>\n",
       "      <td>0.543199</td>\n",
       "      <td>0.861898</td>\n",
       "      <td>0.385860</td>\n",
       "      <td>1.411679</td>\n",
       "      <td>-1.257445</td>\n",
       "      <td>0.998749</td>\n",
       "      <td>-0.646939</td>\n",
       "    </tr>\n",
       "    <tr>\n",
       "      <th>19730</th>\n",
       "      <td>-0.47908</td>\n",
       "      <td>2.415962</td>\n",
       "      <td>1.583299</td>\n",
       "      <td>2.530318</td>\n",
       "      <td>0.394449</td>\n",
       "      <td>2.458745</td>\n",
       "      <td>0.590209</td>\n",
       "      <td>1.882026</td>\n",
       "      <td>1.511812</td>\n",
       "      <td>1.955947</td>\n",
       "      <td>...</td>\n",
       "      <td>1.366295</td>\n",
       "      <td>1.843571</td>\n",
       "      <td>1.261649</td>\n",
       "      <td>2.881489</td>\n",
       "      <td>-0.043599</td>\n",
       "      <td>-1.616282</td>\n",
       "      <td>-0.288198</td>\n",
       "      <td>-1.243314</td>\n",
       "      <td>2.282163</td>\n",
       "      <td>0.170171</td>\n",
       "    </tr>\n",
       "    <tr>\n",
       "      <th>3288</th>\n",
       "      <td>-0.47908</td>\n",
       "      <td>0.506486</td>\n",
       "      <td>1.048015</td>\n",
       "      <td>0.543620</td>\n",
       "      <td>0.533104</td>\n",
       "      <td>-0.151679</td>\n",
       "      <td>1.632358</td>\n",
       "      <td>0.560332</td>\n",
       "      <td>0.331650</td>\n",
       "      <td>-0.266786</td>\n",
       "      <td>...</td>\n",
       "      <td>-0.307233</td>\n",
       "      <td>-0.439691</td>\n",
       "      <td>0.958136</td>\n",
       "      <td>-0.152647</td>\n",
       "      <td>0.632145</td>\n",
       "      <td>-1.057025</td>\n",
       "      <td>1.615664</td>\n",
       "      <td>0.141522</td>\n",
       "      <td>-0.848891</td>\n",
       "      <td>-0.646939</td>\n",
       "    </tr>\n",
       "    <tr>\n",
       "      <th>7730</th>\n",
       "      <td>-0.47908</td>\n",
       "      <td>-1.180910</td>\n",
       "      <td>-0.552810</td>\n",
       "      <td>-1.432438</td>\n",
       "      <td>0.126032</td>\n",
       "      <td>-0.831287</td>\n",
       "      <td>-0.638860</td>\n",
       "      <td>-1.206822</td>\n",
       "      <td>-0.466898</td>\n",
       "      <td>-0.705911</td>\n",
       "      <td>...</td>\n",
       "      <td>-0.066262</td>\n",
       "      <td>-0.543927</td>\n",
       "      <td>-0.199708</td>\n",
       "      <td>-0.998945</td>\n",
       "      <td>-1.890633</td>\n",
       "      <td>0.978673</td>\n",
       "      <td>-1.240129</td>\n",
       "      <td>0.876332</td>\n",
       "      <td>-0.602539</td>\n",
       "      <td>-1.464050</td>\n",
       "    </tr>\n",
       "    <tr>\n",
       "      <th>8852</th>\n",
       "      <td>-0.47908</td>\n",
       "      <td>-0.676559</td>\n",
       "      <td>-1.248930</td>\n",
       "      <td>-1.478040</td>\n",
       "      <td>-0.154906</td>\n",
       "      <td>-0.985819</td>\n",
       "      <td>-0.689047</td>\n",
       "      <td>-0.663458</td>\n",
       "      <td>-1.042775</td>\n",
       "      <td>-0.754702</td>\n",
       "      <td>...</td>\n",
       "      <td>-0.703676</td>\n",
       "      <td>-0.277546</td>\n",
       "      <td>-0.352268</td>\n",
       "      <td>-1.556875</td>\n",
       "      <td>1.722345</td>\n",
       "      <td>0.844451</td>\n",
       "      <td>-0.968148</td>\n",
       "      <td>-0.367193</td>\n",
       "      <td>-1.357488</td>\n",
       "      <td>0.987281</td>\n",
       "    </tr>\n",
       "    <tr>\n",
       "      <th>...</th>\n",
       "      <td>...</td>\n",
       "      <td>...</td>\n",
       "      <td>...</td>\n",
       "      <td>...</td>\n",
       "      <td>...</td>\n",
       "      <td>...</td>\n",
       "      <td>...</td>\n",
       "      <td>...</td>\n",
       "      <td>...</td>\n",
       "      <td>...</td>\n",
       "      <td>...</td>\n",
       "      <td>...</td>\n",
       "      <td>...</td>\n",
       "      <td>...</td>\n",
       "      <td>...</td>\n",
       "      <td>...</td>\n",
       "      <td>...</td>\n",
       "      <td>...</td>\n",
       "      <td>...</td>\n",
       "      <td>...</td>\n",
       "      <td>...</td>\n",
       "    </tr>\n",
       "    <tr>\n",
       "      <th>11284</th>\n",
       "      <td>-0.47908</td>\n",
       "      <td>0.045721</td>\n",
       "      <td>0.160902</td>\n",
       "      <td>-0.433769</td>\n",
       "      <td>0.655963</td>\n",
       "      <td>0.365088</td>\n",
       "      <td>-0.074512</td>\n",
       "      <td>0.315574</td>\n",
       "      <td>0.175780</td>\n",
       "      <td>0.275344</td>\n",
       "      <td>...</td>\n",
       "      <td>0.484378</td>\n",
       "      <td>0.432251</td>\n",
       "      <td>-0.239053</td>\n",
       "      <td>0.405283</td>\n",
       "      <td>-0.683303</td>\n",
       "      <td>-0.139842</td>\n",
       "      <td>1.071703</td>\n",
       "      <td>0.141522</td>\n",
       "      <td>0.494125</td>\n",
       "      <td>0.987281</td>\n",
       "    </tr>\n",
       "    <tr>\n",
       "      <th>11964</th>\n",
       "      <td>-0.47908</td>\n",
       "      <td>0.437994</td>\n",
       "      <td>0.864561</td>\n",
       "      <td>0.756426</td>\n",
       "      <td>0.404512</td>\n",
       "      <td>0.215541</td>\n",
       "      <td>0.610694</td>\n",
       "      <td>0.212776</td>\n",
       "      <td>1.173197</td>\n",
       "      <td>0.058492</td>\n",
       "      <td>...</td>\n",
       "      <td>0.777882</td>\n",
       "      <td>0.399160</td>\n",
       "      <td>0.659441</td>\n",
       "      <td>1.859663</td>\n",
       "      <td>-0.813947</td>\n",
       "      <td>-0.922803</td>\n",
       "      <td>-0.832158</td>\n",
       "      <td>0.141522</td>\n",
       "      <td>1.702044</td>\n",
       "      <td>0.170171</td>\n",
       "    </tr>\n",
       "    <tr>\n",
       "      <th>5390</th>\n",
       "      <td>-0.47908</td>\n",
       "      <td>-0.869583</td>\n",
       "      <td>-1.145894</td>\n",
       "      <td>-0.976425</td>\n",
       "      <td>-0.695485</td>\n",
       "      <td>-1.080532</td>\n",
       "      <td>-0.507759</td>\n",
       "      <td>-1.299830</td>\n",
       "      <td>-0.860798</td>\n",
       "      <td>-0.592063</td>\n",
       "      <td>...</td>\n",
       "      <td>-0.236622</td>\n",
       "      <td>-0.792107</td>\n",
       "      <td>-0.502418</td>\n",
       "      <td>-1.594488</td>\n",
       "      <td>-0.084144</td>\n",
       "      <td>0.486526</td>\n",
       "      <td>-0.152208</td>\n",
       "      <td>2.063334</td>\n",
       "      <td>-1.595893</td>\n",
       "      <td>0.987281</td>\n",
       "    </tr>\n",
       "    <tr>\n",
       "      <th>860</th>\n",
       "      <td>-0.47908</td>\n",
       "      <td>0.064400</td>\n",
       "      <td>-1.181077</td>\n",
       "      <td>0.042309</td>\n",
       "      <td>-1.303390</td>\n",
       "      <td>-0.532193</td>\n",
       "      <td>-0.719774</td>\n",
       "      <td>0.119768</td>\n",
       "      <td>-0.774800</td>\n",
       "      <td>-0.836022</td>\n",
       "      <td>...</td>\n",
       "      <td>-0.662522</td>\n",
       "      <td>-0.489327</td>\n",
       "      <td>-0.020652</td>\n",
       "      <td>-1.005214</td>\n",
       "      <td>1.285364</td>\n",
       "      <td>-1.034654</td>\n",
       "      <td>-1.104138</td>\n",
       "      <td>0.141522</td>\n",
       "      <td>-1.866086</td>\n",
       "      <td>0.170171</td>\n",
       "    </tr>\n",
       "    <tr>\n",
       "      <th>15795</th>\n",
       "      <td>-0.47908</td>\n",
       "      <td>-0.226172</td>\n",
       "      <td>-0.635741</td>\n",
       "      <td>-0.205762</td>\n",
       "      <td>-0.455500</td>\n",
       "      <td>0.215541</td>\n",
       "      <td>-0.815027</td>\n",
       "      <td>-0.565555</td>\n",
       "      <td>0.093621</td>\n",
       "      <td>-0.212573</td>\n",
       "      <td>...</td>\n",
       "      <td>0.135682</td>\n",
       "      <td>-0.047565</td>\n",
       "      <td>-0.068828</td>\n",
       "      <td>-0.143243</td>\n",
       "      <td>0.422664</td>\n",
       "      <td>0.385860</td>\n",
       "      <td>-1.240129</td>\n",
       "      <td>0.141522</td>\n",
       "      <td>0.140490</td>\n",
       "      <td>-1.464050</td>\n",
       "    </tr>\n",
       "  </tbody>\n",
       "</table>\n",
       "<p>15788 rows × 26 columns</p>\n",
       "</div>"
      ],
      "text/plain": [
       "        lights        T1      RH_1        T2      RH_2        T3      RH_3  \\\n",
       "2133  -0.47908 -1.118645  1.316914 -0.520411  1.147399 -0.935970  1.550932   \n",
       "19730 -0.47908  2.415962  1.583299  2.530318  0.394449  2.458745  0.590209   \n",
       "3288  -0.47908  0.506486  1.048015  0.543620  0.533104 -0.151679  1.632358   \n",
       "7730  -0.47908 -1.180910 -0.552810 -1.432438  0.126032 -0.831287 -0.638860   \n",
       "8852  -0.47908 -0.676559 -1.248930 -1.478040 -0.154906 -0.985819 -0.689047   \n",
       "...        ...       ...       ...       ...       ...       ...       ...   \n",
       "11284 -0.47908  0.045721  0.160902 -0.433769  0.655963  0.365088 -0.074512   \n",
       "11964 -0.47908  0.437994  0.864561  0.756426  0.404512  0.215541  0.610694   \n",
       "5390  -0.47908 -0.869583 -1.145894 -0.976425 -0.695485 -1.080532 -0.507759   \n",
       "860   -0.47908  0.064400 -1.181077  0.042309 -1.303390 -0.532193 -0.719774   \n",
       "15795 -0.47908 -0.226172 -0.635741 -0.205762 -0.455500  0.215541 -0.815027   \n",
       "\n",
       "             T4      RH_4        T5  ...      RH_8        T9      RH_9  \\\n",
       "2133  -0.859265  1.767501 -1.128170  ...  1.352130 -1.151142  1.721736   \n",
       "19730  1.882026  1.511812  1.955947  ...  1.366295  1.843571  1.261649   \n",
       "3288   0.560332  0.331650 -0.266786  ... -0.307233 -0.439691  0.958136   \n",
       "7730  -1.206822 -0.466898 -0.705911  ... -0.066262 -0.543927 -0.199708   \n",
       "8852  -0.663458 -1.042775 -0.754702  ... -0.703676 -0.277546 -0.352268   \n",
       "...         ...       ...       ...  ...       ...       ...       ...   \n",
       "11284  0.315574  0.175780  0.275344  ...  0.484378  0.432251 -0.239053   \n",
       "11964  0.212776  1.173197  0.058492  ...  0.777882  0.399160  0.659441   \n",
       "5390  -1.299830 -0.860798 -0.592063  ... -0.236622 -0.792107 -0.502418   \n",
       "860    0.119768 -0.774800 -0.836022  ... -0.662522 -0.489327 -0.020652   \n",
       "15795 -0.565555  0.093621 -0.212573  ...  0.135682 -0.047565 -0.068828   \n",
       "\n",
       "          T_out  Press_mm_hg    RH_out  Windspeed  Visibility  Tdewpoint  \\\n",
       "2133   0.543199     0.861898  0.385860   1.411679   -1.257445   0.998749   \n",
       "19730  2.881489    -0.043599 -1.616282  -0.288198   -1.243314   2.282163   \n",
       "3288  -0.152647     0.632145 -1.057025   1.615664    0.141522  -0.848891   \n",
       "7730  -0.998945    -1.890633  0.978673  -1.240129    0.876332  -0.602539   \n",
       "8852  -1.556875     1.722345  0.844451  -0.968148   -0.367193  -1.357488   \n",
       "...         ...          ...       ...        ...         ...        ...   \n",
       "11284  0.405283    -0.683303 -0.139842   1.071703    0.141522   0.494125   \n",
       "11964  1.859663    -0.813947 -0.922803  -0.832158    0.141522   1.702044   \n",
       "5390  -1.594488    -0.084144  0.486526  -0.152208    2.063334  -1.595893   \n",
       "860   -1.005214     1.285364 -1.034654  -1.104138    0.141522  -1.866086   \n",
       "15795 -0.143243     0.422664  0.385860  -1.240129    0.141522   0.140490   \n",
       "\n",
       "        daytime  \n",
       "2133  -0.646939  \n",
       "19730  0.170171  \n",
       "3288  -0.646939  \n",
       "7730  -1.464050  \n",
       "8852   0.987281  \n",
       "...         ...  \n",
       "11284  0.987281  \n",
       "11964  0.170171  \n",
       "5390   0.987281  \n",
       "860    0.170171  \n",
       "15795 -1.464050  \n",
       "\n",
       "[15788 rows x 26 columns]"
      ]
     },
     "execution_count": 164,
     "metadata": {},
     "output_type": "execute_result"
    }
   ],
   "source": [
    "print(f\"Target={col_target}\")\n",
    "X_train,Y_train = xy_split(train_lin, target=col_target)\n",
    "X_test,Y_test = xy_split(test_lin, target=col_target)\n",
    "X_train"
   ]
  },
  {
   "cell_type": "code",
   "execution_count": 170,
   "metadata": {},
   "outputs": [],
   "source": [
    "n_cores = 4\n",
    "linreg = LinearRegression(normalize = True, n_jobs=n_cores)\n",
    "before = 0"
   ]
  },
  {
   "cell_type": "code",
   "execution_count": 171,
   "metadata": {},
   "outputs": [
    {
     "data": {
      "text/plain": [
       "LinearRegression(copy_X=True, fit_intercept=True, n_jobs=4, normalize=True)"
      ]
     },
     "execution_count": 171,
     "metadata": {},
     "output_type": "execute_result"
    }
   ],
   "source": [
    "linreg.fit(X_train,Y_train)"
   ]
  },
  {
   "cell_type": "code",
   "execution_count": 172,
   "metadata": {},
   "outputs": [
    {
     "name": "stdout",
     "output_type": "stream",
     "text": [
      "score:  0.18909460918856158\n"
     ]
    }
   ],
   "source": [
    "linreg.coef_\n",
    "score = linreg.score(X_test,Y_test)\n",
    "print(\"score: \",score)\n",
    "Y_lin_pred = linreg.predict(X_train)"
   ]
  },
  {
   "cell_type": "code",
   "execution_count": 173,
   "metadata": {},
   "outputs": [
    {
     "name": "stdout",
     "output_type": "stream",
     "text": [
      "Before:\n"
     ]
    },
    {
     "data": {
      "text/plain": [
       "0"
      ]
     },
     "metadata": {},
     "output_type": "display_data"
    },
    {
     "name": "stdout",
     "output_type": "stream",
     "text": [
      "Now:\n"
     ]
    },
    {
     "data": {
      "text/plain": [
       "{'RMS(train)': 0.9087037137466035,\n",
       " 'RMS(valid)': 0.8786597034721082,\n",
       " 'Model_Score=r²': [0.18400893109485406, 0.18909460918856158]}"
      ]
     },
     "metadata": {},
     "output_type": "display_data"
    }
   ],
   "source": [
    "print(\"Before:\")\n",
    "display(before)#\n",
    "print(\"Now:\")\n",
    "before = print_score(linreg, X_train, X_test, Y_train, Y_test)"
   ]
  },
  {
   "cell_type": "code",
   "execution_count": 294,
   "metadata": {},
   "outputs": [
    {
     "data": {
      "text/plain": [
       "{'RMS(train)': 0.9087037137466035,\n",
       " 'RMS(valid)': 0.8786597034721082,\n",
       " 'Model_Score=r²': [0.18400893109485406, 0.18909460918856158]}"
      ]
     },
     "metadata": {},
     "output_type": "display_data"
    }
   ],
   "source": [
    "# Save model + scores\n",
    "model_scores['linReg'] = print_score(linreg, X_train, X_test, Y_train, Y_test)\n",
    "models['linReg'] = linreg"
   ]
  },
  {
   "cell_type": "markdown",
   "metadata": {},
   "source": [
    "<a id='lasso'></a>"
   ]
  },
  {
   "cell_type": "markdown",
   "metadata": {},
   "source": [
    "# b) Lasso Regression"
   ]
  },
  {
   "cell_type": "code",
   "execution_count": 207,
   "metadata": {},
   "outputs": [],
   "source": [
    "n_cores = 4\n",
    "#lasso = Lasso(normalize = True)\n",
    "\n",
    "# OR\n",
    "# [1e-15,1e-10,1e-8,1e-3,1e-2,1,2,5,10,20,30,35,40,45,50,55,100]\n",
    "# [1e-15,1e-8,1e-2,1,5,10,20,40,50,100]\n",
    "parameters = {'alpha':[1e-10,1e-9,1e-8,1e-7,1e-6,1e-3,1e-2], 'max_iter':[100,1000,5000]}\n",
    "lasso = GridSearchCV(Lasso(normalize = False),parameters,scoring = 'neg_mean_squared_error',cv = 5, n_jobs=n_cores)"
   ]
  },
  {
   "cell_type": "code",
   "execution_count": 208,
   "metadata": {},
   "outputs": [
    {
     "name": "stderr",
     "output_type": "stream",
     "text": [
      "C:\\Dev\\Python3.7\\lib\\site-packages\\sklearn\\linear_model\\_coordinate_descent.py:476: ConvergenceWarning: Objective did not converge. You might want to increase the number of iterations. Duality gap: 1276.2233177032667, tolerance: 1.5976671963302387\n",
      "  positive)\n"
     ]
    },
    {
     "data": {
      "text/plain": [
       "GridSearchCV(cv=5, error_score=nan,\n",
       "             estimator=Lasso(alpha=1.0, copy_X=True, fit_intercept=True,\n",
       "                             max_iter=1000, normalize=False, positive=False,\n",
       "                             precompute=False, random_state=None,\n",
       "                             selection='cyclic', tol=0.0001, warm_start=False),\n",
       "             iid='deprecated', n_jobs=4,\n",
       "             param_grid={'alpha': [1e-10, 1e-09, 1e-08, 1e-07, 1e-06, 0.001,\n",
       "                                   0.01],\n",
       "                         'max_iter': [100, 1000, 5000]},\n",
       "             pre_dispatch='2*n_jobs', refit=True, return_train_score=False,\n",
       "             scoring='neg_mean_squared_error', verbose=0)"
      ]
     },
     "execution_count": 208,
     "metadata": {},
     "output_type": "execute_result"
    }
   ],
   "source": [
    "lasso.fit(X_train,Y_train)"
   ]
  },
  {
   "cell_type": "code",
   "execution_count": 209,
   "metadata": {},
   "outputs": [
    {
     "name": "stdout",
     "output_type": "stream",
     "text": [
      "{'alpha': 1e-06, 'max_iter': 1000}\n",
      "-0.8295106609330954\n"
     ]
    }
   ],
   "source": [
    "print(lasso.best_params_)\n",
    "print(lasso.best_score_)"
   ]
  },
  {
   "cell_type": "code",
   "execution_count": 197,
   "metadata": {},
   "outputs": [],
   "source": [
    "lassoBefore = lasso"
   ]
  },
  {
   "cell_type": "code",
   "execution_count": 201,
   "metadata": {},
   "outputs": [
    {
     "name": "stdout",
     "output_type": "stream",
     "text": [
      "{'alpha': 1e-08, 'max_iter': 1000}\n",
      "-0.8295106285999919\n"
     ]
    }
   ],
   "source": [
    "print(lassoBefore.best_params_)\n",
    "print(lassoBefore.best_score_)"
   ]
  },
  {
   "cell_type": "markdown",
   "metadata": {},
   "source": [
    "<a id='knn'></a>"
   ]
  },
  {
   "cell_type": "code",
   "execution_count": 210,
   "metadata": {},
   "outputs": [],
   "source": [
    "Y_lasso_pred = lasso.predict(X_test)"
   ]
  },
  {
   "cell_type": "code",
   "execution_count": 211,
   "metadata": {},
   "outputs": [
    {
     "name": "stdout",
     "output_type": "stream",
     "text": [
      "Before:\n"
     ]
    },
    {
     "data": {
      "text/plain": [
       "{'RMS(train)': 0.9087153490972371,\n",
       " 'RMS(valid)': 0.8786035610597236,\n",
       " 'Model_Score=r²': [-0.8257635856849135, -0.7719442175068274]}"
      ]
     },
     "metadata": {},
     "output_type": "display_data"
    },
    {
     "name": "stdout",
     "output_type": "stream",
     "text": [
      "Now:\n"
     ]
    },
    {
     "data": {
      "text/plain": [
       "{'RMS(train)': 0.9087037149058543,\n",
       " 'RMS(valid)': 0.8786590800795123,\n",
       " 'Model_Score=r²': [-0.8257424414837002, -0.7720417790061748]}"
      ]
     },
     "metadata": {},
     "output_type": "display_data"
    }
   ],
   "source": [
    "print(\"Before:\")\n",
    "display(before)#\n",
    "print(\"Now:\")\n",
    "before = print_score(lasso, X_train, X_test, Y_train, Y_test)"
   ]
  },
  {
   "cell_type": "code",
   "execution_count": 239,
   "metadata": {},
   "outputs": [
    {
     "data": {
      "text/plain": [
       "<matplotlib.axes._subplots.AxesSubplot at 0x23d44bcc608>"
      ]
     },
     "execution_count": 239,
     "metadata": {},
     "output_type": "execute_result"
    },
    {
     "data": {
      "image/png": "[encoded data removed]",
      "text/plain": [
       "<Figure size 432x288 with 1 Axes>"
      ]
     },
     "metadata": {
      "needs_background": "light"
     },
     "output_type": "display_data"
    }
   ],
   "source": [
    "sns.distplot(Y_test)\n",
    "sns.distplot(Y_lasso_pred, color='red')"
   ]
  },
  {
   "cell_type": "code",
   "execution_count": 240,
   "metadata": {},
   "outputs": [
    {
     "data": {
      "text/plain": [
       "<matplotlib.axes._subplots.AxesSubplot at 0x23d4436cf48>"
      ]
     },
     "execution_count": 240,
     "metadata": {},
     "output_type": "execute_result"
    },
    {
     "data": {
      "image/png": "[encoded data removed]",
      "text/plain": [
       "<Figure size 432x288 with 1 Axes>"
      ]
     },
     "metadata": {
      "needs_background": "light"
     },
     "output_type": "display_data"
    }
   ],
   "source": [
    "sns.distplot(Y_test)\n",
    "sns.distplot(Y_lin_pred, color='red')"
   ]
  },
  {
   "cell_type": "code",
   "execution_count": 307,
   "metadata": {},
   "outputs": [
    {
     "data": {
      "text/plain": [
       "{'RMS(train)': 0.9087037149058543,\n",
       " 'RMS(valid)': 0.8786590800795123,\n",
       " 'Model_Score=r²': [-0.8257424414837002, -0.7720417790061748]}"
      ]
     },
     "metadata": {},
     "output_type": "display_data"
    }
   ],
   "source": [
    "# Save model scores\n",
    "model_scores['lassoReg'] = print_score(lasso, X_train, X_test, Y_train, Y_test)\n",
    "models['lassoReg'] = lasso"
   ]
  },
  {
   "cell_type": "markdown",
   "metadata": {},
   "source": [
    "# c) kNN"
   ]
  },
  {
   "cell_type": "code",
   "execution_count": null,
   "metadata": {},
   "outputs": [],
   "source": [
    "#Scaler\n",
    "from sklearn.preprocessing import MinMaxScaler\n",
    "\n",
    "scaler = MinMaxScaler(feature_range=(0,1))\n",
    "\n",
    "x_train_knn_scaled = scaler.fit_transform(x_train_knn)\n",
    "x_train_knn = pd.DataFrame(x_train_knn_scaled)\n",
    "\n",
    "x_test_knn_scaled = scaler.fit_transform(x_test_knn)\n",
    "x_test_knn = pd.DataFrame(x_test_knn_scaled)"
   ]
  },
  {
   "cell_type": "code",
   "execution_count": 213,
   "metadata": {},
   "outputs": [],
   "source": [
    "from sklearn import neighbors\n",
    "from sklearn.metrics import mean_squared_error\n",
    "from math import sqrt"
   ]
  },
  {
   "cell_type": "code",
   "execution_count": 219,
   "metadata": {},
   "outputs": [
    {
     "name": "stdout",
     "output_type": "stream",
     "text": [
      "RMSE for k=1: 0.7750504757876165\n",
      "R^2 for k=1: 0.3690590099405202\n",
      "\n",
      "RMSE for k=2: 0.6810975848992705\n",
      "R^2 for k=2: 0.5127549349384373\n",
      "\n",
      "RMSE for k=3: 0.6961818951705877\n",
      "R^2 for k=3: 0.4909338518765567\n",
      "\n",
      "RMSE for k=4: 0.7090499725257687\n",
      "R^2 for k=4: 0.4719409894882749\n",
      "\n",
      "RMSE for k=5: 0.7206794467192987\n",
      "R^2 for k=5: 0.4544770305538317\n",
      "\n",
      "RMSE for k=6: 0.7373938622928405\n",
      "R^2 for k=6: 0.42887942606687335\n",
      "\n",
      "RMSE for k=7: 0.7476004046879872\n",
      "R^2 for k=7: 0.41295982467269743\n",
      "\n",
      "RMSE for k=8: 0.7525580568099407\n",
      "R^2 for k=8: 0.40514818947578113\n",
      "\n",
      "RMSE for k=9: 0.7589952273493286\n",
      "R^2 for k=9: 0.394928275393588\n",
      "\n",
      "RMSE for k=10: 0.765730353219981\n",
      "R^2 for k=10: 0.38414213244616435\n",
      "\n",
      "RMSE for k=11: 0.7708721163089018\n",
      "R^2 for k=11: 0.37584357972124915\n",
      "\n",
      "RMSE for k=12: 0.7719759106458312\n",
      "R^2 for k=12: 0.3740548691257992\n",
      "\n",
      "RMSE for k=13: 0.7745481147962251\n",
      "R^2 for k=13: 0.3698766532550077\n",
      "\n",
      "RMSE for k=14: 0.7774680554977237\n",
      "R^2 for k=14: 0.36511673995622473\n",
      "\n",
      "RMSE for k=15: 0.7794987344299574\n",
      "R^2 for k=15: 0.36179588902700555\n",
      "\n",
      "RMSE for k=16: 0.7816465724943523\n",
      "R^2 for k=16: 0.35827401651346336\n",
      "\n",
      "RMSE for k=17: 0.7849995981831246\n",
      "R^2 for k=17: 0.352756589831675\n",
      "\n",
      "RMSE for k=18: 0.7869547605052911\n",
      "R^2 for k=18: 0.3495284560833293\n",
      "\n",
      "RMSE for k=19: 0.7888834232859899\n",
      "R^2 for k=19: 0.3463362076121719\n",
      "\n",
      "RMSE for k=20: 0.7920326409615229\n",
      "R^2 for k=20: 0.34110694730191504\n",
      "\n",
      "RMSE for k=21: 0.7937388776112188\n",
      "R^2 for k=21: 0.338265048242977\n",
      "\n",
      "RMSE for k=22: 0.7964829623176832\n",
      "R^2 for k=22: 0.3336816879752821\n",
      "\n",
      "RMSE for k=23: 0.7987010094617191\n",
      "R^2 for k=23: 0.3299653917990121\n",
      "\n",
      "RMSE for k=24: 0.8014503295300234\n",
      "R^2 for k=24: 0.32534461352114785\n",
      "\n",
      "RMSE for k=25: 0.8040564265576994\n",
      "R^2 for k=25: 0.32094989072099245\n",
      "\n"
     ]
    }
   ],
   "source": [
    "n_cores = 4\n",
    "rmse_val_knn = [] # to store rmse values for different k\n",
    "kmax = 25\n",
    "ks = [k for k in range(1,kmax+1)]\n",
    "besterror = 1\n",
    "for k in ks:\n",
    "    model = neighbors.KNeighborsRegressor(n_neighbors=k, n_jobs=n_cores)\n",
    "    model.fit(X_train,Y_train)\n",
    "    pred = model.predict(X_test)\n",
    "    error = sqrt(mean_squared_error(Y_test, pred))\n",
    "    rmse_val_knn.append(error)\n",
    "    print(\"RMSE for k={}: {}\".format(k, error))\n",
    "    print(\"R^2 for k={}: {}\\n\".format(k, model.score(X_test, Y_test)))\n",
    "    if error < besterror:\n",
    "        besterror = error\n",
    "        bestmodel = model\n",
    "kNN = bestmodel"
   ]
  },
  {
   "cell_type": "code",
   "execution_count": 220,
   "metadata": {},
   "outputs": [
    {
     "data": {
      "text/plain": [
       "Text(0, 0.5, 'RMSE')"
      ]
     },
     "execution_count": 220,
     "metadata": {},
     "output_type": "execute_result"
    },
    {
     "data": {
      "image/png": "[encoded data removed]",
      "text/plain": [
       "<Figure size 1440x720 with 1 Axes>"
      ]
     },
     "metadata": {
      "needs_background": "light"
     },
     "output_type": "display_data"
    }
   ],
   "source": [
    "plt.figure(figsize=(20,10))\n",
    "plt.plot(ks, rmse_val_knn, color='blue', linestyle='dashed', marker='o',\n",
    "        markerfacecolor='red', markersize=5)\n",
    "plt.title('RMSE vs. k-Value')\n",
    "plt.xlabel('k')\n",
    "plt.ylabel('RMSE')"
   ]
  },
  {
   "cell_type": "code",
   "execution_count": 223,
   "metadata": {},
   "outputs": [
    {
     "name": "stdout",
     "output_type": "stream",
     "text": [
      "Before:\n"
     ]
    },
    {
     "data": {
      "text/plain": [
       "{'RMS(train)': 0.4013290057505499,\n",
       " 'RMS(valid)': 0.6810975848992705,\n",
       " 'Model_Score=r²': [0.8408370801048636, 0.5127549349384373]}"
      ]
     },
     "metadata": {},
     "output_type": "display_data"
    },
    {
     "name": "stdout",
     "output_type": "stream",
     "text": [
      "Now:\n"
     ]
    },
    {
     "data": {
      "text/plain": [
       "{'RMS(train)': 0.4013290057505499,\n",
       " 'RMS(valid)': 0.6810975848992705,\n",
       " 'Model_Score=r²': [0.8408370801048636, 0.5127549349384373]}"
      ]
     },
     "metadata": {},
     "output_type": "display_data"
    }
   ],
   "source": [
    "print(\"Before:\")\n",
    "display(before)#\n",
    "print(\"Now:\")\n",
    "before = print_score(kNN, X_train, X_test, Y_train, Y_test)"
   ]
  },
  {
   "cell_type": "markdown",
   "metadata": {},
   "source": [
    "## Optimizing kNN-search for optimal k-Value via Gridsearch"
   ]
  },
  {
   "cell_type": "code",
   "execution_count": 241,
   "metadata": {},
   "outputs": [
    {
     "data": {
      "text/plain": [
       "GridSearchCV(cv=5, error_score=nan,\n",
       "             estimator=KNeighborsRegressor(algorithm='auto', leaf_size=30,\n",
       "                                           metric='minkowski',\n",
       "                                           metric_params=None, n_jobs=None,\n",
       "                                           n_neighbors=5, p=2,\n",
       "                                           weights='uniform'),\n",
       "             iid='deprecated', n_jobs=4,\n",
       "             param_grid={'leaf_size': [25, 26, 27, 28, 29, 30, 31, 32, 33, 34,\n",
       "                                       35],\n",
       "                         'n_neighbors': [1, 2, 3, 4, 5, 6, 7, 8, 9, 10],\n",
       "                         'p': [1, 2, 3]},\n",
       "             pre_dispatch='2*n_jobs', refit=True, return_train_score=False,\n",
       "             scoring=None, verbose=0)"
      ]
     },
     "execution_count": 241,
     "metadata": {},
     "output_type": "execute_result"
    }
   ],
   "source": [
    "n_cores = 4\n",
    "#List Hyperparameters that we want to tune.\n",
    "leaf_size = list(range(25,36))\n",
    "ps=[1,2,3]#Convert to dictionary\n",
    "params = {'leaf_size': leaf_size, 'n_neighbors': ks[0:10], 'p':[1,2,3]}\n",
    "\n",
    "kNN_grid = GridSearchCV(neighbors.KNeighborsRegressor(), params, cv=5, n_jobs=n_cores)\n",
    "kNN_grid.fit(X_train, Y_train)"
   ]
  },
  {
   "cell_type": "code",
   "execution_count": 242,
   "metadata": {},
   "outputs": [
    {
     "name": "stdout",
     "output_type": "stream",
     "text": [
      "kNN_grid:  {'leaf_size': 25, 'n_neighbors': 2, 'p': 1}\n"
     ]
    },
    {
     "data": {
      "text/plain": [
       "{'RMS(train)': 0.37975841014186423,\n",
       " 'RMS(valid)': 0.6328373317422523,\n",
       " 'Model_Score=r²': [0.8574866330741507, 0.5793576936279197]}"
      ]
     },
     "metadata": {},
     "output_type": "display_data"
    },
    {
     "name": "stdout",
     "output_type": "stream",
     "text": [
      "\n",
      "vs\n",
      "\n",
      "kNN:  {'algorithm': 'auto', 'leaf_size': 30, 'metric': 'minkowski', 'metric_params': None, 'n_jobs': 4, 'n_neighbors': 2, 'p': 2, 'weights': 'uniform'}\n"
     ]
    },
    {
     "data": {
      "text/plain": [
       "{'RMS(train)': 0.4013290057505499,\n",
       " 'RMS(valid)': 0.6810975848992705,\n",
       " 'Model_Score=r²': [0.8408370801048636, 0.5127549349384373]}"
      ]
     },
     "metadata": {},
     "output_type": "display_data"
    }
   ],
   "source": [
    "print(\"kNN_grid: \", kNN_grid.best_params_)\n",
    "print_score(kNN_grid, X_train, X_test, Y_train, Y_test)\n",
    "\n",
    "print(\"\\nvs\\n\")\n",
    "\n",
    "print(\"kNN: \", kNN.get_params())\n",
    "print_score(kNN, X_train, X_test, Y_train, Y_test)"
   ]
  },
  {
   "cell_type": "code",
   "execution_count": 247,
   "metadata": {},
   "outputs": [
    {
     "data": {
      "text/plain": [
       "<matplotlib.axes._subplots.AxesSubplot at 0x23d448d6cc8>"
      ]
     },
     "execution_count": 247,
     "metadata": {},
     "output_type": "execute_result"
    },
    {
     "data": {
      "image/png": "[encoded data removed]",
      "text/plain": [
       "<Figure size 432x288 with 1 Axes>"
      ]
     },
     "metadata": {
      "needs_background": "light"
     },
     "output_type": "display_data"
    }
   ],
   "source": [
    "#model_cv = neighbors.KNeighborsRegressor(n_neighbors=model.best_params_['n_neighbors'])\n",
    "#model_cv.fit(x_train_knn, y_train_knn)\n",
    "pred_cv = kNN_grid.predict(X_test)\n",
    "pred_kNN = kNN.predict(X_test)\n",
    "sns.distplot(Y_test, color='blue')\n",
    "sns.distplot(pred_cv, color='red')\n",
    "#sns.distplot(pred_kNN, color='green')"
   ]
  },
  {
   "cell_type": "code",
   "execution_count": 251,
   "metadata": {},
   "outputs": [
    {
     "data": {
      "text/plain": [
       "<matplotlib.axes._subplots.AxesSubplot at 0x23d4481a148>"
      ]
     },
     "execution_count": 251,
     "metadata": {},
     "output_type": "execute_result"
    },
    {
     "data": {
      "image/png": "[encoded data removed]",
      "text/plain": [
       "<Figure size 432x288 with 1 Axes>"
      ]
     },
     "metadata": {
      "needs_background": "light"
     },
     "output_type": "display_data"
    }
   ],
   "source": [
    "sns.distplot(Y_test, color='blue')\n",
    "sns.distplot(pred_kNN, color='red')"
   ]
  },
  {
   "cell_type": "code",
   "execution_count": 306,
   "metadata": {},
   "outputs": [
    {
     "data": {
      "text/plain": [
       "{'RMS(train)': 0.37975841014186423,\n",
       " 'RMS(valid)': 0.6328373317422523,\n",
       " 'Model_Score=r²': [0.8574866330741507, 0.5793576936279197]}"
      ]
     },
     "metadata": {},
     "output_type": "display_data"
    },
    {
     "data": {
      "text/plain": [
       "{'RMS(train)': 0.4013290057505499,\n",
       " 'RMS(valid)': 0.6810975848992705,\n",
       " 'Model_Score=r²': [0.8408370801048636, 0.5127549349384373]}"
      ]
     },
     "metadata": {},
     "output_type": "display_data"
    }
   ],
   "source": [
    "# Save models + scores\n",
    "kNN_dict = dict()\n",
    "kNN_dict['grid'] = print_score(kNN_grid, X_train, X_test, Y_train, Y_test)\n",
    "kNN_dict['p2_k2'] = print_score(kNN, X_train, X_test, Y_train, Y_test)\n",
    "model_scores['kNN'] = kNN_dict\n",
    "\n",
    "kNN_models = dict()\n",
    "kNN_models['grid'] = kNN_grid\n",
    "kNN_models['p2_k2'] = kNN\n",
    "models['kNN'] = kNN_models"
   ]
  },
  {
   "cell_type": "markdown",
   "metadata": {},
   "source": [
    "<a id='rf'></a>"
   ]
  },
  {
   "cell_type": "markdown",
   "metadata": {},
   "source": [
    "# d) Random Forest"
   ]
  },
  {
   "cell_type": "code",
   "execution_count": 27,
   "metadata": {},
   "outputs": [],
   "source": [
    "before = 0"
   ]
  },
  {
   "cell_type": "code",
   "execution_count": 252,
   "metadata": {},
   "outputs": [
    {
     "name": "stdout",
     "output_type": "stream",
     "text": [
      "26\n"
     ]
    },
    {
     "data": {
      "text/plain": [
       "5"
      ]
     },
     "execution_count": 252,
     "metadata": {},
     "output_type": "execute_result"
    }
   ],
   "source": [
    "from numpy import sqrt\n",
    "num_features = X_train.shape[1]\n",
    "print(num_features)\n",
    "sqrt_num_features = int(round(sqrt(num_features), 0))\n",
    "sqrt_num_features"
   ]
  },
  {
   "cell_type": "code",
   "execution_count": 253,
   "metadata": {},
   "outputs": [
    {
     "name": "stderr",
     "output_type": "stream",
     "text": [
      "[Parallel(n_jobs=4)]: Using backend ThreadingBackend with 4 concurrent workers.\n",
      "[Parallel(n_jobs=4)]: Done  42 tasks      | elapsed:    1.8s\n",
      "[Parallel(n_jobs=4)]: Done 192 tasks      | elapsed:    7.5s\n",
      "[Parallel(n_jobs=4)]: Done 442 tasks      | elapsed:   17.1s\n",
      "[Parallel(n_jobs=4)]: Done 500 out of 500 | elapsed:   19.4s finished\n"
     ]
    },
    {
     "name": "stdout",
     "output_type": "stream",
     "text": [
      "Before:\n"
     ]
    },
    {
     "data": {
      "text/plain": [
       "{'RMS(train)': 0.4013290057505499,\n",
       " 'RMS(valid)': 0.6810975848992705,\n",
       " 'Model_Score=r²': [0.8408370801048636, 0.5127549349384373]}"
      ]
     },
     "metadata": {},
     "output_type": "display_data"
    },
    {
     "name": "stdout",
     "output_type": "stream",
     "text": [
      "Now:\n"
     ]
    },
    {
     "name": "stderr",
     "output_type": "stream",
     "text": [
      "[Parallel(n_jobs=4)]: Using backend ThreadingBackend with 4 concurrent workers.\n",
      "[Parallel(n_jobs=4)]: Done  42 tasks      | elapsed:    0.0s\n",
      "[Parallel(n_jobs=4)]: Done 192 tasks      | elapsed:    0.1s\n",
      "[Parallel(n_jobs=4)]: Done 442 tasks      | elapsed:    0.4s\n",
      "[Parallel(n_jobs=4)]: Done 500 out of 500 | elapsed:    0.5s finished\n",
      "[Parallel(n_jobs=4)]: Using backend ThreadingBackend with 4 concurrent workers.\n",
      "[Parallel(n_jobs=4)]: Done  42 tasks      | elapsed:    0.0s\n",
      "[Parallel(n_jobs=4)]: Done 192 tasks      | elapsed:    0.0s\n",
      "[Parallel(n_jobs=4)]: Done 442 tasks      | elapsed:    0.0s\n",
      "[Parallel(n_jobs=4)]: Done 500 out of 500 | elapsed:    0.1s finished\n",
      "[Parallel(n_jobs=4)]: Using backend ThreadingBackend with 4 concurrent workers.\n",
      "[Parallel(n_jobs=4)]: Done  42 tasks      | elapsed:    0.0s\n",
      "[Parallel(n_jobs=4)]: Done 192 tasks      | elapsed:    0.1s\n",
      "[Parallel(n_jobs=4)]: Done 442 tasks      | elapsed:    0.4s\n",
      "[Parallel(n_jobs=4)]: Done 500 out of 500 | elapsed:    0.5s finished\n",
      "[Parallel(n_jobs=4)]: Using backend ThreadingBackend with 4 concurrent workers.\n",
      "[Parallel(n_jobs=4)]: Done  42 tasks      | elapsed:    0.0s\n",
      "[Parallel(n_jobs=4)]: Done 192 tasks      | elapsed:    0.0s\n",
      "[Parallel(n_jobs=4)]: Done 442 tasks      | elapsed:    0.1s\n",
      "[Parallel(n_jobs=4)]: Done 500 out of 500 | elapsed:    0.1s finished\n"
     ]
    },
    {
     "data": {
      "text/plain": [
       "{'RMS(train)': 0.24234472177785257,\n",
       " 'RMS(valid)': 0.634847990147397,\n",
       " 'Model_Score=r²': [0.9419626024429625, 0.5766805077588015],\n",
       " 'oob_score_': 0.5711712284539638}"
      ]
     },
     "metadata": {},
     "output_type": "display_data"
    }
   ],
   "source": [
    "# Simple training of RFRegressor\n",
    "n_cores = 4\n",
    "rf = RandomForestRegressor(n_jobs=n_cores, n_estimators=500, max_features=0.5, min_samples_leaf=1, oob_score=True, verbose=1)\n",
    "# The following code is supposed to fail due to string values in the input data\n",
    "rf.fit(X_train, Y_train)\n",
    "print(\"Before:\")\n",
    "display(before)#\n",
    "print(\"Now:\")\n",
    "before = print_score(rf, X_train, X_test, Y_train, Y_test)"
   ]
  },
  {
   "cell_type": "code",
   "execution_count": 262,
   "metadata": {},
   "outputs": [
    {
     "data": {
      "text/plain": [
       "RandomForestRegressor(bootstrap=True, ccp_alpha=0.0, criterion='mse',\n",
       "                      max_depth=None, max_features=0.5, max_leaf_nodes=None,\n",
       "                      max_samples=None, min_impurity_decrease=0.0,\n",
       "                      min_impurity_split=None, min_samples_leaf=1,\n",
       "                      min_samples_split=2, min_weight_fraction_leaf=0.0,\n",
       "                      n_estimators=500, n_jobs=4, oob_score=True,\n",
       "                      random_state=None, verbose=1, warm_start=False)"
      ]
     },
     "execution_count": 262,
     "metadata": {},
     "output_type": "execute_result"
    }
   ],
   "source": [
    "rf"
   ]
  },
  {
   "cell_type": "code",
   "execution_count": 266,
   "metadata": {},
   "outputs": [
    {
     "name": "stdout",
     "output_type": "stream",
     "text": [
      "lights: 0.03824\t\t...  energy use of light fixtures in the house in Wh\n",
      "T1: 0.03169\t\t... Temperature in kitchen area: in Celsius\n",
      "RH_1: 0.04566\t\t...  Humidity in kitchen area: in %\n",
      "T2: 0.03723\t\t... Temperature in living room area: in Celsius\n",
      "RH_2: 0.04093\t\t...  Humidity in living room area: in %\n",
      "T3: 0.05141\t\t... Temperature in laundry room area\n",
      "RH_3: 0.04381\t\t... Humidity in laundry room area: in %\n",
      "T4: 0.03360\t\t... Temperature in office room: in Celsius\n",
      "RH_4: 0.03603\t\t... Humidity in office room: in %\n",
      "T5: 0.02942\t\t... Temperature in bathroom in Celsius\n",
      "RH_5: 0.04743\t\t... Humidity in bathroom in %\n",
      "T6: 0.03401\t\t... Temperature outside the building (north side: in Celsius\n",
      "RH_6: 0.03457\t\t... Humidity outside the building (north side): in %\n",
      "T7: 0.03295\t\t... Temperature in ironing room: in Celsius\n",
      "RH_7: 0.03564\t\t... Humidity in ironing room in %\n",
      "T8: 0.03983\t\t... Temperature in teenager room 2 in Celsius\n",
      "RH_8: 0.04130\t\t...  Humidity in teenager room 2 in %\n",
      "T9: 0.03126\t\t... Temperature in parents room in Celsius\n",
      "RH_9: 0.03969\t\t... Humidity in parents room: in %\n",
      "T_out: 0.03094\t\t... Temperature outside (from Chievres weather station): in Celsius\n",
      "Press_mm_hg: 0.04318\t\t... from Chievres weather station) in mm Hg\n",
      "RH_out: 0.03944\t\t... Humidity outside (from Chievres weather station): in %\n",
      "Windspeed: 0.02868\t\t... (from Chievres weather station) in m/s\n",
      "Visibility: 0.02117\t\t... (from Chievres weather station) in km\n",
      "Tdewpoint: 0.03713\t\t... (from Chievres weather station) °C\n",
      "daytime: 0.07475\t\t... time of the day (extracted from date), as integer: (0...morning, 1...midday, 2...afternoon, 3...night)\n",
      "+-------------+--------+--------------------------------------------------------------------------------------------------------+\n",
      "|   Feature   | Score  |                                                Comment                                                 |\n",
      "+-------------+--------+--------------------------------------------------------------------------------------------------------+\n",
      "|    lights   | 0.0382 |                             energy use of light fixtures in the house in Wh                            |\n",
      "|      T1     | 0.0317 |                                Temperature in kitchen area: in Celsius                                 |\n",
      "|     RH_1    | 0.0457 |                                     Humidity in kitchen area: in %                                     |\n",
      "|      T2     | 0.0372 |                              Temperature in living room area: in Celsius                               |\n",
      "|     RH_2    | 0.0409 |                                   Humidity in living room area: in %                                   |\n",
      "|      T3     | 0.0514 |                                    Temperature in laundry room area                                    |\n",
      "|     RH_3    | 0.0438 |                                  Humidity in laundry room area: in %                                   |\n",
      "|      T4     | 0.0336 |                                 Temperature in office room: in Celsius                                 |\n",
      "|     RH_4    | 0.036  |                                     Humidity in office room: in %                                      |\n",
      "|      T5     | 0.0294 |                                   Temperature in bathroom in Celsius                                   |\n",
      "|     RH_5    | 0.0474 |                                       Humidity in bathroom in %                                        |\n",
      "|      T6     | 0.034  |                        Temperature outside the building (north side: in Celsius                        |\n",
      "|     RH_6    | 0.0346 |                            Humidity outside the building (north side): in %                            |\n",
      "|      T7     | 0.0329 |                                Temperature in ironing room: in Celsius                                 |\n",
      "|     RH_7    | 0.0356 |                                     Humidity in ironing room in %                                      |\n",
      "|      T8     | 0.0398 |                               Temperature in teenager room 2 in Celsius                                |\n",
      "|     RH_8    | 0.0413 |                                    Humidity in teenager room 2 in %                                    |\n",
      "|      T9     | 0.0313 |                                 Temperature in parents room in Celsius                                 |\n",
      "|     RH_9    | 0.0397 |                                     Humidity in parents room: in %                                     |\n",
      "|    T_out    | 0.0309 |                    Temperature outside (from Chievres weather station): in Celsius                     |\n",
      "| Press_mm_hg | 0.0432 |                                from Chievres weather station) in mm Hg                                 |\n",
      "|    RH_out   | 0.0394 |                         Humidity outside (from Chievres weather station): in %                         |\n",
      "|  Windspeed  | 0.0287 |                                 (from Chievres weather station) in m/s                                 |\n",
      "|  Visibility | 0.0212 |                                 (from Chievres weather station) in km                                  |\n",
      "|  Tdewpoint  | 0.0371 |                                   (from Chievres weather station) °C                                   |\n",
      "|   daytime   | 0.0747 | time of the day (extracted from date), as integer: (0...morning, 1...midday, 2...afternoon, 3...night) |\n",
      "+-------------+--------+--------------------------------------------------------------------------------------------------------+\n",
      "sum = 1.0\n"
     ]
    }
   ],
   "source": [
    "print_RF_featureImportance(rf, X_train)"
   ]
  },
  {
   "cell_type": "code",
   "execution_count": 268,
   "metadata": {},
   "outputs": [
    {
     "name": "stderr",
     "output_type": "stream",
     "text": [
      "[Parallel(n_jobs=4)]: Using backend ThreadingBackend with 4 concurrent workers.\n",
      "[Parallel(n_jobs=4)]: Done  42 tasks      | elapsed:    0.0s\n",
      "[Parallel(n_jobs=4)]: Done 192 tasks      | elapsed:    0.2s\n",
      "[Parallel(n_jobs=4)]: Done 442 tasks      | elapsed:    0.4s\n",
      "[Parallel(n_jobs=4)]: Done 500 out of 500 | elapsed:    0.5s finished\n"
     ]
    },
    {
     "data": {
      "text/plain": [
       "<matplotlib.axes._subplots.AxesSubplot at 0x23d46853388>"
      ]
     },
     "execution_count": 268,
     "metadata": {},
     "output_type": "execute_result"
    },
    {
     "data": {
      "image/png": "[encoded data removed]",
      "text/plain": [
       "<Figure size 432x288 with 1 Axes>"
      ]
     },
     "metadata": {
      "needs_background": "light"
     },
     "output_type": "display_data"
    }
   ],
   "source": [
    "rf_prediction = rf.predict(X_train)\n",
    "sns.distplot(Y_train)\n",
    "sns.distplot(rf_prediction, color='red')"
   ]
  },
  {
   "cell_type": "code",
   "execution_count": 269,
   "metadata": {},
   "outputs": [
    {
     "name": "stderr",
     "output_type": "stream",
     "text": [
      "[Parallel(n_jobs=4)]: Using backend ThreadingBackend with 4 concurrent workers.\n",
      "[Parallel(n_jobs=4)]: Done  42 tasks      | elapsed:    0.0s\n",
      "[Parallel(n_jobs=4)]: Done 192 tasks      | elapsed:    0.0s\n",
      "[Parallel(n_jobs=4)]: Done 442 tasks      | elapsed:    0.1s\n",
      "[Parallel(n_jobs=4)]: Done 500 out of 500 | elapsed:    0.1s finished\n"
     ]
    },
    {
     "data": {
      "text/plain": [
       "<matplotlib.axes._subplots.AxesSubplot at 0x23d4a1aec08>"
      ]
     },
     "execution_count": 269,
     "metadata": {},
     "output_type": "execute_result"
    },
    {
     "data": {
      "image/png": "[encoded data removed]",
      "text/plain": [
       "<Figure size 432x288 with 1 Axes>"
      ]
     },
     "metadata": {
      "needs_background": "light"
     },
     "output_type": "display_data"
    }
   ],
   "source": [
    "rf_prediction = rf.predict(X_test)\n",
    "sns.distplot(Y_test)\n",
    "sns.distplot(rf_prediction, color='red')"
   ]
  },
  {
   "cell_type": "code",
   "execution_count": 270,
   "metadata": {},
   "outputs": [
    {
     "name": "stdout",
     "output_type": "stream",
     "text": [
      "Before:\n"
     ]
    },
    {
     "data": {
      "text/plain": [
       "{'RMS(train)': 0.24234472177785257,\n",
       " 'RMS(valid)': 0.634847990147397,\n",
       " 'Model_Score=r²': [0.9419626024429625, 0.5766805077588015],\n",
       " 'oob_score_': 0.5711712284539638}"
      ]
     },
     "metadata": {},
     "output_type": "display_data"
    },
    {
     "name": "stdout",
     "output_type": "stream",
     "text": [
      "Now:\n"
     ]
    },
    {
     "data": {
      "text/plain": [
       "{'RMS(train)': 0.24667451638440588,\n",
       " 'RMS(valid)': 0.6539606167845974,\n",
       " 'Model_Score=r²': [0.9398702538594266, 0.5508080568097795]}"
      ]
     },
     "metadata": {},
     "output_type": "display_data"
    },
    {
     "name": "stdout",
     "output_type": "stream",
     "text": [
      "\n",
      "Feature importance\n",
      "lights: 0.03937\t\t...  energy use of light fixtures in the house in Wh\n",
      "T1: 0.02823\t\t... Temperature in kitchen area: in Celsius\n",
      "RH_1: 0.04160\t\t...  Humidity in kitchen area: in %\n",
      "T2: 0.03243\t\t... Temperature in living room area: in Celsius\n",
      "RH_2: 0.03982\t\t...  Humidity in living room area: in %\n",
      "T3: 0.06289\t\t... Temperature in laundry room area\n",
      "RH_3: 0.04511\t\t... Humidity in laundry room area: in %\n",
      "T4: 0.02988\t\t... Temperature in office room: in Celsius\n",
      "RH_4: 0.03344\t\t... Humidity in office room: in %\n",
      "T5: 0.03064\t\t... Temperature in bathroom in Celsius\n",
      "RH_5: 0.04745\t\t... Humidity in bathroom in %\n",
      "T6: 0.03285\t\t... Temperature outside the building (north side: in Celsius\n",
      "RH_6: 0.03374\t\t... Humidity outside the building (north side): in %\n",
      "T7: 0.03307\t\t... Temperature in ironing room: in Celsius\n",
      "RH_7: 0.03210\t\t... Humidity in ironing room in %\n",
      "T8: 0.03703\t\t... Temperature in teenager room 2 in Celsius\n",
      "RH_8: 0.03869\t\t...  Humidity in teenager room 2 in %\n",
      "T9: 0.03426\t\t... Temperature in parents room in Celsius\n",
      "RH_9: 0.04004\t\t... Humidity in parents room: in %\n",
      "T_out: 0.02912\t\t... Temperature outside (from Chievres weather station): in Celsius\n",
      "Press_mm_hg: 0.04282\t\t... from Chievres weather station) in mm Hg\n",
      "RH_out: 0.03754\t\t... Humidity outside (from Chievres weather station): in %\n",
      "Windspeed: 0.03112\t\t... (from Chievres weather station) in m/s\n",
      "Visibility: 0.02250\t\t... (from Chievres weather station) in km\n",
      "Tdewpoint: 0.03616\t\t... (from Chievres weather station) °C\n",
      "daytime: 0.08808\t\t... time of the day (extracted from date), as integer: (0...morning, 1...midday, 2...afternoon, 3...night)\n",
      "+-------------+--------+--------------------------------------------------------------------------------------------------------+\n",
      "|   Feature   | Score  |                                                Comment                                                 |\n",
      "+-------------+--------+--------------------------------------------------------------------------------------------------------+\n",
      "|    lights   | 0.0394 |                             energy use of light fixtures in the house in Wh                            |\n",
      "|      T1     | 0.0282 |                                Temperature in kitchen area: in Celsius                                 |\n",
      "|     RH_1    | 0.0416 |                                     Humidity in kitchen area: in %                                     |\n",
      "|      T2     | 0.0324 |                              Temperature in living room area: in Celsius                               |\n",
      "|     RH_2    | 0.0398 |                                   Humidity in living room area: in %                                   |\n",
      "|      T3     | 0.0629 |                                    Temperature in laundry room area                                    |\n",
      "|     RH_3    | 0.0451 |                                  Humidity in laundry room area: in %                                   |\n",
      "|      T4     | 0.0299 |                                 Temperature in office room: in Celsius                                 |\n",
      "|     RH_4    | 0.0334 |                                     Humidity in office room: in %                                      |\n",
      "|      T5     | 0.0306 |                                   Temperature in bathroom in Celsius                                   |\n",
      "|     RH_5    | 0.0475 |                                       Humidity in bathroom in %                                        |\n",
      "|      T6     | 0.0329 |                        Temperature outside the building (north side: in Celsius                        |\n",
      "|     RH_6    | 0.0337 |                            Humidity outside the building (north side): in %                            |\n",
      "|      T7     | 0.0331 |                                Temperature in ironing room: in Celsius                                 |\n",
      "|     RH_7    | 0.0321 |                                     Humidity in ironing room in %                                      |\n",
      "|      T8     | 0.037  |                               Temperature in teenager room 2 in Celsius                                |\n",
      "|     RH_8    | 0.0387 |                                    Humidity in teenager room 2 in %                                    |\n",
      "|      T9     | 0.0343 |                                 Temperature in parents room in Celsius                                 |\n",
      "|     RH_9    |  0.04  |                                     Humidity in parents room: in %                                     |\n",
      "|    T_out    | 0.0291 |                    Temperature outside (from Chievres weather station): in Celsius                     |\n",
      "| Press_mm_hg | 0.0428 |                                from Chievres weather station) in mm Hg                                 |\n",
      "|    RH_out   | 0.0375 |                         Humidity outside (from Chievres weather station): in %                         |\n",
      "|  Windspeed  | 0.0311 |                                 (from Chievres weather station) in m/s                                 |\n",
      "|  Visibility | 0.0225 |                                 (from Chievres weather station) in km                                  |\n",
      "|  Tdewpoint  | 0.0362 |                                   (from Chievres weather station) °C                                   |\n",
      "|   daytime   | 0.0881 | time of the day (extracted from date), as integer: (0...morning, 1...midday, 2...afternoon, 3...night) |\n",
      "+-------------+--------+--------------------------------------------------------------------------------------------------------+\n",
      "sum = 1.0\n"
     ]
    }
   ],
   "source": [
    "n_cores = 4\n",
    "number_of_trees = 1000 # default = 100\n",
    "rf2 = RandomForestRegressor(n_jobs=n_cores, n_estimators=number_of_trees, bootstrap=True) #, verbose=1)\n",
    "\n",
    "rf2.fit(X_train, Y_train)\n",
    "print(\"Before:\")\n",
    "display(before)#\n",
    "print(\"Now:\")\n",
    "before = print_score(rf2, X_train, X_test, Y_train, Y_test)\n",
    "print()\n",
    "print(\"Feature importance\")\n",
    "print_RF_featureImportance(rf2, X_train)"
   ]
  },
  {
   "cell_type": "code",
   "execution_count": 271,
   "metadata": {},
   "outputs": [
    {
     "data": {
      "text/plain": [
       "<matplotlib.axes._subplots.AxesSubplot at 0x23d4a37b308>"
      ]
     },
     "execution_count": 271,
     "metadata": {},
     "output_type": "execute_result"
    },
    {
     "data": {
      "image/png": "[encoded data removed]",
      "text/plain": [
       "<Figure size 432x288 with 1 Axes>"
      ]
     },
     "metadata": {
      "needs_background": "light"
     },
     "output_type": "display_data"
    }
   ],
   "source": [
    "rf2_prediction = rf2.predict(X_train)\n",
    "sns.distplot(Y_train)\n",
    "sns.distplot(rf2_prediction, color='red')"
   ]
  },
  {
   "cell_type": "code",
   "execution_count": 272,
   "metadata": {},
   "outputs": [
    {
     "data": {
      "text/plain": [
       "<matplotlib.axes._subplots.AxesSubplot at 0x23d4a3eb888>"
      ]
     },
     "execution_count": 272,
     "metadata": {},
     "output_type": "execute_result"
    },
    {
     "data": {
      "image/png": "[encoded data removed]",
      "text/plain": [
       "<Figure size 432x288 with 1 Axes>"
      ]
     },
     "metadata": {
      "needs_background": "light"
     },
     "output_type": "display_data"
    }
   ],
   "source": [
    "rf2_prediction = rf2.predict(X_test)\n",
    "sns.distplot(Y_test)\n",
    "sns.distplot(rf2_prediction, color='red')"
   ]
  },
  {
   "cell_type": "code",
   "execution_count": 269,
   "metadata": {},
   "outputs": [
    {
     "name": "stderr",
     "output_type": "stream",
     "text": [
      "[Parallel(n_jobs=4)]: Using backend ThreadingBackend with 4 concurrent workers.\n",
      "[Parallel(n_jobs=4)]: Done  42 tasks      | elapsed:    0.0s\n",
      "[Parallel(n_jobs=4)]: Done 192 tasks      | elapsed:    0.0s\n",
      "[Parallel(n_jobs=4)]: Done 442 tasks      | elapsed:    0.1s\n",
      "[Parallel(n_jobs=4)]: Done 500 out of 500 | elapsed:    0.1s finished\n"
     ]
    },
    {
     "data": {
      "text/plain": [
       "<matplotlib.axes._subplots.AxesSubplot at 0x23d4a1aec08>"
      ]
     },
     "execution_count": 269,
     "metadata": {},
     "output_type": "execute_result"
    },
    {
     "data": {
      "image/png": "[encoded data removed]",
      "text/plain": [
       "<Figure size 432x288 with 1 Axes>"
      ]
     },
     "metadata": {
      "needs_background": "light"
     },
     "output_type": "display_data"
    }
   ],
   "source": [
    "rf_prediction = rf.predict(X_test)\n",
    "sns.distplot(Y_test)\n",
    "sns.distplot(rf_prediction, color='red')"
   ]
  },
  {
   "cell_type": "code",
   "execution_count": 273,
   "metadata": {},
   "outputs": [
    {
     "name": "stderr",
     "output_type": "stream",
     "text": [
      "[Parallel(n_jobs=4)]: Using backend ThreadingBackend with 4 concurrent workers.\n",
      "[Parallel(n_jobs=4)]: Done  42 tasks      | elapsed:    0.0s\n",
      "[Parallel(n_jobs=4)]: Done 192 tasks      | elapsed:    0.0s\n",
      "[Parallel(n_jobs=4)]: Done 442 tasks      | elapsed:    0.1s\n",
      "[Parallel(n_jobs=4)]: Done 500 out of 500 | elapsed:    0.1s finished\n"
     ]
    },
    {
     "data": {
      "text/plain": [
       "<matplotlib.axes._subplots.AxesSubplot at 0x23d4adfb248>"
      ]
     },
     "execution_count": 273,
     "metadata": {},
     "output_type": "execute_result"
    },
    {
     "data": {
      "image/png": "[encoded data removed]",
      "text/plain": [
       "<Figure size 432x288 with 1 Axes>"
      ]
     },
     "metadata": {
      "needs_background": "light"
     },
     "output_type": "display_data"
    }
   ],
   "source": [
    "rf_prediction = rf.predict(X_test)\n",
    "rf2_prediction = rf2.predict(X_test)\n",
    "sns.distplot(Y_test)\n",
    "sns.distplot(rf_prediction, color='green')\n",
    "sns.distplot(rf2_prediction, color='red')"
   ]
  },
  {
   "cell_type": "code",
   "execution_count": 275,
   "metadata": {},
   "outputs": [
    {
     "data": {
      "text/plain": [
       "5"
      ]
     },
     "execution_count": 275,
     "metadata": {},
     "output_type": "execute_result"
    }
   ],
   "source": [
    "sqrt_num_features"
   ]
  },
  {
   "cell_type": "code",
   "execution_count": 276,
   "metadata": {},
   "outputs": [
    {
     "data": {
      "text/plain": [
       "GridSearchCV(cv=10, error_score=nan,\n",
       "             estimator=RandomForestRegressor(bootstrap=True, ccp_alpha=0.0,\n",
       "                                             criterion='mse', max_depth=None,\n",
       "                                             max_features='auto',\n",
       "                                             max_leaf_nodes=None,\n",
       "                                             max_samples=None,\n",
       "                                             min_impurity_decrease=0.0,\n",
       "                                             min_impurity_split=None,\n",
       "                                             min_samples_leaf=1,\n",
       "                                             min_samples_split=2,\n",
       "                                             min_weight_fraction_leaf=0.0,\n",
       "                                             n_estimators=100, n_jobs=3,\n",
       "                                             oob_score=False, random_state=None,\n",
       "                                             verbose=0, warm_start=False),\n",
       "             iid='deprecated', n_jobs=3,\n",
       "             param_grid=[{'max_features': [3, 4, 5, 6],\n",
       "                          'n_estimators': [3, 10, 30, 100, 1000]}],\n",
       "             pre_dispatch='2*n_jobs', refit=True, return_train_score=True,\n",
       "             scoring='neg_mean_squared_error', verbose=0)"
      ]
     },
     "execution_count": 276,
     "metadata": {},
     "output_type": "execute_result"
    }
   ],
   "source": [
    "n_cores = 3\n",
    "param_grid = [\n",
    "    {\n",
    "        'n_estimators': [3, 10, 30, 100, 1000], 'max_features': [i for i in range(sqrt_num_features-2,sqrt_num_features+2)]\n",
    "    }\n",
    "#,{'bootstrap': [False], 'n_estimators': [3, 30, 100, 1000], 'max_features': [2, 3, 4]},\n",
    "]\n",
    "\n",
    "forest_reg = RandomForestRegressor(n_jobs=n_cores)\n",
    "rf_grid = GridSearchCV(forest_reg, param_grid, n_jobs=n_cores , cv=10, scoring='neg_mean_squared_error', return_train_score=True)\n",
    "rf_grid.fit(X_train, Y_train)\n"
   ]
  },
  {
   "cell_type": "code",
   "execution_count": 281,
   "metadata": {},
   "outputs": [
    {
     "name": "stdout",
     "output_type": "stream",
     "text": [
      "{'max_features': 3, 'n_estimators': 1000}\n",
      "RandomForestRegressor(bootstrap=True, ccp_alpha=0.0, criterion='mse',\n",
      "                      max_depth=None, max_features=3, max_leaf_nodes=None,\n",
      "                      max_samples=None, min_impurity_decrease=0.0,\n",
      "                      min_impurity_split=None, min_samples_leaf=1,\n",
      "                      min_samples_split=2, min_weight_fraction_leaf=0.0,\n",
      "                      n_estimators=1000, n_jobs=3, oob_score=False,\n",
      "                      random_state=None, verbose=0, warm_start=False)\n"
     ]
    },
    {
     "data": {
      "text/plain": [
       "make_scorer(mean_squared_error, greater_is_better=False)"
      ]
     },
     "metadata": {},
     "output_type": "display_data"
    },
    {
     "data": {
      "text/plain": [
       "{'RMS(train)': 0.23666477833334307,\n",
       " 'RMS(valid)': 0.6065632036195391,\n",
       " 'Model_Score=r²': [-0.05601021730357042, -0.36791891998519843]}"
      ]
     },
     "metadata": {},
     "output_type": "display_data"
    },
    {
     "data": {
      "text/plain": [
       "{'RMS(train)': 0.23666477833334307,\n",
       " 'RMS(valid)': 0.6065632036195391,\n",
       " 'Model_Score=r²': [-0.05601021730357042, -0.36791891998519843]}"
      ]
     },
     "execution_count": 281,
     "metadata": {},
     "output_type": "execute_result"
    }
   ],
   "source": [
    "print_GridSearchResult(rf_grid)\n",
    "display(rf_grid.scorer_)\n",
    "print_score(rf_grid, X_train, X_test, Y_train, Y_test)"
   ]
  },
  {
   "cell_type": "code",
   "execution_count": 285,
   "metadata": {},
   "outputs": [
    {
     "name": "stderr",
     "output_type": "stream",
     "text": [
      "[Parallel(n_jobs=4)]: Using backend ThreadingBackend with 4 concurrent workers.\n",
      "[Parallel(n_jobs=4)]: Done  42 tasks      | elapsed:    0.0s\n",
      "[Parallel(n_jobs=4)]: Done 192 tasks      | elapsed:    0.0s\n",
      "[Parallel(n_jobs=4)]: Done 442 tasks      | elapsed:    0.1s\n",
      "[Parallel(n_jobs=4)]: Done 500 out of 500 | elapsed:    0.1s finished\n"
     ]
    },
    {
     "data": {
      "text/plain": [
       "<matplotlib.axes._subplots.AxesSubplot at 0x23d32ea4f88>"
      ]
     },
     "execution_count": 285,
     "metadata": {},
     "output_type": "execute_result"
    },
    {
     "data": {
      "image/png": "[encoded data removed]",
      "text/plain": [
       "<Figure size 432x288 with 1 Axes>"
      ]
     },
     "metadata": {
      "needs_background": "light"
     },
     "output_type": "display_data"
    }
   ],
   "source": [
    "rf_prediction = rf.predict(X_test)\n",
    "rf2_prediction = rf2.predict(X_test)\n",
    "rf_grid_prediction = rf_grid.predict(X_test)\n",
    "sns.distplot(Y_test)\n",
    "sns.distplot(rf_grid_prediction, color='red')"
   ]
  },
  {
   "cell_type": "code",
   "execution_count": 286,
   "metadata": {},
   "outputs": [
    {
     "data": {
      "text/plain": [
       "<matplotlib.axes._subplots.AxesSubplot at 0x23d32ea04c8>"
      ]
     },
     "execution_count": 286,
     "metadata": {},
     "output_type": "execute_result"
    },
    {
     "data": {
      "image/png": "[encoded data removed]",
      "text/plain": [
       "<Figure size 432x288 with 1 Axes>"
      ]
     },
     "metadata": {
      "needs_background": "light"
     },
     "output_type": "display_data"
    }
   ],
   "source": [
    "sns.distplot(Y_test)\n",
    "sns.distplot(rf_prediction, color='red')"
   ]
  },
  {
   "cell_type": "code",
   "execution_count": 287,
   "metadata": {},
   "outputs": [
    {
     "data": {
      "text/plain": [
       "<matplotlib.axes._subplots.AxesSubplot at 0x23d33181e88>"
      ]
     },
     "execution_count": 287,
     "metadata": {},
     "output_type": "execute_result"
    },
    {
     "data": {
      "image/png": "[encoded data removed]",
      "text/plain": [
       "<Figure size 432x288 with 1 Axes>"
      ]
     },
     "metadata": {
      "needs_background": "light"
     },
     "output_type": "display_data"
    }
   ],
   "source": [
    "sns.distplot(Y_test)\n",
    "sns.distplot(rf_prediction, color='green')\n",
    "sns.distplot(rf2_prediction, color='red')\n",
    "sns.distplot(rf_grid_prediction, color='black')"
   ]
  },
  {
   "cell_type": "code",
   "execution_count": 288,
   "metadata": {},
   "outputs": [
    {
     "data": {
      "text/plain": [
       "{'linReg': {'RMS(train)': 0.9087037137466035,\n",
       "  'RMS(valid)': 0.8786597034721082,\n",
       "  'Model_Score=r²': [0.18400893109485406, 0.18909460918856158]},\n",
       " 'lassoReg': {'RMS(train)': 0.9087037149058543,\n",
       "  'RMS(valid)': 0.8786590800795123,\n",
       "  'Model_Score=r²': [-0.8257424414837002, -0.7720417790061748]},\n",
       " 'kNN': {'grid': {'RMS(train)': 0.37975841014186423,\n",
       "   'RMS(valid)': 0.6328373317422523,\n",
       "   'Model_Score=r²': [0.8574866330741507, 0.5793576936279197]},\n",
       "  'p2_k2': {'RMS(train)': 0.4013290057505499,\n",
       "   'RMS(valid)': 0.6810975848992705,\n",
       "   'Model_Score=r²': [0.8408370801048636, 0.5127549349384373]}},\n",
       " 'randomForest': 0}"
      ]
     },
     "execution_count": 288,
     "metadata": {},
     "output_type": "execute_result"
    }
   ],
   "source": [
    "model_scores"
   ]
  },
  {
   "cell_type": "code",
   "execution_count": 289,
   "metadata": {},
   "outputs": [
    {
     "data": {
      "text/plain": [
       "RandomForestRegressor(bootstrap=True, ccp_alpha=0.0, criterion='mse',\n",
       "                      max_depth=None, max_features=0.5, max_leaf_nodes=None,\n",
       "                      max_samples=None, min_impurity_decrease=0.0,\n",
       "                      min_impurity_split=None, min_samples_leaf=1,\n",
       "                      min_samples_split=2, min_weight_fraction_leaf=0.0,\n",
       "                      n_estimators=500, n_jobs=4, oob_score=True,\n",
       "                      random_state=None, verbose=1, warm_start=False)"
      ]
     },
     "execution_count": 289,
     "metadata": {},
     "output_type": "execute_result"
    }
   ],
   "source": [
    "rf"
   ]
  },
  {
   "cell_type": "code",
   "execution_count": 290,
   "metadata": {},
   "outputs": [
    {
     "data": {
      "text/plain": [
       "RandomForestRegressor(bootstrap=True, ccp_alpha=0.0, criterion='mse',\n",
       "                      max_depth=None, max_features='auto', max_leaf_nodes=None,\n",
       "                      max_samples=None, min_impurity_decrease=0.0,\n",
       "                      min_impurity_split=None, min_samples_leaf=1,\n",
       "                      min_samples_split=2, min_weight_fraction_leaf=0.0,\n",
       "                      n_estimators=1000, n_jobs=4, oob_score=False,\n",
       "                      random_state=None, verbose=0, warm_start=False)"
      ]
     },
     "execution_count": 290,
     "metadata": {},
     "output_type": "execute_result"
    }
   ],
   "source": [
    "rf2"
   ]
  },
  {
   "cell_type": "code",
   "execution_count": 315,
   "metadata": {},
   "outputs": [
    {
     "name": "stderr",
     "output_type": "stream",
     "text": [
      "[Parallel(n_jobs=4)]: Using backend ThreadingBackend with 4 concurrent workers.\n",
      "[Parallel(n_jobs=4)]: Done  42 tasks      | elapsed:    0.0s\n",
      "[Parallel(n_jobs=4)]: Done 192 tasks      | elapsed:    0.2s\n",
      "[Parallel(n_jobs=4)]: Done 442 tasks      | elapsed:    0.5s\n",
      "[Parallel(n_jobs=4)]: Done 500 out of 500 | elapsed:    0.6s finished\n",
      "[Parallel(n_jobs=4)]: Using backend ThreadingBackend with 4 concurrent workers.\n",
      "[Parallel(n_jobs=4)]: Done  42 tasks      | elapsed:    0.0s\n",
      "[Parallel(n_jobs=4)]: Done 192 tasks      | elapsed:    0.0s\n",
      "[Parallel(n_jobs=4)]: Done 442 tasks      | elapsed:    0.1s\n",
      "[Parallel(n_jobs=4)]: Done 500 out of 500 | elapsed:    0.2s finished\n",
      "[Parallel(n_jobs=4)]: Using backend ThreadingBackend with 4 concurrent workers.\n",
      "[Parallel(n_jobs=4)]: Done  42 tasks      | elapsed:    0.0s\n",
      "[Parallel(n_jobs=4)]: Done 192 tasks      | elapsed:    0.2s\n",
      "[Parallel(n_jobs=4)]: Done 442 tasks      | elapsed:    0.6s\n",
      "[Parallel(n_jobs=4)]: Done 500 out of 500 | elapsed:    0.7s finished\n",
      "[Parallel(n_jobs=4)]: Using backend ThreadingBackend with 4 concurrent workers.\n",
      "[Parallel(n_jobs=4)]: Done  42 tasks      | elapsed:    0.0s\n",
      "[Parallel(n_jobs=4)]: Done 192 tasks      | elapsed:    0.0s\n",
      "[Parallel(n_jobs=4)]: Done 442 tasks      | elapsed:    0.1s\n",
      "[Parallel(n_jobs=4)]: Done 500 out of 500 | elapsed:    0.1s finished\n"
     ]
    },
    {
     "data": {
      "text/plain": [
       "{'RMS(train)': 0.24234472177785257,\n",
       " 'RMS(valid)': 0.634847990147397,\n",
       " 'Model_Score=r²': [0.9419626024429625, 0.5766805077588015],\n",
       " 'oob_score_': 0.5711712284539638}"
      ]
     },
     "metadata": {},
     "output_type": "display_data"
    },
    {
     "data": {
      "text/plain": [
       "{'RMS(train)': 0.24667451638440588,\n",
       " 'RMS(valid)': 0.6539606167845973,\n",
       " 'Model_Score=r²': [0.9398702538594266, 0.5508080568097795]}"
      ]
     },
     "metadata": {},
     "output_type": "display_data"
    },
    {
     "data": {
      "text/plain": [
       "{'RMS(train)': 0.2366647783333431,\n",
       " 'RMS(valid)': 0.6065632036195391,\n",
       " 'Model_Score=r²': [-0.05601021730357042, -0.36791891998519843]}"
      ]
     },
     "metadata": {},
     "output_type": "display_data"
    }
   ],
   "source": [
    "# Save scores\n",
    "rf_dict = dict()\n",
    "rf_dict['nE500_mF0.5'] = print_score(rf, X_train, X_test, Y_train, Y_test)\n",
    "rf_dict['nE1000_mFauto'] = print_score(rf2, X_train, X_test, Y_train, Y_test)\n",
    "rf_dict['grid'] = print_score(rf_grid, X_train, X_test, Y_train, Y_test)\n",
    "model_scores['randomForest'] = rf_dict\n",
    "\n",
    "rf_models = dict()\n",
    "rf_models['nE500_mF0.5'] = rf\n",
    "rf_models['nE1000_mFauto'] = rf2\n",
    "rf_models['grid'] = rf_grid\n",
    "models['randomForest'] = rf_models"
   ]
  },
  {
   "cell_type": "markdown",
   "metadata": {},
   "source": [
    "# k-fold cross validation"
   ]
  },
  {
   "cell_type": "code",
   "execution_count": null,
   "metadata": {},
   "outputs": [],
   "source": [
    "from sklearn.model_selection import cross_val_score\n",
    "from prettytable import PrettyTable\n",
    "\n",
    "def display_scores(scores):\n",
    "    print(\"Scores:\", scores)\n",
    "    table = PrettyTable()\n",
    "    table.field_names = ['Run', 'Score']\n",
    "    for i, score in enumerate(scores):\n",
    "        table.add_row([i, round(score, 3)])\n",
    "    print(table)\n",
    "    print(\"Mean:\", scores.mean())\n",
    "    print(\"Standard deviation:\", scores.std())"
   ]
  },
  {
   "cell_type": "code",
   "execution_count": null,
   "metadata": {},
   "outputs": [],
   "source": [
    "k = 5\n",
    "model = rf_RD\n",
    "scores = cross_val_score(model, X, y, scoring=\"neg_mean_squared_error\", cv=k)"
   ]
  },
  {
   "cell_type": "code",
   "execution_count": null,
   "metadata": {},
   "outputs": [],
   "source": [
    "display_scores(rf_rmse_scores)"
   ]
  },
  {
   "cell_type": "markdown",
   "metadata": {},
   "source": [
    "<a id='eval'></a>"
   ]
  },
  {
   "cell_type": "markdown",
   "metadata": {},
   "source": [
    "# 3) Evaluation"
   ]
  },
  {
   "cell_type": "code",
   "execution_count": 299,
   "metadata": {},
   "outputs": [
    {
     "data": {
      "text/plain": [
       "{'linReg': LinearRegression(copy_X=True, fit_intercept=True, n_jobs=4, normalize=True),\n",
       " 'lassoReg': {'nE500_mF0.5': RandomForestRegressor(bootstrap=True, ccp_alpha=0.0, criterion='mse',\n",
       "                        max_depth=None, max_features=0.5, max_leaf_nodes=None,\n",
       "                        max_samples=None, min_impurity_decrease=0.0,\n",
       "                        min_impurity_split=None, min_samples_leaf=1,\n",
       "                        min_samples_split=2, min_weight_fraction_leaf=0.0,\n",
       "                        n_estimators=500, n_jobs=4, oob_score=True,\n",
       "                        random_state=None, verbose=1, warm_start=False),\n",
       "  'nE1000_mFauto': RandomForestRegressor(bootstrap=True, ccp_alpha=0.0, criterion='mse',\n",
       "                        max_depth=None, max_features='auto', max_leaf_nodes=None,\n",
       "                        max_samples=None, min_impurity_decrease=0.0,\n",
       "                        min_impurity_split=None, min_samples_leaf=1,\n",
       "                        min_samples_split=2, min_weight_fraction_leaf=0.0,\n",
       "                        n_estimators=1000, n_jobs=4, oob_score=False,\n",
       "                        random_state=None, verbose=0, warm_start=False),\n",
       "  'grid': GridSearchCV(cv=10, error_score=nan,\n",
       "               estimator=RandomForestRegressor(bootstrap=True, ccp_alpha=0.0,\n",
       "                                               criterion='mse', max_depth=None,\n",
       "                                               max_features='auto',\n",
       "                                               max_leaf_nodes=None,\n",
       "                                               max_samples=None,\n",
       "                                               min_impurity_decrease=0.0,\n",
       "                                               min_impurity_split=None,\n",
       "                                               min_samples_leaf=1,\n",
       "                                               min_samples_split=2,\n",
       "                                               min_weight_fraction_leaf=0.0,\n",
       "                                               n_estimators=100, n_jobs=3,\n",
       "                                               oob_score=False, random_state=None,\n",
       "                                               verbose=0, warm_start=False),\n",
       "               iid='deprecated', n_jobs=3,\n",
       "               param_grid=[{'max_features': [3, 4, 5, 6],\n",
       "                            'n_estimators': [3, 10, 30, 100, 1000]}],\n",
       "               pre_dispatch='2*n_jobs', refit=True, return_train_score=True,\n",
       "               scoring='neg_mean_squared_error', verbose=0)},\n",
       " 'kNN': 0,\n",
       " 'randomForest': 0}"
      ]
     },
     "execution_count": 299,
     "metadata": {},
     "output_type": "execute_result"
    }
   ],
   "source": [
    "models"
   ]
  },
  {
   "cell_type": "code",
   "execution_count": 309,
   "metadata": {},
   "outputs": [
    {
     "data": {
      "text/plain": [
       "{'nE500_mF0.5': {'RMS(train)': 0.24234472177785257,\n",
       "  'RMS(valid)': 0.634847990147397,\n",
       "  'Model_Score=r²': [0.9419626024429625, 0.5766805077588015],\n",
       "  'oob_score_': 0.5711712284539638},\n",
       " 'nE1000_mFauto': {'RMS(train)': 0.24667451638440588,\n",
       "  'RMS(valid)': 0.6539606167845973,\n",
       "  'Model_Score=r²': [0.9398702538594266, 0.5508080568097796]},\n",
       " 'grid': {'RMS(train)': 0.2366647783333431,\n",
       "  'RMS(valid)': 0.6065632036195391,\n",
       "  'Model_Score=r²': [-0.05601021730357041, -0.3679189199851984]}}"
      ]
     },
     "execution_count": 309,
     "metadata": {},
     "output_type": "execute_result"
    }
   ],
   "source": [
    "model_scores.pop('randForest', None)"
   ]
  },
  {
   "cell_type": "code",
   "execution_count": 310,
   "metadata": {},
   "outputs": [],
   "source": [
    "models.pop('randForest', None)"
   ]
  },
  {
   "cell_type": "code",
   "execution_count": 316,
   "metadata": {},
   "outputs": [
    {
     "name": "stdout",
     "output_type": "stream",
     "text": [
      "linReg\n"
     ]
    },
    {
     "data": {
      "text/plain": [
       "{'RMS(train)': 0.9087037137466035,\n",
       " 'RMS(valid)': 0.8786597034721082,\n",
       " 'Model_Score=r²': [0.18400893109485406, 0.18909460918856158]}"
      ]
     },
     "metadata": {},
     "output_type": "display_data"
    },
    {
     "name": "stdout",
     "output_type": "stream",
     "text": [
      "########################################\n",
      "lassoReg\n"
     ]
    },
    {
     "data": {
      "text/plain": [
       "{'RMS(train)': 0.9087037149058543,\n",
       " 'RMS(valid)': 0.8786590800795123,\n",
       " 'Model_Score=r²': [-0.8257424414837002, -0.7720417790061748]}"
      ]
     },
     "metadata": {},
     "output_type": "display_data"
    },
    {
     "name": "stdout",
     "output_type": "stream",
     "text": [
      "########################################\n",
      "kNN\n",
      "grid\n"
     ]
    },
    {
     "data": {
      "text/plain": [
       "{'RMS(train)': 0.37975841014186423,\n",
       " 'RMS(valid)': 0.6328373317422523,\n",
       " 'Model_Score=r²': [0.8574866330741507, 0.5793576936279197]}"
      ]
     },
     "metadata": {},
     "output_type": "display_data"
    },
    {
     "name": "stdout",
     "output_type": "stream",
     "text": [
      "p2_k2\n"
     ]
    },
    {
     "data": {
      "text/plain": [
       "{'RMS(train)': 0.4013290057505499,\n",
       " 'RMS(valid)': 0.6810975848992705,\n",
       " 'Model_Score=r²': [0.8408370801048636, 0.5127549349384373]}"
      ]
     },
     "metadata": {},
     "output_type": "display_data"
    },
    {
     "name": "stdout",
     "output_type": "stream",
     "text": [
      "########################################\n",
      "randomForest\n",
      "nE500_mF0.5\n"
     ]
    },
    {
     "data": {
      "text/plain": [
       "{'RMS(train)': 0.24234472177785257,\n",
       " 'RMS(valid)': 0.634847990147397,\n",
       " 'Model_Score=r²': [0.9419626024429625, 0.5766805077588015],\n",
       " 'oob_score_': 0.5711712284539638}"
      ]
     },
     "metadata": {},
     "output_type": "display_data"
    },
    {
     "name": "stdout",
     "output_type": "stream",
     "text": [
      "nE1000_mFauto\n"
     ]
    },
    {
     "data": {
      "text/plain": [
       "{'RMS(train)': 0.24667451638440588,\n",
       " 'RMS(valid)': 0.6539606167845973,\n",
       " 'Model_Score=r²': [0.9398702538594266, 0.5508080568097795]}"
      ]
     },
     "metadata": {},
     "output_type": "display_data"
    },
    {
     "name": "stdout",
     "output_type": "stream",
     "text": [
      "grid\n"
     ]
    },
    {
     "data": {
      "text/plain": [
       "{'RMS(train)': 0.2366647783333431,\n",
       " 'RMS(valid)': 0.6065632036195391,\n",
       " 'Model_Score=r²': [-0.05601021730357042, -0.36791891998519843]}"
      ]
     },
     "metadata": {},
     "output_type": "display_data"
    },
    {
     "name": "stdout",
     "output_type": "stream",
     "text": [
      "########################################\n"
     ]
    }
   ],
   "source": [
    "for key in model_scores:\n",
    "    print(key)\n",
    "    if key=='linReg' or key=='lassoReg':\n",
    "        display(model_scores[key])\n",
    "    else:\n",
    "        for mKey in model_scores[key]:\n",
    "            print(mKey)\n",
    "            display(model_scores[key][mKey])\n",
    "    print('#'*40)"
   ]
  },
  {
   "cell_type": "markdown",
   "metadata": {},
   "source": [
    "# a) Linear Regression"
   ]
  },
  {
   "cell_type": "code",
   "execution_count": null,
   "metadata": {},
   "outputs": [],
   "source": [
    "print('Mean Absolute Error:', metrics.mean_absolute_error(Y_train, Y_lin_pred))  \n",
    "print('Mean Squared Error:', metrics.mean_squared_error(Y_train, Y_lin_pred))  \n",
    "print('Root Mean Squared Error:', np.sqrt(metrics.mean_squared_error(Y_train, Y_lin_pred)))"
   ]
  },
  {
   "cell_type": "code",
   "execution_count": null,
   "metadata": {},
   "outputs": [],
   "source": [
    "sns.distplot(Y_train)\n",
    "sns.distplot(Y_lin_pred)"
   ]
  },
  {
   "cell_type": "markdown",
   "metadata": {},
   "source": [
    "# b) Lasso Regression"
   ]
  },
  {
   "cell_type": "code",
   "execution_count": null,
   "metadata": {},
   "outputs": [],
   "source": [
    "sns.distplot(Y_train)\n",
    "sns.distplot(Y_lasso_pred)"
   ]
  },
  {
   "cell_type": "code",
   "execution_count": null,
   "metadata": {},
   "outputs": [],
   "source": [
    "# geht leider noch nicht die dimesionen passen nicht zusammen\n",
    "#print('Mean Absolute Error:', metrics.mean_absolute_error(Y_train, Y_lasso_pred))  \n",
    "#print('Mean Squared Error:', metrics.mean_squared_error(Y_train, Y_lasso_pred))  \n",
    "#print('Root Mean Squared Error:', np.sqrt(metrics.mean_squared_error(Y_train, Y_lasso_pred)))"
   ]
  },
  {
   "cell_type": "markdown",
   "metadata": {},
   "source": [
    "# c) k-Nearest Neighbors"
   ]
  },
  {
   "cell_type": "code",
   "execution_count": null,
   "metadata": {},
   "outputs": [],
   "source": []
  },
  {
   "cell_type": "markdown",
   "metadata": {},
   "source": [
    "# Save model and DF"
   ]
  },
  {
   "cell_type": "code",
   "execution_count": null,
   "metadata": {},
   "outputs": [],
   "source": [
    "# Dump model\n",
    "import joblib\n",
    "import os\n",
    "\n",
    "os.makedirs('tmp', exist_ok=True)\n",
    "joblib.dump(rf_RD, \"tmp/rf_RD.pkl\")\n",
    "# To load the model\n",
    "# my_model_loaded = joblib.load(\"my_model.pkl\")"
   ]
  },
  {
   "cell_type": "code",
   "execution_count": null,
   "metadata": {},
   "outputs": [],
   "source": [
    "import os\n",
    "os.makedirs('tmp', exist_ok=True)\n",
    "df_raw.to_feather('tmp/bulldozers-raw')\n",
    "df_raw = pd.read_feather('tmp/raw')"
   ]
  }
 ],
 "metadata": {
  "kernelspec": {
   "display_name": "Python 3.7.7 64-bit",
   "language": "python",
   "name": "python37764bit33c63940e34148b0a2446cd4c0d0e9f7"
  },
  "language_info": {
   "codemirror_mode": {
    "name": "ipython",
    "version": 3
   },
   "file_extension": ".py",
   "mimetype": "text/x-python",
   "name": "python",
   "nbconvert_exporter": "python",
   "pygments_lexer": "ipython3",
   "version": "3.7.7"
  }
 },
 "nbformat": 4,
 "nbformat_minor": 4
}
