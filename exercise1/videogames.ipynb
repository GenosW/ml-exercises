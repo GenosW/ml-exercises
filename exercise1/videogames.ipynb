{
 "nbformat": 4,
 "nbformat_minor": 2,
 "metadata": {
  "language_info": {
   "name": "python",
   "codemirror_mode": {
    "name": "ipython",
    "version": 3
   },
   "version": "3.7.7-final"
  },
  "orig_nbformat": 2,
  "file_extension": ".py",
  "mimetype": "text/x-python",
  "name": "python",
  "npconvert_exporter": "python",
  "pygments_lexer": "ipython3",
  "version": 3,
  "kernelspec": {
   "name": "python37764bit33c63940e34148b0a2446cd4c0d0e9f7",
   "display_name": "Python 3.7.7 64-bit"
  }
 },
 "cells": [
  {
   "cell_type": "markdown",
   "metadata": {},
   "source": [
    "# 1) Regression:\n",
    "## Choose 4 different methods of regression \n",
    "### a) linear regression\n",
    "### b) polinominal regression"
   ],
   "execution_count": null,
   "outputs": []
  },
  {
   "cell_type": "code",
   "execution_count": null,
   "metadata": {},
   "outputs": [],
   "source": [
    "import numpy as np\n",
    "import pandas as pd\n",
    "import glob\n",
    "import matplotlib.pyplot as plt\n",
    "import seaborn as sns\n",
    "import sys\n",
    "print(sys.executable)\n",
    "\n",
    "from sklearn.model_selection import train_test_split\n",
    "from sklearn.linear_model import LinearRegression\n",
    "from sklearn import linear_model"
   ]
  },
  {
   "cell_type": "code",
   "execution_count": null,
   "metadata": {},
   "outputs": [],
   "source": [
    "# Might be good idea to have a function for dataset analysis --> standardized output\n",
    "# Just a prototype/idea for now\n",
    "def analyse_dataset(frame, name='not-given'):\n",
    "    print(f\"Analysis of <{name}>\")\n",
    "    print('-'*40)\n",
    "    print(\"Info:\")\n",
    "    print(frame.info())\n",
    "    print('-'*40)\n",
    "    print(\"Shape:\")\n",
    "    print(frame.shape)\n",
    "    print('-'*40)\n",
    "    print(\"Index:\")\n",
    "    print(frame.index)\n",
    "    print('-'*40)\n",
    "    print(\"Columns:\")\n",
    "    print(frame.columns)"
   ]
  },
  {
   "cell_type": "code",
   "execution_count": null,
   "metadata": {},
   "outputs": [],
   "source": [
    "dataset_name = 'Video_Games_Sales_as_at_22_Dec_2016'\n",
    "input_file = os.path.split(sys.path[0])[0] + '\\\\datasets\\\\'+dataset_name+'.csv'\n",
    "print(\"Opening: \", input_file)\n",
    "data = pd.read_csv(input_file,  sep = ',')#, header = 0)\n",
    "print(data)"
   ]
  },
  {
   "cell_type": "code",
   "execution_count": null,
   "metadata": {},
   "outputs": [],
   "source": [
    "# Quick analysis\n",
    "print(f\"Analysis of <{dataset_name}>\")\n",
    "print('-'*40)\n",
    "print(\"Info:\")\n",
    "print(data.info())\n",
    "\n",
    "print(\"Columns:\")\n",
    "print(data.columns)\n",
    "\n",
    ""
   ]
  },
  {
   "cell_type": "code",
   "execution_count": null,
   "metadata": {},
   "outputs": [],
   "source": []
  }
 ]
}