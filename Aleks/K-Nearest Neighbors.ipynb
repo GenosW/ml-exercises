{
 "cells": [
  {
   "cell_type": "markdown",
   "metadata": {},
   "source": [
    "# K Nearest Neighbors Theory\n",
    "\n",
    "A classification algorithm operating on the principle of a datapoint being classified\n",
    "based on its proximity to \"neighbouring\" points.\n",
    "\n",
    "Training Algorithm:\n",
    "1. Store all the data\n",
    "\n",
    "Prediction Algorithm:\n",
    "1. Calculate the distance from x to all points in the data\n",
    "2. Sort the point in the data by increasing distance from x\n",
    "3. Predict the majority label of the k-nearest neighbours (closest points)\n",
    "\n",
    "Generally, choosing a different k will affect what class new points will be assigned to.\n",
    "A greater k will often lead to a more \"smooth\" and \"biased\" model --> a cleaner separation of\n",
    "the model. It must also be considered, though, that this reduction in the noise is at the cost\n",
    "of more potential errors.\n",
    "\n",
    "\n",
    "Pros:\n",
    "- Simple\n",
    "- Trivial training\n",
    "- Works with great number of classes\n",
    "- Adding more data is easy\n",
    "- Few algorithm parameters: k and \"distance\" metric\n",
    "  - the distance metric --> mathematical definition of the distance between the datapoints\n",
    "\n",
    "Cons:\n",
    "- Costly --> algorithm gets worse for larger data sets and the prediction costs rise\n",
    "- Not optimal for high dimensional data sets (features/dimensions increase --> distance measuring for the dimesnions\n",
    "is disrupted)\n",
    "- Not optimal for categorical features\n"
   ]
  },
  {
   "cell_type": "markdown",
   "metadata": {},
   "source": [
    "## Import Libraries"
   ]
  },
  {
   "cell_type": "code",
   "execution_count": 1,
   "metadata": {
    "collapsed": true
   },
   "outputs": [],
   "source": [
    "import pandas as pd\n",
    "import seaborn as sns\n",
    "import matplotlib.pyplot as plt\n",
    "import numpy as np\n",
    "%matplotlib inline"
   ]
  },
  {
   "cell_type": "markdown",
   "metadata": {},
   "source": [
    "## Get the Data"
   ]
  },
  {
   "cell_type": "code",
   "execution_count": 2,
   "metadata": {
    "collapsed": false
   },
   "outputs": [],
   "source": [
    "df = pd.read_csv(\"baseball.csv\")"
   ]
  },
  {
   "cell_type": "code",
   "execution_count": 3,
   "metadata": {
    "collapsed": false
   },
   "outputs": [
    {
     "data": {
      "text/plain": "  Team League  Year   RS   RA   W    OBP    SLG     BA  Playoffs RankSeason  \\\n0  ARI     NL  2012  734  688  81  0.328  0.418  0.259         0          ?   \n1  ATL     NL  2012  700  600  94  0.320  0.389  0.247         1          4   \n2  BAL     AL  2012  712  705  93  0.311  0.417  0.247         1          5   \n3  BOS     AL  2012  734  806  69  0.315  0.415  0.260         0          ?   \n4  CHC     NL  2012  613  759  61  0.302  0.378  0.240         0          ?   \n\n  RankPlayoffs    G   OOBP                 OSLG  \n0            ?  162  0.317                0.415  \n1            5  162  0.306  0.37799999999999995  \n2            4  162  0.315  0.40299999999999997  \n3            ?  162  0.331                0.428  \n4            ?  162  0.335                0.424  ",
      "text/html": "<div>\n<style scoped>\n    .dataframe tbody tr th:only-of-type {\n        vertical-align: middle;\n    }\n\n    .dataframe tbody tr th {\n        vertical-align: top;\n    }\n\n    .dataframe thead th {\n        text-align: right;\n    }\n</style>\n<table border=\"1\" class=\"dataframe\">\n  <thead>\n    <tr style=\"text-align: right;\">\n      <th></th>\n      <th>Team</th>\n      <th>League</th>\n      <th>Year</th>\n      <th>RS</th>\n      <th>RA</th>\n      <th>W</th>\n      <th>OBP</th>\n      <th>SLG</th>\n      <th>BA</th>\n      <th>Playoffs</th>\n      <th>RankSeason</th>\n      <th>RankPlayoffs</th>\n      <th>G</th>\n      <th>OOBP</th>\n      <th>OSLG</th>\n    </tr>\n  </thead>\n  <tbody>\n    <tr>\n      <th>0</th>\n      <td>ARI</td>\n      <td>NL</td>\n      <td>2012</td>\n      <td>734</td>\n      <td>688</td>\n      <td>81</td>\n      <td>0.328</td>\n      <td>0.418</td>\n      <td>0.259</td>\n      <td>0</td>\n      <td>?</td>\n      <td>?</td>\n      <td>162</td>\n      <td>0.317</td>\n      <td>0.415</td>\n    </tr>\n    <tr>\n      <th>1</th>\n      <td>ATL</td>\n      <td>NL</td>\n      <td>2012</td>\n      <td>700</td>\n      <td>600</td>\n      <td>94</td>\n      <td>0.320</td>\n      <td>0.389</td>\n      <td>0.247</td>\n      <td>1</td>\n      <td>4</td>\n      <td>5</td>\n      <td>162</td>\n      <td>0.306</td>\n      <td>0.37799999999999995</td>\n    </tr>\n    <tr>\n      <th>2</th>\n      <td>BAL</td>\n      <td>AL</td>\n      <td>2012</td>\n      <td>712</td>\n      <td>705</td>\n      <td>93</td>\n      <td>0.311</td>\n      <td>0.417</td>\n      <td>0.247</td>\n      <td>1</td>\n      <td>5</td>\n      <td>4</td>\n      <td>162</td>\n      <td>0.315</td>\n      <td>0.40299999999999997</td>\n    </tr>\n    <tr>\n      <th>3</th>\n      <td>BOS</td>\n      <td>AL</td>\n      <td>2012</td>\n      <td>734</td>\n      <td>806</td>\n      <td>69</td>\n      <td>0.315</td>\n      <td>0.415</td>\n      <td>0.260</td>\n      <td>0</td>\n      <td>?</td>\n      <td>?</td>\n      <td>162</td>\n      <td>0.331</td>\n      <td>0.428</td>\n    </tr>\n    <tr>\n      <th>4</th>\n      <td>CHC</td>\n      <td>NL</td>\n      <td>2012</td>\n      <td>613</td>\n      <td>759</td>\n      <td>61</td>\n      <td>0.302</td>\n      <td>0.378</td>\n      <td>0.240</td>\n      <td>0</td>\n      <td>?</td>\n      <td>?</td>\n      <td>162</td>\n      <td>0.335</td>\n      <td>0.424</td>\n    </tr>\n  </tbody>\n</table>\n</div>"
     },
     "execution_count": 3,
     "metadata": {},
     "output_type": "execute_result"
    }
   ],
   "source": [
    "df.head()"
   ]
  },
  {
   "cell_type": "markdown",
   "metadata": {},
   "source": [
    "## Standardize the Variables\n",
    "Impute the data.\n",
    "Replace League with int and drop unneeded columns.\n",
    "Because the KNN classifier predicts the class of a given test observation by identifying the observations that are nearest to it, the scale of the variables matters. Any variables that are on a large scale will have a much larger effect on the distance between the observations, and hence on the KNN classifier, than variables that are on a small scale."
   ]
  },
  {
   "cell_type": "code",
   "execution_count": 4,
   "metadata": {
    "collapsed": true
   },
   "outputs": [],
   "source": [
    "from sklearn.impute import SimpleImputer\n",
    "\n",
    "imputerQ1 = SimpleImputer(missing_values='?', strategy='constant', fill_value=0.3)\n",
    "imputerQ1 = imputerQ1.fit(df[['OOBP', 'OSLG']])\n",
    "df[['OOBP', 'OSLG']] = imputerQ1.transform(df[['OOBP', 'OSLG']])\n",
    "\n",
    "imputerQ2 = SimpleImputer(missing_values='?', strategy='constant', fill_value=6)\n",
    "imputerQ2 = imputerQ2.fit(df[['RankSeason']])\n",
    "df[['RankSeason']] = imputerQ2.transform(df[['RankSeason']])\n",
    "df.League.replace(['NL', 'AL'], [1, 0], inplace=True)\n",
    "\n",
    "#Drop useless columns - of no interest\n",
    "df.drop(['RankPlayoffs', 'Team'], axis=1, inplace=True)"
   ]
  },
  {
   "cell_type": "code",
   "execution_count": 5,
   "outputs": [
    {
     "data": {
      "text/plain": "      League  Year   RS   RA    W    OBP    SLG     BA  Playoffs    G  ...  \\\n0          1  2012  734  688   81  0.328  0.418  0.259         0  162  ...   \n1          1  2012  700  600   94  0.320  0.389  0.247         1  162  ...   \n2          0  2012  712  705   93  0.311  0.417  0.247         1  162  ...   \n3          0  2012  734  806   69  0.315  0.415  0.260         0  162  ...   \n4          1  2012  613  759   61  0.302  0.378  0.240         0  162  ...   \n...      ...   ...  ...  ...  ...    ...    ...    ...       ...  ...  ...   \n1227       1  1962  705  759   81  0.330  0.390  0.260         0  161  ...   \n1228       1  1962  706  626   93  0.321  0.394  0.268         0  161  ...   \n1229       1  1962  878  690  103  0.341  0.441  0.278         1  165  ...   \n1230       1  1962  774  664   84  0.335  0.394  0.271         0  163  ...   \n1231       0  1962  599  716   60  0.308  0.373  0.250         0  162  ...   \n\n      OSLG_0.47100000000000003  OSLG_0.473  OSLG_0.474  OSLG_0.475  \\\n0                            0           0           0           0   \n1                            0           0           0           0   \n2                            0           0           0           0   \n3                            0           0           0           0   \n4                            0           0           0           0   \n...                        ...         ...         ...         ...   \n1227                         0           0           0           0   \n1228                         0           0           0           0   \n1229                         0           0           0           0   \n1230                         0           0           0           0   \n1231                         0           0           0           0   \n\n      OSLG_0.47600000000000003  OSLG_0.48  OSLG_0.48100000000000004  \\\n0                            0          0                         0   \n1                            0          0                         0   \n2                            0          0                         0   \n3                            0          0                         0   \n4                            0          0                         0   \n...                        ...        ...                       ...   \n1227                         0          0                         0   \n1228                         0          0                         0   \n1229                         0          0                         0   \n1230                         0          0                         0   \n1231                         0          0                         0   \n\n      OSLG_0.483  OSLG_0.494  OSLG_0.499  \n0              0           0           0  \n1              0           0           0  \n2              0           0           0  \n3              0           0           0  \n4              0           0           0  \n...          ...         ...         ...  \n1227           0           0           0  \n1228           0           0           0  \n1229           0           0           0  \n1230           0           0           0  \n1231           0           0           0  \n\n[1232 rows x 205 columns]",
      "text/html": "<div>\n<style scoped>\n    .dataframe tbody tr th:only-of-type {\n        vertical-align: middle;\n    }\n\n    .dataframe tbody tr th {\n        vertical-align: top;\n    }\n\n    .dataframe thead th {\n        text-align: right;\n    }\n</style>\n<table border=\"1\" class=\"dataframe\">\n  <thead>\n    <tr style=\"text-align: right;\">\n      <th></th>\n      <th>League</th>\n      <th>Year</th>\n      <th>RS</th>\n      <th>RA</th>\n      <th>W</th>\n      <th>OBP</th>\n      <th>SLG</th>\n      <th>BA</th>\n      <th>Playoffs</th>\n      <th>G</th>\n      <th>...</th>\n      <th>OSLG_0.47100000000000003</th>\n      <th>OSLG_0.473</th>\n      <th>OSLG_0.474</th>\n      <th>OSLG_0.475</th>\n      <th>OSLG_0.47600000000000003</th>\n      <th>OSLG_0.48</th>\n      <th>OSLG_0.48100000000000004</th>\n      <th>OSLG_0.483</th>\n      <th>OSLG_0.494</th>\n      <th>OSLG_0.499</th>\n    </tr>\n  </thead>\n  <tbody>\n    <tr>\n      <th>0</th>\n      <td>1</td>\n      <td>2012</td>\n      <td>734</td>\n      <td>688</td>\n      <td>81</td>\n      <td>0.328</td>\n      <td>0.418</td>\n      <td>0.259</td>\n      <td>0</td>\n      <td>162</td>\n      <td>...</td>\n      <td>0</td>\n      <td>0</td>\n      <td>0</td>\n      <td>0</td>\n      <td>0</td>\n      <td>0</td>\n      <td>0</td>\n      <td>0</td>\n      <td>0</td>\n      <td>0</td>\n    </tr>\n    <tr>\n      <th>1</th>\n      <td>1</td>\n      <td>2012</td>\n      <td>700</td>\n      <td>600</td>\n      <td>94</td>\n      <td>0.320</td>\n      <td>0.389</td>\n      <td>0.247</td>\n      <td>1</td>\n      <td>162</td>\n      <td>...</td>\n      <td>0</td>\n      <td>0</td>\n      <td>0</td>\n      <td>0</td>\n      <td>0</td>\n      <td>0</td>\n      <td>0</td>\n      <td>0</td>\n      <td>0</td>\n      <td>0</td>\n    </tr>\n    <tr>\n      <th>2</th>\n      <td>0</td>\n      <td>2012</td>\n      <td>712</td>\n      <td>705</td>\n      <td>93</td>\n      <td>0.311</td>\n      <td>0.417</td>\n      <td>0.247</td>\n      <td>1</td>\n      <td>162</td>\n      <td>...</td>\n      <td>0</td>\n      <td>0</td>\n      <td>0</td>\n      <td>0</td>\n      <td>0</td>\n      <td>0</td>\n      <td>0</td>\n      <td>0</td>\n      <td>0</td>\n      <td>0</td>\n    </tr>\n    <tr>\n      <th>3</th>\n      <td>0</td>\n      <td>2012</td>\n      <td>734</td>\n      <td>806</td>\n      <td>69</td>\n      <td>0.315</td>\n      <td>0.415</td>\n      <td>0.260</td>\n      <td>0</td>\n      <td>162</td>\n      <td>...</td>\n      <td>0</td>\n      <td>0</td>\n      <td>0</td>\n      <td>0</td>\n      <td>0</td>\n      <td>0</td>\n      <td>0</td>\n      <td>0</td>\n      <td>0</td>\n      <td>0</td>\n    </tr>\n    <tr>\n      <th>4</th>\n      <td>1</td>\n      <td>2012</td>\n      <td>613</td>\n      <td>759</td>\n      <td>61</td>\n      <td>0.302</td>\n      <td>0.378</td>\n      <td>0.240</td>\n      <td>0</td>\n      <td>162</td>\n      <td>...</td>\n      <td>0</td>\n      <td>0</td>\n      <td>0</td>\n      <td>0</td>\n      <td>0</td>\n      <td>0</td>\n      <td>0</td>\n      <td>0</td>\n      <td>0</td>\n      <td>0</td>\n    </tr>\n    <tr>\n      <th>...</th>\n      <td>...</td>\n      <td>...</td>\n      <td>...</td>\n      <td>...</td>\n      <td>...</td>\n      <td>...</td>\n      <td>...</td>\n      <td>...</td>\n      <td>...</td>\n      <td>...</td>\n      <td>...</td>\n      <td>...</td>\n      <td>...</td>\n      <td>...</td>\n      <td>...</td>\n      <td>...</td>\n      <td>...</td>\n      <td>...</td>\n      <td>...</td>\n      <td>...</td>\n      <td>...</td>\n    </tr>\n    <tr>\n      <th>1227</th>\n      <td>1</td>\n      <td>1962</td>\n      <td>705</td>\n      <td>759</td>\n      <td>81</td>\n      <td>0.330</td>\n      <td>0.390</td>\n      <td>0.260</td>\n      <td>0</td>\n      <td>161</td>\n      <td>...</td>\n      <td>0</td>\n      <td>0</td>\n      <td>0</td>\n      <td>0</td>\n      <td>0</td>\n      <td>0</td>\n      <td>0</td>\n      <td>0</td>\n      <td>0</td>\n      <td>0</td>\n    </tr>\n    <tr>\n      <th>1228</th>\n      <td>1</td>\n      <td>1962</td>\n      <td>706</td>\n      <td>626</td>\n      <td>93</td>\n      <td>0.321</td>\n      <td>0.394</td>\n      <td>0.268</td>\n      <td>0</td>\n      <td>161</td>\n      <td>...</td>\n      <td>0</td>\n      <td>0</td>\n      <td>0</td>\n      <td>0</td>\n      <td>0</td>\n      <td>0</td>\n      <td>0</td>\n      <td>0</td>\n      <td>0</td>\n      <td>0</td>\n    </tr>\n    <tr>\n      <th>1229</th>\n      <td>1</td>\n      <td>1962</td>\n      <td>878</td>\n      <td>690</td>\n      <td>103</td>\n      <td>0.341</td>\n      <td>0.441</td>\n      <td>0.278</td>\n      <td>1</td>\n      <td>165</td>\n      <td>...</td>\n      <td>0</td>\n      <td>0</td>\n      <td>0</td>\n      <td>0</td>\n      <td>0</td>\n      <td>0</td>\n      <td>0</td>\n      <td>0</td>\n      <td>0</td>\n      <td>0</td>\n    </tr>\n    <tr>\n      <th>1230</th>\n      <td>1</td>\n      <td>1962</td>\n      <td>774</td>\n      <td>664</td>\n      <td>84</td>\n      <td>0.335</td>\n      <td>0.394</td>\n      <td>0.271</td>\n      <td>0</td>\n      <td>163</td>\n      <td>...</td>\n      <td>0</td>\n      <td>0</td>\n      <td>0</td>\n      <td>0</td>\n      <td>0</td>\n      <td>0</td>\n      <td>0</td>\n      <td>0</td>\n      <td>0</td>\n      <td>0</td>\n    </tr>\n    <tr>\n      <th>1231</th>\n      <td>0</td>\n      <td>1962</td>\n      <td>599</td>\n      <td>716</td>\n      <td>60</td>\n      <td>0.308</td>\n      <td>0.373</td>\n      <td>0.250</td>\n      <td>0</td>\n      <td>162</td>\n      <td>...</td>\n      <td>0</td>\n      <td>0</td>\n      <td>0</td>\n      <td>0</td>\n      <td>0</td>\n      <td>0</td>\n      <td>0</td>\n      <td>0</td>\n      <td>0</td>\n      <td>0</td>\n    </tr>\n  </tbody>\n</table>\n<p>1232 rows × 205 columns</p>\n</div>"
     },
     "metadata": {},
     "output_type": "display_data"
    }
   ],
   "source": [
    "df = pd.get_dummies(df)\n",
    "display(df)\n"
   ],
   "metadata": {
    "collapsed": false,
    "pycharm": {
     "name": "#%%\n"
    }
   }
  },
  {
   "cell_type": "markdown",
   "metadata": {},
   "source": [
    "## Train Test Split"
   ]
  },
  {
   "cell_type": "code",
   "execution_count": 6,
   "metadata": {
    "collapsed": true
   },
   "outputs": [],
   "source": [
    "from sklearn.model_selection import train_test_split\n",
    "train, test = train_test_split(df, test_size=0.3)\n",
    "\n",
    "x_train = train.drop('W', axis=1)\n",
    "y_train = train['W']\n",
    "\n",
    "x_test = test.drop('W', axis=1)\n",
    "y_test = test['W']"
   ]
  },
  {
   "cell_type": "code",
   "execution_count": 7,
   "outputs": [],
   "source": [
    "#Scaler\n",
    "from sklearn.preprocessing import MinMaxScaler\n",
    "\n",
    "scaler = MinMaxScaler(feature_range=(0,1))\n",
    "\n",
    "x_train_scaled = scaler.fit_transform(x_train)\n",
    "x_train = pd.DataFrame(x_train_scaled)\n",
    "\n",
    "x_test_scaled = scaler.fit_transform(x_test)\n",
    "x_test = pd.DataFrame(x_test_scaled)\n"
   ],
   "metadata": {
    "collapsed": false,
    "pycharm": {
     "name": "#%%\n"
    }
   }
  },
  {
   "cell_type": "code",
   "execution_count": 8,
   "metadata": {
    "collapsed": true
   },
   "outputs": [],
   "source": [
    "from sklearn import neighbors\n",
    "from sklearn.metrics import mean_squared_error\n",
    "from math import sqrt\n"
   ]
  },
  {
   "cell_type": "markdown",
   "source": [
    "## Predictions and Evaluations\n",
    "Let's evaluate our KNN model!"
   ],
   "metadata": {
    "collapsed": false
   }
  },
  {
   "cell_type": "code",
   "execution_count": 9,
   "metadata": {
    "collapsed": true
   },
   "outputs": [
    {
     "name": "stdout",
     "output_type": "stream",
     "text": [
      "RMSE for k=1: 7.45998333452236\n",
      "R^2 for k=1: 0.5718877846747844\n",
      "\n",
      "RMSE for k=2: 6.395152302562698\n",
      "R^2 for k=2: 0.6853819110118501\n",
      "\n",
      "RMSE for k=3: 6.096717967068018\n",
      "R^2 for k=3: 0.7140605250185146\n",
      "\n",
      "RMSE for k=4: 5.85587023560258\n",
      "R^2 for k=4: 0.7362060725563351\n",
      "\n",
      "RMSE for k=5: 5.802292184524544\n",
      "R^2 for k=5: 0.7410111337036231\n",
      "\n",
      "RMSE for k=6: 5.755960482932547\n",
      "R^2 for k=6: 0.745130708000381\n",
      "\n",
      "RMSE for k=7: 5.731614651086495\n",
      "R^2 for k=7: 0.7472821759864997\n",
      "\n",
      "RMSE for k=8: 5.600008295119339\n",
      "R^2 for k=8: 0.7587544862697808\n",
      "\n",
      "RMSE for k=9: 5.537050260947513\n",
      "R^2 for k=9: 0.7641483946737225\n",
      "\n",
      "RMSE for k=10: 5.503780027816754\n",
      "R^2 for k=10: 0.7669741820688004\n",
      "\n",
      "RMSE for k=11: 5.458029190525468\n",
      "R^2 for k=11: 0.7708321906651543\n",
      "\n",
      "RMSE for k=12: 5.422842979100168\n",
      "R^2 for k=12: 0.7737774132444568\n",
      "\n",
      "RMSE for k=13: 5.451079264946227\n",
      "R^2 for k=13: 0.7714154360604617\n",
      "\n",
      "RMSE for k=14: 5.431688548267781\n",
      "R^2 for k=14: 0.7730387971403079\n",
      "\n",
      "RMSE for k=15: 5.446484388318046\n",
      "R^2 for k=15: 0.7718006350815417\n",
      "\n",
      "RMSE for k=16: 5.478012908190094\n",
      "R^2 for k=16: 0.7691509946039734\n",
      "\n",
      "RMSE for k=17: 5.498974169571053\n",
      "R^2 for k=17: 0.7673809570865777\n",
      "\n",
      "RMSE for k=18: 5.490445032355755\n",
      "R^2 for k=18: 0.7681020010525135\n",
      "\n",
      "RMSE for k=19: 5.495692433379339\n",
      "R^2 for k=19: 0.7676585239618492\n",
      "\n",
      "RMSE for k=20: 5.494823116450709\n",
      "R^2 for k=20: 0.7677320223994597\n",
      "\n",
      "RMSE for k=21: 5.525989784075424\n",
      "R^2 for k=21: 0.7650896994049862\n",
      "\n",
      "RMSE for k=22: 5.546574684469671\n",
      "R^2 for k=22: 0.7633363079219511\n",
      "\n",
      "RMSE for k=23: 5.59653168610752\n",
      "R^2 for k=23: 0.7590539343905996\n",
      "\n",
      "RMSE for k=24: 5.627011652301347\n",
      "R^2 for k=24: 0.7564222950258668\n",
      "\n",
      "RMSE for k=25: 5.642550697900585\n",
      "R^2 for k=25: 0.755075153272104\n",
      "\n",
      "RMSE for k=26: 5.702531625854165\n",
      "R^2 for k=26: 0.7498403214090732\n",
      "\n",
      "RMSE for k=27: 5.721830717013705\n",
      "R^2 for k=27: 0.7481442242303399\n",
      "\n",
      "RMSE for k=28: 5.738986791042048\n",
      "R^2 for k=28: 0.7466316544686578\n",
      "\n",
      "RMSE for k=29: 5.775649103750717\n",
      "R^2 for k=29: 0.7433841334377782\n",
      "\n",
      "RMSE for k=30: 5.811237172709222\n",
      "R^2 for k=30: 0.7402119881295188\n",
      "\n",
      "RMSE for k=31: 5.848963333671557\n",
      "R^2 for k=31: 0.736827986705692\n",
      "\n",
      "RMSE for k=32: 5.8726818492951365\n",
      "R^2 for k=32: 0.7346892467530561\n",
      "\n",
      "RMSE for k=33: 5.894520982150625\n",
      "R^2 for k=33: 0.7327123201987633\n",
      "\n",
      "RMSE for k=34: 5.909189577483457\n",
      "R^2 for k=34: 0.7313803669407479\n",
      "\n",
      "RMSE for k=35: 5.929760405499525\n",
      "R^2 for k=35: 0.7295068964182818\n",
      "\n",
      "RMSE for k=36: 5.965450452321191\n",
      "R^2 for k=36: 0.7262410093149392\n",
      "\n",
      "RMSE for k=37: 5.9960346269765985\n",
      "R^2 for k=37: 0.7234267521970379\n",
      "\n",
      "RMSE for k=38: 6.038131868407893\n",
      "R^2 for k=38: 0.7195295623804192\n",
      "\n",
      "RMSE for k=39: 6.067121347124242\n",
      "R^2 for k=39: 0.7168299824574824\n",
      "\n",
      "RMSE for k=40: 6.085451747649715\n",
      "R^2 for k=40: 0.7151163325506651\n",
      "\n",
      "RMSE for k=41: 6.119534435385592\n",
      "R^2 for k=41: 0.711916310043675\n",
      "\n",
      "RMSE for k=42: 6.150393947793913\n",
      "R^2 for k=42: 0.7090034944371989\n",
      "\n",
      "RMSE for k=43: 6.17357191754958\n",
      "R^2 for k=43: 0.7068061011989871\n",
      "\n",
      "RMSE for k=44: 6.217780813649972\n",
      "R^2 for k=44: 0.7025919482332834\n",
      "\n",
      "RMSE for k=45: 6.235090832620192\n",
      "R^2 for k=45: 0.7009337022240021\n",
      "\n",
      "RMSE for k=46: 6.262299602481909\n",
      "R^2 for k=46: 0.6983178684039077\n",
      "\n",
      "RMSE for k=47: 6.285587948549872\n",
      "R^2 for k=47: 0.6960698949963663\n",
      "\n",
      "RMSE for k=48: 6.31657067408461\n",
      "R^2 for k=48: 0.6930662647657145\n",
      "\n",
      "RMSE for k=49: 6.351971071992657\n",
      "R^2 for k=49: 0.6896162839850394\n",
      "\n",
      "RMSE for k=50: 6.360844411052798\n",
      "R^2 for k=50: 0.6887485018092585\n",
      "\n",
      "RMSE for k=51: 6.39158747516894\n",
      "R^2 for k=51: 0.6857325661755559\n",
      "\n",
      "RMSE for k=52: 6.409120152240836\n",
      "R^2 for k=52: 0.6840060759767634\n",
      "\n",
      "RMSE for k=53: 6.430620366387283\n",
      "R^2 for k=53: 0.681882435776658\n",
      "\n",
      "RMSE for k=54: 6.46107713465504\n",
      "R^2 for k=54: 0.6788619567075557\n",
      "\n",
      "RMSE for k=55: 6.480599111388427\n",
      "R^2 for k=55: 0.676918404428074\n",
      "\n",
      "RMSE for k=56: 6.516518017086732\n",
      "R^2 for k=56: 0.6733271015382145\n",
      "\n",
      "RMSE for k=57: 6.541056111588108\n",
      "R^2 for k=57: 0.6708622813642389\n",
      "\n",
      "RMSE for k=58: 6.572706688571976\n",
      "R^2 for k=58: 0.6676693406063434\n",
      "\n",
      "RMSE for k=59: 6.602204875523208\n",
      "R^2 for k=59: 0.6646796590127844\n",
      "\n",
      "RMSE for k=60: 6.643979979648492\n",
      "R^2 for k=60: 0.6604227902848263\n",
      "\n",
      "RMSE for k=61: 6.67056537317386\n",
      "R^2 for k=61: 0.6576997670956917\n",
      "\n",
      "RMSE for k=62: 6.689318944023012\n",
      "R^2 for k=62: 0.6557723816447696\n",
      "\n",
      "RMSE for k=63: 6.718503704957684\n",
      "R^2 for k=63: 0.6527621750553974\n",
      "\n",
      "RMSE for k=64: 6.744622658670738\n",
      "R^2 for k=64: 0.6500570733199738\n",
      "\n",
      "RMSE for k=65: 6.7786355476639795\n",
      "R^2 for k=65: 0.6465186746167146\n",
      "\n",
      "RMSE for k=66: 6.798861926119149\n",
      "R^2 for k=66: 0.6444060625068535\n",
      "\n",
      "RMSE for k=67: 6.834518390383133\n",
      "R^2 for k=67: 0.6406664747351644\n",
      "\n",
      "RMSE for k=68: 6.872152369284616\n",
      "R^2 for k=68: 0.636698270436342\n",
      "\n",
      "RMSE for k=69: 6.900295444052482\n",
      "R^2 for k=69: 0.6337165660439068\n",
      "\n",
      "RMSE for k=70: 6.909007326626759\n",
      "R^2 for k=70: 0.6327910889591304\n",
      "\n",
      "RMSE for k=71: 6.929774137546573\n",
      "R^2 for k=71: 0.630580288403279\n",
      "\n",
      "RMSE for k=72: 6.953550186309641\n",
      "R^2 for k=72: 0.6280409822960527\n",
      "\n",
      "RMSE for k=73: 6.982744737182785\n",
      "R^2 for k=73: 0.624911078188167\n",
      "\n",
      "RMSE for k=74: 7.005502235801498\n",
      "R^2 for k=74: 0.6224621856848038\n",
      "\n",
      "RMSE for k=75: 7.029573599087286\n",
      "R^2 for k=75: 0.6198632390856891\n",
      "\n",
      "RMSE for k=76: 7.057761736553193\n",
      "R^2 for k=76: 0.6168084787798387\n",
      "\n",
      "RMSE for k=77: 7.088545487474606\n",
      "R^2 for k=77: 0.6134584655104269\n",
      "\n",
      "RMSE for k=78: 7.114485655536121\n",
      "R^2 for k=78: 0.6106242313382095\n",
      "\n",
      "RMSE for k=79: 7.140783796526533\n",
      "R^2 for k=79: 0.6077403168069873\n",
      "\n",
      "RMSE for k=80: 7.171263270295679\n",
      "R^2 for k=80: 0.6043845550100824\n",
      "\n",
      "RMSE for k=81: 7.190509873355517\n",
      "R^2 for k=81: 0.6022581594482292\n",
      "\n",
      "RMSE for k=82: 7.204744551471893\n",
      "R^2 for k=82: 0.6006818230585493\n",
      "\n",
      "RMSE for k=83: 7.225348245987737\n",
      "R^2 for k=83: 0.5983946652481753\n",
      "\n",
      "RMSE for k=84: 7.249113203991582\n",
      "R^2 for k=84: 0.5957484731374426\n",
      "\n",
      "RMSE for k=85: 7.26563251751335\n",
      "R^2 for k=85: 0.5939039532888475\n",
      "\n",
      "RMSE for k=86: 7.285725586324464\n",
      "R^2 for k=86: 0.591654734486069\n",
      "\n",
      "RMSE for k=87: 7.310304774411055\n",
      "R^2 for k=87: 0.5888948926346518\n",
      "\n",
      "RMSE for k=88: 7.335580910310593\n",
      "R^2 for k=88: 0.5860471008885701\n",
      "\n",
      "RMSE for k=89: 7.3551167149377354\n",
      "R^2 for k=89: 0.5838393217344606\n",
      "\n",
      "RMSE for k=90: 7.372601208658668\n",
      "R^2 for k=90: 0.5818583858271131\n",
      "\n",
      "RMSE for k=91: 7.400187349508643\n",
      "R^2 for k=91: 0.5787234017716028\n",
      "\n",
      "RMSE for k=92: 7.418102965675242\n",
      "R^2 for k=92: 0.5766811383748305\n",
      "\n",
      "RMSE for k=93: 7.4468596308404775\n",
      "R^2 for k=93: 0.5733927413499997\n",
      "\n",
      "RMSE for k=94: 7.463817570836038\n",
      "R^2 for k=94: 0.5714475946184614\n",
      "\n",
      "RMSE for k=95: 7.4803951798095625\n",
      "R^2 for k=95: 0.5695417967436116\n",
      "\n",
      "RMSE for k=96: 7.503796762477734\n",
      "R^2 for k=96: 0.5668443028957961\n",
      "\n",
      "RMSE for k=97: 7.518267516011116\n",
      "R^2 for k=97: 0.565172047261727\n",
      "\n",
      "RMSE for k=98: 7.542426479845048\n",
      "R^2 for k=98: 0.5623730324705911\n",
      "\n",
      "RMSE for k=99: 7.568733899423225\n",
      "R^2 for k=99: 0.5593148881876258\n",
      "\n",
      "RMSE for k=100: 7.5886103844885575\n",
      "R^2 for k=100: 0.5569972555014577\n",
      "\n"
     ]
    }
   ],
   "source": [
    "rmse_val = [] # to store rmse values for different k\n",
    "for k in range(50):\n",
    "    k = k + 1\n",
    "    model = neighbors.KNeighborsRegressor(n_neighbors=k)\n",
    "    model.fit(x_train, y_train)\n",
    "    pred = model.predict(x_test)\n",
    "    error = sqrt(mean_squared_error(y_test, pred))\n",
    "    rmse_val.append(error)\n",
    "    print(\"RMSE for k={}: {}\".format(k, error))\n",
    "    print(\"R^2 for k={}: {}\\n\".format(k, model.score(x_test, y_test)))"
   ]
  },
  {
   "cell_type": "markdown",
   "metadata": {},
   "source": [
    "## Plotting the RMSE values against k values"
   ]
  },
  {
   "cell_type": "code",
   "execution_count": 10,
   "metadata": {
    "collapsed": false
   },
   "outputs": [
    {
     "data": {
      "text/plain": "Text(0, 0.5, 'RMSE')"
     },
     "execution_count": 10,
     "metadata": {},
     "output_type": "execute_result"
    },
    {
     "data": {
      "text/plain": "<Figure size 1440x720 with 1 Axes>",
      "image/png": "[encoded data removed]"
     },
     "metadata": {
      "needs_background": "light"
     },
     "output_type": "display_data"
    }
   ],
   "source": [
    "plt.figure(figsize=(20,10))\n",
    "plt.plot(range(1,51), rmse_val, color='blue', linestyle='dashed', marker='o',\n",
    "        markerfacecolor='red', markersize=5)\n",
    "plt.title('RMSE vs. k-Value')\n",
    "plt.xlabel('k')\n",
    "plt.ylabel('RMSE')"
   ]
  },
  {
   "cell_type": "markdown",
   "source": [
    "## Implementing GridsearchCV\n",
    "\n",
    "In order to optimize finding the best k-Value, gridsearch could be implemented"
   ],
   "metadata": {
    "collapsed": false,
    "pycharm": {
     "name": "#%% md\n"
    }
   }
  },
  {
   "cell_type": "code",
   "execution_count": 11,
   "outputs": [
    {
     "name": "stdout",
     "output_type": "stream",
     "text": [
      "Best k-Value is:  10\n"
     ]
    }
   ],
   "source": [
    "from sklearn.model_selection import GridSearchCV\n",
    "params = {'n_neighbors': range(1, 51)}\n",
    "\n",
    "knn = neighbors.KNeighborsRegressor()\n",
    "\n",
    "model = GridSearchCV(knn, params, cv=5)\n",
    "model.fit(x_train, y_train)\n",
    "print(\"Best k-Value is: \", model.best_params_['n_neighbors'])"
   ],
   "metadata": {
    "collapsed": false,
    "pycharm": {
     "name": "#%%\n"
    }
   }
  },
  {
   "cell_type": "code",
   "execution_count": 15,
   "outputs": [
    {
     "data": {
      "text/plain": "<matplotlib.axes._subplots.AxesSubplot at 0x12487da50>"
     },
     "execution_count": 15,
     "metadata": {},
     "output_type": "execute_result"
    },
    {
     "data": {
      "text/plain": "<Figure size 432x288 with 1 Axes>",
      "image/png": "[encoded data removed]"
     },
     "metadata": {
      "needs_background": "light"
     },
     "output_type": "display_data"
    }
   ],
   "source": [
    "model_12 = neighbors.KNeighborsRegressor(n_neighbors=12)\n",
    "model_12.fit(x_train, y_train)\n",
    "pred_cv = model.predict(x_test)\n",
    "sns.distplot(y_test)\n",
    "sns.distplot(pred_cv, color='red')\n",
    "\n",
    "\n"
   ],
   "metadata": {
    "collapsed": false,
    "pycharm": {
     "name": "#%%\n"
    }
   }
  },
  {
   "cell_type": "code",
   "execution_count": null,
   "outputs": [],
   "source": [
    "\n"
   ],
   "metadata": {
    "collapsed": false,
    "pycharm": {
     "name": "#%%\n"
    }
   }
  }
 ],
 "metadata": {
  "kernelspec": {
   "display_name": "Python 3",
   "language": "python",
   "name": "python3"
  },
  "language_info": {
   "codemirror_mode": {
    "name": "ipython",
    "version": 3
   },
   "file_extension": ".py",
   "mimetype": "text/x-python",
   "name": "python",
   "nbconvert_exporter": "python",
   "pygments_lexer": "ipython3",
   "version": "3.5.1"
  }
 },
 "nbformat": 4,
 "nbformat_minor": 0
}