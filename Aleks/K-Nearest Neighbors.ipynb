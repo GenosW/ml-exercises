{
 "cells": [
  {
   "cell_type": "markdown",
   "metadata": {},
   "source": [
    "# K Nearest Neighbors Theory\n",
    "\n",
    "A classification algorithm operating on the principle of a datapoint being classified\n",
    "based on its proximity to \"neighbouring\" points.\n",
    "\n",
    "Training Algorithm:\n",
    "1. Store all the data\n",
    "\n",
    "Prediction Algorithm:\n",
    "1. Calculate the distance from x to all points in the data\n",
    "2. Sort the point in the data by increasing distance from x\n",
    "3. Predict the majority label of the k-nearest neighbours (closest points)\n",
    "\n",
    "Generally, choosing a different k will affect what class new points will be assigned to.\n",
    "A greater k will often lead to a more \"smooth\" and \"biased\" model --> a cleaner separation of\n",
    "the model. It must also be considered, though, that this reduction in the noise is at the cost\n",
    "of more potential errors.\n",
    "\n",
    "\n",
    "Pros:\n",
    "- Simple\n",
    "- Trivial training\n",
    "- Works with great number of classes\n",
    "- Adding more data is easy\n",
    "- Few algorithm parameters: k and \"distance\" metric\n",
    "  - the distance metric --> mathematical definition of the distance between the datapoints\n",
    "\n",
    "Cons:\n",
    "- Costly --> algorithm gets worse for larger data sets and the prediction costs rise\n",
    "- Not optimal for high dimensional data sets (features/dimensions increase --> distance measuring for the dimesnions\n",
    "is disrupted)\n",
    "- Not optimal for categorical features\n"
   ]
  },
  {
   "cell_type": "markdown",
   "metadata": {},
   "source": [
    "## Import Libraries"
   ]
  },
  {
   "cell_type": "code",
   "execution_count": 1,
   "metadata": {
    "collapsed": true
   },
   "outputs": [],
   "source": [
    "import pandas as pd\n",
    "import seaborn as sns\n",
    "import matplotlib.pyplot as plt\n",
    "import numpy as np\n",
    "%matplotlib inline"
   ]
  },
  {
   "cell_type": "markdown",
   "metadata": {},
   "source": [
    "## Get the Data"
   ]
  },
  {
   "cell_type": "code",
   "execution_count": 2,
   "metadata": {
    "collapsed": false
   },
   "outputs": [],
   "source": [
    "df = pd.read_csv(\"baseball.csv\")"
   ]
  },
  {
   "cell_type": "code",
   "execution_count": 3,
   "metadata": {
    "collapsed": false
   },
   "outputs": [
    {
     "data": {
      "text/plain": "  Team League  Year   RS   RA   W    OBP    SLG     BA  Playoffs RankSeason  \\\n0  ARI     NL  2012  734  688  81  0.328  0.418  0.259         0          ?   \n1  ATL     NL  2012  700  600  94  0.320  0.389  0.247         1          4   \n2  BAL     AL  2012  712  705  93  0.311  0.417  0.247         1          5   \n3  BOS     AL  2012  734  806  69  0.315  0.415  0.260         0          ?   \n4  CHC     NL  2012  613  759  61  0.302  0.378  0.240         0          ?   \n\n  RankPlayoffs    G   OOBP                 OSLG  \n0            ?  162  0.317                0.415  \n1            5  162  0.306  0.37799999999999995  \n2            4  162  0.315  0.40299999999999997  \n3            ?  162  0.331                0.428  \n4            ?  162  0.335                0.424  ",
      "text/html": "<div>\n<style scoped>\n    .dataframe tbody tr th:only-of-type {\n        vertical-align: middle;\n    }\n\n    .dataframe tbody tr th {\n        vertical-align: top;\n    }\n\n    .dataframe thead th {\n        text-align: right;\n    }\n</style>\n<table border=\"1\" class=\"dataframe\">\n  <thead>\n    <tr style=\"text-align: right;\">\n      <th></th>\n      <th>Team</th>\n      <th>League</th>\n      <th>Year</th>\n      <th>RS</th>\n      <th>RA</th>\n      <th>W</th>\n      <th>OBP</th>\n      <th>SLG</th>\n      <th>BA</th>\n      <th>Playoffs</th>\n      <th>RankSeason</th>\n      <th>RankPlayoffs</th>\n      <th>G</th>\n      <th>OOBP</th>\n      <th>OSLG</th>\n    </tr>\n  </thead>\n  <tbody>\n    <tr>\n      <th>0</th>\n      <td>ARI</td>\n      <td>NL</td>\n      <td>2012</td>\n      <td>734</td>\n      <td>688</td>\n      <td>81</td>\n      <td>0.328</td>\n      <td>0.418</td>\n      <td>0.259</td>\n      <td>0</td>\n      <td>?</td>\n      <td>?</td>\n      <td>162</td>\n      <td>0.317</td>\n      <td>0.415</td>\n    </tr>\n    <tr>\n      <th>1</th>\n      <td>ATL</td>\n      <td>NL</td>\n      <td>2012</td>\n      <td>700</td>\n      <td>600</td>\n      <td>94</td>\n      <td>0.320</td>\n      <td>0.389</td>\n      <td>0.247</td>\n      <td>1</td>\n      <td>4</td>\n      <td>5</td>\n      <td>162</td>\n      <td>0.306</td>\n      <td>0.37799999999999995</td>\n    </tr>\n    <tr>\n      <th>2</th>\n      <td>BAL</td>\n      <td>AL</td>\n      <td>2012</td>\n      <td>712</td>\n      <td>705</td>\n      <td>93</td>\n      <td>0.311</td>\n      <td>0.417</td>\n      <td>0.247</td>\n      <td>1</td>\n      <td>5</td>\n      <td>4</td>\n      <td>162</td>\n      <td>0.315</td>\n      <td>0.40299999999999997</td>\n    </tr>\n    <tr>\n      <th>3</th>\n      <td>BOS</td>\n      <td>AL</td>\n      <td>2012</td>\n      <td>734</td>\n      <td>806</td>\n      <td>69</td>\n      <td>0.315</td>\n      <td>0.415</td>\n      <td>0.260</td>\n      <td>0</td>\n      <td>?</td>\n      <td>?</td>\n      <td>162</td>\n      <td>0.331</td>\n      <td>0.428</td>\n    </tr>\n    <tr>\n      <th>4</th>\n      <td>CHC</td>\n      <td>NL</td>\n      <td>2012</td>\n      <td>613</td>\n      <td>759</td>\n      <td>61</td>\n      <td>0.302</td>\n      <td>0.378</td>\n      <td>0.240</td>\n      <td>0</td>\n      <td>?</td>\n      <td>?</td>\n      <td>162</td>\n      <td>0.335</td>\n      <td>0.424</td>\n    </tr>\n  </tbody>\n</table>\n</div>"
     },
     "execution_count": 3,
     "metadata": {},
     "output_type": "execute_result"
    }
   ],
   "source": [
    "df.head()"
   ]
  },
  {
   "cell_type": "markdown",
   "metadata": {},
   "source": [
    "## Standardize the Variables\n",
    "Impute the data.\n",
    "Replace League with int and drop unneeded columns.\n",
    "Because the KNN classifier predicts the class of a given test observation by identifying the observations that are nearest to it, the scale of the variables matters. Any variables that are on a large scale will have a much larger effect on the distance between the observations, and hence on the KNN classifier, than variables that are on a small scale."
   ]
  },
  {
   "cell_type": "code",
   "execution_count": 4,
   "metadata": {
    "collapsed": true
   },
   "outputs": [],
   "source": [
    "from sklearn.impute import SimpleImputer\n",
    "\n",
    "imputerQ1 = SimpleImputer(missing_values='?', strategy='constant', fill_value=0.3)\n",
    "imputerQ1 = imputerQ1.fit(df[['OOBP', 'OSLG']])\n",
    "df[['OOBP', 'OSLG']] = imputerQ1.transform(df[['OOBP', 'OSLG']])\n",
    "\n",
    "imputerQ2 = SimpleImputer(missing_values='?', strategy='constant', fill_value=6)\n",
    "imputerQ2 = imputerQ2.fit(df[['RankSeason']])\n",
    "df[['RankSeason']] = imputerQ2.transform(df[['RankSeason']])\n",
    "df.League.replace(['NL', 'AL'], [1, 0], inplace=True)\n",
    "\n",
    "#Drop useless columns - of no interest\n",
    "df.drop(['RankPlayoffs', 'Team'], axis=1, inplace=True)"
   ]
  },
  {
   "cell_type": "code",
   "execution_count": 5,
   "outputs": [
    {
     "data": {
      "text/plain": "      League  Year   RS   RA    W    OBP    SLG     BA  Playoffs    G  ...  \\\n0          1  2012  734  688   81  0.328  0.418  0.259         0  162  ...   \n1          1  2012  700  600   94  0.320  0.389  0.247         1  162  ...   \n2          0  2012  712  705   93  0.311  0.417  0.247         1  162  ...   \n3          0  2012  734  806   69  0.315  0.415  0.260         0  162  ...   \n4          1  2012  613  759   61  0.302  0.378  0.240         0  162  ...   \n...      ...   ...  ...  ...  ...    ...    ...    ...       ...  ...  ...   \n1227       1  1962  705  759   81  0.330  0.390  0.260         0  161  ...   \n1228       1  1962  706  626   93  0.321  0.394  0.268         0  161  ...   \n1229       1  1962  878  690  103  0.341  0.441  0.278         1  165  ...   \n1230       1  1962  774  664   84  0.335  0.394  0.271         0  163  ...   \n1231       0  1962  599  716   60  0.308  0.373  0.250         0  162  ...   \n\n      OSLG_0.47100000000000003  OSLG_0.473  OSLG_0.474  OSLG_0.475  \\\n0                            0           0           0           0   \n1                            0           0           0           0   \n2                            0           0           0           0   \n3                            0           0           0           0   \n4                            0           0           0           0   \n...                        ...         ...         ...         ...   \n1227                         0           0           0           0   \n1228                         0           0           0           0   \n1229                         0           0           0           0   \n1230                         0           0           0           0   \n1231                         0           0           0           0   \n\n      OSLG_0.47600000000000003  OSLG_0.48  OSLG_0.48100000000000004  \\\n0                            0          0                         0   \n1                            0          0                         0   \n2                            0          0                         0   \n3                            0          0                         0   \n4                            0          0                         0   \n...                        ...        ...                       ...   \n1227                         0          0                         0   \n1228                         0          0                         0   \n1229                         0          0                         0   \n1230                         0          0                         0   \n1231                         0          0                         0   \n\n      OSLG_0.483  OSLG_0.494  OSLG_0.499  \n0              0           0           0  \n1              0           0           0  \n2              0           0           0  \n3              0           0           0  \n4              0           0           0  \n...          ...         ...         ...  \n1227           0           0           0  \n1228           0           0           0  \n1229           0           0           0  \n1230           0           0           0  \n1231           0           0           0  \n\n[1232 rows x 205 columns]",
      "text/html": "<div>\n<style scoped>\n    .dataframe tbody tr th:only-of-type {\n        vertical-align: middle;\n    }\n\n    .dataframe tbody tr th {\n        vertical-align: top;\n    }\n\n    .dataframe thead th {\n        text-align: right;\n    }\n</style>\n<table border=\"1\" class=\"dataframe\">\n  <thead>\n    <tr style=\"text-align: right;\">\n      <th></th>\n      <th>League</th>\n      <th>Year</th>\n      <th>RS</th>\n      <th>RA</th>\n      <th>W</th>\n      <th>OBP</th>\n      <th>SLG</th>\n      <th>BA</th>\n      <th>Playoffs</th>\n      <th>G</th>\n      <th>...</th>\n      <th>OSLG_0.47100000000000003</th>\n      <th>OSLG_0.473</th>\n      <th>OSLG_0.474</th>\n      <th>OSLG_0.475</th>\n      <th>OSLG_0.47600000000000003</th>\n      <th>OSLG_0.48</th>\n      <th>OSLG_0.48100000000000004</th>\n      <th>OSLG_0.483</th>\n      <th>OSLG_0.494</th>\n      <th>OSLG_0.499</th>\n    </tr>\n  </thead>\n  <tbody>\n    <tr>\n      <th>0</th>\n      <td>1</td>\n      <td>2012</td>\n      <td>734</td>\n      <td>688</td>\n      <td>81</td>\n      <td>0.328</td>\n      <td>0.418</td>\n      <td>0.259</td>\n      <td>0</td>\n      <td>162</td>\n      <td>...</td>\n      <td>0</td>\n      <td>0</td>\n      <td>0</td>\n      <td>0</td>\n      <td>0</td>\n      <td>0</td>\n      <td>0</td>\n      <td>0</td>\n      <td>0</td>\n      <td>0</td>\n    </tr>\n    <tr>\n      <th>1</th>\n      <td>1</td>\n      <td>2012</td>\n      <td>700</td>\n      <td>600</td>\n      <td>94</td>\n      <td>0.320</td>\n      <td>0.389</td>\n      <td>0.247</td>\n      <td>1</td>\n      <td>162</td>\n      <td>...</td>\n      <td>0</td>\n      <td>0</td>\n      <td>0</td>\n      <td>0</td>\n      <td>0</td>\n      <td>0</td>\n      <td>0</td>\n      <td>0</td>\n      <td>0</td>\n      <td>0</td>\n    </tr>\n    <tr>\n      <th>2</th>\n      <td>0</td>\n      <td>2012</td>\n      <td>712</td>\n      <td>705</td>\n      <td>93</td>\n      <td>0.311</td>\n      <td>0.417</td>\n      <td>0.247</td>\n      <td>1</td>\n      <td>162</td>\n      <td>...</td>\n      <td>0</td>\n      <td>0</td>\n      <td>0</td>\n      <td>0</td>\n      <td>0</td>\n      <td>0</td>\n      <td>0</td>\n      <td>0</td>\n      <td>0</td>\n      <td>0</td>\n    </tr>\n    <tr>\n      <th>3</th>\n      <td>0</td>\n      <td>2012</td>\n      <td>734</td>\n      <td>806</td>\n      <td>69</td>\n      <td>0.315</td>\n      <td>0.415</td>\n      <td>0.260</td>\n      <td>0</td>\n      <td>162</td>\n      <td>...</td>\n      <td>0</td>\n      <td>0</td>\n      <td>0</td>\n      <td>0</td>\n      <td>0</td>\n      <td>0</td>\n      <td>0</td>\n      <td>0</td>\n      <td>0</td>\n      <td>0</td>\n    </tr>\n    <tr>\n      <th>4</th>\n      <td>1</td>\n      <td>2012</td>\n      <td>613</td>\n      <td>759</td>\n      <td>61</td>\n      <td>0.302</td>\n      <td>0.378</td>\n      <td>0.240</td>\n      <td>0</td>\n      <td>162</td>\n      <td>...</td>\n      <td>0</td>\n      <td>0</td>\n      <td>0</td>\n      <td>0</td>\n      <td>0</td>\n      <td>0</td>\n      <td>0</td>\n      <td>0</td>\n      <td>0</td>\n      <td>0</td>\n    </tr>\n    <tr>\n      <th>...</th>\n      <td>...</td>\n      <td>...</td>\n      <td>...</td>\n      <td>...</td>\n      <td>...</td>\n      <td>...</td>\n      <td>...</td>\n      <td>...</td>\n      <td>...</td>\n      <td>...</td>\n      <td>...</td>\n      <td>...</td>\n      <td>...</td>\n      <td>...</td>\n      <td>...</td>\n      <td>...</td>\n      <td>...</td>\n      <td>...</td>\n      <td>...</td>\n      <td>...</td>\n      <td>...</td>\n    </tr>\n    <tr>\n      <th>1227</th>\n      <td>1</td>\n      <td>1962</td>\n      <td>705</td>\n      <td>759</td>\n      <td>81</td>\n      <td>0.330</td>\n      <td>0.390</td>\n      <td>0.260</td>\n      <td>0</td>\n      <td>161</td>\n      <td>...</td>\n      <td>0</td>\n      <td>0</td>\n      <td>0</td>\n      <td>0</td>\n      <td>0</td>\n      <td>0</td>\n      <td>0</td>\n      <td>0</td>\n      <td>0</td>\n      <td>0</td>\n    </tr>\n    <tr>\n      <th>1228</th>\n      <td>1</td>\n      <td>1962</td>\n      <td>706</td>\n      <td>626</td>\n      <td>93</td>\n      <td>0.321</td>\n      <td>0.394</td>\n      <td>0.268</td>\n      <td>0</td>\n      <td>161</td>\n      <td>...</td>\n      <td>0</td>\n      <td>0</td>\n      <td>0</td>\n      <td>0</td>\n      <td>0</td>\n      <td>0</td>\n      <td>0</td>\n      <td>0</td>\n      <td>0</td>\n      <td>0</td>\n    </tr>\n    <tr>\n      <th>1229</th>\n      <td>1</td>\n      <td>1962</td>\n      <td>878</td>\n      <td>690</td>\n      <td>103</td>\n      <td>0.341</td>\n      <td>0.441</td>\n      <td>0.278</td>\n      <td>1</td>\n      <td>165</td>\n      <td>...</td>\n      <td>0</td>\n      <td>0</td>\n      <td>0</td>\n      <td>0</td>\n      <td>0</td>\n      <td>0</td>\n      <td>0</td>\n      <td>0</td>\n      <td>0</td>\n      <td>0</td>\n    </tr>\n    <tr>\n      <th>1230</th>\n      <td>1</td>\n      <td>1962</td>\n      <td>774</td>\n      <td>664</td>\n      <td>84</td>\n      <td>0.335</td>\n      <td>0.394</td>\n      <td>0.271</td>\n      <td>0</td>\n      <td>163</td>\n      <td>...</td>\n      <td>0</td>\n      <td>0</td>\n      <td>0</td>\n      <td>0</td>\n      <td>0</td>\n      <td>0</td>\n      <td>0</td>\n      <td>0</td>\n      <td>0</td>\n      <td>0</td>\n    </tr>\n    <tr>\n      <th>1231</th>\n      <td>0</td>\n      <td>1962</td>\n      <td>599</td>\n      <td>716</td>\n      <td>60</td>\n      <td>0.308</td>\n      <td>0.373</td>\n      <td>0.250</td>\n      <td>0</td>\n      <td>162</td>\n      <td>...</td>\n      <td>0</td>\n      <td>0</td>\n      <td>0</td>\n      <td>0</td>\n      <td>0</td>\n      <td>0</td>\n      <td>0</td>\n      <td>0</td>\n      <td>0</td>\n      <td>0</td>\n    </tr>\n  </tbody>\n</table>\n<p>1232 rows × 205 columns</p>\n</div>"
     },
     "metadata": {},
     "output_type": "display_data"
    }
   ],
   "source": [
    "df = pd.get_dummies(df)\n",
    "display(df)\n"
   ],
   "metadata": {
    "collapsed": false,
    "pycharm": {
     "name": "#%%\n"
    }
   }
  },
  {
   "cell_type": "markdown",
   "metadata": {},
   "source": [
    "## Train Test Split"
   ]
  },
  {
   "cell_type": "code",
   "execution_count": 6,
   "metadata": {
    "collapsed": true
   },
   "outputs": [],
   "source": [
    "from sklearn.model_selection import train_test_split\n",
    "train, test = train_test_split(df, test_size=0.3)\n",
    "\n",
    "x_train = train.drop('W', axis=1)\n",
    "y_train = train['W']\n",
    "\n",
    "x_test = test.drop('W', axis=1)\n",
    "y_test = test['W']\n"
   ]
  },
  {
   "cell_type": "code",
   "execution_count": 7,
   "outputs": [],
   "source": [
    "#Scaler\n",
    "from sklearn.preprocessing import MinMaxScaler\n",
    "\n",
    "scaler = MinMaxScaler(feature_range=(0,1))\n",
    "\n",
    "x_train_scaled = scaler.fit_transform(x_train)\n",
    "x_train = pd.DataFrame(x_train_scaled)\n",
    "\n",
    "x_test_scaled = scaler.fit_transform(x_test)\n",
    "x_test = pd.DataFrame(x_test_scaled)"
   ],
   "metadata": {
    "collapsed": false,
    "pycharm": {
     "name": "#%%\n"
    }
   }
  },
  {
   "cell_type": "markdown",
   "metadata": {},
   "source": [
    "## Using KNN\n",
    "Model aiming to predict whether a team will reach the Playoffs or not. Starting with k=1."
   ]
  },
  {
   "cell_type": "code",
   "execution_count": 8,
   "metadata": {
    "collapsed": true
   },
   "outputs": [],
   "source": [
    "from sklearn import neighbors\n",
    "from sklearn.metrics import mean_squared_error\n",
    "from math import sqrt\n"
   ]
  },
  {
   "cell_type": "markdown",
   "source": [
    "## Predictions and Evaluations\n",
    "Let's evaluate our KNN model!"
   ],
   "metadata": {
    "collapsed": false
   }
  },
  {
   "cell_type": "code",
   "execution_count": 20,
   "metadata": {
    "collapsed": true
   },
   "outputs": [
    {
     "name": "stdout",
     "output_type": "stream",
     "text": [
      "RMSE for k=1: 7.65894636744895\n",
      "R^2 for k=1: 0.562455808907377\n",
      "\n",
      "RMSE for k=2: 6.401752293898323\n",
      "R^2 for k=2: 0.6943097428292946\n",
      "\n",
      "RMSE for k=3: 6.271796826702491\n",
      "R^2 for k=3: 0.7065947856071108\n",
      "\n",
      "RMSE for k=4: 6.253026294350427\n",
      "R^2 for k=4: 0.7083483917452608\n",
      "\n",
      "RMSE for k=5: 6.155041879673974\n",
      "R^2 for k=5: 0.7174170918301326\n",
      "\n",
      "RMSE for k=6: 6.0673522036192\n",
      "R^2 for k=6: 0.7254115422585912\n",
      "\n",
      "RMSE for k=7: 5.893998368492157\n",
      "R^2 for k=7: 0.740878237884921\n",
      "\n",
      "RMSE for k=8: 5.825253010396642\n",
      "R^2 for k=8: 0.7468875825597355\n",
      "\n",
      "RMSE for k=9: 5.75238413673756\n",
      "R^2 for k=9: 0.7531804104906932\n",
      "\n",
      "RMSE for k=10: 5.679034463043205\n",
      "R^2 for k=10: 0.7594347604757646\n",
      "\n",
      "RMSE for k=11: 5.688975344781464\n",
      "R^2 for k=11: 0.7585918271725047\n",
      "\n",
      "RMSE for k=12: 5.645482394930611\n",
      "R^2 for k=12: 0.7622689105487863\n",
      "\n",
      "RMSE for k=13: 5.653288190041913\n",
      "R^2 for k=13: 0.7616110524826881\n",
      "\n",
      "RMSE for k=14: 5.653233214760767\n",
      "R^2 for k=14: 0.7616156888766766\n",
      "\n",
      "RMSE for k=15: 5.616891085419537\n",
      "R^2 for k=15: 0.7646707713692432\n",
      "\n",
      "RMSE for k=16: 5.655207926256044\n",
      "R^2 for k=16: 0.7614491213787823\n",
      "\n",
      "RMSE for k=17: 5.648436503913714\n",
      "R^2 for k=17: 0.7620200505791455\n",
      "\n",
      "RMSE for k=18: 5.679818248442052\n",
      "R^2 for k=18: 0.7593683532247446\n",
      "\n",
      "RMSE for k=19: 5.693883030100826\n",
      "R^2 for k=19: 0.7581751382969256\n",
      "\n",
      "RMSE for k=20: 5.711173851035946\n",
      "R^2 for k=20: 0.7567041916026068\n",
      "\n",
      "RMSE for k=21: 5.753209879163946\n",
      "R^2 for k=21: 0.7531095445575154\n",
      "\n",
      "RMSE for k=22: 5.74912225870946\n",
      "R^2 for k=22: 0.7534602482459326\n",
      "\n",
      "RMSE for k=23: 5.767263595702243\n",
      "R^2 for k=23: 0.7519018826058703\n",
      "\n",
      "RMSE for k=24: 5.7941071726304765\n",
      "R^2 for k=24: 0.7495869754348968\n",
      "\n",
      "RMSE for k=25: 5.823974680669643\n",
      "R^2 for k=25: 0.7469986594948579\n",
      "\n",
      "RMSE for k=26: 5.838674228278445\n",
      "R^2 for k=26: 0.7457199112907104\n",
      "\n",
      "RMSE for k=27: 5.86870206145348\n",
      "R^2 for k=27: 0.7430977014824653\n",
      "\n",
      "RMSE for k=28: 5.893881389868466\n",
      "R^2 for k=28: 0.7408885234005951\n",
      "\n",
      "RMSE for k=29: 5.936921913748161\n",
      "R^2 for k=29: 0.7370903424741252\n",
      "\n",
      "RMSE for k=30: 5.967979874612832\n",
      "R^2 for k=30: 0.7343324163979582\n",
      "\n",
      "RMSE for k=31: 5.990172037363189\n",
      "R^2 for k=31: 0.732352952612342\n",
      "\n",
      "RMSE for k=32: 5.9995281961882725\n",
      "R^2 for k=32: 0.7315162140658685\n",
      "\n",
      "RMSE for k=33: 6.027548047730446\n",
      "R^2 for k=33: 0.7290025353964349\n",
      "\n",
      "RMSE for k=34: 6.047928834496299\n",
      "R^2 for k=34: 0.7271668041433155\n",
      "\n",
      "RMSE for k=35: 6.056023062513967\n",
      "R^2 for k=35: 0.7264360244188639\n",
      "\n",
      "RMSE for k=36: 6.075660724280933\n",
      "R^2 for k=36: 0.7246589945679428\n",
      "\n",
      "RMSE for k=37: 6.106140720152491\n",
      "R^2 for k=37: 0.7218894377059438\n",
      "\n",
      "RMSE for k=38: 6.133675976423423\n",
      "R^2 for k=38: 0.7193755382588329\n",
      "\n",
      "RMSE for k=39: 6.173780516160233\n",
      "R^2 for k=39: 0.7156938610297001\n",
      "\n",
      "RMSE for k=40: 6.20250562381958\n",
      "R^2 for k=40: 0.7130420909106908\n",
      "\n",
      "RMSE for k=41: 6.227350006021555\n",
      "R^2 for k=41: 0.7107386442930244\n",
      "\n",
      "RMSE for k=42: 6.254311989281923\n",
      "R^2 for k=42: 0.7082284454899747\n",
      "\n",
      "RMSE for k=43: 6.275940393920609\n",
      "R^2 for k=43: 0.7062069714407908\n",
      "\n",
      "RMSE for k=44: 6.3013876945775396\n",
      "R^2 for k=44: 0.7038196330791535\n",
      "\n",
      "RMSE for k=45: 6.3365019206122914\n",
      "R^2 for k=45: 0.700509529956855\n",
      "\n",
      "RMSE for k=46: 6.379528128689473\n",
      "R^2 for k=46: 0.6964285121997554\n",
      "\n",
      "RMSE for k=47: 6.411583499467845\n",
      "R^2 for k=47: 0.6933701215345692\n",
      "\n",
      "RMSE for k=48: 6.452212298393749\n",
      "R^2 for k=48: 0.6894717162508033\n",
      "\n",
      "RMSE for k=49: 6.484420288171797\n",
      "R^2 for k=49: 0.6863638041358023\n",
      "\n",
      "RMSE for k=50: 6.516043402373992\n",
      "R^2 for k=50: 0.6832972732382966\n",
      "\n",
      "RMSE for k=51: 6.534012122860511\n",
      "R^2 for k=51: 0.6815481783187797\n",
      "\n",
      "RMSE for k=52: 6.543432820295829\n",
      "R^2 for k=52: 0.6806292326782004\n",
      "\n",
      "RMSE for k=53: 6.5796344711679415\n",
      "R^2 for k=53: 0.677085608980952\n",
      "\n",
      "RMSE for k=54: 6.61929539702184\n",
      "R^2 for k=54: 0.6731809290948665\n",
      "\n",
      "RMSE for k=55: 6.6415175705509855\n",
      "R^2 for k=55: 0.6709828639981206\n",
      "\n",
      "RMSE for k=56: 6.659255768971504\n",
      "R^2 for k=56: 0.6692230358209673\n",
      "\n",
      "RMSE for k=57: 6.682722113130495\n",
      "R^2 for k=57: 0.6668876990481143\n",
      "\n",
      "RMSE for k=58: 6.723162521553636\n",
      "R^2 for k=58: 0.662843850549478\n",
      "\n",
      "RMSE for k=59: 6.75507377348965\n",
      "R^2 for k=59: 0.6596356554254015\n",
      "\n",
      "RMSE for k=60: 6.788122631395138\n",
      "R^2 for k=60: 0.6562970776476951\n",
      "\n",
      "RMSE for k=61: 6.811106578048585\n",
      "R^2 for k=61: 0.6539656455867003\n",
      "\n",
      "RMSE for k=62: 6.82953934347438\n",
      "R^2 for k=62: 0.6520901791436173\n",
      "\n",
      "RMSE for k=63: 6.854688724209519\n",
      "R^2 for k=63: 0.6495231460639139\n",
      "\n",
      "RMSE for k=64: 6.888493936412606\n",
      "R^2 for k=64: 0.6460577342552556\n",
      "\n",
      "RMSE for k=65: 6.905310629425251\n",
      "R^2 for k=65: 0.6443274855596424\n",
      "\n",
      "RMSE for k=66: 6.9340805149847204\n",
      "R^2 for k=66: 0.6413576049959109\n",
      "\n",
      "RMSE for k=67: 6.953765253287093\n",
      "R^2 for k=67: 0.639318458647274\n",
      "\n",
      "RMSE for k=68: 6.9657594394587905\n",
      "R^2 for k=68: 0.6380731441122183\n",
      "\n",
      "RMSE for k=69: 6.998777850311743\n",
      "R^2 for k=69: 0.634633871644622\n",
      "\n",
      "RMSE for k=70: 7.026659383017088\n",
      "R^2 for k=70: 0.6317170026849566\n",
      "\n",
      "RMSE for k=71: 7.037270372460082\n",
      "R^2 for k=71: 0.6306038712773004\n",
      "\n",
      "RMSE for k=72: 7.063077674279079\n",
      "R^2 for k=72: 0.6278895809474053\n",
      "\n",
      "RMSE for k=73: 7.0875841051665684\n",
      "R^2 for k=73: 0.6253029129980856\n",
      "\n",
      "RMSE for k=74: 7.1119982369842685\n",
      "R^2 for k=74: 0.6227170785225806\n",
      "\n",
      "RMSE for k=75: 7.133701261876173\n",
      "R^2 for k=75: 0.6204109266034523\n",
      "\n",
      "RMSE for k=76: 7.161066395523091\n",
      "R^2 for k=76: 0.6174931063122939\n",
      "\n",
      "RMSE for k=77: 7.188385898978441\n",
      "R^2 for k=77: 0.6145690078519868\n",
      "\n",
      "RMSE for k=78: 7.20572444466653\n",
      "R^2 for k=78: 0.6127074293259663\n",
      "\n",
      "RMSE for k=79: 7.224417726519164\n",
      "R^2 for k=79: 0.6106953734835547\n",
      "\n",
      "RMSE for k=80: 7.25198350662806\n",
      "R^2 for k=80: 0.6077188126361148\n",
      "\n",
      "RMSE for k=81: 7.275550740449032\n",
      "R^2 for k=81: 0.605165027326867\n",
      "\n",
      "RMSE for k=82: 7.292844031175883\n",
      "R^2 for k=82: 0.6032858264351996\n",
      "\n",
      "RMSE for k=83: 7.322553212990458\n",
      "R^2 for k=83: 0.6000470185998656\n",
      "\n",
      "RMSE for k=84: 7.344584683572936\n",
      "R^2 for k=84: 0.5976367095698901\n",
      "\n",
      "RMSE for k=85: 7.361530245817512\n",
      "R^2 for k=85: 0.5957778875672478\n",
      "\n",
      "RMSE for k=86: 7.378957172953731\n",
      "R^2 for k=86: 0.5938617948263214\n",
      "\n",
      "RMSE for k=87: 7.402483336147664\n",
      "R^2 for k=87: 0.5912679037752298\n",
      "\n",
      "RMSE for k=88: 7.421587953520644\n",
      "R^2 for k=88: 0.5891554378873256\n",
      "\n",
      "RMSE for k=89: 7.438525203932483\n",
      "R^2 for k=89: 0.5872780721361075\n",
      "\n",
      "RMSE for k=90: 7.456083680493211\n",
      "R^2 for k=90: 0.5853273302842303\n",
      "\n",
      "RMSE for k=91: 7.465874412088843\n",
      "R^2 for k=91: 0.5842375854307553\n",
      "\n",
      "RMSE for k=92: 7.486287170967476\n",
      "R^2 for k=92: 0.581960970640158\n",
      "\n",
      "RMSE for k=93: 7.513281044653376\n",
      "R^2 for k=93: 0.5789408253606572\n",
      "\n",
      "RMSE for k=94: 7.541300989935482\n",
      "R^2 for k=94: 0.5757943824869988\n",
      "\n",
      "RMSE for k=95: 7.559759316232768\n",
      "R^2 for k=95: 0.5737152429997798\n",
      "\n",
      "RMSE for k=96: 7.576870165217499\n",
      "R^2 for k=96: 0.571783343169203\n",
      "\n",
      "RMSE for k=97: 7.590860257041847\n",
      "R^2 for k=97: 0.5702005468484437\n",
      "\n",
      "RMSE for k=98: 7.619229596640237\n",
      "R^2 for k=98: 0.5669819626742625\n",
      "\n",
      "RMSE for k=99: 7.639150438978584\n",
      "R^2 for k=99: 0.5647147096409872\n",
      "\n",
      "RMSE for k=100: 7.661748882986569\n",
      "R^2 for k=100: 0.5621355432516548\n",
      "\n"
     ]
    }
   ],
   "source": [
    "rmse_val = [] # to store rmse values for different k\n",
    "for k in range(100):\n",
    "    k = k + 1\n",
    "    model = neighbors.KNeighborsRegressor(n_neighbors=k)\n",
    "    model.fit(x_train, y_train)\n",
    "    pred = model.predict(x_test)\n",
    "    error = sqrt(mean_squared_error(y_test, pred))\n",
    "    rmse_val.append(error)\n",
    "    print(\"RMSE for k={}: {}\".format(k, error))\n",
    "    print(\"R^2 for k={}: {}\\n\".format(k, model.score(x_test, y_test)))"
   ]
  },
  {
   "cell_type": "markdown",
   "metadata": {},
   "source": [
    "## Plotting the RMSE values against k values"
   ]
  },
  {
   "cell_type": "code",
   "execution_count": 10,
   "metadata": {
    "collapsed": false
   },
   "outputs": [
    {
     "data": {
      "text/plain": "Text(0, 0.5, 'RMSE')"
     },
     "execution_count": 10,
     "metadata": {},
     "output_type": "execute_result"
    },
    {
     "data": {
      "text/plain": "<Figure size 1440x720 with 1 Axes>",
      "image/png": "[encoded data removed]"
     },
     "metadata": {
      "needs_background": "light"
     },
     "output_type": "display_data"
    }
   ],
   "source": [
    "plt.figure(figsize=(20,10))\n",
    "plt.plot(range(1,101), rmse_val, color='blue', linestyle='dashed', marker='o',\n",
    "        markerfacecolor='red', markersize=5)\n",
    "plt.title('RMSE vs. k-Value')\n",
    "plt.xlabel('k')\n",
    "plt.ylabel('RMSE')"
   ]
  },
  {
   "cell_type": "markdown",
   "source": [
    "## Implementing GridsearchCV\n",
    "\n",
    "In order to optimize finding the best k-Value, gridsearch could be implemented"
   ],
   "metadata": {
    "collapsed": false,
    "pycharm": {
     "name": "#%% md\n"
    }
   }
  },
  {
   "cell_type": "code",
   "execution_count": 16,
   "outputs": [
    {
     "name": "stdout",
     "output_type": "stream",
     "text": [
      "Best k-Value is:  13\n"
     ]
    }
   ],
   "source": [
    "from sklearn.model_selection import GridSearchCV\n",
    "params = {'n_neighbors': range(1, 51)}\n",
    "\n",
    "knn = neighbors.KNeighborsRegressor()\n",
    "\n",
    "model = GridSearchCV(knn, params, cv=5)\n",
    "model.fit(x_train, y_train)\n",
    "print(\"Best k-Value is: \", model.best_params_['n_neighbors'])"
   ],
   "metadata": {
    "collapsed": false,
    "pycharm": {
     "name": "#%%\n"
    }
   }
  },
  {
   "cell_type": "code",
   "execution_count": null,
   "outputs": [],
   "source": [
    "\n"
   ],
   "metadata": {
    "collapsed": false,
    "pycharm": {
     "name": "#%%\n"
    }
   }
  }
 ],
 "metadata": {
  "kernelspec": {
   "display_name": "Python 3",
   "language": "python",
   "name": "python3"
  },
  "language_info": {
   "codemirror_mode": {
    "name": "ipython",
    "version": 3
   },
   "file_extension": ".py",
   "mimetype": "text/x-python",
   "name": "python",
   "nbconvert_exporter": "python",
   "pygments_lexer": "ipython3",
   "version": "3.5.1"
  }
 },
 "nbformat": 4,
 "nbformat_minor": 0
}