{
 "cells": [
  {
   "cell_type": "markdown",
   "metadata": {},
   "source": [
    "# K Nearest Neighbors Theory\n",
    "\n",
    "A classification algorithm operating on the principle of a datapoint being classified\n",
    "based on its proximity to \"neighbouring\" points.\n",
    "\n",
    "Training Algorithm:\n",
    "1. Store all the data\n",
    "\n",
    "Prediction Algorithm:\n",
    "1. Calculate the distance from x to all points in the data\n",
    "2. Sort the point in the data by increasing distance from x\n",
    "3. Predict the majority label of the k-nearest neighbours (closest points)\n",
    "\n",
    "Generally, choosing a different k will affect what class new points will be assigned to.\n",
    "A greater k will often lead to a more \"smooth\" and \"biased\" model --> a cleaner separation of\n",
    "the model. It must also be considered, though, that this reduction in the noise is at the cost\n",
    "of more potential errors.\n",
    "\n",
    "\n",
    "Pros:\n",
    "- Simple\n",
    "- Trivial training\n",
    "- Works with great number of classes\n",
    "- Adding more data is easy\n",
    "- Few algorithm parameters: k and \"distance\" metric\n",
    "  - the distance metric --> mathematical definition of the distance between the datapoints\n",
    "\n",
    "Cons:\n",
    "- Costly --> algorithm gets worse for larger data sets and the prediction costs rise\n",
    "- Not optimal for high dimensional data sets (features/dimensions increase --> distance measuring for the dimesnions\n",
    "is disrupted)\n",
    "- Not optimal for categorical features\n"
   ]
  },
  {
   "cell_type": "markdown",
   "metadata": {},
   "source": [
    "## Import Libraries"
   ]
  },
  {
   "cell_type": "code",
   "execution_count": 1,
   "metadata": {
    "collapsed": true
   },
   "outputs": [],
   "source": [
    "import pandas as pd\n",
    "import seaborn as sns\n",
    "import matplotlib.pyplot as plt\n",
    "import numpy as np\n",
    "%matplotlib inline"
   ]
  },
  {
   "cell_type": "markdown",
   "metadata": {},
   "source": [
    "## Get the Data"
   ]
  },
  {
   "cell_type": "code",
   "execution_count": 2,
   "metadata": {},
   "outputs": [],
   "source": [
    "df = pd.read_csv(\"baseball.csv\")"
   ]
  },
  {
   "cell_type": "code",
   "execution_count": 3,
   "metadata": {},
   "outputs": [
    {
     "data": {
      "text/html": [
       "<div>\n",
       "<style scoped>\n",
       "    .dataframe tbody tr th:only-of-type {\n",
       "        vertical-align: middle;\n",
       "    }\n",
       "\n",
       "    .dataframe tbody tr th {\n",
       "        vertical-align: top;\n",
       "    }\n",
       "\n",
       "    .dataframe thead th {\n",
       "        text-align: right;\n",
       "    }\n",
       "</style>\n",
       "<table border=\"1\" class=\"dataframe\">\n",
       "  <thead>\n",
       "    <tr style=\"text-align: right;\">\n",
       "      <th></th>\n",
       "      <th>Team</th>\n",
       "      <th>League</th>\n",
       "      <th>Year</th>\n",
       "      <th>RS</th>\n",
       "      <th>RA</th>\n",
       "      <th>W</th>\n",
       "      <th>OBP</th>\n",
       "      <th>SLG</th>\n",
       "      <th>BA</th>\n",
       "      <th>Playoffs</th>\n",
       "      <th>RankSeason</th>\n",
       "      <th>RankPlayoffs</th>\n",
       "      <th>G</th>\n",
       "      <th>OOBP</th>\n",
       "      <th>OSLG</th>\n",
       "    </tr>\n",
       "  </thead>\n",
       "  <tbody>\n",
       "    <tr>\n",
       "      <th>0</th>\n",
       "      <td>ARI</td>\n",
       "      <td>NL</td>\n",
       "      <td>2012</td>\n",
       "      <td>734</td>\n",
       "      <td>688</td>\n",
       "      <td>81</td>\n",
       "      <td>0.328</td>\n",
       "      <td>0.418</td>\n",
       "      <td>0.259</td>\n",
       "      <td>0</td>\n",
       "      <td>?</td>\n",
       "      <td>?</td>\n",
       "      <td>162</td>\n",
       "      <td>0.317</td>\n",
       "      <td>0.415</td>\n",
       "    </tr>\n",
       "    <tr>\n",
       "      <th>1</th>\n",
       "      <td>ATL</td>\n",
       "      <td>NL</td>\n",
       "      <td>2012</td>\n",
       "      <td>700</td>\n",
       "      <td>600</td>\n",
       "      <td>94</td>\n",
       "      <td>0.320</td>\n",
       "      <td>0.389</td>\n",
       "      <td>0.247</td>\n",
       "      <td>1</td>\n",
       "      <td>4</td>\n",
       "      <td>5</td>\n",
       "      <td>162</td>\n",
       "      <td>0.306</td>\n",
       "      <td>0.37799999999999995</td>\n",
       "    </tr>\n",
       "    <tr>\n",
       "      <th>2</th>\n",
       "      <td>BAL</td>\n",
       "      <td>AL</td>\n",
       "      <td>2012</td>\n",
       "      <td>712</td>\n",
       "      <td>705</td>\n",
       "      <td>93</td>\n",
       "      <td>0.311</td>\n",
       "      <td>0.417</td>\n",
       "      <td>0.247</td>\n",
       "      <td>1</td>\n",
       "      <td>5</td>\n",
       "      <td>4</td>\n",
       "      <td>162</td>\n",
       "      <td>0.315</td>\n",
       "      <td>0.40299999999999997</td>\n",
       "    </tr>\n",
       "    <tr>\n",
       "      <th>3</th>\n",
       "      <td>BOS</td>\n",
       "      <td>AL</td>\n",
       "      <td>2012</td>\n",
       "      <td>734</td>\n",
       "      <td>806</td>\n",
       "      <td>69</td>\n",
       "      <td>0.315</td>\n",
       "      <td>0.415</td>\n",
       "      <td>0.260</td>\n",
       "      <td>0</td>\n",
       "      <td>?</td>\n",
       "      <td>?</td>\n",
       "      <td>162</td>\n",
       "      <td>0.331</td>\n",
       "      <td>0.428</td>\n",
       "    </tr>\n",
       "    <tr>\n",
       "      <th>4</th>\n",
       "      <td>CHC</td>\n",
       "      <td>NL</td>\n",
       "      <td>2012</td>\n",
       "      <td>613</td>\n",
       "      <td>759</td>\n",
       "      <td>61</td>\n",
       "      <td>0.302</td>\n",
       "      <td>0.378</td>\n",
       "      <td>0.240</td>\n",
       "      <td>0</td>\n",
       "      <td>?</td>\n",
       "      <td>?</td>\n",
       "      <td>162</td>\n",
       "      <td>0.335</td>\n",
       "      <td>0.424</td>\n",
       "    </tr>\n",
       "  </tbody>\n",
       "</table>\n",
       "</div>"
      ],
      "text/plain": [
       "  Team League  Year   RS   RA   W    OBP    SLG     BA  Playoffs RankSeason  \\\n",
       "0  ARI     NL  2012  734  688  81  0.328  0.418  0.259         0          ?   \n",
       "1  ATL     NL  2012  700  600  94  0.320  0.389  0.247         1          4   \n",
       "2  BAL     AL  2012  712  705  93  0.311  0.417  0.247         1          5   \n",
       "3  BOS     AL  2012  734  806  69  0.315  0.415  0.260         0          ?   \n",
       "4  CHC     NL  2012  613  759  61  0.302  0.378  0.240         0          ?   \n",
       "\n",
       "  RankPlayoffs    G   OOBP                 OSLG  \n",
       "0            ?  162  0.317                0.415  \n",
       "1            5  162  0.306  0.37799999999999995  \n",
       "2            4  162  0.315  0.40299999999999997  \n",
       "3            ?  162  0.331                0.428  \n",
       "4            ?  162  0.335                0.424  "
      ]
     },
     "execution_count": 3,
     "metadata": {},
     "output_type": "execute_result"
    }
   ],
   "source": [
    "df.head()"
   ]
  },
  {
   "cell_type": "markdown",
   "metadata": {},
   "source": [
    "## Standardize the Variables\n",
    "Impute the data.\n",
    "Replace League with int and drop unneeded columns.\n",
    "Because the KNN classifier predicts the class of a given test observation by identifying the observations that are nearest to it, the scale of the variables matters. Any variables that are on a large scale will have a much larger effect on the distance between the observations, and hence on the KNN classifier, than variables that are on a small scale."
   ]
  },
  {
   "cell_type": "code",
   "execution_count": 5,
   "metadata": {
    "collapsed": true
   },
   "outputs": [],
   "source": [
    "from sklearn.impute import SimpleImputer\n",
    "\n",
    "imputerNAN = SimpleImputer(missing_values=np.nan, strategy='constant', fill_value=0)\n",
    "imputerNAN = imputerNAN.fit(df[['RankSeason','RankPlayoffs','OOBP', 'OSLG']])\n",
    "df[['RankSeason','RankPlayoffs','OOBP', 'OSLG']] = imputerNAN.transform(df[['RankSeason','RankPlayoffs','OOBP', 'OSLG']])\n",
    "\n",
    "imputerQ = SimpleImputer(missing_values='?', strategy='constant', fill_value=0)\n",
    "imputerQ = imputerQ.fit(df[['RankSeason', 'RankPlayoffs', 'OOBP', 'OSLG']])\n",
    "df[['RankSeason', 'RankPlayoffs', 'OOBP', 'OSLG']] = imputerQ.transform(df[['RankSeason', 'RankPlayoffs', 'OOBP', 'OSLG']])\n",
    "df.League.replace(['NL', 'AL'], [1, 0], inplace=True)\n",
    "\n",
    "#Drop useless columns - of no interest\n",
    "df = df[df.columns.difference(['RankPlayoffs', 'Team'])]"
   ]
  },
  {
   "cell_type": "code",
   "execution_count": 12,
   "metadata": {
    "pycharm": {
     "name": "#%%\n"
    }
   },
   "outputs": [
    {
     "data": {
      "text/html": [
       "<div>\n",
       "<style scoped>\n",
       "    .dataframe tbody tr th:only-of-type {\n",
       "        vertical-align: middle;\n",
       "    }\n",
       "\n",
       "    .dataframe tbody tr th {\n",
       "        vertical-align: top;\n",
       "    }\n",
       "\n",
       "    .dataframe thead th {\n",
       "        text-align: right;\n",
       "    }\n",
       "</style>\n",
       "<table border=\"1\" class=\"dataframe\">\n",
       "  <thead>\n",
       "    <tr style=\"text-align: right;\">\n",
       "      <th></th>\n",
       "      <th>BA</th>\n",
       "      <th>G</th>\n",
       "      <th>League</th>\n",
       "      <th>OBP</th>\n",
       "      <th>OOBP</th>\n",
       "      <th>OSLG</th>\n",
       "      <th>Playoffs</th>\n",
       "      <th>RA</th>\n",
       "      <th>RS</th>\n",
       "      <th>RankSeason</th>\n",
       "      <th>SLG</th>\n",
       "      <th>W</th>\n",
       "    </tr>\n",
       "  </thead>\n",
       "  <tbody>\n",
       "    <tr>\n",
       "      <th>0</th>\n",
       "      <td>-0.021138</td>\n",
       "      <td>0.130055</td>\n",
       "      <td>1.0</td>\n",
       "      <td>0.111206</td>\n",
       "      <td>1.291457</td>\n",
       "      <td>1.362499</td>\n",
       "      <td>-0.291072</td>\n",
       "      <td>0.206761</td>\n",
       "      <td>-0.422305</td>\n",
       "      <td>0.621238</td>\n",
       "      <td>0.008362</td>\n",
       "      <td>1.555476</td>\n",
       "    </tr>\n",
       "    <tr>\n",
       "      <th>1</th>\n",
       "      <td>-0.951228</td>\n",
       "      <td>0.130055</td>\n",
       "      <td>1.0</td>\n",
       "      <td>-0.421890</td>\n",
       "      <td>1.221727</td>\n",
       "      <td>1.177095</td>\n",
       "      <td>-1.236880</td>\n",
       "      <td>-0.164836</td>\n",
       "      <td>2.308820</td>\n",
       "      <td>-0.250853</td>\n",
       "      <td>1.143388</td>\n",
       "      <td>1.555476</td>\n",
       "    </tr>\n",
       "    <tr>\n",
       "      <th>2</th>\n",
       "      <td>-0.951228</td>\n",
       "      <td>0.130055</td>\n",
       "      <td>-1.0</td>\n",
       "      <td>-1.021623</td>\n",
       "      <td>1.278779</td>\n",
       "      <td>1.302368</td>\n",
       "      <td>-0.108359</td>\n",
       "      <td>-0.033684</td>\n",
       "      <td>2.991602</td>\n",
       "      <td>0.591166</td>\n",
       "      <td>1.056078</td>\n",
       "      <td>1.555476</td>\n",
       "    </tr>\n",
       "    <tr>\n",
       "      <th>3</th>\n",
       "      <td>0.056369</td>\n",
       "      <td>0.130055</td>\n",
       "      <td>-1.0</td>\n",
       "      <td>-0.755075</td>\n",
       "      <td>1.380205</td>\n",
       "      <td>1.427641</td>\n",
       "      <td>0.977170</td>\n",
       "      <td>0.206761</td>\n",
       "      <td>-0.422305</td>\n",
       "      <td>0.531022</td>\n",
       "      <td>-1.039353</td>\n",
       "      <td>1.555476</td>\n",
       "    </tr>\n",
       "    <tr>\n",
       "      <th>4</th>\n",
       "      <td>-1.493779</td>\n",
       "      <td>0.130055</td>\n",
       "      <td>1.0</td>\n",
       "      <td>-1.621356</td>\n",
       "      <td>1.405561</td>\n",
       "      <td>1.407597</td>\n",
       "      <td>0.472023</td>\n",
       "      <td>-1.115685</td>\n",
       "      <td>-0.422305</td>\n",
       "      <td>-0.581647</td>\n",
       "      <td>-1.737831</td>\n",
       "      <td>1.555476</td>\n",
       "    </tr>\n",
       "  </tbody>\n",
       "</table>\n",
       "</div>"
      ],
      "text/plain": [
       "         BA         G  League       OBP      OOBP      OSLG  Playoffs  \\\n",
       "0 -0.021138  0.130055     1.0  0.111206  1.291457  1.362499 -0.291072   \n",
       "1 -0.951228  0.130055     1.0 -0.421890  1.221727  1.177095 -1.236880   \n",
       "2 -0.951228  0.130055    -1.0 -1.021623  1.278779  1.302368 -0.108359   \n",
       "3  0.056369  0.130055    -1.0 -0.755075  1.380205  1.427641  0.977170   \n",
       "4 -1.493779  0.130055     1.0 -1.621356  1.405561  1.407597  0.472023   \n",
       "\n",
       "         RA        RS  RankSeason       SLG         W  \n",
       "0  0.206761 -0.422305    0.621238  0.008362  1.555476  \n",
       "1 -0.164836  2.308820   -0.250853  1.143388  1.555476  \n",
       "2 -0.033684  2.991602    0.591166  1.056078  1.555476  \n",
       "3  0.206761 -0.422305    0.531022 -1.039353  1.555476  \n",
       "4 -1.115685 -0.422305   -0.581647 -1.737831  1.555476  "
      ]
     },
     "execution_count": 12,
     "metadata": {},
     "output_type": "execute_result"
    }
   ],
   "source": [
    "#Scaler\n",
    "from sklearn.preprocessing import StandardScaler\n",
    "\n",
    "scaler = StandardScaler()\n",
    "scaler.fit(df.drop('Playoffs',axis=1))\n",
    "scaled_features = scaler.transform(df.drop('Playoffs',axis=1))\n",
    "\n",
    "df_feat = pd.DataFrame(scaled_features,columns=df.columns[:-1])\n",
    "df_feat.head()"
   ]
  },
  {
   "cell_type": "code",
   "execution_count": 13,
   "metadata": {
    "pycharm": {
     "name": "#%%\n"
    }
   },
   "outputs": [],
   "source": [
    "# y = df[['Playoffs']]\n",
    "# y = np.ravel(y)\n",
    "# X = df[df.columns.difference(['Playoffs'])]\n"
   ]
  },
  {
   "cell_type": "markdown",
   "metadata": {},
   "source": [
    "## Train Test Split"
   ]
  },
  {
   "cell_type": "code",
   "execution_count": 14,
   "metadata": {
    "collapsed": true
   },
   "outputs": [],
   "source": [
    "from sklearn.model_selection import train_test_split\n",
    "\n",
    "X_train, X_test, y_train, y_test = train_test_split(scaled_features,df['Playoffs'],\n",
    "                                                    test_size=0.30)"
   ]
  },
  {
   "cell_type": "markdown",
   "metadata": {},
   "source": [
    "## Using KNN\n",
    "Model aiming to predict whether a team will reach the Playoffs or not. Starting with k=1."
   ]
  },
  {
   "cell_type": "code",
   "execution_count": 15,
   "metadata": {
    "collapsed": true
   },
   "outputs": [],
   "source": [
    "from sklearn.neighbors import KNeighborsClassifier"
   ]
  },
  {
   "cell_type": "code",
   "execution_count": 16,
   "metadata": {
    "collapsed": true
   },
   "outputs": [],
   "source": [
    "knn = KNeighborsClassifier(n_neighbors=1)"
   ]
  },
  {
   "cell_type": "code",
   "execution_count": 17,
   "metadata": {},
   "outputs": [
    {
     "data": {
      "text/plain": [
       "KNeighborsClassifier(algorithm='auto', leaf_size=30, metric='minkowski',\n",
       "                     metric_params=None, n_jobs=None, n_neighbors=1, p=2,\n",
       "                     weights='uniform')"
      ]
     },
     "execution_count": 17,
     "metadata": {},
     "output_type": "execute_result"
    }
   ],
   "source": [
    "knn.fit(X_train,y_train)"
   ]
  },
  {
   "cell_type": "code",
   "execution_count": 18,
   "metadata": {
    "collapsed": true
   },
   "outputs": [],
   "source": [
    "pred = knn.predict(X_test)"
   ]
  },
  {
   "cell_type": "markdown",
   "metadata": {},
   "source": [
    "## Predictions and Evaluations\n",
    "\n",
    "Let's evaluate our KNN model!"
   ]
  },
  {
   "cell_type": "code",
   "execution_count": 19,
   "metadata": {
    "collapsed": true
   },
   "outputs": [],
   "source": [
    "from sklearn.metrics import classification_report,confusion_matrix"
   ]
  },
  {
   "cell_type": "code",
   "execution_count": 20,
   "metadata": {},
   "outputs": [
    {
     "name": "stdout",
     "output_type": "stream",
     "text": [
      "[[294   1]\n",
      " [  6  69]]\n"
     ]
    }
   ],
   "source": [
    "print(confusion_matrix(y_test,pred))"
   ]
  },
  {
   "cell_type": "code",
   "execution_count": 21,
   "metadata": {},
   "outputs": [
    {
     "name": "stdout",
     "output_type": "stream",
     "text": [
      "              precision    recall  f1-score   support\n",
      "\n",
      "           0       0.98      1.00      0.99       295\n",
      "           1       0.99      0.92      0.95        75\n",
      "\n",
      "    accuracy                           0.98       370\n",
      "   macro avg       0.98      0.96      0.97       370\n",
      "weighted avg       0.98      0.98      0.98       370\n",
      "\n"
     ]
    }
   ],
   "source": [
    "print(classification_report(y_test,pred))"
   ]
  },
  {
   "cell_type": "markdown",
   "metadata": {},
   "source": [
    "## Choosing a K Value\n",
    "\n",
    "Elbow method to pick a good K Value:"
   ]
  },
  {
   "cell_type": "code",
   "execution_count": 35,
   "metadata": {},
   "outputs": [],
   "source": [
    "error_rate = []\n",
    "\n",
    "for i in range(1,500):\n",
    "    \n",
    "    knn = KNeighborsClassifier(n_neighbors=i)\n",
    "    knn.fit(X_train,y_train)\n",
    "    pred_i = knn.predict(X_test)\n",
    "    error_rate.append(np.mean(pred_i != y_test))"
   ]
  },
  {
   "cell_type": "code",
   "execution_count": 43,
   "metadata": {},
   "outputs": [
    {
     "data": {
      "text/plain": [
       "Text(0, 0.5, 'Error Rate')"
      ]
     },
     "execution_count": 43,
     "metadata": {},
     "output_type": "execute_result"
    },
    {
     "data": {
      "image/png": "[encoded data removed]",
      "text/plain": [
       "<Figure size 2160x1080 with 1 Axes>"
      ]
     },
     "metadata": {
      "needs_background": "light"
     },
     "output_type": "display_data"
    }
   ],
   "source": [
    "plt.figure(figsize=(30,15))\n",
    "plt.plot(range(1,500),error_rate,color='blue', linestyle='dashed', marker='o',\n",
    "         markerfacecolor='red', markersize=10)\n",
    "plt.title('Error Rate vs. K Value')\n",
    "plt.xlabel('K')\n",
    "plt.ylabel('Error Rate')"
   ]
  },
  {
   "cell_type": "markdown",
   "metadata": {},
   "source": [
    "Here we can see that that after arouns k>7 the error rate just tends to rise further with several plateaus at k [25:35], [75:85], [125;160], so on..."
   ]
  },
  {
   "cell_type": "code",
   "execution_count": 31,
   "metadata": {},
   "outputs": [
    {
     "name": "stdout",
     "output_type": "stream",
     "text": [
      "WITH K=1\n",
      "\n",
      "\n",
      "[[294   1]\n",
      " [  6  69]]\n",
      "\n",
      "\n",
      "              precision    recall  f1-score   support\n",
      "\n",
      "           0       0.98      1.00      0.99       295\n",
      "           1       0.99      0.92      0.95        75\n",
      "\n",
      "    accuracy                           0.98       370\n",
      "   macro avg       0.98      0.96      0.97       370\n",
      "weighted avg       0.98      0.98      0.98       370\n",
      "\n"
     ]
    }
   ],
   "source": [
    "# FIRST A QUICK COMPARISON TO OUR ORIGINAL K=1\n",
    "knn = KNeighborsClassifier(n_neighbors=1)\n",
    "\n",
    "knn.fit(X_train,y_train)\n",
    "pred = knn.predict(X_test)\n",
    "print('WITH K=1')\n",
    "print('\\n')\n",
    "print(confusion_matrix(y_test,pred))\n",
    "print('\\n')\n",
    "print(classification_report(y_test,pred))"
   ]
  },
  {
   "cell_type": "code",
   "execution_count": 40,
   "metadata": {},
   "outputs": [
    {
     "name": "stdout",
     "output_type": "stream",
     "text": [
      "WITH K=10\n",
      "\n",
      "\n",
      "[[295   0]\n",
      " [ 10  65]]\n",
      "\n",
      "\n",
      "              precision    recall  f1-score   support\n",
      "\n",
      "           0       0.97      1.00      0.98       295\n",
      "           1       1.00      0.87      0.93        75\n",
      "\n",
      "    accuracy                           0.97       370\n",
      "   macro avg       0.98      0.93      0.96       370\n",
      "weighted avg       0.97      0.97      0.97       370\n",
      "\n"
     ]
    }
   ],
   "source": [
    "# NOW WITH K=10\n",
    "knn = KNeighborsClassifier(n_neighbors=10)\n",
    "\n",
    "knn.fit(X_train,y_train)\n",
    "pred = knn.predict(X_test)\n",
    "\n",
    "print('WITH K=10')\n",
    "print('\\n')\n",
    "print(confusion_matrix(y_test,pred))\n",
    "print('\\n')\n",
    "print(classification_report(y_test,pred))"
   ]
  },
  {
   "cell_type": "code",
   "execution_count": 41,
   "metadata": {
    "pycharm": {
     "name": "#%%\n"
    }
   },
   "outputs": [
    {
     "name": "stdout",
     "output_type": "stream",
     "text": [
      "WITH K=50\n",
      "\n",
      "\n",
      "[[295   0]\n",
      " [ 20  55]]\n",
      "\n",
      "\n",
      "              precision    recall  f1-score   support\n",
      "\n",
      "           0       0.94      1.00      0.97       295\n",
      "           1       1.00      0.73      0.85        75\n",
      "\n",
      "    accuracy                           0.95       370\n",
      "   macro avg       0.97      0.87      0.91       370\n",
      "weighted avg       0.95      0.95      0.94       370\n",
      "\n"
     ]
    }
   ],
   "source": [
    "# AND WITH K=50\n",
    "knn = KNeighborsClassifier(n_neighbors=50)\n",
    "\n",
    "knn.fit(X_train,y_train)\n",
    "pred = knn.predict(X_test)\n",
    "\n",
    "print('WITH K=50')\n",
    "print('\\n')\n",
    "print(confusion_matrix(y_test,pred))\n",
    "print('\\n')\n",
    "print(classification_report(y_test,pred))\n"
   ]
  },
  {
   "cell_type": "code",
   "execution_count": 42,
   "metadata": {
    "pycharm": {
     "name": "#%%\n"
    }
   },
   "outputs": [
    {
     "name": "stdout",
     "output_type": "stream",
     "text": [
      "WITH K=100\n",
      "\n",
      "\n",
      "[[295   0]\n",
      " [ 36  39]]\n",
      "\n",
      "\n",
      "              precision    recall  f1-score   support\n",
      "\n",
      "           0       0.89      1.00      0.94       295\n",
      "           1       1.00      0.52      0.68        75\n",
      "\n",
      "    accuracy                           0.90       370\n",
      "   macro avg       0.95      0.76      0.81       370\n",
      "weighted avg       0.91      0.90      0.89       370\n",
      "\n"
     ]
    }
   ],
   "source": [
    "# AND WITH K=100\n",
    "knn = KNeighborsClassifier(n_neighbors=100)\n",
    "\n",
    "knn.fit(X_train,y_train)\n",
    "pred = knn.predict(X_test)\n",
    "\n",
    "print('WITH K=100')\n",
    "print('\\n')\n",
    "print(confusion_matrix(y_test,pred))\n",
    "print('\\n')\n",
    "print(classification_report(y_test,pred))"
   ]
  },
  {
   "cell_type": "markdown",
   "metadata": {},
   "source": [
    "We were able to squeeze some more performance out of our model by tuning to a better K value!"
   ]
  }
 ],
 "metadata": {
  "kernelspec": {
   "display_name": "Python 3",
   "language": "python",
   "name": "python3"
  },
  "language_info": {
   "codemirror_mode": {
    "name": "ipython",
    "version": 3
   },
   "file_extension": ".py",
   "mimetype": "text/x-python",
   "name": "python",
   "nbconvert_exporter": "python",
   "pygments_lexer": "ipython3",
   "version": "3.7.5"
  }
 },
 "nbformat": 4,
 "nbformat_minor": 1
}
